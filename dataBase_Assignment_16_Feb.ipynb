{
 "cells": [
  {
   "cell_type": "code",
   "execution_count": 1,
   "id": "e41ebc72-1951-4e44-9155-b2c3d5d96f9c",
   "metadata": {},
   "outputs": [],
   "source": [
    "# Kishan Chand                          Assignment                        Feb16-23"
   ]
  },
  {
   "cell_type": "markdown",
   "id": "281ebb8e-7f3a-461c-84d6-7ca5fbad8ea9",
   "metadata": {},
   "source": [
    "# 1. What is a Database ? Differentiate b/w SQL and NoSQL Databases ?\n"
   ]
  },
  {
   "cell_type": "markdown",
   "id": "ce944646-ad01-4420-a0f4-21ab524da61f",
   "metadata": {},
   "source": [
    "A database is a structured collection of data that is organized in a way that allows for efficient storage, retrieval, and modification of information. \n",
    "SQL and NoSQL are two different types of database management systems (DBMS) that are used to store and manage data.\n",
    "\n",
    "Difference b/w SQl and NoSQL Databases\n",
    "\n",
    "1.SQL (Structured Query Language) databases are relational databases that use tables to store data. \n",
    "\n",
    "2.In SQL databases, data is organized into tables that are related to each other through keys.\n",
    "\n",
    "3.SQL databases are best suited for applications that require complex queries and transactions, such as financial     and banking applications.\n",
    "\n",
    "Examples of popular SQL databases include Oracle, MySQL, and PostgreSQL.\n",
    "\n",
    "1.NoSQL (Not Only SQL) databases, on the other hand, are non-relational databases that do not use tables to store     data.\n",
    "\n",
    "2.Data is stored in documents, key-value pairs, or graph structures. \n",
    "\n",
    "3.NoSQL databases are best suited for applications that require scalability, high performance, and flexible data     models. \n",
    "\n",
    "Examples of popular NoSQL databases include MongoDB, Cassandra, and Redis.\n",
    "\n",
    "\n",
    "\n"
   ]
  },
  {
   "cell_type": "markdown",
   "id": "49429085-525b-480c-b908-d6776294f170",
   "metadata": {},
   "source": []
  },
  {
   "cell_type": "markdown",
   "id": "0a991bae-e9c0-4085-b33e-dfa6cf93e0a6",
   "metadata": {},
   "source": [
    "# 2. What is DDL? Explain why CREATE, DROP, ALTER, and TRUNCATE are used with an example."
   ]
  },
  {
   "cell_type": "markdown",
   "id": "4e86a4b1-8e56-49db-90cd-888e3f79a682",
   "metadata": {},
   "source": [
    "DDL(data definition language) is a subset of SQL \n",
    "\n",
    "DDl Commands are used to define,modify,delete,alter the structure of database objects such as tables, views, and indexes.\n",
    "\n",
    "Create is used to \"create a table\" in database\"\n",
    "\n",
    "Ex:- create table cricket(name varchar(20),team varcar(20),runs int,salary float);\n",
    "     create database if not exists Sports;\n",
    "     \n",
    "Drop is used to \"Drop a table from database\"\n",
    "\n",
    "Ex:- drop table cricket;\n",
    "    (which drops  the whole table from the database)\n",
    "    \n",
    "Alter is used to \" modify the structure of existing database objects \"\n",
    "\n",
    "Ex :- ALTER TABLE cricket ADD COLUMN NoofCenturies int;\n",
    "\n",
    "Truncate is used to \"Delete all the records present in the table but not Structure \"\n",
    "\n",
    "Ex :- Truncate table cricket;\n"
   ]
  },
  {
   "cell_type": "markdown",
   "id": "179cd943-3555-4d5f-8dd3-db8731620515",
   "metadata": {},
   "source": []
  },
  {
   "cell_type": "markdown",
   "id": "1eb8eff8-b033-4a46-a499-ae53e4074edd",
   "metadata": {},
   "source": [
    "# 3.  What is DML? Explain INSERT, UPDATE, and DELETE with an example."
   ]
  },
  {
   "cell_type": "markdown",
   "id": "06e4dd3c-382b-471a-8b4b-2a9f174d84d2",
   "metadata": {},
   "source": [
    "DML nothing but (data manipulation language) basicly, it is used to manipulate the data\n",
    "\n",
    "INSERT :- The INSERT command is used to insert new rows of data into a table\n",
    " \n",
    "         Ex:- insert into  customers cricket('John Smith','RCB',20000,'50000');\n",
    "\n",
    "UPDATE :- The UPDATE Command is used to modify the Exisiting data \n",
    "          \n",
    "         Ex:- UPDATE Cricket SET Salary = Salary * 1.1 WHERE runs > 50000;\n",
    "         \n",
    "DELETE :-  The DELETE Command is used to remove one or more rows from the table\n",
    "         Ex:- Delete from cricket where runs<1000;"
   ]
  },
  {
   "cell_type": "markdown",
   "id": "b77fc598-fe78-4da3-8545-34a68217171f",
   "metadata": {},
   "source": []
  },
  {
   "cell_type": "markdown",
   "id": "f81e09a8-91c9-415f-b38d-b3ca44c1364c",
   "metadata": {},
   "source": [
    "# 4. What is DQL? Explain SELECT with an example."
   ]
  },
  {
   "cell_type": "markdown",
   "id": "0be6fb82-ba91-4783-84d6-d8c69f1a6211",
   "metadata": {},
   "source": [
    "DQL is called as Data Query language,It is used to query the database to retrieve the data from it\n",
    "\n",
    "Select is basically used for select the columns based on Specific Condition\n",
    "\n",
    "Ex:- select name,team from cricket where runs>50000;\n"
   ]
  },
  {
   "cell_type": "markdown",
   "id": "56655e33-b099-48c3-bb28-316155baee97",
   "metadata": {},
   "source": []
  },
  {
   "cell_type": "markdown",
   "id": "3a908601-3dec-431d-862b-61e8b4dd9d16",
   "metadata": {},
   "source": [
    "# 5. Explain Primary Key and Foreign Key."
   ]
  },
  {
   "cell_type": "markdown",
   "id": "61ad7173-11ca-401d-9864-9bf2fae2911b",
   "metadata": {},
   "source": [
    "In Relational Database to Establish a relation b/w two tables we must required the Primary key and Foriegn Key \n",
    "\n",
    "Primary Key \n",
    "\n",
    "-> Basicaly,it's a Unique Column which was present in each and every table to establish/maintain a relation b/w two     or more tables\n",
    "\n",
    "-> primary Key Shouldn't have null values and must be unique\n",
    "\n",
    "Foreign Key\n",
    "\n",
    "->Foreign key is a column in a table, used to establish a relationship with primary key of another table \n",
    "\n",
    "-> Foreign key can have null values\n"
   ]
  },
  {
   "cell_type": "markdown",
   "id": "2369d31d-9dd1-4382-89d9-f881f6a56f41",
   "metadata": {},
   "source": []
  },
  {
   "cell_type": "markdown",
   "id": "0cb83ddd-549e-46dc-8b05-5b286da4889d",
   "metadata": {},
   "source": [
    "# 6. Write a python code to connect MySQL to python. Explain the cursor() and execute() method."
   ]
  },
  {
   "cell_type": "markdown",
   "id": "abea752b-e0a4-465a-b12b-428a43996716",
   "metadata": {},
   "source": [
    "import mysql.connector\n",
    "\n",
    "#Connecting to MYSQL Database\n",
    "\n",
    "mydb =mysql.connector.connect(host=\"localhost\",user=\"abc\",password=\"password\")\n",
    "\n",
    "#Creating a Cursor Object\n",
    "mycursor =mydb.cursor()\n",
    "\n",
    "#Execute a SQL Query\n",
    "mycursor.execute(\"select * from cricket\")\n",
    "\n",
    "#Fetch the results of the query\n",
    "myresult = mycursor.fetchall()\n",
    "\n",
    "#Print the results\n",
    "for x in myresult:\n",
    "  print(x)\n",
    "\n",
    "\n",
    "cursor() fetches records/data from the database and, used to iterate over the table/datbase Basically, it act as a Pointer\n",
    "\n",
    "execute() is used to run the SQL Commands in the python programming language with the help of cursor object reference"
   ]
  },
  {
   "cell_type": "markdown",
   "id": "810f6670-2654-4d22-bfcf-afac9a0e6d28",
   "metadata": {},
   "source": [
    "# 7. Give the order of execution of SQL clauses in an SQL query."
   ]
  },
  {
   "cell_type": "markdown",
   "id": "aaf8f23d-3a94-43d8-8b2e-5318f89094c7",
   "metadata": {},
   "source": [
    "The order of execution of SQL clauses in an SQL query is as follows:\n",
    "\n",
    "FROM: The FROM clause specifies the table or tables from which data is retrieved.\n",
    "\n",
    "JOIN: The JOIN clause is used to join two or more tables based on a specified condition.\n",
    "\n",
    "WHERE: The WHERE clause is used to filter data based on a specified condition.\n",
    "\n",
    "GROUP BY: The GROUP BY clause is used to group data based on one or more columns.\n",
    "\n",
    "HAVING: The HAVING clause is used to filter data based on a specified condition after grouping.\n",
    "\n",
    "SELECT: The SELECT clause is used to specify the columns to be retrieved from the table.\n",
    "\n",
    "DISTINCT: The DISTINCT clause is used to retrieve only unique values.\n",
    "\n",
    "ORDER BY: The ORDER BY clause is used to sort the data based on one or more columns.\n",
    "\n",
    "LIMIT: The LIMIT clause is used to limit the number of rows returned by the query.\n",
    "\n"
   ]
  },
  {
   "cell_type": "code",
   "execution_count": null,
   "id": "5f634a2c-3566-486c-b915-2df7ad7cb1ff",
   "metadata": {},
   "outputs": [],
   "source": []
  }
 ],
 "metadata": {
  "kernelspec": {
   "display_name": "Python 3 (ipykernel)",
   "language": "python",
   "name": "python3"
  },
  "language_info": {
   "codemirror_mode": {
    "name": "ipython",
    "version": 3
   },
   "file_extension": ".py",
   "mimetype": "text/x-python",
   "name": "python",
   "nbconvert_exporter": "python",
   "pygments_lexer": "ipython3",
   "version": "3.10.8"
  }
 },
 "nbformat": 4,
 "nbformat_minor": 5
}
