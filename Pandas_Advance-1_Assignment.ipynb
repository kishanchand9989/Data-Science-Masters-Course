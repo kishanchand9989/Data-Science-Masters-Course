{
 "cells": [
  {
   "cell_type": "code",
   "execution_count": 148,
   "id": "167d0ee9-d6c8-4f49-9521-3663487abf5e",
   "metadata": {},
   "outputs": [],
   "source": [
    "# Kishan Chand                                       Assignment                                               Feb24-23"
   ]
  },
  {
   "cell_type": "markdown",
   "id": "76f540d0-9f32-4b77-ac0d-866d0feecc15",
   "metadata": {},
   "source": [
    "# Q1. List any five functions of the pandas library with execution."
   ]
  },
  {
   "cell_type": "code",
   "execution_count": 54,
   "id": "e14daf47-5fd1-42f7-a1d1-525699c186c6",
   "metadata": {},
   "outputs": [
    {
     "data": {
      "text/html": [
       "<div>\n",
       "<style scoped>\n",
       "    .dataframe tbody tr th:only-of-type {\n",
       "        vertical-align: middle;\n",
       "    }\n",
       "\n",
       "    .dataframe tbody tr th {\n",
       "        vertical-align: top;\n",
       "    }\n",
       "\n",
       "    .dataframe thead th {\n",
       "        text-align: right;\n",
       "    }\n",
       "</style>\n",
       "<table border=\"1\" class=\"dataframe\">\n",
       "  <thead>\n",
       "    <tr style=\"text-align: right;\">\n",
       "      <th></th>\n",
       "      <th>Name</th>\n",
       "      <th>marks</th>\n",
       "      <th>sex</th>\n",
       "    </tr>\n",
       "  </thead>\n",
       "  <tbody>\n",
       "    <tr>\n",
       "      <th>0</th>\n",
       "      <td>aaa</td>\n",
       "      <td>55</td>\n",
       "      <td>M</td>\n",
       "    </tr>\n",
       "    <tr>\n",
       "      <th>1</th>\n",
       "      <td>bbb</td>\n",
       "      <td>66</td>\n",
       "      <td>F</td>\n",
       "    </tr>\n",
       "    <tr>\n",
       "      <th>2</th>\n",
       "      <td>ccc</td>\n",
       "      <td>77</td>\n",
       "      <td>M</td>\n",
       "    </tr>\n",
       "    <tr>\n",
       "      <th>3</th>\n",
       "      <td>ddd</td>\n",
       "      <td>88</td>\n",
       "      <td>F</td>\n",
       "    </tr>\n",
       "    <tr>\n",
       "      <th>4</th>\n",
       "      <td>eee</td>\n",
       "      <td>33</td>\n",
       "      <td>M</td>\n",
       "    </tr>\n",
       "  </tbody>\n",
       "</table>\n",
       "</div>"
      ],
      "text/plain": [
       "  Name  marks sex\n",
       "0  aaa     55   M\n",
       "1  bbb     66   F\n",
       "2  ccc     77   M\n",
       "3  ddd     88   F\n",
       "4  eee     33   M"
      ]
     },
     "execution_count": 54,
     "metadata": {},
     "output_type": "execute_result"
    }
   ],
   "source": [
    "import pandas as pd\n",
    "\n",
    "a={\"Name\":[\"aaa\",\"bbb\",\"ccc\",\"ddd\",\"eee\"],\"marks\":[55,66,77,88,33],\"sex\":[\"M\",\"F\",\"M\",\"F\",\"M\"]}\n",
    "df =pd.DataFrame(a)\n",
    "df"
   ]
  },
  {
   "cell_type": "code",
   "execution_count": 55,
   "id": "ff140b35-c3c7-45c0-a4a6-e6695455f5bb",
   "metadata": {},
   "outputs": [
    {
     "data": {
      "text/html": [
       "<div>\n",
       "<style scoped>\n",
       "    .dataframe tbody tr th:only-of-type {\n",
       "        vertical-align: middle;\n",
       "    }\n",
       "\n",
       "    .dataframe tbody tr th {\n",
       "        vertical-align: top;\n",
       "    }\n",
       "\n",
       "    .dataframe thead th {\n",
       "        text-align: right;\n",
       "    }\n",
       "</style>\n",
       "<table border=\"1\" class=\"dataframe\">\n",
       "  <thead>\n",
       "    <tr style=\"text-align: right;\">\n",
       "      <th></th>\n",
       "      <th>Grade</th>\n",
       "      <th>Name</th>\n",
       "    </tr>\n",
       "  </thead>\n",
       "  <tbody>\n",
       "    <tr>\n",
       "      <th>0</th>\n",
       "      <td>E</td>\n",
       "      <td>aaa</td>\n",
       "    </tr>\n",
       "    <tr>\n",
       "      <th>1</th>\n",
       "      <td>D</td>\n",
       "      <td>bbb</td>\n",
       "    </tr>\n",
       "    <tr>\n",
       "      <th>2</th>\n",
       "      <td>C</td>\n",
       "      <td>ccc</td>\n",
       "    </tr>\n",
       "    <tr>\n",
       "      <th>3</th>\n",
       "      <td>B</td>\n",
       "      <td>ddd</td>\n",
       "    </tr>\n",
       "    <tr>\n",
       "      <th>4</th>\n",
       "      <td>F</td>\n",
       "      <td>eee</td>\n",
       "    </tr>\n",
       "  </tbody>\n",
       "</table>\n",
       "</div>"
      ],
      "text/plain": [
       "  Grade Name\n",
       "0     E  aaa\n",
       "1     D  bbb\n",
       "2     C  ccc\n",
       "3     B  ddd\n",
       "4     F  eee"
      ]
     },
     "execution_count": 55,
     "metadata": {},
     "output_type": "execute_result"
    }
   ],
   "source": [
    "b=pd.DataFrame({\"Grade\":[\"E\",\"D\",\"C\",\"B\",\"F\"],\"Name\":[\"aaa\",\"bbb\",\"ccc\",\"ddd\",\"eee\"]})\n",
    "b"
   ]
  },
  {
   "cell_type": "code",
   "execution_count": null,
   "id": "d860dded-15ed-40a5-9085-b5b367c07a59",
   "metadata": {},
   "outputs": [],
   "source": []
  },
  {
   "cell_type": "code",
   "execution_count": 6,
   "id": "4a07990b-dbdb-4d2a-8a12-25436dea5e95",
   "metadata": {},
   "outputs": [
    {
     "data": {
      "text/html": [
       "<div>\n",
       "<style scoped>\n",
       "    .dataframe tbody tr th:only-of-type {\n",
       "        vertical-align: middle;\n",
       "    }\n",
       "\n",
       "    .dataframe tbody tr th {\n",
       "        vertical-align: top;\n",
       "    }\n",
       "\n",
       "    .dataframe thead th {\n",
       "        text-align: right;\n",
       "    }\n",
       "</style>\n",
       "<table border=\"1\" class=\"dataframe\">\n",
       "  <thead>\n",
       "    <tr style=\"text-align: right;\">\n",
       "      <th></th>\n",
       "      <th>Name</th>\n",
       "      <th>marks</th>\n",
       "      <th>sex</th>\n",
       "    </tr>\n",
       "  </thead>\n",
       "  <tbody>\n",
       "    <tr>\n",
       "      <th>0</th>\n",
       "      <td>aaa</td>\n",
       "      <td>55</td>\n",
       "      <td>M</td>\n",
       "    </tr>\n",
       "    <tr>\n",
       "      <th>1</th>\n",
       "      <td>bbb</td>\n",
       "      <td>66</td>\n",
       "      <td>F</td>\n",
       "    </tr>\n",
       "    <tr>\n",
       "      <th>2</th>\n",
       "      <td>ccc</td>\n",
       "      <td>77</td>\n",
       "      <td>M</td>\n",
       "    </tr>\n",
       "  </tbody>\n",
       "</table>\n",
       "</div>"
      ],
      "text/plain": [
       "  Name  marks sex\n",
       "0  aaa     55   M\n",
       "1  bbb     66   F\n",
       "2  ccc     77   M"
      ]
     },
     "execution_count": 6,
     "metadata": {},
     "output_type": "execute_result"
    }
   ],
   "source": [
    "df.head(3)"
   ]
  },
  {
   "cell_type": "code",
   "execution_count": null,
   "id": "a93b76c5-c820-4aaa-a706-be73139dc4b5",
   "metadata": {},
   "outputs": [],
   "source": []
  },
  {
   "cell_type": "code",
   "execution_count": 10,
   "id": "160db792-414f-4fd4-a4c0-0ece6e25d3b5",
   "metadata": {},
   "outputs": [
    {
     "name": "stdout",
     "output_type": "stream",
     "text": [
      "    Name  marks\n",
      "sex            \n",
      "F    ddd     88\n",
      "M    eee     77\n"
     ]
    }
   ],
   "source": [
    "import pandas as pd\n",
    "grouped = df.groupby('sex').max()\n",
    "print(grouped)\n"
   ]
  },
  {
   "cell_type": "code",
   "execution_count": null,
   "id": "027aa14e-ad9e-4168-aae3-6f2db6e5baad",
   "metadata": {},
   "outputs": [],
   "source": []
  },
  {
   "cell_type": "code",
   "execution_count": 15,
   "id": "4541cd83-5a03-4817-b0df-2fd38f49c162",
   "metadata": {},
   "outputs": [
    {
     "name": "stdout",
     "output_type": "stream",
     "text": [
      "  Name  marks sex Grade\n",
      "0  aaa     55   M     E\n",
      "1  bbb     66   F     D\n",
      "2  ccc     77   M     C\n",
      "3  ddd     88   F     B\n",
      "4  eee     33   M     F\n"
     ]
    }
   ],
   "source": [
    "import pandas as pd\n",
    "merged = pd.merge(df, b, on='Name')\n",
    "print(merged.head())\n"
   ]
  },
  {
   "cell_type": "code",
   "execution_count": null,
   "id": "5e4d85e9-173e-48b8-b261-594c3ff80d06",
   "metadata": {},
   "outputs": [],
   "source": []
  },
  {
   "cell_type": "code",
   "execution_count": 17,
   "id": "37dfacea-e1ef-4bd5-9526-74cef6868b4d",
   "metadata": {},
   "outputs": [
    {
     "name": "stdout",
     "output_type": "stream",
     "text": [
      "E    1\n",
      "D    1\n",
      "C    1\n",
      "B    1\n",
      "F    1\n",
      "Name: Grade, dtype: int64\n"
     ]
    }
   ],
   "source": [
    "import pandas as pd\n",
    "counts = b['Grade'].value_counts()\n",
    "print(counts)\n"
   ]
  },
  {
   "cell_type": "code",
   "execution_count": null,
   "id": "f5abf3b6-a4e1-42cc-a04f-fc9097bdf381",
   "metadata": {},
   "outputs": [],
   "source": []
  },
  {
   "cell_type": "code",
   "execution_count": 19,
   "id": "8795c0a9-2401-4707-b359-62d6cbeeb141",
   "metadata": {},
   "outputs": [
    {
     "data": {
      "text/plain": [
       "Name     0\n",
       "marks    0\n",
       "sex      0\n",
       "dtype: int64"
      ]
     },
     "execution_count": 19,
     "metadata": {},
     "output_type": "execute_result"
    }
   ],
   "source": [
    "df.isna().sum()"
   ]
  },
  {
   "cell_type": "code",
   "execution_count": null,
   "id": "a3f92aa8-6c91-4399-8fd8-ea8a82717a9c",
   "metadata": {},
   "outputs": [],
   "source": []
  },
  {
   "cell_type": "code",
   "execution_count": null,
   "id": "de671524-9dd8-4c91-9c2d-618e58fc8a1e",
   "metadata": {},
   "outputs": [],
   "source": []
  },
  {
   "cell_type": "markdown",
   "id": "433f7eaf-36dc-48f3-b52c-3cd9ffa428fc",
   "metadata": {},
   "source": [
    "# Q2. Given a Pandas DataFrame df with columns 'A', 'B', and 'C', write a Python function to re-index the DataFrame with a new index that starts from 1 and increments by 2 for each row."
   ]
  },
  {
   "cell_type": "code",
   "execution_count": 24,
   "id": "7f92fafd-5a2e-421c-8ab8-0dc295e978f4",
   "metadata": {},
   "outputs": [
    {
     "data": {
      "text/html": [
       "<div>\n",
       "<style scoped>\n",
       "    .dataframe tbody tr th:only-of-type {\n",
       "        vertical-align: middle;\n",
       "    }\n",
       "\n",
       "    .dataframe tbody tr th {\n",
       "        vertical-align: top;\n",
       "    }\n",
       "\n",
       "    .dataframe thead th {\n",
       "        text-align: right;\n",
       "    }\n",
       "</style>\n",
       "<table border=\"1\" class=\"dataframe\">\n",
       "  <thead>\n",
       "    <tr style=\"text-align: right;\">\n",
       "      <th></th>\n",
       "      <th>A</th>\n",
       "      <th>B</th>\n",
       "    </tr>\n",
       "  </thead>\n",
       "  <tbody>\n",
       "    <tr>\n",
       "      <th>1</th>\n",
       "      <td>NaN</td>\n",
       "      <td>NaN</td>\n",
       "    </tr>\n",
       "    <tr>\n",
       "      <th>3</th>\n",
       "      <td>2.0</td>\n",
       "      <td>5.0</td>\n",
       "    </tr>\n",
       "    <tr>\n",
       "      <th>5</th>\n",
       "      <td>NaN</td>\n",
       "      <td>NaN</td>\n",
       "    </tr>\n",
       "    <tr>\n",
       "      <th>7</th>\n",
       "      <td>NaN</td>\n",
       "      <td>NaN</td>\n",
       "    </tr>\n",
       "    <tr>\n",
       "      <th>9</th>\n",
       "      <td>NaN</td>\n",
       "      <td>NaN</td>\n",
       "    </tr>\n",
       "  </tbody>\n",
       "</table>\n",
       "</div>"
      ],
      "text/plain": [
       "     A    B\n",
       "1  NaN  NaN\n",
       "3  2.0  5.0\n",
       "5  NaN  NaN\n",
       "7  NaN  NaN\n",
       "9  NaN  NaN"
      ]
     },
     "execution_count": 24,
     "metadata": {},
     "output_type": "execute_result"
    }
   ],
   "source": [
    "df1=pd.DataFrame({\"A\":[1,2,3,4,5],\"B\":[111,222,333,444,555],\"C\":[10,20,30,40,50]})\n",
    "\n",
    "\n",
    "\n",
    "def reindex_fun(df1):\n",
    "    # get the number of rows in the DataFrame\n",
    "    n_rows = df1.shape[0]\n",
    "    \n",
    "    # create a new index that starts from 1 and increments by 2 for each row\n",
    "    new_index = range(1, n_rows * 2 + 1, 2)\n",
    "    \n",
    "    # reindex the DataFrame with the new index\n",
    "    df_reindexed = df.reindex(new_index)\n",
    "    \n",
    "    return df_reindexed\n",
    "\n",
    "\n",
    "df1_fun =reindex_fun(df1)\n",
    "df1_fun"
   ]
  },
  {
   "cell_type": "code",
   "execution_count": null,
   "id": "5e23f3c0-1b96-4463-b5da-f888ed1132cb",
   "metadata": {},
   "outputs": [],
   "source": []
  },
  {
   "cell_type": "markdown",
   "id": "409f63c3-c92e-46b1-87a3-e9dd15ceae3c",
   "metadata": {},
   "source": [
    "# Q3. You have a Pandas DataFrame df with a column named 'Values'. Write a Python function that iterates over the DataFrame and calculates the sum of the first three values in the 'Values' column. The function should print the sum to the console. \n",
    "\n",
    "# For example, if the 'Values' column of df contains the values [10, 20, 30, 40, 50], your function should calculate and print the sum of the first three values, which is 60."
   ]
  },
  {
   "cell_type": "code",
   "execution_count": 62,
   "id": "8a2e1e8d-1046-4775-a88e-91046e61ff3f",
   "metadata": {},
   "outputs": [
    {
     "name": "stdout",
     "output_type": "stream",
     "text": [
      "Sum of first three Values are 60\n"
     ]
    },
    {
     "data": {
      "text/plain": [
       "60"
      ]
     },
     "execution_count": 62,
     "metadata": {},
     "output_type": "execute_result"
    }
   ],
   "source": [
    "df2=pd.DataFrame({\"Values\":[10,20,30,40,50]})\n",
    "\n",
    "def rf(df2):\n",
    "    # get the first three values in the 'Values' column\n",
    "    s =df2['Values'].iloc[:3]\n",
    "     # calculate the sum of the first three values\n",
    "    sum_is=s.sum()\n",
    "    print(\"Sum of first three Values are\",sum_is)\n",
    "    return sum_is\n",
    "\n",
    "summation =rf(df2)\n",
    "summation\n",
    "        "
   ]
  },
  {
   "cell_type": "code",
   "execution_count": null,
   "id": "7958e907-848a-4074-a64d-10e353763d78",
   "metadata": {},
   "outputs": [],
   "source": []
  },
  {
   "cell_type": "markdown",
   "id": "24cf6f41-e35c-4d20-a357-dff0f991101f",
   "metadata": {},
   "source": [
    "# Q4. Given a Pandas DataFrame df with a column 'Text', write a Python function to create a new column 'Word_Count' that contains the number of words in each row of the 'Text' column."
   ]
  },
  {
   "cell_type": "code",
   "execution_count": 23,
   "id": "bbe6bb77-b749-4c47-a2da-959ed9a9a50c",
   "metadata": {},
   "outputs": [
    {
     "data": {
      "text/html": [
       "<div>\n",
       "<style scoped>\n",
       "    .dataframe tbody tr th:only-of-type {\n",
       "        vertical-align: middle;\n",
       "    }\n",
       "\n",
       "    .dataframe tbody tr th {\n",
       "        vertical-align: top;\n",
       "    }\n",
       "\n",
       "    .dataframe thead th {\n",
       "        text-align: right;\n",
       "    }\n",
       "</style>\n",
       "<table border=\"1\" class=\"dataframe\">\n",
       "  <thead>\n",
       "    <tr style=\"text-align: right;\">\n",
       "      <th></th>\n",
       "      <th>text</th>\n",
       "    </tr>\n",
       "  </thead>\n",
       "  <tbody>\n",
       "    <tr>\n",
       "      <th>0</th>\n",
       "      <td>Hello kishan how are you doing</td>\n",
       "    </tr>\n",
       "    <tr>\n",
       "      <th>1</th>\n",
       "      <td>I hope you are doing well</td>\n",
       "    </tr>\n",
       "    <tr>\n",
       "      <th>2</th>\n",
       "      <td>All the best</td>\n",
       "    </tr>\n",
       "    <tr>\n",
       "      <th>3</th>\n",
       "      <td>for your career</td>\n",
       "    </tr>\n",
       "    <tr>\n",
       "      <th>4</th>\n",
       "      <td>God please save me</td>\n",
       "    </tr>\n",
       "    <tr>\n",
       "      <th>5</th>\n",
       "      <td>Bless me</td>\n",
       "    </tr>\n",
       "  </tbody>\n",
       "</table>\n",
       "</div>"
      ],
      "text/plain": [
       "                             text\n",
       "0  Hello kishan how are you doing\n",
       "1       I hope you are doing well\n",
       "2                    All the best\n",
       "3                 for your career\n",
       "4              God please save me\n",
       "5                        Bless me"
      ]
     },
     "execution_count": 23,
     "metadata": {},
     "output_type": "execute_result"
    }
   ],
   "source": [
    "import pandas as pd\n",
    "a={'text':[\"Hello kishan how are you doing\",\"I hope you are doing well\",\"All the best\",\"for your career\",\"God please save me\",\"Bless me\"]}\n",
    "dfr=pd.DataFrame(a)\n",
    "dfr"
   ]
  },
  {
   "cell_type": "code",
   "execution_count": 26,
   "id": "f57b2e62-9579-4a0d-abe3-2653f0f23adf",
   "metadata": {},
   "outputs": [],
   "source": [
    "dfr['char_count']=dfr['text'].apply(len)\n",
    "#para['len_data'] =para['ABD'].apply(len)"
   ]
  },
  {
   "cell_type": "code",
   "execution_count": 58,
   "id": "a1b14c96-69dc-41ed-b625-7009110dd260",
   "metadata": {},
   "outputs": [],
   "source": [
    "dfr['email-ids']= ['kishan@gmail.com','chand@gmail.com','kc@gmail.com','TTKKCC@gmail.com','krish333@gmail.com','naik@gmai.com']\n",
    "dfr['Values'] =[10,20,30,45,55,65]"
   ]
  },
  {
   "cell_type": "code",
   "execution_count": null,
   "id": "46ef5c11-9c71-4552-95bf-13c69b47a8a3",
   "metadata": {},
   "outputs": [],
   "source": []
  },
  {
   "cell_type": "code",
   "execution_count": 59,
   "id": "8d1c14d3-c1f1-40b3-a8d0-b34d6714b27c",
   "metadata": {},
   "outputs": [],
   "source": [
    "dfr['word_count'] =dfr['text'].apply(lambda x:len(x.split()))\n",
    "                                     "
   ]
  },
  {
   "cell_type": "code",
   "execution_count": 60,
   "id": "d867c601-c0ea-4376-a306-919e583206e8",
   "metadata": {},
   "outputs": [
    {
     "data": {
      "text/html": [
       "<div>\n",
       "<style scoped>\n",
       "    .dataframe tbody tr th:only-of-type {\n",
       "        vertical-align: middle;\n",
       "    }\n",
       "\n",
       "    .dataframe tbody tr th {\n",
       "        vertical-align: top;\n",
       "    }\n",
       "\n",
       "    .dataframe thead th {\n",
       "        text-align: right;\n",
       "    }\n",
       "</style>\n",
       "<table border=\"1\" class=\"dataframe\">\n",
       "  <thead>\n",
       "    <tr style=\"text-align: right;\">\n",
       "      <th></th>\n",
       "      <th>text</th>\n",
       "      <th>word_count</th>\n",
       "      <th>char_count</th>\n",
       "      <th>email-ids</th>\n",
       "      <th>Username</th>\n",
       "      <th>Values</th>\n",
       "    </tr>\n",
       "  </thead>\n",
       "  <tbody>\n",
       "    <tr>\n",
       "      <th>0</th>\n",
       "      <td>Hello kishan how are you doing</td>\n",
       "      <td>6</td>\n",
       "      <td>30</td>\n",
       "      <td>kishan@gmail.com</td>\n",
       "      <td>kishan</td>\n",
       "      <td>10</td>\n",
       "    </tr>\n",
       "    <tr>\n",
       "      <th>1</th>\n",
       "      <td>I hope you are doing well</td>\n",
       "      <td>6</td>\n",
       "      <td>25</td>\n",
       "      <td>chand@gmail.com</td>\n",
       "      <td>chand</td>\n",
       "      <td>20</td>\n",
       "    </tr>\n",
       "    <tr>\n",
       "      <th>2</th>\n",
       "      <td>All the best</td>\n",
       "      <td>3</td>\n",
       "      <td>12</td>\n",
       "      <td>kc@gmail.com</td>\n",
       "      <td>kc</td>\n",
       "      <td>30</td>\n",
       "    </tr>\n",
       "    <tr>\n",
       "      <th>3</th>\n",
       "      <td>for your career</td>\n",
       "      <td>3</td>\n",
       "      <td>15</td>\n",
       "      <td>TTKKCC@gmail.com</td>\n",
       "      <td>TTKKCC</td>\n",
       "      <td>45</td>\n",
       "    </tr>\n",
       "    <tr>\n",
       "      <th>4</th>\n",
       "      <td>God please save me</td>\n",
       "      <td>4</td>\n",
       "      <td>18</td>\n",
       "      <td>krish333@gmail.com</td>\n",
       "      <td>krish333</td>\n",
       "      <td>55</td>\n",
       "    </tr>\n",
       "    <tr>\n",
       "      <th>5</th>\n",
       "      <td>Bless me</td>\n",
       "      <td>2</td>\n",
       "      <td>8</td>\n",
       "      <td>naik@gmai.com</td>\n",
       "      <td>naik</td>\n",
       "      <td>65</td>\n",
       "    </tr>\n",
       "  </tbody>\n",
       "</table>\n",
       "</div>"
      ],
      "text/plain": [
       "                             text  word_count  char_count           email-ids  \\\n",
       "0  Hello kishan how are you doing           6          30    kishan@gmail.com   \n",
       "1       I hope you are doing well           6          25     chand@gmail.com   \n",
       "2                    All the best           3          12        kc@gmail.com   \n",
       "3                 for your career           3          15    TTKKCC@gmail.com   \n",
       "4              God please save me           4          18  krish333@gmail.com   \n",
       "5                        Bless me           2           8       naik@gmai.com   \n",
       "\n",
       "   Username  Values  \n",
       "0    kishan      10  \n",
       "1     chand      20  \n",
       "2        kc      30  \n",
       "3    TTKKCC      45  \n",
       "4  krish333      55  \n",
       "5      naik      65  "
      ]
     },
     "execution_count": 60,
     "metadata": {},
     "output_type": "execute_result"
    }
   ],
   "source": [
    "dfr"
   ]
  },
  {
   "cell_type": "markdown",
   "id": "9f6f30a4-dd8b-4bde-93d6-37dbf8d6bd2f",
   "metadata": {},
   "source": [
    "# Q5. How are DataFrame.size() and DataFrame.shape() different?"
   ]
  },
  {
   "cell_type": "code",
   "execution_count": 40,
   "id": "2ac70f6c-7a97-464f-8e33-4fb78bf3ef40",
   "metadata": {},
   "outputs": [
    {
     "data": {
      "text/plain": [
       "18"
      ]
     },
     "execution_count": 40,
     "metadata": {},
     "output_type": "execute_result"
    }
   ],
   "source": [
    "dfr.size"
   ]
  },
  {
   "cell_type": "code",
   "execution_count": 39,
   "id": "aebe1426-4bbd-42f9-aeca-d3bb71088097",
   "metadata": {},
   "outputs": [
    {
     "data": {
      "text/plain": [
       "(6, 3)"
      ]
     },
     "execution_count": 39,
     "metadata": {},
     "output_type": "execute_result"
    }
   ],
   "source": [
    "dfr.shape"
   ]
  },
  {
   "cell_type": "markdown",
   "id": "57e3ec1f-2f33-4182-9b9e-75e0acfcd56c",
   "metadata": {},
   "source": [
    "\n",
    "As we can see in the above Example, DataFrame.size and DataFrame.shape are two different attributes that return different information about the DataFrame.\n",
    "\n",
    "\n",
    "where,DataFrame.size returns the total number of elements in the DataFrame, which is equal to the number of rows multiplied by the number of columns.and DataFrame.shape returns a tuple that contains the number of rows and columns in the DataFrame."
   ]
  },
  {
   "cell_type": "markdown",
   "id": "3ee218a0-5a1c-4c93-9274-63c75ae03cc5",
   "metadata": {},
   "source": []
  },
  {
   "cell_type": "markdown",
   "id": "2cf176d3-ae12-4615-9a1f-b3d39d08bf4d",
   "metadata": {},
   "source": [
    "# Q6. Which function of pandas do we use to read an excel file?\n"
   ]
  },
  {
   "cell_type": "code",
   "execution_count": null,
   "id": "bfc40f67-3e16-4dbb-8960-8b8a4e0fab08",
   "metadata": {},
   "outputs": [],
   "source": [
    "pd.read_excel()"
   ]
  },
  {
   "cell_type": "code",
   "execution_count": null,
   "id": "9c4edf01-b9ca-4999-b3ed-aaf153888aad",
   "metadata": {},
   "outputs": [],
   "source": []
  },
  {
   "cell_type": "markdown",
   "id": "bcae501c-ae19-4f71-8125-8664dbbe4e09",
   "metadata": {},
   "source": [
    "# Q7. You have a Pandas DataFrame df that contains a column named 'Email' that contains email addresses in the format 'username@domain.com'. Write a Python function that creates a new column 'Username' in df that contains only the username part of each email address.\n",
    "\n",
    "# The username is the part of the email address that appears before the '@' symbol. For example, if the email address is 'john.doe@example.com', the 'Username' column should contain 'john.doe'. Your function should extract the username from each email address and store it in the new 'Username' column."
   ]
  },
  {
   "cell_type": "code",
   "execution_count": 45,
   "id": "7d9513e8-4cc6-4d9f-b807-cfd8fcefb2e2",
   "metadata": {},
   "outputs": [
    {
     "data": {
      "text/html": [
       "<div>\n",
       "<style scoped>\n",
       "    .dataframe tbody tr th:only-of-type {\n",
       "        vertical-align: middle;\n",
       "    }\n",
       "\n",
       "    .dataframe tbody tr th {\n",
       "        vertical-align: top;\n",
       "    }\n",
       "\n",
       "    .dataframe thead th {\n",
       "        text-align: right;\n",
       "    }\n",
       "</style>\n",
       "<table border=\"1\" class=\"dataframe\">\n",
       "  <thead>\n",
       "    <tr style=\"text-align: right;\">\n",
       "      <th></th>\n",
       "      <th>text</th>\n",
       "      <th>word_count</th>\n",
       "      <th>char_count</th>\n",
       "      <th>email-ids</th>\n",
       "    </tr>\n",
       "  </thead>\n",
       "  <tbody>\n",
       "    <tr>\n",
       "      <th>0</th>\n",
       "      <td>Hello kishan how are you doing</td>\n",
       "      <td>6</td>\n",
       "      <td>30</td>\n",
       "      <td>kishan@gmail.com</td>\n",
       "    </tr>\n",
       "    <tr>\n",
       "      <th>1</th>\n",
       "      <td>I hope you are doing well</td>\n",
       "      <td>6</td>\n",
       "      <td>25</td>\n",
       "      <td>chand@gmail.com</td>\n",
       "    </tr>\n",
       "    <tr>\n",
       "      <th>2</th>\n",
       "      <td>All the best</td>\n",
       "      <td>3</td>\n",
       "      <td>12</td>\n",
       "      <td>kc@gmail.com</td>\n",
       "    </tr>\n",
       "    <tr>\n",
       "      <th>3</th>\n",
       "      <td>for your career</td>\n",
       "      <td>3</td>\n",
       "      <td>15</td>\n",
       "      <td>TTKKCC@gmail.com</td>\n",
       "    </tr>\n",
       "    <tr>\n",
       "      <th>4</th>\n",
       "      <td>God please save me</td>\n",
       "      <td>4</td>\n",
       "      <td>18</td>\n",
       "      <td>krish333@gmail.com</td>\n",
       "    </tr>\n",
       "    <tr>\n",
       "      <th>5</th>\n",
       "      <td>Bless me</td>\n",
       "      <td>2</td>\n",
       "      <td>8</td>\n",
       "      <td>naik@gmai.com</td>\n",
       "    </tr>\n",
       "  </tbody>\n",
       "</table>\n",
       "</div>"
      ],
      "text/plain": [
       "                             text  word_count  char_count           email-ids\n",
       "0  Hello kishan how are you doing           6          30    kishan@gmail.com\n",
       "1       I hope you are doing well           6          25     chand@gmail.com\n",
       "2                    All the best           3          12        kc@gmail.com\n",
       "3                 for your career           3          15    TTKKCC@gmail.com\n",
       "4              God please save me           4          18  krish333@gmail.com\n",
       "5                        Bless me           2           8       naik@gmai.com"
      ]
     },
     "execution_count": 45,
     "metadata": {},
     "output_type": "execute_result"
    }
   ],
   "source": [
    "dfr"
   ]
  },
  {
   "cell_type": "code",
   "execution_count": 53,
   "id": "b02ac13f-19fd-4fda-bbf7-64d551088f15",
   "metadata": {},
   "outputs": [],
   "source": [
    "dfr['Username'] =dfr['email-ids'].apply(lambda x:x.split('@')[0])"
   ]
  },
  {
   "cell_type": "code",
   "execution_count": 54,
   "id": "09b2895e-5638-4399-a0e6-31bc6d0195f4",
   "metadata": {},
   "outputs": [
    {
     "data": {
      "text/html": [
       "<div>\n",
       "<style scoped>\n",
       "    .dataframe tbody tr th:only-of-type {\n",
       "        vertical-align: middle;\n",
       "    }\n",
       "\n",
       "    .dataframe tbody tr th {\n",
       "        vertical-align: top;\n",
       "    }\n",
       "\n",
       "    .dataframe thead th {\n",
       "        text-align: right;\n",
       "    }\n",
       "</style>\n",
       "<table border=\"1\" class=\"dataframe\">\n",
       "  <thead>\n",
       "    <tr style=\"text-align: right;\">\n",
       "      <th></th>\n",
       "      <th>text</th>\n",
       "      <th>word_count</th>\n",
       "      <th>char_count</th>\n",
       "      <th>email-ids</th>\n",
       "      <th>Username</th>\n",
       "    </tr>\n",
       "  </thead>\n",
       "  <tbody>\n",
       "    <tr>\n",
       "      <th>0</th>\n",
       "      <td>Hello kishan how are you doing</td>\n",
       "      <td>6</td>\n",
       "      <td>30</td>\n",
       "      <td>kishan@gmail.com</td>\n",
       "      <td>kishan</td>\n",
       "    </tr>\n",
       "    <tr>\n",
       "      <th>1</th>\n",
       "      <td>I hope you are doing well</td>\n",
       "      <td>6</td>\n",
       "      <td>25</td>\n",
       "      <td>chand@gmail.com</td>\n",
       "      <td>chand</td>\n",
       "    </tr>\n",
       "    <tr>\n",
       "      <th>2</th>\n",
       "      <td>All the best</td>\n",
       "      <td>3</td>\n",
       "      <td>12</td>\n",
       "      <td>kc@gmail.com</td>\n",
       "      <td>kc</td>\n",
       "    </tr>\n",
       "    <tr>\n",
       "      <th>3</th>\n",
       "      <td>for your career</td>\n",
       "      <td>3</td>\n",
       "      <td>15</td>\n",
       "      <td>TTKKCC@gmail.com</td>\n",
       "      <td>TTKKCC</td>\n",
       "    </tr>\n",
       "    <tr>\n",
       "      <th>4</th>\n",
       "      <td>God please save me</td>\n",
       "      <td>4</td>\n",
       "      <td>18</td>\n",
       "      <td>krish333@gmail.com</td>\n",
       "      <td>krish333</td>\n",
       "    </tr>\n",
       "    <tr>\n",
       "      <th>5</th>\n",
       "      <td>Bless me</td>\n",
       "      <td>2</td>\n",
       "      <td>8</td>\n",
       "      <td>naik@gmai.com</td>\n",
       "      <td>naik</td>\n",
       "    </tr>\n",
       "  </tbody>\n",
       "</table>\n",
       "</div>"
      ],
      "text/plain": [
       "                             text  word_count  char_count           email-ids  \\\n",
       "0  Hello kishan how are you doing           6          30    kishan@gmail.com   \n",
       "1       I hope you are doing well           6          25     chand@gmail.com   \n",
       "2                    All the best           3          12        kc@gmail.com   \n",
       "3                 for your career           3          15    TTKKCC@gmail.com   \n",
       "4              God please save me           4          18  krish333@gmail.com   \n",
       "5                        Bless me           2           8       naik@gmai.com   \n",
       "\n",
       "   Username  \n",
       "0    kishan  \n",
       "1     chand  \n",
       "2        kc  \n",
       "3    TTKKCC  \n",
       "4  krish333  \n",
       "5      naik  "
      ]
     },
     "execution_count": 54,
     "metadata": {},
     "output_type": "execute_result"
    }
   ],
   "source": [
    "dfr"
   ]
  },
  {
   "cell_type": "code",
   "execution_count": null,
   "id": "9652ce7d-7a3c-4a18-9ea0-5d4ec277fe9f",
   "metadata": {},
   "outputs": [],
   "source": []
  },
  {
   "cell_type": "raw",
   "id": "3806b6fa-81ab-4bba-8984-ae3ed465b65f",
   "metadata": {},
   "source": [
    " Q8. You have a Pandas DataFrame df with columns 'A', 'B', and 'C'. Write a Python function that selects all rows where the value in column 'A' is greater than 5 and the value in column 'B' is less than 10. The function should return a new DataFrame that contains only the selected rows.\n",
    "\n",
    "For example, \n",
    "\n",
    "if df contains the following values:\n",
    "\n",
    "  A B C\n",
    "0 3 5 1\n",
    "1 8 2 7\n",
    "2 6 9 4\n",
    "3 2 3 5\n",
    "4 9 1 2\n",
    "\n",
    "Your function should select the following rows: A B C\n",
    "1 8 2 7\n",
    "4 9 1 2\n",
    "The function should return a new DataFrame that contains only the selected rows."
   ]
  },
  {
   "cell_type": "code",
   "execution_count": 55,
   "id": "fdcc87c0-54cd-4708-9b5c-6bf2471f3445",
   "metadata": {},
   "outputs": [
    {
     "data": {
      "text/html": [
       "<div>\n",
       "<style scoped>\n",
       "    .dataframe tbody tr th:only-of-type {\n",
       "        vertical-align: middle;\n",
       "    }\n",
       "\n",
       "    .dataframe tbody tr th {\n",
       "        vertical-align: top;\n",
       "    }\n",
       "\n",
       "    .dataframe thead th {\n",
       "        text-align: right;\n",
       "    }\n",
       "</style>\n",
       "<table border=\"1\" class=\"dataframe\">\n",
       "  <thead>\n",
       "    <tr style=\"text-align: right;\">\n",
       "      <th></th>\n",
       "      <th>A</th>\n",
       "      <th>B</th>\n",
       "      <th>C</th>\n",
       "    </tr>\n",
       "  </thead>\n",
       "  <tbody>\n",
       "    <tr>\n",
       "      <th>0</th>\n",
       "      <td>3</td>\n",
       "      <td>5</td>\n",
       "      <td>1</td>\n",
       "    </tr>\n",
       "    <tr>\n",
       "      <th>1</th>\n",
       "      <td>8</td>\n",
       "      <td>2</td>\n",
       "      <td>7</td>\n",
       "    </tr>\n",
       "    <tr>\n",
       "      <th>2</th>\n",
       "      <td>6</td>\n",
       "      <td>9</td>\n",
       "      <td>4</td>\n",
       "    </tr>\n",
       "    <tr>\n",
       "      <th>3</th>\n",
       "      <td>2</td>\n",
       "      <td>3</td>\n",
       "      <td>5</td>\n",
       "    </tr>\n",
       "    <tr>\n",
       "      <th>4</th>\n",
       "      <td>9</td>\n",
       "      <td>1</td>\n",
       "      <td>2</td>\n",
       "    </tr>\n",
       "  </tbody>\n",
       "</table>\n",
       "</div>"
      ],
      "text/plain": [
       "   A  B  C\n",
       "0  3  5  1\n",
       "1  8  2  7\n",
       "2  6  9  4\n",
       "3  2  3  5\n",
       "4  9  1  2"
      ]
     },
     "execution_count": 55,
     "metadata": {},
     "output_type": "execute_result"
    }
   ],
   "source": [
    "df8 =pd.DataFrame({\"A\":[3,8,6,2,9],\"B\":[5,2,9,3,1],\"C\":[1,7,4,5,2]})\n",
    "df8"
   ]
  },
  {
   "cell_type": "code",
   "execution_count": 57,
   "id": "41558c78-f2a4-4ac9-9545-7626068c1e0e",
   "metadata": {},
   "outputs": [
    {
     "data": {
      "text/html": [
       "<div>\n",
       "<style scoped>\n",
       "    .dataframe tbody tr th:only-of-type {\n",
       "        vertical-align: middle;\n",
       "    }\n",
       "\n",
       "    .dataframe tbody tr th {\n",
       "        vertical-align: top;\n",
       "    }\n",
       "\n",
       "    .dataframe thead th {\n",
       "        text-align: right;\n",
       "    }\n",
       "</style>\n",
       "<table border=\"1\" class=\"dataframe\">\n",
       "  <thead>\n",
       "    <tr style=\"text-align: right;\">\n",
       "      <th></th>\n",
       "      <th>A</th>\n",
       "      <th>B</th>\n",
       "      <th>C</th>\n",
       "    </tr>\n",
       "  </thead>\n",
       "  <tbody>\n",
       "    <tr>\n",
       "      <th>1</th>\n",
       "      <td>8</td>\n",
       "      <td>2</td>\n",
       "      <td>7</td>\n",
       "    </tr>\n",
       "    <tr>\n",
       "      <th>2</th>\n",
       "      <td>6</td>\n",
       "      <td>9</td>\n",
       "      <td>4</td>\n",
       "    </tr>\n",
       "    <tr>\n",
       "      <th>4</th>\n",
       "      <td>9</td>\n",
       "      <td>1</td>\n",
       "      <td>2</td>\n",
       "    </tr>\n",
       "  </tbody>\n",
       "</table>\n",
       "</div>"
      ],
      "text/plain": [
       "   A  B  C\n",
       "1  8  2  7\n",
       "2  6  9  4\n",
       "4  9  1  2"
      ]
     },
     "execution_count": 57,
     "metadata": {},
     "output_type": "execute_result"
    }
   ],
   "source": [
    "df8[(df8[\"A\"]>5) & (df8[\"B\"]<10)]"
   ]
  },
  {
   "cell_type": "code",
   "execution_count": null,
   "id": "fbb5d728-b1c6-4669-9c97-43936c9b0d63",
   "metadata": {},
   "outputs": [],
   "source": []
  },
  {
   "cell_type": "markdown",
   "id": "47636b1c-51ea-4bc0-825b-2fb7cfc8e21d",
   "metadata": {},
   "source": [
    "# Q9. Given a Pandas DataFrame df with a column 'Values', write a Python function to calculate the mean, median, and standard deviation of the values in the 'Values' column."
   ]
  },
  {
   "cell_type": "code",
   "execution_count": 61,
   "id": "b959bae5-d812-4e89-ab63-e8bf9d869ded",
   "metadata": {},
   "outputs": [
    {
     "data": {
      "text/html": [
       "<div>\n",
       "<style scoped>\n",
       "    .dataframe tbody tr th:only-of-type {\n",
       "        vertical-align: middle;\n",
       "    }\n",
       "\n",
       "    .dataframe tbody tr th {\n",
       "        vertical-align: top;\n",
       "    }\n",
       "\n",
       "    .dataframe thead th {\n",
       "        text-align: right;\n",
       "    }\n",
       "</style>\n",
       "<table border=\"1\" class=\"dataframe\">\n",
       "  <thead>\n",
       "    <tr style=\"text-align: right;\">\n",
       "      <th></th>\n",
       "      <th>text</th>\n",
       "      <th>word_count</th>\n",
       "      <th>char_count</th>\n",
       "      <th>email-ids</th>\n",
       "      <th>Username</th>\n",
       "      <th>Values</th>\n",
       "    </tr>\n",
       "  </thead>\n",
       "  <tbody>\n",
       "    <tr>\n",
       "      <th>0</th>\n",
       "      <td>Hello kishan how are you doing</td>\n",
       "      <td>6</td>\n",
       "      <td>30</td>\n",
       "      <td>kishan@gmail.com</td>\n",
       "      <td>kishan</td>\n",
       "      <td>10</td>\n",
       "    </tr>\n",
       "    <tr>\n",
       "      <th>1</th>\n",
       "      <td>I hope you are doing well</td>\n",
       "      <td>6</td>\n",
       "      <td>25</td>\n",
       "      <td>chand@gmail.com</td>\n",
       "      <td>chand</td>\n",
       "      <td>20</td>\n",
       "    </tr>\n",
       "    <tr>\n",
       "      <th>2</th>\n",
       "      <td>All the best</td>\n",
       "      <td>3</td>\n",
       "      <td>12</td>\n",
       "      <td>kc@gmail.com</td>\n",
       "      <td>kc</td>\n",
       "      <td>30</td>\n",
       "    </tr>\n",
       "    <tr>\n",
       "      <th>3</th>\n",
       "      <td>for your career</td>\n",
       "      <td>3</td>\n",
       "      <td>15</td>\n",
       "      <td>TTKKCC@gmail.com</td>\n",
       "      <td>TTKKCC</td>\n",
       "      <td>45</td>\n",
       "    </tr>\n",
       "    <tr>\n",
       "      <th>4</th>\n",
       "      <td>God please save me</td>\n",
       "      <td>4</td>\n",
       "      <td>18</td>\n",
       "      <td>krish333@gmail.com</td>\n",
       "      <td>krish333</td>\n",
       "      <td>55</td>\n",
       "    </tr>\n",
       "    <tr>\n",
       "      <th>5</th>\n",
       "      <td>Bless me</td>\n",
       "      <td>2</td>\n",
       "      <td>8</td>\n",
       "      <td>naik@gmai.com</td>\n",
       "      <td>naik</td>\n",
       "      <td>65</td>\n",
       "    </tr>\n",
       "  </tbody>\n",
       "</table>\n",
       "</div>"
      ],
      "text/plain": [
       "                             text  word_count  char_count           email-ids  \\\n",
       "0  Hello kishan how are you doing           6          30    kishan@gmail.com   \n",
       "1       I hope you are doing well           6          25     chand@gmail.com   \n",
       "2                    All the best           3          12        kc@gmail.com   \n",
       "3                 for your career           3          15    TTKKCC@gmail.com   \n",
       "4              God please save me           4          18  krish333@gmail.com   \n",
       "5                        Bless me           2           8       naik@gmai.com   \n",
       "\n",
       "   Username  Values  \n",
       "0    kishan      10  \n",
       "1     chand      20  \n",
       "2        kc      30  \n",
       "3    TTKKCC      45  \n",
       "4  krish333      55  \n",
       "5      naik      65  "
      ]
     },
     "execution_count": 61,
     "metadata": {},
     "output_type": "execute_result"
    }
   ],
   "source": [
    "dfr"
   ]
  },
  {
   "cell_type": "code",
   "execution_count": 82,
   "id": "090bf3c4-980c-46c6-8740-a989b9b7481b",
   "metadata": {},
   "outputs": [
    {
     "name": "stdout",
     "output_type": "stream",
     "text": [
      "mean of the values is37.5\n",
      "median of the values is37.5\n",
      "mode of the values is\n",
      "0    10\n",
      "1    20\n",
      "2    30\n",
      "3    45\n",
      "4    55\n",
      "5    65\n",
      "Name: Values, dtype: int64\n",
      "standard deviation of the values is 21.15419580130618\n"
     ]
    }
   ],
   "source": [
    "def mct(Values):\n",
    "    med= dfr['Values'].median()\n",
    "    mea= dfr['Values'].mean()\n",
    "    mod= dfr['Values'].mode()\n",
    "    std= dfr['Values'].std()\n",
    "    return med,mea,mod,std\n",
    "\n",
    "mea,med,mod,std =mct(dfr['Values'])\n",
    "print(f\"mean of the values is{mea}\")\n",
    "print(f\"median of the values is{med}\")\n",
    "print(\"mode of the values is\\n{}\".format(mod))\n",
    "print(\"standard deviation of the values is {}\".format(std))"
   ]
  },
  {
   "cell_type": "code",
   "execution_count": null,
   "id": "79fb0acf-d154-4076-93bd-380b22159707",
   "metadata": {},
   "outputs": [],
   "source": []
  },
  {
   "cell_type": "markdown",
   "id": "a562f12a-93d3-4626-bb2e-4199afa0fa24",
   "metadata": {},
   "source": [
    "# Q10. Given a Pandas DataFrame df with a column 'Sales' and a column 'Date', write a Python function to create a new column 'MovingAverage' that contains the moving average of the sales for the past 7 days for each row in the DataFrame. The moving average should be calculated using a window of size 7 and should include the current day."
   ]
  },
  {
   "cell_type": "code",
   "execution_count": null,
   "id": "920fe07d-95a2-4f21-9ddf-9b4db5639841",
   "metadata": {},
   "outputs": [],
   "source": []
  },
  {
   "cell_type": "code",
   "execution_count": 103,
   "id": "f45149e3-de50-4780-ab51-22554179eeab",
   "metadata": {},
   "outputs": [],
   "source": [
    "DF =pd.DataFrame({\"Sales\":[100,200,325,460,580,610,777,822,900],\"Date\":['2023-04-28','2023-04-29','2023-04-30','2023-04-31','2023-05-02','2023-05-03','2023-05-04','2023-05-05','2023-05-06']})"
   ]
  },
  {
   "cell_type": "code",
   "execution_count": 104,
   "id": "95be4625-b83b-4d8c-a140-adf7edf9b4f6",
   "metadata": {},
   "outputs": [
    {
     "data": {
      "text/html": [
       "<div>\n",
       "<style scoped>\n",
       "    .dataframe tbody tr th:only-of-type {\n",
       "        vertical-align: middle;\n",
       "    }\n",
       "\n",
       "    .dataframe tbody tr th {\n",
       "        vertical-align: top;\n",
       "    }\n",
       "\n",
       "    .dataframe thead th {\n",
       "        text-align: right;\n",
       "    }\n",
       "</style>\n",
       "<table border=\"1\" class=\"dataframe\">\n",
       "  <thead>\n",
       "    <tr style=\"text-align: right;\">\n",
       "      <th></th>\n",
       "      <th>Sales</th>\n",
       "      <th>Date</th>\n",
       "    </tr>\n",
       "  </thead>\n",
       "  <tbody>\n",
       "    <tr>\n",
       "      <th>0</th>\n",
       "      <td>100</td>\n",
       "      <td>2023-04-28</td>\n",
       "    </tr>\n",
       "    <tr>\n",
       "      <th>1</th>\n",
       "      <td>200</td>\n",
       "      <td>2023-04-29</td>\n",
       "    </tr>\n",
       "    <tr>\n",
       "      <th>2</th>\n",
       "      <td>325</td>\n",
       "      <td>2023-04-30</td>\n",
       "    </tr>\n",
       "    <tr>\n",
       "      <th>3</th>\n",
       "      <td>460</td>\n",
       "      <td>2023-04-31</td>\n",
       "    </tr>\n",
       "    <tr>\n",
       "      <th>4</th>\n",
       "      <td>580</td>\n",
       "      <td>2023-05-02</td>\n",
       "    </tr>\n",
       "    <tr>\n",
       "      <th>5</th>\n",
       "      <td>610</td>\n",
       "      <td>2023-05-03</td>\n",
       "    </tr>\n",
       "    <tr>\n",
       "      <th>6</th>\n",
       "      <td>777</td>\n",
       "      <td>2023-05-04</td>\n",
       "    </tr>\n",
       "    <tr>\n",
       "      <th>7</th>\n",
       "      <td>822</td>\n",
       "      <td>2023-05-05</td>\n",
       "    </tr>\n",
       "    <tr>\n",
       "      <th>8</th>\n",
       "      <td>900</td>\n",
       "      <td>2023-05-06</td>\n",
       "    </tr>\n",
       "  </tbody>\n",
       "</table>\n",
       "</div>"
      ],
      "text/plain": [
       "   Sales        Date\n",
       "0    100  2023-04-28\n",
       "1    200  2023-04-29\n",
       "2    325  2023-04-30\n",
       "3    460  2023-04-31\n",
       "4    580  2023-05-02\n",
       "5    610  2023-05-03\n",
       "6    777  2023-05-04\n",
       "7    822  2023-05-05\n",
       "8    900  2023-05-06"
      ]
     },
     "execution_count": 104,
     "metadata": {},
     "output_type": "execute_result"
    }
   ],
   "source": [
    "DF"
   ]
  },
  {
   "cell_type": "code",
   "execution_count": 106,
   "id": "307ddacf-86ae-44b4-b68e-002e74a09dce",
   "metadata": {},
   "outputs": [
    {
     "data": {
      "text/html": [
       "<div>\n",
       "<style scoped>\n",
       "    .dataframe tbody tr th:only-of-type {\n",
       "        vertical-align: middle;\n",
       "    }\n",
       "\n",
       "    .dataframe tbody tr th {\n",
       "        vertical-align: top;\n",
       "    }\n",
       "\n",
       "    .dataframe thead th {\n",
       "        text-align: right;\n",
       "    }\n",
       "</style>\n",
       "<table border=\"1\" class=\"dataframe\">\n",
       "  <thead>\n",
       "    <tr style=\"text-align: right;\">\n",
       "      <th></th>\n",
       "      <th>Sales</th>\n",
       "      <th>Date</th>\n",
       "      <th>Sales moving average</th>\n",
       "    </tr>\n",
       "  </thead>\n",
       "  <tbody>\n",
       "    <tr>\n",
       "      <th>0</th>\n",
       "      <td>100</td>\n",
       "      <td>2023-04-28</td>\n",
       "      <td>NaN</td>\n",
       "    </tr>\n",
       "    <tr>\n",
       "      <th>1</th>\n",
       "      <td>200</td>\n",
       "      <td>2023-04-29</td>\n",
       "      <td>NaN</td>\n",
       "    </tr>\n",
       "    <tr>\n",
       "      <th>2</th>\n",
       "      <td>325</td>\n",
       "      <td>2023-04-30</td>\n",
       "      <td>NaN</td>\n",
       "    </tr>\n",
       "    <tr>\n",
       "      <th>3</th>\n",
       "      <td>460</td>\n",
       "      <td>2023-04-31</td>\n",
       "      <td>NaN</td>\n",
       "    </tr>\n",
       "    <tr>\n",
       "      <th>4</th>\n",
       "      <td>580</td>\n",
       "      <td>2023-05-02</td>\n",
       "      <td>NaN</td>\n",
       "    </tr>\n",
       "    <tr>\n",
       "      <th>5</th>\n",
       "      <td>610</td>\n",
       "      <td>2023-05-03</td>\n",
       "      <td>NaN</td>\n",
       "    </tr>\n",
       "    <tr>\n",
       "      <th>6</th>\n",
       "      <td>777</td>\n",
       "      <td>2023-05-04</td>\n",
       "      <td>436.000000</td>\n",
       "    </tr>\n",
       "    <tr>\n",
       "      <th>7</th>\n",
       "      <td>822</td>\n",
       "      <td>2023-05-05</td>\n",
       "      <td>539.142857</td>\n",
       "    </tr>\n",
       "    <tr>\n",
       "      <th>8</th>\n",
       "      <td>900</td>\n",
       "      <td>2023-05-06</td>\n",
       "      <td>639.142857</td>\n",
       "    </tr>\n",
       "  </tbody>\n",
       "</table>\n",
       "</div>"
      ],
      "text/plain": [
       "   Sales        Date  Sales moving average\n",
       "0    100  2023-04-28                   NaN\n",
       "1    200  2023-04-29                   NaN\n",
       "2    325  2023-04-30                   NaN\n",
       "3    460  2023-04-31                   NaN\n",
       "4    580  2023-05-02                   NaN\n",
       "5    610  2023-05-03                   NaN\n",
       "6    777  2023-05-04            436.000000\n",
       "7    822  2023-05-05            539.142857\n",
       "8    900  2023-05-06            639.142857"
      ]
     },
     "execution_count": 106,
     "metadata": {},
     "output_type": "execute_result"
    }
   ],
   "source": [
    "\n",
    "def calculate_moving_average(DF,col_name,window_size):\n",
    "    DF[\"Sales moving average\"] =DF['Sales'].rolling(window_size).mean()\n",
    "    return DF\n",
    "    \n",
    "    \n",
    "    \n",
    "DF =calculate_moving_average(DF,\"Sales\",7)\n",
    "DF"
   ]
  },
  {
   "cell_type": "code",
   "execution_count": null,
   "id": "dd99312d-9a08-4fad-a746-3263abc4fb77",
   "metadata": {},
   "outputs": [],
   "source": []
  },
  {
   "cell_type": "raw",
   "id": "7a8a3875-b7a1-4f48-85f2-1e7ce57eeee1",
   "metadata": {},
   "source": [
    "Q11. You have a Pandas DataFrame df with a column 'Date'. Write a Python function that creates a new\n",
    "column 'Weekday' in the DataFrame. The 'Weekday' column should contain the weekday name (e.g.\n",
    "Monday, Tuesday) corresponding to each date in the 'Date' column.\n",
    "For example, if df contains the following values:\n",
    "Date\n",
    "0 2023-01-01\n",
    "1 2023-01-02\n",
    "2 2023-01-03\n",
    "3 2023-01-04\n",
    "4 2023-01-05\n",
    "Your function should create the following DataFrame:\n",
    "\n",
    "Date Weekday\n",
    "0 2023-01-01 Sunday\n",
    "1 2023-01-02 Monday\n",
    "2 2023-01-03 Tuesday\n",
    "3 2023-01-04 Wednesday\n",
    "4 2023-01-05 Thursday\n",
    "The function should return the modified DataFrame."
   ]
  },
  {
   "cell_type": "code",
   "execution_count": null,
   "id": "27c4556e-7957-4683-aaeb-180cc4eab6e9",
   "metadata": {},
   "outputs": [],
   "source": []
  },
  {
   "cell_type": "code",
   "execution_count": 125,
   "id": "f07dc733-9384-4b44-8c50-95062d05b2f5",
   "metadata": {},
   "outputs": [
    {
     "name": "stdout",
     "output_type": "stream",
     "text": [
      "        Date  day  month    Weekday\n",
      "0 2023-01-01    1      1     Sunday\n",
      "1 2023-01-02    2      1     Monday\n",
      "2 2023-01-03    3      1    Tuesday\n",
      "3 2023-01-04    4      1  Wednesday\n",
      "4 2023-01-05    5      1   Thursday\n"
     ]
    }
   ],
   "source": [
    "date =pd.date_range(start='2023-01-01',end='2023-01-05')\n",
    "\n",
    "df11 =pd.DataFrame({\"Date\":date})\n",
    "                \n",
    "def add_weekday_column(df11):\n",
    "     \n",
    "    df11['day'] =df11['Date'].dt.day\n",
    "    \n",
    "    df11['month'] =df11['Date'].dt.month\n",
    "    # create new column 'Weekday' with weekday name\n",
    "    df11['Weekday'] = df11['Date'].dt.day_name()\n",
    "    \n",
    "    return df11\n",
    "new_df = add_weekday_column(df11)\n",
    "print(new_df)\n",
    "\n",
    "                   "
   ]
  },
  {
   "cell_type": "code",
   "execution_count": null,
   "id": "f451ec60-88aa-46b7-8fc7-523e6845c7b7",
   "metadata": {},
   "outputs": [],
   "source": []
  },
  {
   "cell_type": "markdown",
   "id": "1efbdb8f-a6ce-405a-8dae-f83bf9a0f6b9",
   "metadata": {},
   "source": [
    "# Q12. Given a Pandas DataFrame df with a column 'Date' that contains timestamps, write a Python function to select all rows where the date is between '2023-01-01' and '2023-01-31'.\n"
   ]
  },
  {
   "cell_type": "code",
   "execution_count": null,
   "id": "bfdd479b-e4fa-4d5d-955d-7a376c32e124",
   "metadata": {},
   "outputs": [],
   "source": []
  },
  {
   "cell_type": "code",
   "execution_count": 126,
   "id": "d4df2453-ddbf-463d-ab6e-0bb2863e5f52",
   "metadata": {},
   "outputs": [
    {
     "data": {
      "text/plain": [
       "DatetimeIndex(['2023-01-01', '2023-01-02', '2023-01-03', '2023-01-04',\n",
       "               '2023-01-05', '2023-01-06', '2023-01-07', '2023-01-08',\n",
       "               '2023-01-09', '2023-01-10', '2023-01-11', '2023-01-12',\n",
       "               '2023-01-13', '2023-01-14', '2023-01-15', '2023-01-16',\n",
       "               '2023-01-17', '2023-01-18', '2023-01-19', '2023-01-20',\n",
       "               '2023-01-21', '2023-01-22', '2023-01-23', '2023-01-24',\n",
       "               '2023-01-25', '2023-01-26', '2023-01-27', '2023-01-28',\n",
       "               '2023-01-29', '2023-01-30', '2023-01-31', '2023-02-01',\n",
       "               '2023-02-02', '2023-02-03', '2023-02-04', '2023-02-05',\n",
       "               '2023-02-06', '2023-02-07', '2023-02-08', '2023-02-09',\n",
       "               '2023-02-10', '2023-02-11', '2023-02-12', '2023-02-13',\n",
       "               '2023-02-14', '2023-02-15', '2023-02-16', '2023-02-17',\n",
       "               '2023-02-18', '2023-02-19', '2023-02-20', '2023-02-21',\n",
       "               '2023-02-22', '2023-02-23', '2023-02-24', '2023-02-25',\n",
       "               '2023-02-26', '2023-02-27', '2023-02-28', '2023-03-01'],\n",
       "              dtype='datetime64[ns]', freq='D')"
      ]
     },
     "execution_count": 126,
     "metadata": {},
     "output_type": "execute_result"
    }
   ],
   "source": [
    "date12 =pd.date_range(start=\"2023-01-01\",end=\"2023-03-01\")\n",
    "date12"
   ]
  },
  {
   "cell_type": "code",
   "execution_count": 147,
   "id": "caeafafa-40e2-4411-ba7b-209a894ebcae",
   "metadata": {},
   "outputs": [
    {
     "data": {
      "text/html": [
       "<div>\n",
       "<style scoped>\n",
       "    .dataframe tbody tr th:only-of-type {\n",
       "        vertical-align: middle;\n",
       "    }\n",
       "\n",
       "    .dataframe tbody tr th {\n",
       "        vertical-align: top;\n",
       "    }\n",
       "\n",
       "    .dataframe thead th {\n",
       "        text-align: right;\n",
       "    }\n",
       "</style>\n",
       "<table border=\"1\" class=\"dataframe\">\n",
       "  <thead>\n",
       "    <tr style=\"text-align: right;\">\n",
       "      <th></th>\n",
       "      <th>Date</th>\n",
       "      <th>datetime_format</th>\n",
       "    </tr>\n",
       "  </thead>\n",
       "  <tbody>\n",
       "    <tr>\n",
       "      <th>0</th>\n",
       "      <td>2023-01-01</td>\n",
       "      <td>2023-01-01</td>\n",
       "    </tr>\n",
       "    <tr>\n",
       "      <th>1</th>\n",
       "      <td>2023-01-02</td>\n",
       "      <td>2023-01-02</td>\n",
       "    </tr>\n",
       "    <tr>\n",
       "      <th>2</th>\n",
       "      <td>2023-01-03</td>\n",
       "      <td>2023-01-03</td>\n",
       "    </tr>\n",
       "    <tr>\n",
       "      <th>3</th>\n",
       "      <td>2023-01-04</td>\n",
       "      <td>2023-01-04</td>\n",
       "    </tr>\n",
       "    <tr>\n",
       "      <th>4</th>\n",
       "      <td>2023-01-05</td>\n",
       "      <td>2023-01-05</td>\n",
       "    </tr>\n",
       "    <tr>\n",
       "      <th>5</th>\n",
       "      <td>2023-01-06</td>\n",
       "      <td>2023-01-06</td>\n",
       "    </tr>\n",
       "    <tr>\n",
       "      <th>6</th>\n",
       "      <td>2023-01-07</td>\n",
       "      <td>2023-01-07</td>\n",
       "    </tr>\n",
       "    <tr>\n",
       "      <th>7</th>\n",
       "      <td>2023-01-08</td>\n",
       "      <td>2023-01-08</td>\n",
       "    </tr>\n",
       "    <tr>\n",
       "      <th>8</th>\n",
       "      <td>2023-01-09</td>\n",
       "      <td>2023-01-09</td>\n",
       "    </tr>\n",
       "    <tr>\n",
       "      <th>9</th>\n",
       "      <td>2023-01-10</td>\n",
       "      <td>2023-01-10</td>\n",
       "    </tr>\n",
       "    <tr>\n",
       "      <th>10</th>\n",
       "      <td>2023-01-11</td>\n",
       "      <td>2023-01-11</td>\n",
       "    </tr>\n",
       "    <tr>\n",
       "      <th>11</th>\n",
       "      <td>2023-01-12</td>\n",
       "      <td>2023-01-12</td>\n",
       "    </tr>\n",
       "    <tr>\n",
       "      <th>12</th>\n",
       "      <td>2023-01-13</td>\n",
       "      <td>2023-01-13</td>\n",
       "    </tr>\n",
       "    <tr>\n",
       "      <th>13</th>\n",
       "      <td>2023-01-14</td>\n",
       "      <td>2023-01-14</td>\n",
       "    </tr>\n",
       "    <tr>\n",
       "      <th>14</th>\n",
       "      <td>2023-01-15</td>\n",
       "      <td>2023-01-15</td>\n",
       "    </tr>\n",
       "    <tr>\n",
       "      <th>15</th>\n",
       "      <td>2023-01-16</td>\n",
       "      <td>2023-01-16</td>\n",
       "    </tr>\n",
       "    <tr>\n",
       "      <th>16</th>\n",
       "      <td>2023-01-17</td>\n",
       "      <td>2023-01-17</td>\n",
       "    </tr>\n",
       "    <tr>\n",
       "      <th>17</th>\n",
       "      <td>2023-01-18</td>\n",
       "      <td>2023-01-18</td>\n",
       "    </tr>\n",
       "    <tr>\n",
       "      <th>18</th>\n",
       "      <td>2023-01-19</td>\n",
       "      <td>2023-01-19</td>\n",
       "    </tr>\n",
       "    <tr>\n",
       "      <th>19</th>\n",
       "      <td>2023-01-20</td>\n",
       "      <td>2023-01-20</td>\n",
       "    </tr>\n",
       "    <tr>\n",
       "      <th>20</th>\n",
       "      <td>2023-01-21</td>\n",
       "      <td>2023-01-21</td>\n",
       "    </tr>\n",
       "    <tr>\n",
       "      <th>21</th>\n",
       "      <td>2023-01-22</td>\n",
       "      <td>2023-01-22</td>\n",
       "    </tr>\n",
       "    <tr>\n",
       "      <th>22</th>\n",
       "      <td>2023-01-23</td>\n",
       "      <td>2023-01-23</td>\n",
       "    </tr>\n",
       "    <tr>\n",
       "      <th>23</th>\n",
       "      <td>2023-01-24</td>\n",
       "      <td>2023-01-24</td>\n",
       "    </tr>\n",
       "    <tr>\n",
       "      <th>24</th>\n",
       "      <td>2023-01-25</td>\n",
       "      <td>2023-01-25</td>\n",
       "    </tr>\n",
       "    <tr>\n",
       "      <th>25</th>\n",
       "      <td>2023-01-26</td>\n",
       "      <td>2023-01-26</td>\n",
       "    </tr>\n",
       "    <tr>\n",
       "      <th>26</th>\n",
       "      <td>2023-01-27</td>\n",
       "      <td>2023-01-27</td>\n",
       "    </tr>\n",
       "    <tr>\n",
       "      <th>27</th>\n",
       "      <td>2023-01-28</td>\n",
       "      <td>2023-01-28</td>\n",
       "    </tr>\n",
       "    <tr>\n",
       "      <th>28</th>\n",
       "      <td>2023-01-29</td>\n",
       "      <td>2023-01-29</td>\n",
       "    </tr>\n",
       "    <tr>\n",
       "      <th>29</th>\n",
       "      <td>2023-01-30</td>\n",
       "      <td>2023-01-30</td>\n",
       "    </tr>\n",
       "    <tr>\n",
       "      <th>30</th>\n",
       "      <td>2023-01-31</td>\n",
       "      <td>2023-01-31</td>\n",
       "    </tr>\n",
       "  </tbody>\n",
       "</table>\n",
       "</div>"
      ],
      "text/plain": [
       "         Date datetime_format\n",
       "0  2023-01-01      2023-01-01\n",
       "1  2023-01-02      2023-01-02\n",
       "2  2023-01-03      2023-01-03\n",
       "3  2023-01-04      2023-01-04\n",
       "4  2023-01-05      2023-01-05\n",
       "5  2023-01-06      2023-01-06\n",
       "6  2023-01-07      2023-01-07\n",
       "7  2023-01-08      2023-01-08\n",
       "8  2023-01-09      2023-01-09\n",
       "9  2023-01-10      2023-01-10\n",
       "10 2023-01-11      2023-01-11\n",
       "11 2023-01-12      2023-01-12\n",
       "12 2023-01-13      2023-01-13\n",
       "13 2023-01-14      2023-01-14\n",
       "14 2023-01-15      2023-01-15\n",
       "15 2023-01-16      2023-01-16\n",
       "16 2023-01-17      2023-01-17\n",
       "17 2023-01-18      2023-01-18\n",
       "18 2023-01-19      2023-01-19\n",
       "19 2023-01-20      2023-01-20\n",
       "20 2023-01-21      2023-01-21\n",
       "21 2023-01-22      2023-01-22\n",
       "22 2023-01-23      2023-01-23\n",
       "23 2023-01-24      2023-01-24\n",
       "24 2023-01-25      2023-01-25\n",
       "25 2023-01-26      2023-01-26\n",
       "26 2023-01-27      2023-01-27\n",
       "27 2023-01-28      2023-01-28\n",
       "28 2023-01-29      2023-01-29\n",
       "29 2023-01-30      2023-01-30\n",
       "30 2023-01-31      2023-01-31"
      ]
     },
     "execution_count": 147,
     "metadata": {},
     "output_type": "execute_result"
    }
   ],
   "source": [
    "df12 =pd.DataFrame({\"Date\":date12})\n",
    "\n",
    "\n",
    "def specified_range(df12):\n",
    "    df12['datetime_format']=pd.to_datetime(df12['Date'])\n",
    "    df_req =(df12['datetime_format']>='2023-01-01') & (df12['datetime_format']<='2023-01-31')\n",
    "    df1 =df12.loc[df_req]\n",
    "    return df1\n",
    "w =specified_range(df12)\n",
    "w"
   ]
  },
  {
   "cell_type": "markdown",
   "id": "b2901f62-142b-41c0-a463-5cd7da7b9f8c",
   "metadata": {},
   "source": [
    "\n",
    "# Q13. To use the basic functions of pandas, what is the first and foremost necessary library that needs to be imported?"
   ]
  },
  {
   "cell_type": "code",
   "execution_count": null,
   "id": "92f48ad7-1be7-4fc6-841b-b85046027b08",
   "metadata": {},
   "outputs": [],
   "source": []
  },
  {
   "cell_type": "markdown",
   "id": "e5a5c70b-2d0c-4c06-bd19-e0a4931b4d7d",
   "metadata": {},
   "source": [
    "As Pandas is dependent on the NumPy library, we need to import this dependency,which is numpy."
   ]
  },
  {
   "cell_type": "code",
   "execution_count": null,
   "id": "f2651b1a-4b3c-47e7-95d1-f758592019ef",
   "metadata": {},
   "outputs": [],
   "source": []
  },
  {
   "cell_type": "code",
   "execution_count": null,
   "id": "269f36a2-edd4-4b6a-a51f-9c0eeaf41c9d",
   "metadata": {},
   "outputs": [],
   "source": []
  },
  {
   "cell_type": "code",
   "execution_count": null,
   "id": "d28c967b-abe5-4ead-b475-e2d210adb399",
   "metadata": {},
   "outputs": [],
   "source": []
  }
 ],
 "metadata": {
  "kernelspec": {
   "display_name": "Python 3 (ipykernel)",
   "language": "python",
   "name": "python3"
  },
  "language_info": {
   "codemirror_mode": {
    "name": "ipython",
    "version": 3
   },
   "file_extension": ".py",
   "mimetype": "text/x-python",
   "name": "python",
   "nbconvert_exporter": "python",
   "pygments_lexer": "ipython3",
   "version": "3.10.8"
  }
 },
 "nbformat": 4,
 "nbformat_minor": 5
}
