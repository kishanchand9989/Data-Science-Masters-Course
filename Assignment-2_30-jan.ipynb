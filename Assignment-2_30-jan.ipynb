{
 "cells": [
  {
   "cell_type": "markdown",
   "id": "42cb58e3-7aac-4fa6-a9e4-1de63d20a27b",
   "metadata": {},
   "source": [
    "       Kishan                                      Assignment-2                                   30-1-23"
   ]
  },
  {
   "cell_type": "markdown",
   "id": "674fd4b3-dcd3-4d33-95d2-94e635107682",
   "metadata": {},
   "source": [
    " **1.Write a program to accept percentage from the user and display the grade according to following Criteria**"
   ]
  },
  {
   "cell_type": "code",
   "execution_count": 8,
   "id": "50f51518-dfe6-4b3b-99c4-f2c5a05e06d5",
   "metadata": {},
   "outputs": [
    {
     "name": "stdin",
     "output_type": "stream",
     "text": [
      "Enter the grade 91\n"
     ]
    },
    {
     "name": "stdout",
     "output_type": "stream",
     "text": [
      "Grade A\n"
     ]
    }
   ],
   "source": [
    "n =float(input(\"Enter the grade\"))\n",
    "\n",
    "if (n>90.0):\n",
    "         print(\"Grade A\")\n",
    "elif(80 < n <=90):\n",
    "         print(\"Grade B\")\n",
    "elif(60 < n <=80):\n",
    "         print(\"Grade C\")\n",
    "else:\n",
    "         print(\"Grade D\")\n",
    "         "
   ]
  },
  {
   "cell_type": "markdown",
   "id": "c7ad1317-0081-4d29-a373-df83821f3eee",
   "metadata": {},
   "source": []
  },
  {
   "cell_type": "markdown",
   "id": "28e8547c-1b0c-4890-8087-e4dd068bc93e",
   "metadata": {},
   "source": [
    "**2. Write a Program to accept the cost price of a bike and display the road tax to be paid according to the following criteria**"
   ]
  },
  {
   "cell_type": "code",
   "execution_count": 11,
   "id": "0d35aeaf-4dd2-40e9-a734-aade78e216d0",
   "metadata": {},
   "outputs": [
    {
     "name": "stdin",
     "output_type": "stream",
     "text": [
      " Cost Price of a Bike 120000\n"
     ]
    },
    {
     "name": "stdout",
     "output_type": "stream",
     "text": [
      "Road tax to pay is 15% 18000.0\n"
     ]
    }
   ],
   "source": [
    "cost_price = int(input(\" Cost Price of a Bike\"))\n",
    "if cost_price > 100000:\n",
    "    print(f\"Road tax to pay is 15% {cost_price*0.15}\")\n",
    "elif (50000< cost_price <= 100000):\n",
    "    print(f\"Road tax to pay is 10% {cost_price*0.1}\")\n",
    "else:\n",
    "    print(f\"Road tax to pay is 5% {cost_price *0.05}\")"
   ]
  },
  {
   "cell_type": "markdown",
   "id": "b8f26d22-2738-415d-bcfd-db56d6836145",
   "metadata": {},
   "source": []
  },
  {
   "cell_type": "markdown",
   "id": "b00e2684-9734-4024-82c5-8c3a14add72e",
   "metadata": {},
   "source": [
    "**3. Accept any city from the user and display monuments of that city**"
   ]
  },
  {
   "cell_type": "code",
   "execution_count": 12,
   "id": "4d51cbc5-d002-41d1-9aa8-8bd822c1c97e",
   "metadata": {},
   "outputs": [
    {
     "name": "stdin",
     "output_type": "stream",
     "text": [
      " Bangalore\n"
     ]
    },
    {
     "name": "stdout",
     "output_type": "stream",
     "text": [
      "Enter your city Properly\n"
     ]
    }
   ],
   "source": [
    "a =input()\n",
    "if a==\"Delhi\":\n",
    "    print(\"Red Fort\")\n",
    "elif a==\"Agra\":\n",
    "    print(\"Taj Mahal\")\n",
    "elif a==\"Jaipur\":\n",
    "    print(\"Jal Mahal\")\n",
    "else:\n",
    "    print(\"Enter your city Properly\")"
   ]
  },
  {
   "cell_type": "markdown",
   "id": "381fd20e-8502-4f0c-ae66-80cc96898277",
   "metadata": {},
   "source": []
  },
  {
   "cell_type": "markdown",
   "id": "a6f434ce-333e-4839-9cc9-0ad893ccc57d",
   "metadata": {},
   "source": [
    "**4. Check how many times a given number can be divisible by 3 before it is less than or equal to 10**"
   ]
  },
  {
   "cell_type": "code",
   "execution_count": 20,
   "id": "54024f8b-9bb3-4ccd-b4bd-8d6e527c7fb7",
   "metadata": {},
   "outputs": [
    {
     "name": "stdin",
     "output_type": "stream",
     "text": [
      "Enter a number:  112\n"
     ]
    },
    {
     "name": "stdout",
     "output_type": "stream",
     "text": [
      "3 times before it becomes less than or equal to 10\n"
     ]
    }
   ],
   "source": [
    "num = int(input(\"Enter a number: \"))\n",
    "\n",
    "count = 0\n",
    "while num > 10:\n",
    "    num /= 3\n",
    "    count += 1\n",
    "\n",
    "print(count, \"times before it becomes less than or equal to 10\")\n"
   ]
  },
  {
   "cell_type": "markdown",
   "id": "d50cfe27-5947-44b3-8eaa-5ae99228bef9",
   "metadata": {},
   "source": []
  },
  {
   "cell_type": "markdown",
   "id": "3124d80e-3cd2-4b3f-9892-f229738c192a",
   "metadata": {},
   "source": [
    "**5. Why and when to use While loop in python give a detailed description with Example**"
   ]
  },
  {
   "cell_type": "markdown",
   "id": "85c558c7-656d-400a-bef3-23a176367372",
   "metadata": {},
   "source": [
    "Basically,While loop is used when we know the condition ,but we don't know how many times we need to execute the loop to reach that condition. In those Scenario's we mostly prefer to use While loop to execute.\n",
    "\n",
    "Example:-\n",
    "\n",
    "Suppose if we want to read a file until the end of file is reached, but we don't know in which line it will end\n",
    "So In this kind of scenarios we can use a while loop."
   ]
  },
  {
   "cell_type": "markdown",
   "id": "cbf48959-3901-4c19-a637-1a7df10c4a7d",
   "metadata": {},
   "source": []
  },
  {
   "cell_type": "markdown",
   "id": "6d25089a-d73f-47ae-95c5-dc4bbc88d9a6",
   "metadata": {},
   "source": [
    "**6. Use Nested While loop to print Three Different Patterns**"
   ]
  },
  {
   "cell_type": "code",
   "execution_count": 9,
   "id": "8f3cade5-cbcf-40f2-afdf-4104064844ba",
   "metadata": {},
   "outputs": [
    {
     "name": "stdin",
     "output_type": "stream",
     "text": [
      "enter no of rows to print the Pattern 3\n",
      "enter no of clumns to print the column 3\n"
     ]
    },
    {
     "name": "stdout",
     "output_type": "stream",
     "text": [
      "***\n",
      "***\n",
      "***\n"
     ]
    }
   ],
   "source": [
    "r =int(input(\"enter no of rows to print the Pattern\"))\n",
    "c =int(input(\"enter no of clumns to print the column\"))\n",
    "i=1\n",
    "j=1\n",
    "while i<=r:\n",
    "    while j<=c:\n",
    "        print(\"*\",end=\"\")\n",
    "        j=j+1\n",
    "    \n",
    "    i=i+1\n",
    "    j=1\n",
    "    print(\"\\r\")\n",
    "    "
   ]
  },
  {
   "cell_type": "code",
   "execution_count": 14,
   "id": "63b5adb5-865e-4678-8333-883ead49d737",
   "metadata": {},
   "outputs": [
    {
     "name": "stdin",
     "output_type": "stream",
     "text": [
      "enter no of rows to print the Pattern 5\n"
     ]
    },
    {
     "name": "stdout",
     "output_type": "stream",
     "text": [
      "*\n",
      "**\n",
      "***\n",
      "****\n",
      "*****\n"
     ]
    }
   ],
   "source": [
    "r =int(input(\"enter no of rows to print the Pattern\"))\n",
    "#c =int(input(\"enter no of columns to print the column\"))\n",
    "i=1\n",
    "j=1\n",
    "while i<=r:\n",
    "    while j<=i:\n",
    "        print(\"*\",end=\"\")\n",
    "        j=j+1\n",
    "    i=i+1\n",
    "    j=1\n",
    "    print(\"\\r\")"
   ]
  },
  {
   "cell_type": "code",
   "execution_count": 13,
   "id": "af464385-866a-42be-8c4c-60fefbfd242e",
   "metadata": {},
   "outputs": [
    {
     "name": "stdin",
     "output_type": "stream",
     "text": [
      "enter no of Rows 5\n"
     ]
    },
    {
     "name": "stdout",
     "output_type": "stream",
     "text": [
      "*****\n",
      "****\n",
      "***\n",
      "**\n",
      "*\n"
     ]
    }
   ],
   "source": [
    "r =int(input(\"enter no of Rows\"))\n",
    "i=r\n",
    "j=1\n",
    "while i>0:\n",
    "    while j<=i:\n",
    "        print(\"*\",end=\"\")\n",
    "        j=j+1\n",
    "    i=i-1\n",
    "    j=1\n",
    "    print(\"\\r\")"
   ]
  },
  {
   "cell_type": "code",
   "execution_count": 3,
   "id": "c59f9c27-96b5-4bd2-9d95-aa2fd9aff419",
   "metadata": {},
   "outputs": [
    {
     "name": "stdin",
     "output_type": "stream",
     "text": [
      "enter no of rows to print the Pattern 5\n",
      "enter no of columns to print the column 7\n"
     ]
    },
    {
     "name": "stdout",
     "output_type": "stream",
     "text": [
      "           * \n",
      "          * * \n",
      "         * * * \n",
      "        * * * * \n"
     ]
    }
   ],
   "source": [
    "r =int(input(\"enter no of rows to print the Pattern\"))\n",
    "c =int(input(\"enter no of columns to print the column\"))\n",
    "i=1\n",
    "j=1\n",
    "k=1\n",
    "z =(c*2)-2\n",
    "while i<r:\n",
    "    while j<z:\n",
    "        print(end=\" \")\n",
    "        j=j+1\n",
    "    j=1\n",
    "    z=z-1\n",
    "    i=i+1\n",
    "    while k<=i-1:\n",
    "        print(\"*\",end=\" \")\n",
    "        k=k+1\n",
    "    k=1\n",
    "    print(\"\\r\")\n",
    "\n"
   ]
  },
  {
   "cell_type": "markdown",
   "id": "79f79fe0-2d08-4e35-836f-ebae8337ec9d",
   "metadata": {},
   "source": [
    "**7. Reverse a while loop to display number 1 to 10**"
   ]
  },
  {
   "cell_type": "code",
   "execution_count": 21,
   "id": "811d4b67-a03f-4eae-b993-32e18946cd59",
   "metadata": {},
   "outputs": [
    {
     "name": "stdin",
     "output_type": "stream",
     "text": [
      "enter a number 10\n"
     ]
    },
    {
     "name": "stdout",
     "output_type": "stream",
     "text": [
      "10\n",
      "9\n",
      "8\n",
      "7\n",
      "6\n",
      "5\n",
      "4\n",
      "3\n",
      "2\n",
      "1\n"
     ]
    }
   ],
   "source": [
    "n =int(input(\"enter a number\"))\n",
    "while n>0:\n",
    "    print(n)\n",
    "    n=n-1"
   ]
  },
  {
   "cell_type": "markdown",
   "id": "f38d3f94-fb7a-4d81-b2b8-d73f6ce3fe5f",
   "metadata": {},
   "source": [
    "**8. Reverse a while loop to display number 1 to 10**"
   ]
  },
  {
   "cell_type": "code",
   "execution_count": 22,
   "id": "5f85c9b6-1210-4802-8702-f88219cb59a6",
   "metadata": {},
   "outputs": [
    {
     "name": "stdin",
     "output_type": "stream",
     "text": [
      "enter a number 20\n"
     ]
    },
    {
     "name": "stdout",
     "output_type": "stream",
     "text": [
      "20\n",
      "19\n",
      "18\n",
      "17\n",
      "16\n",
      "15\n",
      "14\n",
      "13\n",
      "12\n",
      "11\n",
      "10\n",
      "9\n",
      "8\n",
      "7\n",
      "6\n",
      "5\n",
      "4\n",
      "3\n",
      "2\n",
      "1\n"
     ]
    }
   ],
   "source": [
    "n =int(input(\"enter a number\"))\n",
    "while n>0:\n",
    "    print(n)\n",
    "    n=n-1"
   ]
  },
  {
   "cell_type": "code",
   "execution_count": null,
   "id": "0f2c6cff-b8c9-4871-8e44-1a797c278975",
   "metadata": {},
   "outputs": [],
   "source": []
  }
 ],
 "metadata": {
  "kernelspec": {
   "display_name": "Python 3 (ipykernel)",
   "language": "python",
   "name": "python3"
  },
  "language_info": {
   "codemirror_mode": {
    "name": "ipython",
    "version": 3
   },
   "file_extension": ".py",
   "mimetype": "text/x-python",
   "name": "python",
   "nbconvert_exporter": "python",
   "pygments_lexer": "ipython3",
   "version": "3.10.8"
  }
 },
 "nbformat": 4,
 "nbformat_minor": 5
}
