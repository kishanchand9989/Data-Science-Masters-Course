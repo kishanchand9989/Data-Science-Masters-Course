{
 "cells": [
  {
   "cell_type": "code",
   "execution_count": null,
   "id": "edd31836-afc3-4ddd-9a1e-4f4c2a15d75d",
   "metadata": {},
   "outputs": [],
   "source": [
    "# Kishan Chand                          Assignment                        Feb23-23"
   ]
  },
  {
   "cell_type": "markdown",
   "id": "92a2fadf-d9a0-44c6-a775-c51e25487a48",
   "metadata": {},
   "source": [
    "## Q1. Create a Pandas Series that contains the following data: 4, 8, 15, 16, 23, and 42. Then, print the series."
   ]
  },
  {
   "cell_type": "code",
   "execution_count": 20,
   "id": "4783b74e-ced2-4b19-94db-96d5cadadfe3",
   "metadata": {},
   "outputs": [],
   "source": [
    "import pandas as pd\n",
    "a =pd.Series([\"4\",\"8\",\"15\",\"16\",\"23\",\"42\"])"
   ]
  },
  {
   "cell_type": "code",
   "execution_count": 21,
   "id": "cf1187af-10a7-4be9-b39b-c3f5de37ac57",
   "metadata": {},
   "outputs": [
    {
     "data": {
      "text/plain": [
       "0     4\n",
       "1     8\n",
       "2    15\n",
       "3    16\n",
       "4    23\n",
       "5    42\n",
       "dtype: object"
      ]
     },
     "execution_count": 21,
     "metadata": {},
     "output_type": "execute_result"
    }
   ],
   "source": [
    "a"
   ]
  },
  {
   "cell_type": "code",
   "execution_count": 22,
   "id": "8555cd9f-1b12-4f0f-b3a1-bc4e7150eba5",
   "metadata": {},
   "outputs": [
    {
     "data": {
      "text/plain": [
       "pandas.core.series.Series"
      ]
     },
     "execution_count": 22,
     "metadata": {},
     "output_type": "execute_result"
    }
   ],
   "source": [
    "type(a)"
   ]
  },
  {
   "cell_type": "code",
   "execution_count": null,
   "id": "c766ff81-deed-47c9-9894-9018afacdf51",
   "metadata": {},
   "outputs": [],
   "source": []
  },
  {
   "cell_type": "markdown",
   "id": "5b5d71db-36b3-4d97-b000-533a8fe9e588",
   "metadata": {},
   "source": [
    "## Q2. Create a variable of list type containing 10 elements in it, and apply pandas.Series function on the variable print it."
   ]
  },
  {
   "cell_type": "code",
   "execution_count": 23,
   "id": "5bfbc74a-0604-4985-9980-533c652a5924",
   "metadata": {},
   "outputs": [],
   "source": [
    "l =[100,200,300,400,500,600,111,222,333,444,555]\n",
    "y =pd.Series(l)"
   ]
  },
  {
   "cell_type": "code",
   "execution_count": 24,
   "id": "97a1cff5-8119-4abc-8782-fe70ccded37c",
   "metadata": {},
   "outputs": [
    {
     "data": {
      "text/plain": [
       "0     100\n",
       "1     200\n",
       "2     300\n",
       "3     400\n",
       "4     500\n",
       "5     600\n",
       "6     111\n",
       "7     222\n",
       "8     333\n",
       "9     444\n",
       "10    555\n",
       "dtype: int64"
      ]
     },
     "execution_count": 24,
     "metadata": {},
     "output_type": "execute_result"
    }
   ],
   "source": [
    "y"
   ]
  },
  {
   "cell_type": "code",
   "execution_count": null,
   "id": "2ac22195-a279-4296-ba9e-bf763abd1ba2",
   "metadata": {},
   "outputs": [],
   "source": []
  },
  {
   "cell_type": "markdown",
   "id": "7f644420-2ba6-49fe-a451-be68ba102345",
   "metadata": {},
   "source": [
    "## Q3. Create a Pandas DataFrame that contains the following data: Then, print the DataFrame."
   ]
  },
  {
   "cell_type": "code",
   "execution_count": 15,
   "id": "d052e712-c44b-48ce-bc1d-23ad72c5883b",
   "metadata": {},
   "outputs": [],
   "source": [
    "import pandas as pd\n",
    "df =pd.DataFrame({'Name':[\"Alice\",\"Bob\",\"Claire\"],'Age':[25,30,27],'Gender':[\"Female\",\"Male\",\"Female\"]})"
   ]
  },
  {
   "cell_type": "code",
   "execution_count": 16,
   "id": "10f2207e-8b92-4ba8-a658-9f38247d0d08",
   "metadata": {},
   "outputs": [
    {
     "data": {
      "text/html": [
       "<div>\n",
       "<style scoped>\n",
       "    .dataframe tbody tr th:only-of-type {\n",
       "        vertical-align: middle;\n",
       "    }\n",
       "\n",
       "    .dataframe tbody tr th {\n",
       "        vertical-align: top;\n",
       "    }\n",
       "\n",
       "    .dataframe thead th {\n",
       "        text-align: right;\n",
       "    }\n",
       "</style>\n",
       "<table border=\"1\" class=\"dataframe\">\n",
       "  <thead>\n",
       "    <tr style=\"text-align: right;\">\n",
       "      <th></th>\n",
       "      <th>Name</th>\n",
       "      <th>Age</th>\n",
       "      <th>Gender</th>\n",
       "    </tr>\n",
       "  </thead>\n",
       "  <tbody>\n",
       "    <tr>\n",
       "      <th>0</th>\n",
       "      <td>Alice</td>\n",
       "      <td>25</td>\n",
       "      <td>Female</td>\n",
       "    </tr>\n",
       "    <tr>\n",
       "      <th>1</th>\n",
       "      <td>Bob</td>\n",
       "      <td>30</td>\n",
       "      <td>Male</td>\n",
       "    </tr>\n",
       "    <tr>\n",
       "      <th>2</th>\n",
       "      <td>Claire</td>\n",
       "      <td>27</td>\n",
       "      <td>Female</td>\n",
       "    </tr>\n",
       "  </tbody>\n",
       "</table>\n",
       "</div>"
      ],
      "text/plain": [
       "     Name  Age  Gender\n",
       "0   Alice   25  Female\n",
       "1     Bob   30    Male\n",
       "2  Claire   27  Female"
      ]
     },
     "execution_count": 16,
     "metadata": {},
     "output_type": "execute_result"
    }
   ],
   "source": [
    "df"
   ]
  },
  {
   "cell_type": "code",
   "execution_count": null,
   "id": "f56d3e31-c226-4d0d-aad9-0406c7e7ec5b",
   "metadata": {},
   "outputs": [],
   "source": []
  },
  {
   "cell_type": "markdown",
   "id": "70efeed6-52f9-4571-9670-9d7ddc28efb6",
   "metadata": {},
   "source": [
    "## Q4. What is ‘DataFrame’ in pandas and how is it different from pandas.series? Explain with an example."
   ]
  },
  {
   "cell_type": "markdown",
   "id": "811c1291-7536-4921-b1c0-37dcc508b844",
   "metadata": {},
   "source": [
    "In Pandas, a DataFrame is a two-dimensional labeled data structure with columns of potentially different types.  \n",
    "\n",
    "A Pandas Series, on the other hand, is a one-dimensional labeled array capable of holding data of any type (integer, string, float, etc.). It can be thought of as a single column of a DataFrame.\n",
    "\n",
    "Basically, \n",
    "Each column in a DataFrame is a Pandas Series, so a DataFrame is essentially a collection of Pandas Series that share the same index.\n"
   ]
  },
  {
   "cell_type": "code",
   "execution_count": 49,
   "id": "3c6cd145-d71f-4f28-80c4-8b6a10063482",
   "metadata": {},
   "outputs": [
    {
     "data": {
      "text/html": [
       "<div>\n",
       "<style scoped>\n",
       "    .dataframe tbody tr th:only-of-type {\n",
       "        vertical-align: middle;\n",
       "    }\n",
       "\n",
       "    .dataframe tbody tr th {\n",
       "        vertical-align: top;\n",
       "    }\n",
       "\n",
       "    .dataframe thead th {\n",
       "        text-align: right;\n",
       "    }\n",
       "</style>\n",
       "<table border=\"1\" class=\"dataframe\">\n",
       "  <thead>\n",
       "    <tr style=\"text-align: right;\">\n",
       "      <th></th>\n",
       "      <th>Name</th>\n",
       "      <th>Age</th>\n",
       "      <th>Gender</th>\n",
       "    </tr>\n",
       "  </thead>\n",
       "  <tbody>\n",
       "    <tr>\n",
       "      <th>0</th>\n",
       "      <td>Alice</td>\n",
       "      <td>25</td>\n",
       "      <td>Female</td>\n",
       "    </tr>\n",
       "    <tr>\n",
       "      <th>1</th>\n",
       "      <td>Bob</td>\n",
       "      <td>30</td>\n",
       "      <td>Male</td>\n",
       "    </tr>\n",
       "    <tr>\n",
       "      <th>2</th>\n",
       "      <td>Claire</td>\n",
       "      <td>27</td>\n",
       "      <td>Female</td>\n",
       "    </tr>\n",
       "  </tbody>\n",
       "</table>\n",
       "</div>"
      ],
      "text/plain": [
       "     Name  Age  Gender\n",
       "0   Alice   25  Female\n",
       "1     Bob   30    Male\n",
       "2  Claire   27  Female"
      ]
     },
     "execution_count": 49,
     "metadata": {},
     "output_type": "execute_result"
    }
   ],
   "source": [
    "df\n"
   ]
  },
  {
   "cell_type": "markdown",
   "id": "992791f9-b603-40d6-a831-5f3091369950",
   "metadata": {},
   "source": [
    "# As you can see from the output, the DataFrame displays all the columns and rows of data in a table-like format, by the collection of all different attributes with the Same Index"
   ]
  },
  {
   "cell_type": "code",
   "execution_count": 35,
   "id": "f8837ced-be58-48c2-90c1-da211e22eeca",
   "metadata": {},
   "outputs": [
    {
     "data": {
      "text/plain": [
       "0    25\n",
       "1    30\n",
       "2    27\n",
       "Name: Age, dtype: int64"
      ]
     },
     "execution_count": 35,
     "metadata": {},
     "output_type": "execute_result"
    }
   ],
   "source": [
    "df['Age']\n"
   ]
  },
  {
   "cell_type": "markdown",
   "id": "69c4dc68-8525-4f66-b112-c8e9e2f7edce",
   "metadata": {},
   "source": [
    "# here the Series displays only the 'age' column of data with its corresponding index values, which implies the values are in Series "
   ]
  },
  {
   "cell_type": "code",
   "execution_count": null,
   "id": "a30d2678-cf08-4a44-8fd9-8fa67b097f5f",
   "metadata": {},
   "outputs": [],
   "source": []
  },
  {
   "cell_type": "markdown",
   "id": "ba436be3-63d7-4885-b200-44b2af426559",
   "metadata": {},
   "source": [
    "## Q5. What are some common functions you can use to manipulate data in a Pandas DataFrame? Can you give an example of when you might use one of these functions?"
   ]
  },
  {
   "cell_type": "markdown",
   "id": "87ee6198-f698-40b8-a0ff-3b89656c97ea",
   "metadata": {},
   "source": [
    "groupby(): This method groups the data in the DataFrame by one or more columns and applies a function to each group. It can be useful for aggregating data or calculating statistics for different groups in the data.\n",
    "\n",
    "dropna(): This method removes any rows from the DataFrame that contain  NaN (Not a Number) values. It can be useful for cleaning up the data and preparing it for analysis."
   ]
  },
  {
   "cell_type": "code",
   "execution_count": null,
   "id": "5e72fead-2657-4d05-b796-29efa836988e",
   "metadata": {},
   "outputs": [],
   "source": []
  },
  {
   "cell_type": "markdown",
   "id": "8d6ea3aa-31bc-43f0-b96d-0e2143d17b18",
   "metadata": {},
   "source": [
    "## Q6. Which of the following is mutable in nature Series, DataFrame, Panel?"
   ]
  },
  {
   "cell_type": "markdown",
   "id": "c9fd106b-f691-4684-9a77-05cea2adf085",
   "metadata": {},
   "source": [
    "Series and DataFrame are mutable in nature, while Panel is not mutable.\n",
    "\n",
    "\n",
    "Beacuse, Panel is a three-dimensional data structure that can hold multiple DataFrames. While individual DataFrames inside a Panel can be modified, the structure of the Panel itself cannot be changed after it has been created. Therefore, Panel is not mutable."
   ]
  },
  {
   "cell_type": "code",
   "execution_count": null,
   "id": "4e6d2bb7-383f-4920-8795-b6a1b7d4e8d4",
   "metadata": {},
   "outputs": [],
   "source": []
  },
  {
   "cell_type": "markdown",
   "id": "61c33ff2-0e8e-40c5-8ad7-930f98d130f4",
   "metadata": {},
   "source": [
    "## Q7. Create a DataFrame using multiple Series. Explain with an example."
   ]
  },
  {
   "cell_type": "code",
   "execution_count": 46,
   "id": "75f8571f-0daf-401c-b4a2-700455c396cd",
   "metadata": {},
   "outputs": [],
   "source": [
    "import pandas as pd\n",
    "name =pd.Series([\"xxx\",\"yyy\",\"zzz\"])\n",
    "roll =pd.Series([\"100\",\"200\",\"300\"])\n",
    "Grad =pd.Series([\"A\",\"B\",\"O\"])\n",
    "df1 =pd.DataFrame({\"Name\":name,\"Roll No\":roll,\"Grade\":Grad})\n"
   ]
  },
  {
   "cell_type": "code",
   "execution_count": 47,
   "id": "0a99458c-75f5-424c-898e-e136c39f76c4",
   "metadata": {},
   "outputs": [
    {
     "data": {
      "text/html": [
       "<div>\n",
       "<style scoped>\n",
       "    .dataframe tbody tr th:only-of-type {\n",
       "        vertical-align: middle;\n",
       "    }\n",
       "\n",
       "    .dataframe tbody tr th {\n",
       "        vertical-align: top;\n",
       "    }\n",
       "\n",
       "    .dataframe thead th {\n",
       "        text-align: right;\n",
       "    }\n",
       "</style>\n",
       "<table border=\"1\" class=\"dataframe\">\n",
       "  <thead>\n",
       "    <tr style=\"text-align: right;\">\n",
       "      <th></th>\n",
       "      <th>Name</th>\n",
       "      <th>Roll No</th>\n",
       "      <th>Grade</th>\n",
       "    </tr>\n",
       "  </thead>\n",
       "  <tbody>\n",
       "    <tr>\n",
       "      <th>0</th>\n",
       "      <td>xxx</td>\n",
       "      <td>100</td>\n",
       "      <td>A</td>\n",
       "    </tr>\n",
       "    <tr>\n",
       "      <th>1</th>\n",
       "      <td>yyy</td>\n",
       "      <td>200</td>\n",
       "      <td>B</td>\n",
       "    </tr>\n",
       "    <tr>\n",
       "      <th>2</th>\n",
       "      <td>zzz</td>\n",
       "      <td>300</td>\n",
       "      <td>O</td>\n",
       "    </tr>\n",
       "  </tbody>\n",
       "</table>\n",
       "</div>"
      ],
      "text/plain": [
       "  Name Roll No Grade\n",
       "0  xxx     100     A\n",
       "1  yyy     200     B\n",
       "2  zzz     300     O"
      ]
     },
     "execution_count": 47,
     "metadata": {},
     "output_type": "execute_result"
    }
   ],
   "source": [
    "df1"
   ]
  },
  {
   "cell_type": "code",
   "execution_count": 48,
   "id": "74bb44a7-d46d-4765-bbd5-f0fb4f49454e",
   "metadata": {},
   "outputs": [
    {
     "data": {
      "text/plain": [
       "pandas.core.frame.DataFrame"
      ]
     },
     "execution_count": 48,
     "metadata": {},
     "output_type": "execute_result"
    }
   ],
   "source": [
    "type(df1)"
   ]
  },
  {
   "cell_type": "code",
   "execution_count": null,
   "id": "2d121fde-8eeb-447b-9781-da26d2afa107",
   "metadata": {},
   "outputs": [],
   "source": []
  },
  {
   "cell_type": "code",
   "execution_count": null,
   "id": "c382d3c7-8315-4b01-9a9d-f6a030fb3183",
   "metadata": {},
   "outputs": [],
   "source": []
  }
 ],
 "metadata": {
  "kernelspec": {
   "display_name": "Python 3 (ipykernel)",
   "language": "python",
   "name": "python3"
  },
  "language_info": {
   "codemirror_mode": {
    "name": "ipython",
    "version": 3
   },
   "file_extension": ".py",
   "mimetype": "text/x-python",
   "name": "python",
   "nbconvert_exporter": "python",
   "pygments_lexer": "ipython3",
   "version": "3.10.8"
  }
 },
 "nbformat": 4,
 "nbformat_minor": 5
}
