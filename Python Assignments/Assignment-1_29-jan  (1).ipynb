{
 "cells": [
  {
   "cell_type": "markdown",
   "id": "3e1f5ff1-7ba2-456f-91df-9a15bbb3bfc5",
   "metadata": {},
   "source": [
    "     Kishan                                      ASSIGNMENT-1                         29-01-23   "
   ]
  },
  {
   "cell_type": "markdown",
   "id": "6df7b6ec-730c-4649-98cb-cfab51d662ba",
   "metadata": {},
   "source": [
    " 1. Who developed python programming Language ?"
   ]
  },
  {
   "cell_type": "markdown",
   "id": "d4203514-0e57-4d80-a790-fdc2859f6768",
   "metadata": {},
   "source": [
    "Guido van Rossum "
   ]
  },
  {
   "cell_type": "markdown",
   "id": "308810db-a51c-40e4-b823-c56fed0f35ce",
   "metadata": {},
   "source": [
    "2. Which type of Programming does Python support ?\n",
    " "
   ]
  },
  {
   "cell_type": "markdown",
   "id": "cf4a620a-c770-43ef-bf84-be3f773429a8",
   "metadata": {},
   "source": [
    "Object Oriented Programming \n",
    "\n",
    "Functional Programming \n",
    "\n",
    "Dynamic Programming\n"
   ]
  },
  {
   "cell_type": "markdown",
   "id": "dc78fe25-d331-4778-8f5a-3a3f27449d98",
   "metadata": {},
   "source": [
    "3. IS python Case sensitive When dealing With identifiers ?"
   ]
  },
  {
   "cell_type": "markdown",
   "id": "d63a319f-7d53-493f-95b2-ffc8ebc5783d",
   "metadata": {},
   "source": [
    "Yes,Python is Case Sensitive while dealing with identifiers "
   ]
  },
  {
   "cell_type": "markdown",
   "id": "5536f014-1bf8-4271-ba19-2dfbc09c21b6",
   "metadata": {},
   "source": [
    "4. What is the correct extension of the Python file? "
   ]
  },
  {
   "cell_type": "markdown",
   "id": "148fdfcb-45ce-4417-b048-f42f6df041c8",
   "metadata": {},
   "source": [
    ".py is the correct extension for the python file,\n",
    "\n",
    ".ipynb (Interactive Python Programming Notebook) is used for python notebook extension\n"
   ]
  },
  {
   "cell_type": "markdown",
   "id": "a53dbc94-d1a8-45d3-b822-7eea5e36aa8f",
   "metadata": {},
   "source": [
    " 5. Is Python code compiled or interpreted? "
   ]
  },
  {
   "cell_type": "markdown",
   "id": "349ed2e7-b2b9-4f8b-a00e-f832430479bb",
   "metadata": {},
   "source": [
    "both, It Can be Compiled and Interpreted"
   ]
  },
  {
   "cell_type": "markdown",
   "id": "83325ab0-f00d-4daf-9414-266fea5e5704",
   "metadata": {},
   "source": [
    " 6. Name a few blocks Of code used to define in Python language? "
   ]
  },
  {
   "cell_type": "markdown",
   "id": "583b6c1f-65e8-44f6-b793-6c183aa75af3",
   "metadata": {},
   "source": [
    "if\n",
    "\n",
    "if-else\n",
    "\n",
    "switch\n",
    "\n",
    "def\n"
   ]
  },
  {
   "cell_type": "markdown",
   "id": "97f340a6-3058-4d9e-85ab-ef64e8ab68f1",
   "metadata": {},
   "source": [
    "7. State a Character used to give Single—line Comments in python?"
   ]
  },
  {
   "cell_type": "markdown",
   "id": "536aad2f-8827-4343-bd39-1940b141d436",
   "metadata": {},
   "source": [
    "' # '"
   ]
  },
  {
   "cell_type": "markdown",
   "id": "1d422149-3418-4387-b528-35676b845ef4",
   "metadata": {},
   "source": [
    " 8. Mention functions which can help us to find the version of python that we are currently working on? "
   ]
  },
  {
   "cell_type": "code",
   "execution_count": 15,
   "id": "8b887cae-0ce0-42b6-8885-c72f49f02b65",
   "metadata": {},
   "outputs": [
    {
     "name": "stdout",
     "output_type": "stream",
     "text": [
      "3.10.8 | packaged by conda-forge | (main, Nov 22 2022, 08:26:04) [GCC 10.4.0]\n"
     ]
    }
   ],
   "source": [
    "import sys\n",
    "print(sys.version)"
   ]
  },
  {
   "cell_type": "code",
   "execution_count": 14,
   "id": "c46cdde3-00d1-42e6-af00-992653e30b9a",
   "metadata": {},
   "outputs": [
    {
     "name": "stdout",
     "output_type": "stream",
     "text": [
      "3.10.8\n"
     ]
    }
   ],
   "source": [
    "import platform\n",
    "print(platform.python_version())\n"
   ]
  },
  {
   "cell_type": "code",
   "execution_count": 16,
   "id": "3481c4d5-e93c-44ad-b304-acb147607139",
   "metadata": {},
   "outputs": [
    {
     "name": "stdout",
     "output_type": "stream",
     "text": [
      "sys.version_info(major=3, minor=10, micro=8, releaselevel='final', serial=0)\n"
     ]
    }
   ],
   "source": [
    "print(sys.version_info)"
   ]
  },
  {
   "cell_type": "markdown",
   "id": "87953598-d6fe-42e9-ba6b-72ce4c7828da",
   "metadata": {},
   "source": [
    " 9. Python supports the creation of anonymous functions at runtime. using a construct called ?"
   ]
  },
  {
   "cell_type": "markdown",
   "id": "8d656d2b-b1b0-457f-8512-24597564ab78",
   "metadata": {},
   "source": [
    "lambda\n",
    "\n",
    "A lambda function is a small, anonymous function that can have any number of arguments, but can only have one expression."
   ]
  },
  {
   "cell_type": "markdown",
   "id": "599cb5e0-92d0-40bf-8937-b2149b875f8b",
   "metadata": {},
   "source": [
    "10. What does pip stand for python? "
   ]
  },
  {
   "cell_type": "code",
   "execution_count": null,
   "id": "e6416ec7-e02c-4145-8639-793d1a5d3154",
   "metadata": {},
   "outputs": [],
   "source": [
    "preferred installer Program"
   ]
  },
  {
   "cell_type": "markdown",
   "id": "ad02f717-dd3b-44d5-bb20-e2f6d365be3e",
   "metadata": {},
   "source": [
    "11. Mention a few built—in functions in python?"
   ]
  },
  {
   "cell_type": "code",
   "execution_count": null,
   "id": "f4d83a9a-7b06-4c4c-9c60-bb71986200a0",
   "metadata": {},
   "outputs": [],
   "source": [
    "print()\n",
    "\n",
    "input()\n",
    "\n",
    "len()\n"
   ]
  },
  {
   "cell_type": "markdown",
   "id": "edae0d50-2d14-4ae3-b32e-a13db472d803",
   "metadata": {},
   "source": [
    "12. What is the maximum possible length Of an identifier in Python? \n"
   ]
  },
  {
   "cell_type": "markdown",
   "id": "9b9d81a5-28d8-491a-9bbe-28422b23c357",
   "metadata": {},
   "source": [
    "79 characters are the Maximum possible length of an Identifers,But which must and should start with a underscore or alphabets"
   ]
  },
  {
   "cell_type": "markdown",
   "id": "7522f712-99d2-4cd6-a07e-f290198735b0",
   "metadata": {},
   "source": [
    "13. What are the benefits Of Python? "
   ]
  },
  {
   "cell_type": "markdown",
   "id": "eadb29f7-e02e-480d-902b-2716c1f15b1c",
   "metadata": {},
   "source": [
    "Quality of software: Python was meant for readability. Its reusable and maintainable as compared to other languages. Its easier to understand. It supports all the modern features like OOPs and functional programming.\n",
    "\n",
    "Productivity of Developers: The same program which is written in other high-level languages like c++ or java can be written in one-third or one-fifth line of codes. That means debugging can be easy and it will be less prone to error which in turn increases the productivity of the developers.\n",
    "\n",
    "Portability: Mostly it’s platform-independent. It can run on any platform or OS with minor or no change at all which makes it a highly portable language. Now you can use MircoPython to interact with hardware as well. It can be used on most of the edge devices."
   ]
  },
  {
   "cell_type": "markdown",
   "id": "e02b8b6d-0c62-46a2-a147-4c79342e18cd",
   "metadata": {},
   "source": [
    "14. How is memory managed in Python? "
   ]
  },
  {
   "cell_type": "markdown",
   "id": "c8def5bc-b693-4548-9fad-56621d2672a9",
   "metadata": {},
   "source": [
    "Memory in Python is managed by Python private heap space. All Python objects and data structures are located in a private heap. This private heap is taken care of by Python Interpreter itself, and a programmer doesn't have access to this private heap."
   ]
  },
  {
   "cell_type": "markdown",
   "id": "e9cb680f-4ba1-4413-83ac-c684c0416d99",
   "metadata": {},
   "source": [
    "15. How to install Python on Windows and set path variables? "
   ]
  },
  {
   "cell_type": "markdown",
   "id": "3679c33b-141e-418d-8d73-58dff1d17d23",
   "metadata": {},
   "source": [
    "Go to the Python download page at https://www.python.org/downloads/windows/ and download the latest version of Python for Windows. Make sure to choose the appropriate version (32-bit or 64-bit) for your system.\n",
    "\n",
    "Setting path Variables is as follows\n",
    "\n",
    "properties ->Advanced Setting ->Environment variable ->System Variable ->Select path & edit ->Click on new & add the directory path location"
   ]
  },
  {
   "cell_type": "markdown",
   "id": "6332a0ac-1f2e-4ba9-90e8-c32d67a07a54",
   "metadata": {},
   "source": [
    "16. IS indentation required in python? "
   ]
  },
  {
   "cell_type": "markdown",
   "id": "be7127a6-d748-4638-9cb8-71e7b9111132",
   "metadata": {},
   "source": [
    "Yes"
   ]
  },
  {
   "cell_type": "code",
   "execution_count": null,
   "id": "2183647b-b5dd-41ca-a82a-be695d98dd6c",
   "metadata": {},
   "outputs": [],
   "source": []
  }
 ],
 "metadata": {
  "kernelspec": {
   "display_name": "Python 3 (ipykernel)",
   "language": "python",
   "name": "python3"
  },
  "language_info": {
   "codemirror_mode": {
    "name": "ipython",
    "version": 3
   },
   "file_extension": ".py",
   "mimetype": "text/x-python",
   "name": "python",
   "nbconvert_exporter": "python",
   "pygments_lexer": "ipython3",
   "version": "3.10.8"
  }
 },
 "nbformat": 4,
 "nbformat_minor": 5
}
