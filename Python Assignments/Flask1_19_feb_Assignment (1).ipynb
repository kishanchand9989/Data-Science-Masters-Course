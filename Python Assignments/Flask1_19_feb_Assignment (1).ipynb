{
 "cells": [
  {
   "cell_type": "code",
   "execution_count": 3,
   "id": "82d3bade-a13d-4d76-955b-aeb420fddfeb",
   "metadata": {},
   "outputs": [],
   "source": [
    " #  Kishan Chand                          Assignment                        Feb19-23"
   ]
  },
  {
   "cell_type": "markdown",
   "id": "15e8ef88-6918-4163-96b6-1fb29bf83c79",
   "metadata": {},
   "source": [
    "# Q1. What is Flask Framework? What are the advantages of Flask Framework?"
   ]
  },
  {
   "cell_type": "markdown",
   "id": "d2624453-83fc-4ad2-b9eb-eef9066d1d42",
   "metadata": {},
   "source": [
    "Flask is a lightweight web application framework written in Python. It is designed to be simple, flexible, and easy to use, making it a popular choice for building web applications and APIs\n",
    "\n",
    "Advantages of using Flask :\n",
    "\n",
    "Lightweight and flexible: \n",
    "   Flask is a lightweight framework that allows developers to build web applications quickly and easily. It does not impose any particular way of    doing things, allowing developers to choose the tools and libraries that work best for their project.\n",
    "\n",
    "Easy to learn and use:\n",
    "    Flask has a simple and intuitive interface that makes it easy to get started with. It also has excellent documentation and a large community       of developers who are always ready to help.\n",
    "\n",
    "Extensible:\n",
    "    Flask is highly extensible and can be easily customized to meet the specific needs of your project. It allows developers to add custom             functionality and features using plugins and extensions.\n",
    "\n",
    "Built-in development server:\n",
    "    Flask comes with a built-in development server, which makes it easy to develop and test your application locally before deploying it to a         production environment.\n",
    "\n",
    "RESTful request handling: \n",
    "     Flask makes it easy to handle RESTful requests, which are commonly used in building web APIs.\n",
    "\n",
    "Large community and ecosystem:\n",
    "     Flask has a large and active community of developers, which means there are many plugins, libraries, and resources available to help you          build your application.\n",
    "\n",
    "\n",
    "\n",
    "\n",
    "\n",
    "\n"
   ]
  },
  {
   "cell_type": "code",
   "execution_count": null,
   "id": "2504cc7b-84f9-4e78-af08-fa07397c512e",
   "metadata": {},
   "outputs": [],
   "source": []
  },
  {
   "cell_type": "markdown",
   "id": "9c63c997-91a1-4e95-9f78-991ffc84f555",
   "metadata": {},
   "source": [
    "# Q2. Create a simple Flask application to display ‘Hello World!!’. Attach the screenshot of the output in  Jupyter Notebook."
   ]
  },
  {
   "cell_type": "code",
   "execution_count": 1,
   "id": "95d328d4-cba2-4d4f-b0f4-47d5791a55e5",
   "metadata": {},
   "outputs": [
    {
     "data": {
      "text/html": [
       "<img src=\"flask_basic_assign.jpg\"/>"
      ],
      "text/plain": [
       "<IPython.core.display.Image object>"
      ]
     },
     "metadata": {},
     "output_type": "display_data"
    },
    {
     "data": {
      "text/plain": [
       "IPython.core.display.Image"
      ]
     },
     "metadata": {},
     "output_type": "display_data"
    }
   ],
   "source": [
    "'''from IPython.display import Image\n",
    "Image(filename=\"ASSIGNMENTS_PW_DATA_SCIENCE_COURSE/flask_basic_assign.jpg\")'''\n",
    "\n",
    "from IPython.display import Image\n",
    "#a=Image(url='ASSIGNMENTS_PW_DATA_SCIENCE_COURSE/flask_basic_assign.jpg')\n",
    "a=Image(url='flask_basic_assign.jpg')\n",
    "display(a)\n",
    "#display(Image, raw=True)\n",
    "display(Image)\n"
   ]
  },
  {
   "cell_type": "code",
   "execution_count": null,
   "id": "545639b2-6032-45ab-bfbe-74d8a09b04ff",
   "metadata": {},
   "outputs": [],
   "source": []
  },
  {
   "cell_type": "code",
   "execution_count": null,
   "id": "fa33da3a-5a94-432d-b362-b88465b361e8",
   "metadata": {},
   "outputs": [],
   "source": []
  },
  {
   "cell_type": "markdown",
   "id": "90a8a54d-a8cb-4868-8e90-8a5980d38d36",
   "metadata": {},
   "source": [
    "# Q3. What is App routing in Flask? Why do we use app routes?"
   ]
  },
  {
   "cell_type": "markdown",
   "id": "7c5636c6-054b-483a-8b0e-f965ab4c7f7f",
   "metadata": {},
   "source": [
    "In Flask, app routing refers to the process of defining URL patterns and associating them with view functions that handle the incoming requests. App routes determine how your application responds to different requests and what content is served to the user.\n",
    "\n",
    "\n",
    "And also We use app routes in Flask to create a well-organized and structured web application. By mapping URLs to view functions, So that we can create a logical structure for our application, making it easier to maintain and extend as the application grows.\n",
    "\n",
    "Additionally, app routes allow us to handle errors and exceptions by defining error handlers for specific HTTP status codes. This makes it easier to provide informative error messages to the user and handle unexpected behavior in a more graceful way."
   ]
  },
  {
   "cell_type": "code",
   "execution_count": null,
   "id": "9d7feddc-2c51-4339-98ec-5f1df0976333",
   "metadata": {},
   "outputs": [],
   "source": []
  },
  {
   "cell_type": "markdown",
   "id": "77a5af4f-53cd-4053-a811-1fb454d67904",
   "metadata": {},
   "source": [
    "# Q4. Create a “/welcome” route to display the welcome message “Welcome to ABC Corporation” and a “/” route to show the following details: Company Name: ABC  orporation Location: India Contact Detail: 999-999-9999"
   ]
  },
  {
   "cell_type": "code",
   "execution_count": 7,
   "id": "eb28d9a9-ab2d-405d-832c-a227e62285bc",
   "metadata": {},
   "outputs": [
    {
     "data": {
      "text/html": [
       "<img src=\"Screenshot 2023-04-03 021712.png\"/>"
      ],
      "text/plain": [
       "<IPython.core.display.Image object>"
      ]
     },
     "metadata": {},
     "output_type": "display_data"
    },
    {
     "data": {
      "text/html": [
       "<img src=\"Screenshot 2023-04-03 021604.png\"/>"
      ],
      "text/plain": [
       "<IPython.core.display.Image object>"
      ]
     },
     "metadata": {},
     "output_type": "display_data"
    }
   ],
   "source": [
    "from IPython.display import Image\n",
    "\n",
    "b=Image(url='Screenshot 2023-04-03 021712.png')\n",
    "c=Image(url='Screenshot 2023-04-03 021604.png')\n",
    "display(b)\n",
    "display(c)\n",
    "#display(Image, raw=True)\n",
    "#display(Image)\n"
   ]
  },
  {
   "cell_type": "code",
   "execution_count": null,
   "id": "d1b14f4c-9b5f-4766-a927-e2737679bc92",
   "metadata": {},
   "outputs": [],
   "source": []
  },
  {
   "cell_type": "code",
   "execution_count": null,
   "id": "078f41d8-280b-4d43-9966-72ddc6e3d64e",
   "metadata": {},
   "outputs": [],
   "source": []
  },
  {
   "cell_type": "markdown",
   "id": "1a16e2ba-a1b9-41c0-9d71-f97a33613c2d",
   "metadata": {},
   "source": [
    "# Q5. What function is used in Flask for URL Building? Write a Python code to demonstrate the working of the url_for() function."
   ]
  },
  {
   "cell_type": "markdown",
   "id": "a7ac268f-f93c-4bd4-8460-2b3b0413c925",
   "metadata": {},
   "source": [
    "In Flask, the url_for() function is used for URL building. This function takes the name of a view function as its first argument and generates a URL for that function based on the URL patterns defined in the app routes.\n",
    "\n",
    "the url_for() function is a useful tool for generating URLs in Flask applications and can help ensure that your URLs are consistent and maintainable."
   ]
  },
  {
   "cell_type": "code",
   "execution_count": null,
   "id": "926825d1-567c-405e-b040-95539aac026c",
   "metadata": {},
   "outputs": [],
   "source": [
    "from flask import Flask, url_for\n",
    "\n",
    "app = Flask(__name__)\n",
    "\n",
    "@app.route('/')\n",
    "def home():\n",
    "    return 'Welcome to the Home Page'\n",
    "\n",
    "@app.route('/about')\n",
    "def about():\n",
    "    return 'This is the About Page'\n",
    "\n",
    "@app.route('/contact')\n",
    "def contact():\n",
    "    return 'You can contact us at contact@example.com'\n",
    "\n",
    "if __name__ == '__main__':\n",
    "    with app.test_request_context():\n",
    "        print(url_for('home'))\n",
    "        print(url_for('about'))\n",
    "        print(url_for('contact'))\n"
   ]
  },
  {
   "cell_type": "code",
   "execution_count": 2,
   "id": "63677010-8229-45bb-b014-8da84b7ea7fd",
   "metadata": {},
   "outputs": [
    {
     "data": {
      "text/html": [
       "<img src=\"Screenshot 2023-05-21 143504.png\"/>"
      ],
      "text/plain": [
       "<IPython.core.display.Image object>"
      ]
     },
     "metadata": {},
     "output_type": "display_data"
    }
   ],
   "source": [
    "from IPython.display import Image\n",
    "\n",
    "output=Image(url='Screenshot 2023-05-21 143504.png')\n",
    "\n",
    "display(output)\n",
    "\n",
    "#display(Image, raw=True)\n",
    "#display(Image)\n"
   ]
  },
  {
   "cell_type": "code",
   "execution_count": null,
   "id": "a2fb03dc-d208-41d6-b4dd-27623266e1ab",
   "metadata": {},
   "outputs": [],
   "source": []
  }
 ],
 "metadata": {
  "kernelspec": {
   "display_name": "Python 3 (ipykernel)",
   "language": "python",
   "name": "python3"
  },
  "language_info": {
   "codemirror_mode": {
    "name": "ipython",
    "version": 3
   },
   "file_extension": ".py",
   "mimetype": "text/x-python",
   "name": "python",
   "nbconvert_exporter": "python",
   "pygments_lexer": "ipython3",
   "version": "3.10.8"
  }
 },
 "nbformat": 4,
 "nbformat_minor": 5
}
