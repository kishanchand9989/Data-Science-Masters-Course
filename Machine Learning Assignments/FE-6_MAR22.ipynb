{
 "cells": [
  {
   "cell_type": "markdown",
   "id": "ea2690f3-b7e5-484c-a855-873ab6613f23",
   "metadata": {},
   "source": [
    "      Kishan Chand                            Assignment                          Mar22-23"
   ]
  },
  {
   "cell_type": "code",
   "execution_count": null,
   "id": "17cd97b2-6dfa-46c5-bf6f-5d6cc1b24e3c",
   "metadata": {},
   "outputs": [],
   "source": []
  },
  {
   "cell_type": "markdown",
   "id": "1e3bf03b-65fb-4d7b-ab3d-e739f8642b9d",
   "metadata": {},
   "source": [
    "# Q1. Pearson correlation coefficient is a measure of the linear relationship between two variables. Suppose you have collected data on the amount of time students spend studying for an exam and their final exam scores. Calculate the Pearson correlation coefficient between these two variables and interpret the result.\n"
   ]
  },
  {
   "cell_type": "code",
   "execution_count": null,
   "id": "fcc07c3e-3141-4add-aa01-0891340dd800",
   "metadata": {},
   "outputs": [],
   "source": [
    "To calculate the Pearson correlation coefficient between two variables, you first need to compute the covariance and standard deviation of both variables. Let's assume you have the following data:\n",
    "\n",
    "Study Time (hours): [10, 5, 8, 7, 6]\n",
    "Final Exam Score: [90, 75, 85, 80, 70]\n",
    "\n",
    "Step 1: Calculate the means of both variables.\n",
    "Mean of Study Time: (10 + 5 + 8 + 7 + 6) / 5 = 7.2\n",
    "Mean of Final Exam Score: (90 + 75 + 85 + 80 + 70) / 5 = 80\n",
    "\n",
    "Step 2: Calculate the deviations from the mean for both variables.\n",
    "Deviation from Mean for Study Time: [10 - 7.2, 5 - 7.2, 8 - 7.2, 7 - 7.2, 6 - 7.2] = [2.8, -2.2, 0.8, -0.2, -1.2]\n",
    "Deviation from Mean for Final Exam Score: [90 - 80, 75 - 80, 85 - 80, 80 - 80, 70 - 80] = [10, -5, 5, 0, -10]\n",
    "\n",
    "Step 3: Calculate the covariance.\n",
    "Covariance = (Σ(Deviation from Mean for Study Time * Deviation from Mean for Final Exam Score)) / (n - 1)\n",
    "Covariance = (2.8 * 10 + (-2.2) * (-5) + 0.8 * 5 + (-0.2) * 0 + (-1.2) * (-10)) / (5 - 1)\n",
    "\n",
    "Covariance = 13.75\n",
    "\n",
    "Step 4: Calculate the standard deviations for both variables.\n",
    "Standard Deviation of Study Time = √((Σ(Deviation from Mean for Study Time)^2) / (n - 1))\n",
    "                                 = √((2.8^2 + (-2.2)^2 + 0.8^2 + (-0.2)^2 + (-1.2)^2) / (5 - 1))\n",
    "\n",
    "                                 ≈ 1.92\n",
    "\n",
    "Standard Deviation of Final Exam Score = √((Σ(Deviation from Mean for Final Exam Score)^2) / (n - 1))\n",
    "                                      = √((10^2 + (-5)^2 + 5^2 + 0^2 + (-10)^2) / (5 - 1))\n",
    "                                       ≈ 7.91\n",
    "\n",
    "Step 5: Calculate the Pearson correlation coefficient.\n",
    "Pearson Correlation Coefficient = Covariance / (Standard Deviation of Study Time * Standard Deviation of Final Exam Score)\n",
    "                                = 13.75 / (1.92 * 7.91)\n",
    "                                ≈ 0.869\n",
    "\n",
    "Interpretation:\n",
    "The Pearson correlation coefficient is approximately 0.869, \n",
    "which indicates a strong positive linear relationship between the amount of time students spend studying for the exam and their final exam scores.\n",
    "This means that as the study time increases, the final exam scores tend to increase as well."
   ]
  },
  {
   "cell_type": "code",
   "execution_count": null,
   "id": "c2b050b6-e6a4-47b8-9a7f-e71021d94306",
   "metadata": {},
   "outputs": [],
   "source": []
  },
  {
   "cell_type": "markdown",
   "id": "38d5a819-8520-47eb-bf3b-eb9c7dd506ad",
   "metadata": {},
   "source": [
    "# Q2. Spearman's rank correlation is a measure of the monotonic relationship between two variables.Suppose you have collected data on the amount of sleep individuals get each night and their overall job satisfaction level on a scale of 1 to 10. Calculate the Spearman's rank correlation between these two variables and interpret the result.\n"
   ]
  },
  {
   "cell_type": "code",
   "execution_count": null,
   "id": "442d0845-ef24-431f-bf7a-8f075530d7fa",
   "metadata": {},
   "outputs": [],
   "source": [
    "Let's assume the following data:\n",
    "\n",
    "Amount of Sleep (hours): [7, 8, 6, 5, 7]\n",
    "Job Satisfaction: [9, 8, 6, 7, 8]\n",
    "\n",
    "Step 1: Rank the data points for each variable.\n",
    "Rank of Amount of Sleep: [3,4,2,1,3]\n",
    "Rank of Job Satisfaction: [4,3,1,2,3]\n",
    "\n",
    "Step 2: Calculate the differences between the ranks for each data point.\n",
    "Difference in Ranks: [3 - 4, 4 - 3, 2 - 1, 1 - 2, 3 - 3] = [-1, 1, 1, -1, 0]\n",
    "\n",
    "Step 3: Square the differences in ranks.\n",
    "Squared Differences: [(-1)^2, 1^2, 1^2, (-1)^2, 0^2] = [1, 1, 1, 1, 0]\n",
    "\n",
    "Step 4: Calculate the sum of squared differences in ranks.\n",
    "Sum of Squared Differences = 1+1+1+1+0 = 4\n",
    "\n",
    "Step 5: Calculate the Spearman's rank correlation coefficient.\n",
    "Spearman's Rank Correlation Coefficient = 1 - (6 * Sum of Squared Differences) / (n * (n^2 - 1))\n",
    "                                         = 1 - (6 *4 ) / (5 * (5^2 - 1))\n",
    "                                         ≈ 0.2\n",
    "\n",
    "Interpretation:\n",
    "The Spearman's rank correlation coefficient is approximately 0.2.\n",
    "It indicates a  weak positive monotonic relationship between the amount of sleep individuals get each night and their overall job satisfaction level.\n",
    "This means that as the amount of sleep increases, the job satisfaction level tends to increase as well but relationship is not strong. "
   ]
  },
  {
   "cell_type": "code",
   "execution_count": null,
   "id": "7459144f-f8f5-40ab-a5ef-96a06ce05db4",
   "metadata": {},
   "outputs": [],
   "source": []
  },
  {
   "cell_type": "markdown",
   "id": "34a0aa2b-80b2-465e-9e28-b56b6b7f1c59",
   "metadata": {},
   "source": []
  },
  {
   "cell_type": "markdown",
   "id": "0e4a8d19-62f9-4662-b232-cfeae58c0da3",
   "metadata": {},
   "source": [
    "# Q3. Suppose you are conducting a study to examine the relationship between the number of hours of exercise per week and body mass index (BMI) in a sample of adults. You collected data on both variables for 50 participants. Calculate the Pearson correlation coefficient and the Spearman's rank correlation between these two variables and compare the results.\n"
   ]
  },
  {
   "cell_type": "code",
   "execution_count": 20,
   "id": "125f436e-f9a8-4eee-b136-374a250c109f",
   "metadata": {},
   "outputs": [],
   "source": [
    "import numpy as np\n",
    "hrs =np.random.randint(1,24,50)"
   ]
  },
  {
   "cell_type": "code",
   "execution_count": 21,
   "id": "93388280-d2e4-4658-8fa2-09b74de83494",
   "metadata": {},
   "outputs": [
    {
     "data": {
      "text/plain": [
       "array([11, 15,  4, 14, 23, 21, 21,  2,  7,  5, 15,  2, 22, 15,  7,  5,  1,\n",
       "       17, 17, 17, 12, 11, 17, 21,  7, 13, 21, 23,  3, 16, 14,  9, 16, 20,\n",
       "        2,  7, 21, 18, 15,  2, 12,  3,  6, 16, 17,  8,  1,  3, 19,  2])"
      ]
     },
     "execution_count": 21,
     "metadata": {},
     "output_type": "execute_result"
    }
   ],
   "source": [
    "hrs"
   ]
  },
  {
   "cell_type": "code",
   "execution_count": 54,
   "id": "8549a696-9e45-402b-a327-6f808de3f2a9",
   "metadata": {},
   "outputs": [],
   "source": [
    "col1 =list(hrs)"
   ]
  },
  {
   "cell_type": "code",
   "execution_count": null,
   "id": "9c8f8b3b-44f8-4e5b-a549-e04a4ae05177",
   "metadata": {},
   "outputs": [],
   "source": []
  },
  {
   "cell_type": "code",
   "execution_count": 24,
   "id": "d97a1a0b-d9dd-45e5-a50b-22843853d5c5",
   "metadata": {},
   "outputs": [],
   "source": [
    "BMI =np.random.uniform(0.0,50.5,50)"
   ]
  },
  {
   "cell_type": "code",
   "execution_count": 25,
   "id": "2393825f-5524-4e8c-a223-406f35801629",
   "metadata": {},
   "outputs": [
    {
     "data": {
      "text/plain": [
       "array([10.14683054, 32.89859508, 38.30584623,  1.53317443, 39.97269932,\n",
       "       16.50949833, 25.77283289, 30.6511805 , 20.5289251 , 37.12078474,\n",
       "       33.43048813, 26.44557479,  2.32719601,  7.23561539, 40.89256677,\n",
       "       48.19086855, 21.28051803, 42.72953452,  9.07755301, 14.2205443 ,\n",
       "       43.54879751, 40.52315623, 18.19397853, 29.69435247, 39.4533804 ,\n",
       "       34.71478042, 37.63792424,  3.80562286, 27.4277063 , 23.24106762,\n",
       "        5.45298281, 11.06289739, 28.27565878, 41.65322749, 47.1580811 ,\n",
       "       44.35537339, 12.77009871, 45.03938074,  6.81449643, 21.79726177,\n",
       "       44.91517178, 13.64992057, 13.52989269, 42.0942212 , 10.6548636 ,\n",
       "       15.91172035, 38.21358908, 33.8472684 ,  3.77437731, 21.72684284])"
      ]
     },
     "execution_count": 25,
     "metadata": {},
     "output_type": "execute_result"
    }
   ],
   "source": [
    "BMI"
   ]
  },
  {
   "cell_type": "code",
   "execution_count": 58,
   "id": "ccc2d8cb-a061-4414-ac16-cd247effe595",
   "metadata": {},
   "outputs": [],
   "source": [
    "col2 =list(BMI)"
   ]
  },
  {
   "cell_type": "code",
   "execution_count": 59,
   "id": "211253f3-892c-47c2-a838-961d0da7b8d4",
   "metadata": {},
   "outputs": [],
   "source": [
    "import pandas as pd\n",
    "df =pd.DataFrame({'hours':col1,'BMI':col2})"
   ]
  },
  {
   "cell_type": "code",
   "execution_count": 60,
   "id": "020639b0-a21d-49ce-b7a2-234f51d5ff6f",
   "metadata": {},
   "outputs": [
    {
     "data": {
      "text/html": [
       "<div>\n",
       "<style scoped>\n",
       "    .dataframe tbody tr th:only-of-type {\n",
       "        vertical-align: middle;\n",
       "    }\n",
       "\n",
       "    .dataframe tbody tr th {\n",
       "        vertical-align: top;\n",
       "    }\n",
       "\n",
       "    .dataframe thead th {\n",
       "        text-align: right;\n",
       "    }\n",
       "</style>\n",
       "<table border=\"1\" class=\"dataframe\">\n",
       "  <thead>\n",
       "    <tr style=\"text-align: right;\">\n",
       "      <th></th>\n",
       "      <th>hours</th>\n",
       "      <th>BMI</th>\n",
       "    </tr>\n",
       "  </thead>\n",
       "  <tbody>\n",
       "    <tr>\n",
       "      <th>0</th>\n",
       "      <td>11</td>\n",
       "      <td>10.146831</td>\n",
       "    </tr>\n",
       "    <tr>\n",
       "      <th>1</th>\n",
       "      <td>15</td>\n",
       "      <td>32.898595</td>\n",
       "    </tr>\n",
       "    <tr>\n",
       "      <th>2</th>\n",
       "      <td>4</td>\n",
       "      <td>38.305846</td>\n",
       "    </tr>\n",
       "    <tr>\n",
       "      <th>3</th>\n",
       "      <td>14</td>\n",
       "      <td>1.533174</td>\n",
       "    </tr>\n",
       "    <tr>\n",
       "      <th>4</th>\n",
       "      <td>23</td>\n",
       "      <td>39.972699</td>\n",
       "    </tr>\n",
       "    <tr>\n",
       "      <th>5</th>\n",
       "      <td>21</td>\n",
       "      <td>16.509498</td>\n",
       "    </tr>\n",
       "    <tr>\n",
       "      <th>6</th>\n",
       "      <td>21</td>\n",
       "      <td>25.772833</td>\n",
       "    </tr>\n",
       "    <tr>\n",
       "      <th>7</th>\n",
       "      <td>2</td>\n",
       "      <td>30.651180</td>\n",
       "    </tr>\n",
       "    <tr>\n",
       "      <th>8</th>\n",
       "      <td>7</td>\n",
       "      <td>20.528925</td>\n",
       "    </tr>\n",
       "    <tr>\n",
       "      <th>9</th>\n",
       "      <td>5</td>\n",
       "      <td>37.120785</td>\n",
       "    </tr>\n",
       "    <tr>\n",
       "      <th>10</th>\n",
       "      <td>15</td>\n",
       "      <td>33.430488</td>\n",
       "    </tr>\n",
       "    <tr>\n",
       "      <th>11</th>\n",
       "      <td>2</td>\n",
       "      <td>26.445575</td>\n",
       "    </tr>\n",
       "    <tr>\n",
       "      <th>12</th>\n",
       "      <td>22</td>\n",
       "      <td>2.327196</td>\n",
       "    </tr>\n",
       "    <tr>\n",
       "      <th>13</th>\n",
       "      <td>15</td>\n",
       "      <td>7.235615</td>\n",
       "    </tr>\n",
       "    <tr>\n",
       "      <th>14</th>\n",
       "      <td>7</td>\n",
       "      <td>40.892567</td>\n",
       "    </tr>\n",
       "    <tr>\n",
       "      <th>15</th>\n",
       "      <td>5</td>\n",
       "      <td>48.190869</td>\n",
       "    </tr>\n",
       "    <tr>\n",
       "      <th>16</th>\n",
       "      <td>1</td>\n",
       "      <td>21.280518</td>\n",
       "    </tr>\n",
       "    <tr>\n",
       "      <th>17</th>\n",
       "      <td>17</td>\n",
       "      <td>42.729535</td>\n",
       "    </tr>\n",
       "    <tr>\n",
       "      <th>18</th>\n",
       "      <td>17</td>\n",
       "      <td>9.077553</td>\n",
       "    </tr>\n",
       "    <tr>\n",
       "      <th>19</th>\n",
       "      <td>17</td>\n",
       "      <td>14.220544</td>\n",
       "    </tr>\n",
       "    <tr>\n",
       "      <th>20</th>\n",
       "      <td>12</td>\n",
       "      <td>43.548798</td>\n",
       "    </tr>\n",
       "    <tr>\n",
       "      <th>21</th>\n",
       "      <td>11</td>\n",
       "      <td>40.523156</td>\n",
       "    </tr>\n",
       "    <tr>\n",
       "      <th>22</th>\n",
       "      <td>17</td>\n",
       "      <td>18.193979</td>\n",
       "    </tr>\n",
       "    <tr>\n",
       "      <th>23</th>\n",
       "      <td>21</td>\n",
       "      <td>29.694352</td>\n",
       "    </tr>\n",
       "    <tr>\n",
       "      <th>24</th>\n",
       "      <td>7</td>\n",
       "      <td>39.453380</td>\n",
       "    </tr>\n",
       "    <tr>\n",
       "      <th>25</th>\n",
       "      <td>13</td>\n",
       "      <td>34.714780</td>\n",
       "    </tr>\n",
       "    <tr>\n",
       "      <th>26</th>\n",
       "      <td>21</td>\n",
       "      <td>37.637924</td>\n",
       "    </tr>\n",
       "    <tr>\n",
       "      <th>27</th>\n",
       "      <td>23</td>\n",
       "      <td>3.805623</td>\n",
       "    </tr>\n",
       "    <tr>\n",
       "      <th>28</th>\n",
       "      <td>3</td>\n",
       "      <td>27.427706</td>\n",
       "    </tr>\n",
       "    <tr>\n",
       "      <th>29</th>\n",
       "      <td>16</td>\n",
       "      <td>23.241068</td>\n",
       "    </tr>\n",
       "    <tr>\n",
       "      <th>30</th>\n",
       "      <td>14</td>\n",
       "      <td>5.452983</td>\n",
       "    </tr>\n",
       "    <tr>\n",
       "      <th>31</th>\n",
       "      <td>9</td>\n",
       "      <td>11.062897</td>\n",
       "    </tr>\n",
       "    <tr>\n",
       "      <th>32</th>\n",
       "      <td>16</td>\n",
       "      <td>28.275659</td>\n",
       "    </tr>\n",
       "    <tr>\n",
       "      <th>33</th>\n",
       "      <td>20</td>\n",
       "      <td>41.653227</td>\n",
       "    </tr>\n",
       "    <tr>\n",
       "      <th>34</th>\n",
       "      <td>2</td>\n",
       "      <td>47.158081</td>\n",
       "    </tr>\n",
       "    <tr>\n",
       "      <th>35</th>\n",
       "      <td>7</td>\n",
       "      <td>44.355373</td>\n",
       "    </tr>\n",
       "    <tr>\n",
       "      <th>36</th>\n",
       "      <td>21</td>\n",
       "      <td>12.770099</td>\n",
       "    </tr>\n",
       "    <tr>\n",
       "      <th>37</th>\n",
       "      <td>18</td>\n",
       "      <td>45.039381</td>\n",
       "    </tr>\n",
       "    <tr>\n",
       "      <th>38</th>\n",
       "      <td>15</td>\n",
       "      <td>6.814496</td>\n",
       "    </tr>\n",
       "    <tr>\n",
       "      <th>39</th>\n",
       "      <td>2</td>\n",
       "      <td>21.797262</td>\n",
       "    </tr>\n",
       "    <tr>\n",
       "      <th>40</th>\n",
       "      <td>12</td>\n",
       "      <td>44.915172</td>\n",
       "    </tr>\n",
       "    <tr>\n",
       "      <th>41</th>\n",
       "      <td>3</td>\n",
       "      <td>13.649921</td>\n",
       "    </tr>\n",
       "    <tr>\n",
       "      <th>42</th>\n",
       "      <td>6</td>\n",
       "      <td>13.529893</td>\n",
       "    </tr>\n",
       "    <tr>\n",
       "      <th>43</th>\n",
       "      <td>16</td>\n",
       "      <td>42.094221</td>\n",
       "    </tr>\n",
       "    <tr>\n",
       "      <th>44</th>\n",
       "      <td>17</td>\n",
       "      <td>10.654864</td>\n",
       "    </tr>\n",
       "    <tr>\n",
       "      <th>45</th>\n",
       "      <td>8</td>\n",
       "      <td>15.911720</td>\n",
       "    </tr>\n",
       "    <tr>\n",
       "      <th>46</th>\n",
       "      <td>1</td>\n",
       "      <td>38.213589</td>\n",
       "    </tr>\n",
       "    <tr>\n",
       "      <th>47</th>\n",
       "      <td>3</td>\n",
       "      <td>33.847268</td>\n",
       "    </tr>\n",
       "    <tr>\n",
       "      <th>48</th>\n",
       "      <td>19</td>\n",
       "      <td>3.774377</td>\n",
       "    </tr>\n",
       "    <tr>\n",
       "      <th>49</th>\n",
       "      <td>2</td>\n",
       "      <td>21.726843</td>\n",
       "    </tr>\n",
       "  </tbody>\n",
       "</table>\n",
       "</div>"
      ],
      "text/plain": [
       "    hours        BMI\n",
       "0      11  10.146831\n",
       "1      15  32.898595\n",
       "2       4  38.305846\n",
       "3      14   1.533174\n",
       "4      23  39.972699\n",
       "5      21  16.509498\n",
       "6      21  25.772833\n",
       "7       2  30.651180\n",
       "8       7  20.528925\n",
       "9       5  37.120785\n",
       "10     15  33.430488\n",
       "11      2  26.445575\n",
       "12     22   2.327196\n",
       "13     15   7.235615\n",
       "14      7  40.892567\n",
       "15      5  48.190869\n",
       "16      1  21.280518\n",
       "17     17  42.729535\n",
       "18     17   9.077553\n",
       "19     17  14.220544\n",
       "20     12  43.548798\n",
       "21     11  40.523156\n",
       "22     17  18.193979\n",
       "23     21  29.694352\n",
       "24      7  39.453380\n",
       "25     13  34.714780\n",
       "26     21  37.637924\n",
       "27     23   3.805623\n",
       "28      3  27.427706\n",
       "29     16  23.241068\n",
       "30     14   5.452983\n",
       "31      9  11.062897\n",
       "32     16  28.275659\n",
       "33     20  41.653227\n",
       "34      2  47.158081\n",
       "35      7  44.355373\n",
       "36     21  12.770099\n",
       "37     18  45.039381\n",
       "38     15   6.814496\n",
       "39      2  21.797262\n",
       "40     12  44.915172\n",
       "41      3  13.649921\n",
       "42      6  13.529893\n",
       "43     16  42.094221\n",
       "44     17  10.654864\n",
       "45      8  15.911720\n",
       "46      1  38.213589\n",
       "47      3  33.847268\n",
       "48     19   3.774377\n",
       "49      2  21.726843"
      ]
     },
     "execution_count": 60,
     "metadata": {},
     "output_type": "execute_result"
    }
   ],
   "source": [
    "df"
   ]
  },
  {
   "cell_type": "markdown",
   "id": "2aa79ea4-b269-437b-873b-c31b4282706d",
   "metadata": {},
   "source": [
    "To Calculate Pearson Correlation Coefficient"
   ]
  },
  {
   "cell_type": "markdown",
   "id": "79b8f220-2597-4a36-9600-d66944a60ec1",
   "metadata": {},
   "source": [
    "Cov(hrs,BMI)=summation((xi-x mean)(yi-y mean))"
   ]
  },
  {
   "cell_type": "code",
   "execution_count": null,
   "id": "48a1973e-d3e1-4cab-8be5-c176b8c2144f",
   "metadata": {},
   "outputs": [],
   "source": []
  },
  {
   "cell_type": "code",
   "execution_count": 61,
   "id": "8eb5f396-a533-4070-b134-04c7d43825b0",
   "metadata": {},
   "outputs": [
    {
     "data": {
      "text/html": [
       "<div>\n",
       "<style scoped>\n",
       "    .dataframe tbody tr th:only-of-type {\n",
       "        vertical-align: middle;\n",
       "    }\n",
       "\n",
       "    .dataframe tbody tr th {\n",
       "        vertical-align: top;\n",
       "    }\n",
       "\n",
       "    .dataframe thead th {\n",
       "        text-align: right;\n",
       "    }\n",
       "</style>\n",
       "<table border=\"1\" class=\"dataframe\">\n",
       "  <thead>\n",
       "    <tr style=\"text-align: right;\">\n",
       "      <th></th>\n",
       "      <th>hours</th>\n",
       "      <th>BMI</th>\n",
       "    </tr>\n",
       "  </thead>\n",
       "  <tbody>\n",
       "    <tr>\n",
       "      <th>hours</th>\n",
       "      <td>1.000000</td>\n",
       "      <td>-0.240994</td>\n",
       "    </tr>\n",
       "    <tr>\n",
       "      <th>BMI</th>\n",
       "      <td>-0.240994</td>\n",
       "      <td>1.000000</td>\n",
       "    </tr>\n",
       "  </tbody>\n",
       "</table>\n",
       "</div>"
      ],
      "text/plain": [
       "          hours       BMI\n",
       "hours  1.000000 -0.240994\n",
       "BMI   -0.240994  1.000000"
      ]
     },
     "execution_count": 61,
     "metadata": {},
     "output_type": "execute_result"
    }
   ],
   "source": [
    "df.corr(method=\"pearson\")"
   ]
  },
  {
   "cell_type": "code",
   "execution_count": 63,
   "id": "e7889a6e-3fe9-4aaf-88ba-61d9fba35717",
   "metadata": {},
   "outputs": [
    {
     "data": {
      "text/html": [
       "<div>\n",
       "<style scoped>\n",
       "    .dataframe tbody tr th:only-of-type {\n",
       "        vertical-align: middle;\n",
       "    }\n",
       "\n",
       "    .dataframe tbody tr th {\n",
       "        vertical-align: top;\n",
       "    }\n",
       "\n",
       "    .dataframe thead th {\n",
       "        text-align: right;\n",
       "    }\n",
       "</style>\n",
       "<table border=\"1\" class=\"dataframe\">\n",
       "  <thead>\n",
       "    <tr style=\"text-align: right;\">\n",
       "      <th></th>\n",
       "      <th>hours</th>\n",
       "      <th>BMI</th>\n",
       "    </tr>\n",
       "  </thead>\n",
       "  <tbody>\n",
       "    <tr>\n",
       "      <th>hours</th>\n",
       "      <td>1.000000</td>\n",
       "      <td>-0.220763</td>\n",
       "    </tr>\n",
       "    <tr>\n",
       "      <th>BMI</th>\n",
       "      <td>-0.220763</td>\n",
       "      <td>1.000000</td>\n",
       "    </tr>\n",
       "  </tbody>\n",
       "</table>\n",
       "</div>"
      ],
      "text/plain": [
       "          hours       BMI\n",
       "hours  1.000000 -0.220763\n",
       "BMI   -0.220763  1.000000"
      ]
     },
     "execution_count": 63,
     "metadata": {},
     "output_type": "execute_result"
    }
   ],
   "source": [
    "df.corr(method =\"spearman\")"
   ]
  },
  {
   "cell_type": "code",
   "execution_count": 34,
   "id": "5b8db562-b4bd-45e3-ab33-866cb4de38f5",
   "metadata": {},
   "outputs": [],
   "source": [
    "hrs_mean =np.mean(hrs)\n",
    "bmi_mean =np.mean(BMI)"
   ]
  },
  {
   "cell_type": "code",
   "execution_count": 35,
   "id": "1be9ccc3-d1ec-4292-acfd-7c76e1b20e54",
   "metadata": {},
   "outputs": [
    {
     "data": {
      "text/plain": [
       "(11.92, 26.004178393272486)"
      ]
     },
     "execution_count": 35,
     "metadata": {},
     "output_type": "execute_result"
    }
   ],
   "source": [
    "hrs_mean,bmi_mean"
   ]
  },
  {
   "cell_type": "code",
   "execution_count": 38,
   "id": "70074572-013a-4aff-9bd2-65013e06da71",
   "metadata": {},
   "outputs": [],
   "source": [
    "diff_hrs =[]\n",
    "diff_bmi =[]\n",
    "for i in hrs:\n",
    "    diff_hrs.append(i-hrs_mean)\n",
    "    \n",
    "for i in BMI:\n",
    "    diff_bmi.append(i-bmi_mean)"
   ]
  },
  {
   "cell_type": "code",
   "execution_count": 74,
   "id": "b9723ecc-5036-49d5-a883-2f9e8f12a852",
   "metadata": {},
   "outputs": [],
   "source": [
    "mul_hrs_nd_bmi =[]\n",
    "for i in range(len(col2)):\n",
    "    ans =diff_hrs[i]*diff_bmi[i]\n",
    "    mul_hrs_nd_bmi.append(ans)"
   ]
  },
  {
   "cell_type": "code",
   "execution_count": null,
   "id": "e508d1cb-b428-49ae-a34e-058c43c309cc",
   "metadata": {},
   "outputs": [],
   "source": []
  },
  {
   "cell_type": "code",
   "execution_count": 76,
   "id": "e9116212-d1f6-49b9-b6c8-2de08465b2db",
   "metadata": {},
   "outputs": [],
   "source": [
    "sum_hrs_nd_bmi =np.sum(mul_hrs_nd_bmi)"
   ]
  },
  {
   "cell_type": "code",
   "execution_count": 80,
   "id": "50d789de-e6da-4d03-b8e6-d7ca45bd7e57",
   "metadata": {},
   "outputs": [
    {
     "data": {
      "text/plain": [
       "-24.20748918596593"
      ]
     },
     "execution_count": 80,
     "metadata": {},
     "output_type": "execute_result"
    }
   ],
   "source": [
    "sum_hrs_nd_bmi/49"
   ]
  },
  {
   "cell_type": "code",
   "execution_count": null,
   "id": "83c0d9d7-30d7-4362-b23e-c6c77490b708",
   "metadata": {},
   "outputs": [],
   "source": []
  },
  {
   "cell_type": "code",
   "execution_count": 94,
   "id": "7586fe55-92df-4359-9e63-e24f5bb9902a",
   "metadata": {},
   "outputs": [],
   "source": [
    "# Assign ranks\n",
    "hours_ranks = list(np.argsort(np.argsort(df['hours'])) + 1)\n",
    "BMI_ranks = np.argsort(np.argsort(df['BMI'])) + 1"
   ]
  },
  {
   "cell_type": "code",
   "execution_count": 100,
   "id": "83f4fb95-bf65-4cb8-8d26-70d647cd5691",
   "metadata": {},
   "outputs": [],
   "source": [
    "df['HOURS_RANK'] =hours_ranks\n",
    "df['BMI_RANK'] =BMI_ranks\n",
    "#type(hours_ranks)"
   ]
  },
  {
   "cell_type": "code",
   "execution_count": null,
   "id": "ef2fecbb-c079-4dce-9720-99db3a3ebf3e",
   "metadata": {},
   "outputs": [],
   "source": []
  },
  {
   "cell_type": "code",
   "execution_count": 101,
   "id": "f5d0bce0-124e-4ce7-936c-3f27cb7053e2",
   "metadata": {},
   "outputs": [
    {
     "data": {
      "text/html": [
       "<div>\n",
       "<style scoped>\n",
       "    .dataframe tbody tr th:only-of-type {\n",
       "        vertical-align: middle;\n",
       "    }\n",
       "\n",
       "    .dataframe tbody tr th {\n",
       "        vertical-align: top;\n",
       "    }\n",
       "\n",
       "    .dataframe thead th {\n",
       "        text-align: right;\n",
       "    }\n",
       "</style>\n",
       "<table border=\"1\" class=\"dataframe\">\n",
       "  <thead>\n",
       "    <tr style=\"text-align: right;\">\n",
       "      <th></th>\n",
       "      <th>hours</th>\n",
       "      <th>BMI</th>\n",
       "      <th>HOURS_RANK</th>\n",
       "      <th>BMI_RANK</th>\n",
       "    </tr>\n",
       "  </thead>\n",
       "  <tbody>\n",
       "    <tr>\n",
       "      <th>0</th>\n",
       "      <td>11</td>\n",
       "      <td>10.146831</td>\n",
       "      <td>21</td>\n",
       "      <td>9</td>\n",
       "    </tr>\n",
       "    <tr>\n",
       "      <th>1</th>\n",
       "      <td>15</td>\n",
       "      <td>32.898595</td>\n",
       "      <td>28</td>\n",
       "      <td>30</td>\n",
       "    </tr>\n",
       "    <tr>\n",
       "      <th>2</th>\n",
       "      <td>4</td>\n",
       "      <td>38.305846</td>\n",
       "      <td>11</td>\n",
       "      <td>37</td>\n",
       "    </tr>\n",
       "    <tr>\n",
       "      <th>3</th>\n",
       "      <td>14</td>\n",
       "      <td>1.533174</td>\n",
       "      <td>26</td>\n",
       "      <td>1</td>\n",
       "    </tr>\n",
       "    <tr>\n",
       "      <th>4</th>\n",
       "      <td>23</td>\n",
       "      <td>39.972699</td>\n",
       "      <td>49</td>\n",
       "      <td>39</td>\n",
       "    </tr>\n",
       "  </tbody>\n",
       "</table>\n",
       "</div>"
      ],
      "text/plain": [
       "   hours        BMI  HOURS_RANK  BMI_RANK\n",
       "0     11  10.146831          21         9\n",
       "1     15  32.898595          28        30\n",
       "2      4  38.305846          11        37\n",
       "3     14   1.533174          26         1\n",
       "4     23  39.972699          49        39"
      ]
     },
     "execution_count": 101,
     "metadata": {},
     "output_type": "execute_result"
    }
   ],
   "source": [
    "df.head()"
   ]
  },
  {
   "cell_type": "code",
   "execution_count": null,
   "id": "5e64dc7a-a93a-4075-88fe-629ec47a34a0",
   "metadata": {},
   "outputs": [],
   "source": []
  },
  {
   "cell_type": "code",
   "execution_count": null,
   "id": "a198d24b-0a53-451d-80a3-7812e736c3b4",
   "metadata": {},
   "outputs": [],
   "source": []
  },
  {
   "cell_type": "code",
   "execution_count": null,
   "id": "63191863-d793-45ab-9080-46bbbc458c65",
   "metadata": {},
   "outputs": [],
   "source": []
  },
  {
   "cell_type": "code",
   "execution_count": 107,
   "id": "1a221103-22d8-4386-b0ae-83774f62738d",
   "metadata": {},
   "outputs": [
    {
     "name": "stdout",
     "output_type": "stream",
     "text": [
      "Spearman's Rank Correlation Coefficient: -0.2238175270108043\n",
      "p-value: 0.11817137831176083\n"
     ]
    }
   ],
   "source": [
    "import numpy as np\n",
    "from scipy.stats import spearmanr\n",
    "\n",
    "# Calculate Spearman's rank correlation coefficient\n",
    "correlation_coefficient, p_value = spearmanr(df['HOURS_RANK'],df['BMI_RANK'])\n",
    "\n",
    "\n",
    "print(\"Spearman's Rank Correlation Coefficient:\", correlation_coefficient)\n",
    "print(\"p-value:\", p_value)\n"
   ]
  },
  {
   "cell_type": "code",
   "execution_count": null,
   "id": "6189a240-3048-4394-b6f4-fef89c6148e4",
   "metadata": {},
   "outputs": [],
   "source": []
  },
  {
   "cell_type": "code",
   "execution_count": 110,
   "id": "e56ff663-e9d0-488a-b46c-f8ab9d281214",
   "metadata": {},
   "outputs": [
    {
     "name": "stdout",
     "output_type": "stream",
     "text": [
      "Pearson  Correlation Coefficient: -24.099385431874747\n",
      "p-value: 0.09180888451737748\n"
     ]
    }
   ],
   "source": [
    "import numpy as np\n",
    "from scipy.stats import pearsonr\n",
    "\n",
    "# Calculate Spearman's rank correlation coefficient\n",
    "correlation_coefficient, p_value = pearsonr(df['hours'],df[\"BMI\"])\n",
    "\n",
    "print(\"Pearson  Correlation Coefficient:\", correlation_coefficient*100)\n",
    "print(\"p-value:\", p_value)\n"
   ]
  },
  {
   "cell_type": "code",
   "execution_count": null,
   "id": "73d5a88d-a340-4936-af6b-1e2309d4cd14",
   "metadata": {},
   "outputs": [],
   "source": []
  },
  {
   "cell_type": "code",
   "execution_count": null,
   "id": "6a6eb733-0774-42fc-adde-0ef178b6bb02",
   "metadata": {},
   "outputs": [],
   "source": []
  },
  {
   "cell_type": "markdown",
   "id": "b5fc71f7-a436-49a0-b4f6-6f2fca312e2f",
   "metadata": {},
   "source": [
    "# Q4. A researcher is interested in examining the relationship between the number of hours individuals spend watching television per day and their level of physical activity. The researcher collected data on both variables from a sample of 50 participants. Calculate the Pearson correlation coefficient between these two variables."
   ]
  },
  {
   "cell_type": "code",
   "execution_count": null,
   "id": "2836fc8f-89ac-48bc-9ffd-7c4305dbe7bf",
   "metadata": {},
   "outputs": [],
   "source": []
  },
  {
   "cell_type": "code",
   "execution_count": 114,
   "id": "623f3140-9e17-4219-b02e-eafecf6be50f",
   "metadata": {},
   "outputs": [],
   "source": [
    "hrs_spent_tv =list(np.random.randint(1,24,50))"
   ]
  },
  {
   "cell_type": "code",
   "execution_count": 116,
   "id": "de3188b8-838a-488f-bbe9-55ec2263e7b8",
   "metadata": {},
   "outputs": [],
   "source": [
    "phy_activity =list(np.random.randint(1,5,50))"
   ]
  },
  {
   "cell_type": "code",
   "execution_count": 118,
   "id": "269bc9f4-f67f-4a5d-ae80-862374e94e5d",
   "metadata": {},
   "outputs": [
    {
     "name": "stdout",
     "output_type": "stream",
     "text": [
      "Pearson correlation coefficient -0.10913308202562416\n",
      "p-value 0.450592979587822\n"
     ]
    }
   ],
   "source": [
    "from scipy.stats import pearsonr\n",
    "correlation_coefficient,p_value =pearsonr(hrs_spent_tv,phy_activity)\n",
    "\n",
    "print(\"Pearson correlation coefficient\",correlation_coefficient)\n",
    "print(\"p-value\",p_value)"
   ]
  },
  {
   "cell_type": "code",
   "execution_count": null,
   "id": "5551fcc6-348e-4049-a295-95e582bbd158",
   "metadata": {},
   "outputs": [],
   "source": []
  },
  {
   "cell_type": "code",
   "execution_count": 122,
   "id": "5699a34c-daa0-4277-be78-ac2f9c5c98fc",
   "metadata": {},
   "outputs": [],
   "source": [
    "df1 =pd.DataFrame({\"Hrs_Spent_Watching_TV\":hrs_spent_tv,\"level_of_Phy_Activity\":phy_activity})"
   ]
  },
  {
   "cell_type": "code",
   "execution_count": null,
   "id": "f5088b3e-5b48-49f0-a7df-78d41bef80c0",
   "metadata": {},
   "outputs": [],
   "source": []
  },
  {
   "cell_type": "code",
   "execution_count": 125,
   "id": "ed157d29-f850-4da2-ab35-ccebab05a4c6",
   "metadata": {},
   "outputs": [
    {
     "data": {
      "text/html": [
       "<div>\n",
       "<style scoped>\n",
       "    .dataframe tbody tr th:only-of-type {\n",
       "        vertical-align: middle;\n",
       "    }\n",
       "\n",
       "    .dataframe tbody tr th {\n",
       "        vertical-align: top;\n",
       "    }\n",
       "\n",
       "    .dataframe thead th {\n",
       "        text-align: right;\n",
       "    }\n",
       "</style>\n",
       "<table border=\"1\" class=\"dataframe\">\n",
       "  <thead>\n",
       "    <tr style=\"text-align: right;\">\n",
       "      <th></th>\n",
       "      <th>Hrs_Spent_Watching_TV</th>\n",
       "      <th>level_of_Phy_Activity</th>\n",
       "    </tr>\n",
       "  </thead>\n",
       "  <tbody>\n",
       "    <tr>\n",
       "      <th>Hrs_Spent_Watching_TV</th>\n",
       "      <td>1.000000</td>\n",
       "      <td>-0.109133</td>\n",
       "    </tr>\n",
       "    <tr>\n",
       "      <th>level_of_Phy_Activity</th>\n",
       "      <td>-0.109133</td>\n",
       "      <td>1.000000</td>\n",
       "    </tr>\n",
       "  </tbody>\n",
       "</table>\n",
       "</div>"
      ],
      "text/plain": [
       "                       Hrs_Spent_Watching_TV  level_of_Phy_Activity\n",
       "Hrs_Spent_Watching_TV               1.000000              -0.109133\n",
       "level_of_Phy_Activity              -0.109133               1.000000"
      ]
     },
     "execution_count": 125,
     "metadata": {},
     "output_type": "execute_result"
    }
   ],
   "source": [
    "df1.corr(method=\"pearson\")"
   ]
  },
  {
   "cell_type": "code",
   "execution_count": null,
   "id": "72e2dd07-d97b-4e45-93d0-eb6ec88fd347",
   "metadata": {},
   "outputs": [],
   "source": []
  },
  {
   "cell_type": "markdown",
   "id": "c231959a-dc66-4713-8910-2ebad71411d8",
   "metadata": {},
   "source": [
    "# Q5. A survey was conducted to examine the relationship between age and preference for a particular brand of soft drink. The survey results are shown below:"
   ]
  },
  {
   "cell_type": "code",
   "execution_count": 126,
   "id": "6bf08ea8-7f7d-42b8-a3b2-16a191946fbe",
   "metadata": {},
   "outputs": [],
   "source": [
    "df2 =pd.DataFrame({\"Age\":[25,42,37,19,31,28],\"Soft Drink Preference\":[\"coke\",\"pepsi\",\"mountain dew\",\"coke\",\"pepsi\",\"coke\"]})"
   ]
  },
  {
   "cell_type": "code",
   "execution_count": null,
   "id": "43eea9ef-81e3-432b-bc30-2c003fd29fdc",
   "metadata": {},
   "outputs": [],
   "source": []
  },
  {
   "cell_type": "code",
   "execution_count": 127,
   "id": "ef13520b-a928-4c23-bbbd-aa104d507f3f",
   "metadata": {},
   "outputs": [
    {
     "data": {
      "text/html": [
       "<div>\n",
       "<style scoped>\n",
       "    .dataframe tbody tr th:only-of-type {\n",
       "        vertical-align: middle;\n",
       "    }\n",
       "\n",
       "    .dataframe tbody tr th {\n",
       "        vertical-align: top;\n",
       "    }\n",
       "\n",
       "    .dataframe thead th {\n",
       "        text-align: right;\n",
       "    }\n",
       "</style>\n",
       "<table border=\"1\" class=\"dataframe\">\n",
       "  <thead>\n",
       "    <tr style=\"text-align: right;\">\n",
       "      <th></th>\n",
       "      <th>Age</th>\n",
       "      <th>Soft Drink Preference</th>\n",
       "    </tr>\n",
       "  </thead>\n",
       "  <tbody>\n",
       "    <tr>\n",
       "      <th>0</th>\n",
       "      <td>25</td>\n",
       "      <td>coke</td>\n",
       "    </tr>\n",
       "    <tr>\n",
       "      <th>1</th>\n",
       "      <td>42</td>\n",
       "      <td>pepsi</td>\n",
       "    </tr>\n",
       "    <tr>\n",
       "      <th>2</th>\n",
       "      <td>37</td>\n",
       "      <td>mountain dew</td>\n",
       "    </tr>\n",
       "    <tr>\n",
       "      <th>3</th>\n",
       "      <td>19</td>\n",
       "      <td>coke</td>\n",
       "    </tr>\n",
       "    <tr>\n",
       "      <th>4</th>\n",
       "      <td>31</td>\n",
       "      <td>pepsi</td>\n",
       "    </tr>\n",
       "    <tr>\n",
       "      <th>5</th>\n",
       "      <td>28</td>\n",
       "      <td>coke</td>\n",
       "    </tr>\n",
       "  </tbody>\n",
       "</table>\n",
       "</div>"
      ],
      "text/plain": [
       "   Age Soft Drink Preference\n",
       "0   25                  coke\n",
       "1   42                 pepsi\n",
       "2   37          mountain dew\n",
       "3   19                  coke\n",
       "4   31                 pepsi\n",
       "5   28                  coke"
      ]
     },
     "execution_count": 127,
     "metadata": {},
     "output_type": "execute_result"
    }
   ],
   "source": [
    "df2"
   ]
  },
  {
   "cell_type": "code",
   "execution_count": 155,
   "id": "64da4bdb-1a6b-463a-bb4b-16b7d08e1745",
   "metadata": {},
   "outputs": [
    {
     "data": {
      "text/plain": [
       "<Figure size 800x600 with 0 Axes>"
      ]
     },
     "metadata": {},
     "output_type": "display_data"
    },
    {
     "data": {
      "image/png": "[encoded data removed]",
      "text/plain": [
       "<Figure size 640x480 with 1 Axes>"
      ]
     },
     "metadata": {},
     "output_type": "display_data"
    }
   ],
   "source": [
    "import pandas as pd\n",
    "import matplotlib.pyplot as plt\n",
    "\n",
    "# Create the DataFrame\n",
    "df2 = pd.DataFrame({\n",
    "    \"Age\": [25, 42, 37, 19, 31, 28],\n",
    "    \"Soft Drink Preference\": [\"coke\", \"pepsi\", \"mountain dew\", \"coke\", \"pepsi\", \"coke\"]\n",
    "})\n",
    "\n",
    "# Create a box plot to visualize the distribution of ages based on soft drink preference\n",
    "plt.figure(figsize=(8, 6))\n",
    "df2.boxplot(column='Age', by='Soft Drink Preference')\n",
    "plt.title(\"Distribution of Age by Soft Drink Preference\")\n",
    "plt.xlabel(\"Soft Drink Preference\")\n",
    "plt.ylabel(\"Age\")\n",
    "plt.show()\n"
   ]
  },
  {
   "cell_type": "code",
   "execution_count": null,
   "id": "d48a1adb-279f-472b-9d4a-8f1c85338dcd",
   "metadata": {},
   "outputs": [],
   "source": []
  },
  {
   "cell_type": "code",
   "execution_count": null,
   "id": "2b85edc3-cc34-4751-93ae-c4b41d23a81a",
   "metadata": {},
   "outputs": [],
   "source": []
  },
  {
   "cell_type": "markdown",
   "id": "a77e4836-f38c-4b11-a908-60f5826aa530",
   "metadata": {},
   "source": [
    "# Q6. A company is interested in examining the relationship between the number of sales calls made per day and the number of sales made per week. The company collected data on both variables from a sample of 30 sales representatives. Calculate the Pearson correlation coefficient between these two variables."
   ]
  },
  {
   "cell_type": "code",
   "execution_count": null,
   "id": "40967105-8df4-4325-8f27-828fa8c8925d",
   "metadata": {},
   "outputs": [],
   "source": []
  },
  {
   "cell_type": "code",
   "execution_count": 134,
   "id": "d32fc1cd-a182-4707-a6d0-20ef57799bd3",
   "metadata": {},
   "outputs": [],
   "source": [
    "sales_calls_per_day = list(np.random.randint(1,50,30))"
   ]
  },
  {
   "cell_type": "code",
   "execution_count": 141,
   "id": "5da52cca-5b2c-4f12-9b61-06b0ea743f3f",
   "metadata": {},
   "outputs": [],
   "source": [
    "sales_calls_per_week =list(np.random.randint(40,60,30))"
   ]
  },
  {
   "cell_type": "code",
   "execution_count": 143,
   "id": "2ef31f2b-16b5-4486-b1c6-7cdfb42a7ea9",
   "metadata": {},
   "outputs": [],
   "source": [
    "#sales_calls_per_week"
   ]
  },
  {
   "cell_type": "code",
   "execution_count": 145,
   "id": "be72c425-73d4-4085-a854-f0459ee2323a",
   "metadata": {},
   "outputs": [
    {
     "name": "stdout",
     "output_type": "stream",
     "text": [
      "Pearson Correlation Coefficient -0.21754724438630713\n",
      "p-value 0.24816394674298473\n"
     ]
    }
   ],
   "source": [
    "from scipy.stats import pearsonr\n",
    "correlation_coefficient,p_value = pearsonr(sales_calls_per_day,sales_calls_per_week)\n",
    "\n",
    "print(\"Pearson Correlation Coefficient\",correlation_coefficient)\n",
    "print(\"p-value\",p_value)"
   ]
  },
  {
   "cell_type": "code",
   "execution_count": null,
   "id": "11d5e1aa-c87c-44e7-96e6-45ff92347fbd",
   "metadata": {},
   "outputs": [],
   "source": []
  },
  {
   "cell_type": "code",
   "execution_count": null,
   "id": "4279ef6d-0b51-4a6a-b96c-76ed9822408a",
   "metadata": {},
   "outputs": [],
   "source": []
  },
  {
   "cell_type": "code",
   "execution_count": null,
   "id": "2a43b6ea-6dce-47eb-ba65-26afb418f1f9",
   "metadata": {},
   "outputs": [],
   "source": []
  }
 ],
 "metadata": {
  "kernelspec": {
   "display_name": "Python 3 (ipykernel)",
   "language": "python",
   "name": "python3"
  },
  "language_info": {
   "codemirror_mode": {
    "name": "ipython",
    "version": 3
   },
   "file_extension": ".py",
   "mimetype": "text/x-python",
   "name": "python",
   "nbconvert_exporter": "python",
   "pygments_lexer": "ipython3",
   "version": "3.10.8"
  }
 },
 "nbformat": 4,
 "nbformat_minor": 5
}
