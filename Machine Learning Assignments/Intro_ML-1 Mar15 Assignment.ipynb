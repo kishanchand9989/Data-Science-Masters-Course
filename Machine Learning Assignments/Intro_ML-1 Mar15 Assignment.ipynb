{
 "cells": [
  {
   "cell_type": "code",
   "execution_count": null,
   "id": "e96a489b-2ea6-4ac3-872d-5b72621026bb",
   "metadata": {},
   "outputs": [],
   "source": [
    "# Kishan Chand                          Assignment                        Mar15-23"
   ]
  },
  {
   "cell_type": "code",
   "execution_count": null,
   "id": "cebaea0e-09cd-4c8d-8527-f0272b1d2c3c",
   "metadata": {},
   "outputs": [],
   "source": []
  },
  {
   "cell_type": "markdown",
   "id": "ae0a8b33-5e8a-4f6e-a2f3-9f5016ad88dc",
   "metadata": {},
   "source": [
    "## Q1- Explain the following with an Example 1. Artificial Intelligence 2. Machine Learning  3.Deep Learning"
   ]
  },
  {
   "cell_type": "markdown",
   "id": "ed5771ad-5831-4c21-a504-0eb60c07f713",
   "metadata": {},
   "source": [
    "Artificial Intelligence (AI):\n",
    "Artificial Intelligence refers to the development and implementation of computer systems or machines that can perform tasks that typically require human intelligence. AI involves creating intelligent systems capable of learning, reasoning, problem-solving, and making decisions.\n",
    "\n",
    "Example: An AI-powered virtual assistant like Siri or Google Assistant that can understand and respond to voice commands\n",
    "\n",
    "Machine Learning (ML):\n",
    "Machine Learning is a subset of AI that focuses on designing algorithms and models that enable computers to learn and make predictions or decisions without being explicitly programmed. ML algorithms learn from data and improve their performance over time through experience.\n",
    "(or) which provides statstools to learn analyse,visualise & develop prediction models from the data\n",
    "\n",
    "Example: Training a spam email filter. Initially, a machine learning model is trained using a dataset containing labeled examples of spam and non-spam emails. The model learns patterns and characteristics that distinguish spam from non-spam emails. Once trained, the model can classify incoming emails as spam or non-spam with a high level of accuracy.\n",
    "\n",
    "Deep Learning:\n",
    "\n",
    "Deep Learning is a specialized subfield of machine learning that focuses on developing artificial neural networks inspired by the structure and function of the human brain. DL models, also known as deep neural networks, consist of multiple layers of interconnected nodes (neurons) that process and transform data. Deep learning algorithms learn hierarchical representations of data, enabling them to automatically extract complex features and patterns.\n",
    "\n",
    "Example: Image recognition task,Object Detection task \n",
    "\n",
    "A deep learning model, such as a convolutional neural network (CNN), can be trained to recognize and classify objects in images. By learning from vast amounts of labeled images, the model can automatically detect patterns, edges, and features at different levels of abstraction to accurately identify objects in new images.\n",
    "\n"
   ]
  },
  {
   "cell_type": "markdown",
   "id": "7ef4756e-0d3e-45a9-a5e6-14c5a6f7fb66",
   "metadata": {},
   "source": [
    "## Q2- What is supervised learning? List some examples of supervised learning.\n",
    "\n"
   ]
  },
  {
   "cell_type": "markdown",
   "id": "c884b428-2374-40fe-b1be-64dd3184bf26",
   "metadata": {},
   "source": [
    "Supervised learning is a machine learning approach in which an algorithm learns from labeled training data to make predictions or decisions. In supervised learning, the algorithm is provided with input-output pairs, where the inputs (also known as features or predictors) are used to predict or classify the corresponding outputs (also known as labels or targets).\n",
    "\n",
    "The main goal of supervised learning is to create a model that can accurately generalize from the training data to make predictions or decisions on unseen or new data.\n",
    "\n",
    "Examples of supervised learning algorithms and applications include:\n",
    "\n",
    "1. Linear Regression: Predicting house prices based on features like area, number of bedrooms, and location.\n",
    "2. Logistic Regression: Classifying emails as spam or non-spam based on their content.\n",
    "3. Support Vector Machines (SVM): Classifying images as cats or dogs based on their features.\n",
    "4. Decision Trees: Predicting whether a loan applicant will default or not based on various factors like credit score, income, and employment history.\n",
    "5. Random Forest: Identifying handwritten digits in image recognition tasks.\n",
    "6. Naive Bayes: Text classification, such as sentiment analysis, spam filtering, or document categorization.\n",
    "7. K-Nearest Neighbors (KNN): Predicting the genre of a movie based on its attributes and comparing it to similar movies.\n",
    "8. Gradient Boosting Models (e.g., XGBoost, LightGBM): Predicting customer churn in a telecommunications company based on historical data.\n",
    "9. Neural Networks: Recognizing handwritten digits or objects in images using deep learning models.\n"
   ]
  },
  {
   "cell_type": "code",
   "execution_count": null,
   "id": "45d988f6-4e84-46c9-80e8-988c7d29147d",
   "metadata": {},
   "outputs": [],
   "source": []
  },
  {
   "cell_type": "markdown",
   "id": "09d6ce80-40ba-4cf0-92e3-a89c5a470701",
   "metadata": {},
   "source": [
    "## Q3- What is unsupervised learning? List some eamples of unsupervised learning.\n"
   ]
  },
  {
   "cell_type": "markdown",
   "id": "14775466-a262-4946-acf2-2c34a661fe26",
   "metadata": {},
   "source": [
    "Unsupervised learning is a machine learning approach where the algorithm learns patterns and structures from unlabeled data without any specific target variable or output labels. The goal of unsupervised learning is to discover hidden patterns, relationships, or clusters within the data.\n",
    "\n",
    "Unlike supervised learning, unsupervised learning does not require labeled examples or a predefined objective. Instead, it focuses on extracting meaningful insights and structure from the data on its own.\n",
    "\n",
    "Here are some examples of unsupervised learning algorithms and applications:\n",
    "\n",
    "1. Clustering: Algorithms like K-means clustering or hierarchical clustering group similar data points together based on their features. For example, clustering customer data to identify different market segments or clustering documents based on their content.\n",
    "\n",
    "2. Anomaly Detection: Unsupervised algorithms can identify unusual or anomalous patterns in data that deviate significantly from the norm. This can be useful for detecting fraudulent transactions, network intrusions, or faulty equipment in manufacturing.\n",
    "\n",
    "3. Dimensionality Reduction: Techniques such as Principal Component Analysis (PCA) or t-SNE can reduce the dimensionality of high-dimensional data while preserving essential information. This helps in visualizing and understanding complex data or preparing data for further analysis.\n",
    "\n",
    "4. Association Rule Learning: These algorithms, such as Apriori or FP-growth, find interesting relationships or patterns within large datasets. This is commonly used in market basket analysis, where relationships between items purchased together are discovered.\n",
    "\n",
    "5. Generative Models: Unsupervised learning can be used to create models that generate new data similar to the training data. Variational Autoencoders (VAEs) and Generative Adversarial Networks (GANs) are popular examples used for image generation, text generation, and data synthesis.\n",
    "\n",
    "6. Anonymization and Privacy: Unsupervised learning methods can be employed to anonymize sensitive data by removing personally identifiable information while preserving the overall statistical properties of the dataset.\n"
   ]
  },
  {
   "cell_type": "code",
   "execution_count": null,
   "id": "df142ff8-899a-4b1d-8844-e5141ec7caa4",
   "metadata": {},
   "outputs": [],
   "source": []
  },
  {
   "cell_type": "markdown",
   "id": "ac59b35b-68ed-4426-bd54-a31a6376e391",
   "metadata": {},
   "source": [
    "## Q4- What is the difference between AI, ML, DL, and DS?\n"
   ]
  },
  {
   "cell_type": "markdown",
   "id": "b4f2e1af-3862-4ff5-b362-04c974d84db9",
   "metadata": {},
   "source": [
    "AI is a broad field that encompasses ML, DL, and other techniques. ML focuses on developing algorithms that enable machines to learn from data and make predictions or decisions. DL is a subset of ML that uses deep neural networks to extract complex features from data. DS involves the process of extracting insights and knowledge from data using statistical and computational techniques."
   ]
  },
  {
   "cell_type": "code",
   "execution_count": null,
   "id": "75de5061-ca33-43c0-a32e-32a0794557b4",
   "metadata": {},
   "outputs": [],
   "source": []
  },
  {
   "cell_type": "markdown",
   "id": "84e263ed-5442-483f-92f5-8ca2be6ebbd0",
   "metadata": {},
   "source": [
    "## Q5- What are the main differences between supervised, unsupervised, and semi-supervised learning?\n"
   ]
  },
  {
   "cell_type": "markdown",
   "id": "433a6128-a4f0-4b76-a897-4be5a2087bac",
   "metadata": {},
   "source": [
    "\n",
    "The main differences between supervised, unsupervised, and semi-supervised learning lie in the type of data available for training and the learning objectives:\n",
    "\n",
    "Supervised Learning:\n",
    "Supervised learning involves training a model using labeled data, where the input features are associated with corresponding output labels or target variables. The goal is to learn a mapping function that can predict or classify new, unseen instances accurately. The model learns from the labeled examples and generalizes to make predictions on new data. In supervised learning, the desired output or target variable is known during training.\n",
    "\n",
    "Unsupervised Learning:\n",
    "Unsupervised learning, in contrast, deals with unlabeled data where no specific output labels or target variables are provided during training. The objective is to discover patterns, relationships, or structures in the data without any predefined labels. Unsupervised learning algorithms identify inherent groupings, similarities, or anomalies in the data, helping with tasks such as clustering, dimensionality reduction, and pattern recognition. The model learns from the inherent structure and distribution of the data.\n",
    "\n",
    "Semi-Supervised Learning:\n",
    "Semi-supervised learning lies between supervised and unsupervised learning. It involves training a model using a combination of labeled and unlabeled data. The labeled data is used for supervised learning, where the model learns from the input-output pairs. The unlabeled data helps in capturing the underlying structure or distribution of the data, complementing the labeled examples. The goal is to leverage the available unlabeled data to improve the model's performance or generalization ability. Semi-supervised learning is particularly useful when labeled data is limited or expensive to obtain."
   ]
  },
  {
   "cell_type": "code",
   "execution_count": null,
   "id": "f3620c6b-75fb-4157-82b1-baa0b9f3ad82",
   "metadata": {},
   "outputs": [],
   "source": []
  },
  {
   "cell_type": "markdown",
   "id": "2977a0c7-ce2d-4077-a55e-8de04ec80548",
   "metadata": {},
   "source": [
    "## Q6- What is train, test and validation split? Explain the importance of each term.\n"
   ]
  },
  {
   "cell_type": "markdown",
   "id": "e56f9c0a-1f1b-4ec1-b532-336507995127",
   "metadata": {},
   "source": [
    "Train, test, and validation split is a common practice in machine learning and data analysis to evaluate and validate the performance of a model. The dataset is divided into three subsets: the training set, the test set, and the validation set.\n",
    "\n",
    "1. Training Set:\n",
    "The training set is the largest portion of the dataset used to train the model. It contains input features and corresponding output labels (in supervised learning) or patterns and structures (in unsupervised learning). The model learns from this data by adjusting its parameters or weights based on the input-output relationships. The training set is crucial for the model to capture patterns, generalize from examples, and optimize its performance.\n",
    "\n",
    "2. Test Set:\n",
    "The test set is used to evaluate the performance and generalization ability of the trained model. It is independent of the training process and contains new, unseen instances. The test set does not contribute to the model's learning process but is used to assess how well the model performs on unseen data. By evaluating the model's performance on the test set, we can estimate how it will perform in real-world scenarios. The test set helps assess the model's accuracy, precision, recall, or other evaluation metrics and provides an unbiased estimate of its performance.\n",
    "\n",
    "3. Validation Set:\n",
    "The validation set is an optional subset used during the training process to fine-tune the model and select the best hyperparameters or configurations. It helps in comparing different models or variations of the same model and selecting the one that performs best on the validation set. The validation set acts as a proxy for the unseen data, allowing us to make adjustments to the model's architecture, regularization techniques, or hyperparameters to improve its performance.\n",
    "\n",
    "The Importance of Each Split:\n",
    "- Training set: The training set is essential as it provides the data for the model to learn and adjust its parameters. It captures patterns, relationships, and features from the input data, enabling the model to make accurate predictions or decisions. The training set's size, diversity, and representativeness are crucial to building a robust and generalizable model.\n",
    "\n",
    "- Test set: The test set is crucial for evaluating the model's performance on new, unseen data. It provides an objective assessment of how well the model can generalize and make predictions or decisions in real-world scenarios. By using a separate test set, we can estimate the model's performance without bias introduced by the training process.\n",
    "\n",
    "- Validation set: The validation set plays a role in model selection and hyperparameter tuning. It helps in optimizing the model's architecture and parameters to improve its performance. By using a validation set, we can fine-tune the model and avoid overfitting, where the model becomes too specialized to the training data and performs poorly on unseen data.\n",
    "\n",
    "Properly splitting the data into these subsets ensures that the model is trained, evaluated, and validated using rigorous and unbiased methods. It helps in understanding the model's performance, generalization ability, and making informed decisions about its deployment or further improvements."
   ]
  },
  {
   "cell_type": "code",
   "execution_count": null,
   "id": "dd7cface-8aac-42a3-be8f-afd84f7c2ec4",
   "metadata": {},
   "outputs": [],
   "source": []
  },
  {
   "cell_type": "markdown",
   "id": "6c51c8c8-4a77-4c5a-87c1-52845cd74b8e",
   "metadata": {},
   "source": [
    "## Q7- How can unsupervised learning be used in anomaly detection?\n"
   ]
  },
  {
   "cell_type": "markdown",
   "id": "781466a7-e68c-4dfa-970c-e06578d5712b",
   "metadata": {},
   "source": [
    "Unsupervised learning can be effectively used in anomaly detection, as it enables the identification of patterns and structures in data without the need for labeled instances of anomalies. Here's an overview of how unsupervised learning techniques can be applied in anomaly detection:\n",
    "\n",
    "1. Clustering-based Approaches:\n",
    "Unsupervised clustering algorithms, such as K-means or DBSCAN, can be utilized for anomaly detection. In this approach, normal instances typically form dense clusters, while anomalies are far away from these clusters or form separate clusters themselves. By identifying instances that deviate significantly from the majority in terms of distance or density, anomalies can be detected.\n",
    "\n",
    "2. Density-based Approaches:\n",
    "Density-based anomaly detection algorithms, like Local Outlier Factor (LOF) or Isolation Forest, leverage the concept of data density to identify anomalies. These methods detect instances that have significantly lower densities compared to their neighbors. Anomalies are considered to be sparse instances located in low-density regions.\n",
    "\n",
    "3. Reconstruction-based Approaches:\n",
    "In reconstruction-based anomaly detection, an unsupervised learning algorithm, such as an autoencoder, is trained on normal instances only. The trained model learns to reconstruct the normal instances accurately. Anomalies, being different from normal instances, are reconstructed with higher errors. Thus, instances with high reconstruction errors are identified as anomalies.\n",
    "\n",
    "4. Statistical Approaches:\n",
    "Statistical techniques, such as the Gaussian distribution or other probability models, can be applied in unsupervised anomaly detection. Normal instances are expected to follow a specific statistical pattern, while anomalies deviate significantly from the expected distribution. Instances that have low probability or fall outside a defined range of the learned statistical model are flagged as anomalies.\n",
    "\n",
    "5. One-class Classification:\n",
    "One-class classification methods, such as One-Class SVM, aim to build a model based on normal instances only. These models learn the boundary or support of the normal instances in the feature space. Instances falling outside the learned boundary are considered anomalies.\n",
    "\n",
    "6. Novelty Detection:\n",
    "Novelty detection techniques focus on identifying instances that differ significantly from the training data distribution. The unsupervised learning algorithm learns the underlying patterns and structures of the training data. Instances that have low likelihood or do not conform well to the learned model are considered anomalies.\n",
    "\n",
    "It's worth noting that unsupervised anomaly detection methods may generate false positives or miss certain anomalies, as they rely solely on the distribution of normal instances. Careful consideration and tuning of the algorithm, along with domain knowledge, are necessary to ensure effective anomaly detection and minimize false detections. Additionally, combining unsupervised methods with supervised approaches or domain-specific rules can further enhance the accuracy and reliability of anomaly detection systems."
   ]
  },
  {
   "cell_type": "code",
   "execution_count": null,
   "id": "faf8f027-eeb9-41e4-9cfc-e92449a8564e",
   "metadata": {},
   "outputs": [],
   "source": []
  },
  {
   "cell_type": "markdown",
   "id": "a477b4bb-1a66-48b4-911d-d82aa7c115d8",
   "metadata": {},
   "source": [
    "## Q8- List down some commonly used supervised learning algorithms and unsupervised learning algorithms."
   ]
  },
  {
   "cell_type": "markdown",
   "id": "3db62c05-37d0-4206-84bb-d77d68d1a5db",
   "metadata": {},
   "source": [
    "Commonly used Supervised Learning Algorithms:\n",
    "\n",
    "1. Linear Regression: A linear regression model predicts a continuous target variable based on the linear relationship between the input features and the target.\n",
    "\n",
    "2. Logistic Regression: Logistic regression is used for binary classification tasks, where the model predicts the probability of an instance belonging to a particular class.\n",
    "\n",
    "3. Decision Trees: Decision tree algorithms create a tree-like model of decisions and their possible consequences. They can handle both regression and classification tasks.\n",
    "\n",
    "4. Random Forest: Random Forest is an ensemble learning method that combines multiple decision trees to improve prediction accuracy and handle complex datasets.\n",
    "\n",
    "5. Support Vector Machines (SVM): SVM algorithms find an optimal hyperplane to separate classes in binary or multi-class classification problems.\n",
    "\n",
    "6. Naive Bayes: Naive Bayes classifiers are probabilistic models that use Bayes' theorem with strong independence assumptions between features to make predictions.\n",
    "\n",
    "7. K-Nearest Neighbors (KNN): KNN algorithms classify instances based on their similarity to neighboring instances in the feature space.\n",
    "\n",
    "8. Gradient Boosting Methods: Gradient Boosting algorithms, such as Gradient Boosted Trees or XGBoost, combine weak learners sequentially to create a strong predictive model.\n",
    "\n",
    "Commonly used Unsupervised Learning Algorithms:\n",
    "\n",
    "1. K-Means Clustering: K-means is a popular clustering algorithm that partitions data into K clusters based on similarity of features.\n",
    "\n",
    "2. Hierarchical Clustering: Hierarchical clustering algorithms create a hierarchy of clusters by iteratively merging or splitting clusters based on their similarity.\n",
    "\n",
    "3. DBSCAN: Density-Based Spatial Clustering of Applications with Noise (DBSCAN) identifies dense regions in the data and groups them into clusters.\n",
    "\n",
    "4. Gaussian Mixture Models (GMM): GMM is a probabilistic model that assumes data points are generated from a mixture of Gaussian distributions and can identify underlying clusters.\n",
    "\n",
    "5. Principal Component Analysis (PCA): PCA is a dimensionality reduction technique that transforms high-dimensional data into a lower-dimensional representation while preserving important information.\n",
    "\n",
    "6. t-SNE: t-Distributed Stochastic Neighbor Embedding (t-SNE) is a technique for visualizing high-dimensional data by mapping it into a lower-dimensional space while preserving local relationships.\n",
    "\n",
    "7. Association Rule Learning: Association rule learning algorithms, such as Apriori or FP-growth, discover interesting relationships or patterns in transactional or itemset data.\n",
    "\n",
    "8. Autoencoders: Autoencoders are neural networks used for unsupervised representation learning and dimensionality reduction tasks.\n"
   ]
  },
  {
   "cell_type": "code",
   "execution_count": null,
   "id": "83dc0ed1-b77e-4e60-8205-3af78e8c3e20",
   "metadata": {},
   "outputs": [],
   "source": []
  },
  {
   "cell_type": "code",
   "execution_count": null,
   "id": "03cf300f-74e7-475b-8878-463c1fa95d2c",
   "metadata": {},
   "outputs": [],
   "source": []
  },
  {
   "cell_type": "code",
   "execution_count": null,
   "id": "f38e2a67-740f-428f-8cd4-a5ad6b294369",
   "metadata": {},
   "outputs": [],
   "source": []
  },
  {
   "cell_type": "code",
   "execution_count": null,
   "id": "53557cf5-6a7b-4043-8ff6-18aefb57fce3",
   "metadata": {},
   "outputs": [],
   "source": []
  }
 ],
 "metadata": {
  "kernelspec": {
   "display_name": "Python 3 (ipykernel)",
   "language": "python",
   "name": "python3"
  },
  "language_info": {
   "codemirror_mode": {
    "name": "ipython",
    "version": 3
   },
   "file_extension": ".py",
   "mimetype": "text/x-python",
   "name": "python",
   "nbconvert_exporter": "python",
   "pygments_lexer": "ipython3",
   "version": "3.10.8"
  }
 },
 "nbformat": 4,
 "nbformat_minor": 5
}
