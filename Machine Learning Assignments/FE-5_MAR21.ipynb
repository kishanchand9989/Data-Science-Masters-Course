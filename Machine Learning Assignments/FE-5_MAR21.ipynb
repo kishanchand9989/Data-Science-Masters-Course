{
 "cells": [
  {
   "cell_type": "markdown",
   "id": "f071454f-daf3-4a63-a94d-8207660176d9",
   "metadata": {},
   "source": [
    "         Kishan Chand                          Assignment                         Mar21-23"
   ]
  },
  {
   "cell_type": "code",
   "execution_count": null,
   "id": "c448c76e-ad0d-4494-ade0-ad7018c2f1c0",
   "metadata": {},
   "outputs": [],
   "source": []
  },
  {
   "cell_type": "markdown",
   "id": "1edc6539-df04-4357-ba27-66716e5ea49f",
   "metadata": {},
   "source": [
    "# Q1. What is the difference between Ordinal Encoding and Label Encoding? Provide an example of when you might choose one over the other."
   ]
  },
  {
   "cell_type": "markdown",
   "id": "d5833e71-564f-4d43-bdc0-3d1f44723846",
   "metadata": {},
   "source": [
    "Ordinal Encoding and Label Encoding are both techniques used to transform categorical data into numerical format, but they have distinct differences:\n",
    "\n",
    "1. Ordinal Encoding:\n",
    "   - Ordinal Encoding is used when the categorical data has a natural ordering or hierarchy.\n",
    "   - It assigns integer values to categories based on their order, where higher values represent higher ranks or categories.\n",
    "   - The order of the categories matters in this encoding.\n",
    "   - It is useful when there is a clear ranking or preference among the categories.\n",
    "   - It is not suitable for categorical data without a meaningful order.\n",
    "\n",
    "Example:\n",
    "Suppose we have a dataset with a \"Size\" column with values: [\"Small\", \"Medium\", \"Large\"]. In this case, we can use Ordinal Encoding to assign numerical values like: {\"Small\": 1, \"Medium\": 2, \"Large\": 3}.\n",
    "\n",
    "2. Label Encoding:\n",
    "   - Label Encoding is used when the categorical data has no intrinsic order or hierarchy.\n",
    "   - It assigns unique integer values to each category in an arbitrary manner.\n",
    "   - The order of the categories does not matter in this encoding.\n",
    "   - It is suitable for categorical data without any natural order, where we only need to differentiate between different categories.\n",
    "   - It can be useful for algorithms that require numerical input, but where the magnitude of the numbers is not significant.\n",
    "\n",
    "Example:\n",
    "Suppose we have a dataset with a \"Color\" column with values: [\"Red\", \"Blue\", \"Green\"]. In this case, we can use Label Encoding to assign numerical values like: {\"Red\": 1, \"Blue\": 2, \"Green\": 3}.\n",
    "\n",
    "When to Choose One Over the Other:\n",
    "- Use Ordinal Encoding when the categorical data has a clear order or ranking, and preserving this order is essential for the model's understanding.\n",
    "- Use Label Encoding when the categorical data has no meaningful order, and you only need to convert the categories into numerical values without any inherent hierarchy.\n"
   ]
  },
  {
   "cell_type": "code",
   "execution_count": null,
   "id": "3a65a765-1848-449a-aaaa-513d475d373e",
   "metadata": {},
   "outputs": [],
   "source": []
  },
  {
   "cell_type": "markdown",
   "id": "957467f1-ff6c-415d-bf0f-bee5df56325e",
   "metadata": {},
   "source": [
    "# Q2. Explain how Target Guided Ordinal Encoding works and provide an example of when you might use it in a machine learning project."
   ]
  },
  {
   "cell_type": "code",
   "execution_count": null,
   "id": "2f0a25f1-9a0e-4c96-8012-c249b778b5e4",
   "metadata": {},
   "outputs": [],
   "source": []
  },
  {
   "cell_type": "code",
   "execution_count": null,
   "id": "fa64edbf-1ef7-4253-95aa-99a55e537fbe",
   "metadata": {},
   "outputs": [],
   "source": []
  },
  {
   "cell_type": "markdown",
   "id": "b25da94e-ac2b-4e2e-91b4-cc29d0347620",
   "metadata": {},
   "source": [
    "Target Guided Ordinal Encoding is a technique used to encode categorical variables by assigning ordinal values based on their relationship with the target variable.\n",
    "This method is especially useful when dealing with categorical features that exhibit a clear and meaningful order in terms of their impact on the target variable.\n",
    "\n",
    "Here's how Target Guided Ordinal Encoding works:\n",
    "\n",
    "1. **Calculate Mean/Median for Each Category**: For each category in the categorical variable, calculate the mean or median value of the target variable. This represents the average target value associated with that category.\n",
    "\n",
    "2. **Sort Categories by Mean/Median**: Sort the categories based on their calculated mean or median values. The category with the highest mean/median will be assigned the highest rank, and so on.\n",
    "\n",
    "3. **Assign Ordinal Ranks**: Assign ordinal ranks to the categories based on their sorted order. The category with the highest mean/median gets the highest rank, the next highest category gets the next rank, and so on.\n",
    "\n",
    "4. **Replace Categories with Ordinal Ranks**: Replace the original categorical values with their corresponding ordinal ranks.\n",
    "\n",
    "Let's consider an example to illustrate Target Guided Ordinal Encoding:\n",
    "\n",
    "Suppose we're working on a customer churn prediction project. where we have a categorical feature \"Contract Duration\" with values \"Monthly,\" \"Yearly,\" and \"Biennial.\" \n",
    "let's encode this feature based on its impact on the churn rate.\n",
    "\n",
    "Here's a sample dataset:\n",
    "\n",
    "| Customer ID | Contract Duration | Churned |\n",
    "|-------------|-------------------|---------|\n",
    "| 1           | Monthly           | Yes     |\n",
    "| 2           | Yearly            | No      |\n",
    "| 3           | Biennial          | No      |\n",
    "| 4           | Monthly           | Yes     |\n",
    "| 5           | Yearly            | No      |\n",
    "\n",
    "Now, let's calculate the churn rate (proportion of customers who churned) for each category:\n",
    "\n",
    "- Churn rate for \"Monthly\": 2 out of 2 = 1.0\n",
    "- Churn rate for \"Yearly\": 0 out of 2 = 0.0\n",
    "- Churn rate for \"Biennial\": 0 out of 1 = 0.0\n",
    "\n",
    "Based on the churn rates, we sort the categories:\n",
    "\n",
    "1. Monthly (Rank 3)\n",
    "2. Yearly (Rank 1)\n",
    "3. Biennial (Rank 2)\n",
    "\n",
    "Now you replace the original values with their corresponding ordinal ranks:\n",
    "\n",
    "| Customer ID | Contract Duration (Encoded) | Churned |\n",
    "|-------------|----------------------------|---------|\n",
    "| 1           | 3                          | Yes     |\n",
    "| 2           | 1                          | No      |\n",
    "| 3           | 2                          | No      |\n",
    "| 4           | 3                          | Yes     |\n",
    "| 5           | 1                          | No      |\n",
    "\n",
    "By using Target Guided Ordinal Encoding, i've transformed the categorical variable \"Contract Duration\" into ordinal ranks based on its impact on the target variable \"Churned.\" \n",
    "This encoding can help your machine learning algorithm capture the relationship between this feature and the target variable more effectively."
   ]
  },
  {
   "cell_type": "code",
   "execution_count": null,
   "id": "26a750d9-e46c-4a3c-b130-fc5fc8c828b6",
   "metadata": {},
   "outputs": [],
   "source": []
  },
  {
   "cell_type": "code",
   "execution_count": null,
   "id": "3aa65922-6c01-4898-ab0d-03097eb9a17b",
   "metadata": {},
   "outputs": [],
   "source": []
  },
  {
   "cell_type": "markdown",
   "id": "fdcfa732-53da-40b2-a600-787a79d2b057",
   "metadata": {},
   "source": [
    "# Q3. Define covariance and explain why it is important in statistical analysis. How is covariance calculated?\n"
   ]
  },
  {
   "cell_type": "markdown",
   "id": "ad00ae3b-7013-48d4-b5c0-9eb1e1d544fe",
   "metadata": {},
   "source": [
    "Covariance is a statistical measure that quantifies the degree to which two random variables change together. \n",
    "Covariance is used to understand the relationship between two variables and is particularly useful in understanding the linear relationship between them.\n",
    "\n",
    "In statistical analysis, covariance is important because it helps us:\n",
    "\n",
    "1. Identify Relationships: Covariance allows us to identify whether two variables are positively or negatively related. A positive covariance indicates that as one variable increases, the other tends to increase as well. \n",
    "  A negative covariance indicates an inverse relationship, meaning that as one variable increases, the other tends to decrease.\n",
    "\n",
    "2. Measure Dependency: Covariance provides a measure of dependency between two variables. A high covariance suggests that the two variables are strongly related, while a low covariance suggests a weaker relationship.\n",
    "\n",
    "3. Assess Risk and Diversification: In finance and portfolio management, covariance is used to assess the risk and diversification benefits of combining assets in an investment portfolio. Assets with low or negative covariance can help reduce overall risk when combined.\n",
    "\n",
    "Covariance is calculated using the following formula:\n",
    "\n",
    "cov(X, Y) = sumamtion of {i=1} {i=n}( (X_i - bar{X})(Y_i - bar{Y}))/n\n",
    "\n",
    "Where:\n",
    "- (X) and (Y) are the two random variables.\n",
    "-(X_i) and (Y_i) are individual data points for variables (X) and (Y).\n",
    "- (bar{X}) and (bar{Y}) are the means of (X) and (Y), respectively.\n",
    "- (n) is the total number of data points.\n",
    "\n",
    "Covariance can take positive, negative, or zero values:\n",
    "- Positive covariance indicates that the variables tend to increase together.\n",
    "- Negative covariance indicates that the variables tend to change in opposite directions.\n",
    "- Zero covariance indicates that there is no linear relationship between the variables.\n"
   ]
  },
  {
   "cell_type": "code",
   "execution_count": null,
   "id": "f8a3661c-3096-4370-bb92-38560186c250",
   "metadata": {},
   "outputs": [],
   "source": []
  },
  {
   "cell_type": "code",
   "execution_count": null,
   "id": "f6abdcd7-a14b-424d-bdda-ff2c1c3e230f",
   "metadata": {},
   "outputs": [],
   "source": []
  },
  {
   "cell_type": "markdown",
   "id": "cb52b75a-56b1-4be4-b2f8-c208fce19074",
   "metadata": {},
   "source": [
    "# Q4. For a dataset with the following categorical variables: Color (red, green, blue), Size (small, medium,large), and Material (wood, metal, plastic), perform label encoding using Python's scikit-learn library.Show your code and explain the output."
   ]
  },
  {
   "cell_type": "code",
   "execution_count": 2,
   "id": "2963dc2b-6d05-4e37-a0d4-88983506a4b1",
   "metadata": {},
   "outputs": [],
   "source": [
    "import pandas as pd\n",
    "df =pd.DataFrame({'Color':['red','green','blue'],'Size':['small','medium','large'],'Material':['wood','metal','plastic']})"
   ]
  },
  {
   "cell_type": "code",
   "execution_count": 3,
   "id": "e9a8f1fd-de71-48a2-860a-5197f5ff8a4b",
   "metadata": {},
   "outputs": [
    {
     "data": {
      "text/html": [
       "<div>\n",
       "<style scoped>\n",
       "    .dataframe tbody tr th:only-of-type {\n",
       "        vertical-align: middle;\n",
       "    }\n",
       "\n",
       "    .dataframe tbody tr th {\n",
       "        vertical-align: top;\n",
       "    }\n",
       "\n",
       "    .dataframe thead th {\n",
       "        text-align: right;\n",
       "    }\n",
       "</style>\n",
       "<table border=\"1\" class=\"dataframe\">\n",
       "  <thead>\n",
       "    <tr style=\"text-align: right;\">\n",
       "      <th></th>\n",
       "      <th>Color</th>\n",
       "      <th>Size</th>\n",
       "      <th>Material</th>\n",
       "    </tr>\n",
       "  </thead>\n",
       "  <tbody>\n",
       "    <tr>\n",
       "      <th>0</th>\n",
       "      <td>red</td>\n",
       "      <td>small</td>\n",
       "      <td>wood</td>\n",
       "    </tr>\n",
       "    <tr>\n",
       "      <th>1</th>\n",
       "      <td>green</td>\n",
       "      <td>medium</td>\n",
       "      <td>metal</td>\n",
       "    </tr>\n",
       "    <tr>\n",
       "      <th>2</th>\n",
       "      <td>blue</td>\n",
       "      <td>large</td>\n",
       "      <td>plastic</td>\n",
       "    </tr>\n",
       "  </tbody>\n",
       "</table>\n",
       "</div>"
      ],
      "text/plain": [
       "   Color    Size Material\n",
       "0    red   small     wood\n",
       "1  green  medium    metal\n",
       "2   blue   large  plastic"
      ]
     },
     "execution_count": 3,
     "metadata": {},
     "output_type": "execute_result"
    }
   ],
   "source": [
    "df"
   ]
  },
  {
   "cell_type": "code",
   "execution_count": 4,
   "id": "23284e47-2e54-4645-81f0-7c14f6a771a4",
   "metadata": {},
   "outputs": [],
   "source": [
    "from sklearn.preprocessing import LabelEncoder"
   ]
  },
  {
   "cell_type": "code",
   "execution_count": 5,
   "id": "4618f525-5ccc-49ac-b8f6-f4bdefde718a",
   "metadata": {},
   "outputs": [],
   "source": [
    "l_encoder =LabelEncoder()"
   ]
  },
  {
   "cell_type": "code",
   "execution_count": 11,
   "id": "942f805a-153c-4b18-80d7-2cf9cab911da",
   "metadata": {},
   "outputs": [],
   "source": [
    "color_encoder =l_encoder.fit_transform(df['Color'])\n",
    "size_encoder =l_encoder.fit_transform(df['Size'])\n",
    "material_encoder =l_encoder.fit_transform(df['Material'])"
   ]
  },
  {
   "cell_type": "code",
   "execution_count": 12,
   "id": "26badb33-6e4a-469f-a17d-f10fecf6f401",
   "metadata": {},
   "outputs": [
    {
     "data": {
      "text/plain": [
       "(array([2, 1, 0]), array([2, 1, 0]), array([2, 0, 1]))"
      ]
     },
     "execution_count": 12,
     "metadata": {},
     "output_type": "execute_result"
    }
   ],
   "source": [
    "(color_encoder,size_encoder,material_encoder)"
   ]
  },
  {
   "cell_type": "code",
   "execution_count": null,
   "id": "6dcd0eb2-3edc-49df-8005-46ac5a79364e",
   "metadata": {},
   "outputs": [],
   "source": []
  },
  {
   "cell_type": "markdown",
   "id": "32f88f5d-d4d5-4435-b7a6-6b34f84e614a",
   "metadata": {},
   "source": [
    "# Q5. Calculate the covariance matrix for the following variables in a dataset: Age, Income, and Education level. Interpret the results."
   ]
  },
  {
   "cell_type": "code",
   "execution_count": null,
   "id": "baa28779-7cb8-4b00-883f-2d38c86524b4",
   "metadata": {},
   "outputs": [],
   "source": []
  },
  {
   "cell_type": "code",
   "execution_count": 11,
   "id": "f3566b0a-fedb-4022-be86-b900d67670cd",
   "metadata": {},
   "outputs": [],
   "source": [
    "import numpy as np"
   ]
  },
  {
   "cell_type": "code",
   "execution_count": 12,
   "id": "c5f8d7f5-22a8-41f4-934e-e9f18b6af2df",
   "metadata": {},
   "outputs": [
    {
     "data": {
      "text/plain": [
       "array([[1.16666667e+02, 9.30000000e+03, 1.05000000e+02],\n",
       "       [9.30000000e+03, 9.59000000e+05, 7.68000000e+03],\n",
       "       [1.05000000e+02, 7.68000000e+03, 9.80000000e+01]])"
      ]
     },
     "execution_count": 12,
     "metadata": {},
     "output_type": "execute_result"
    }
   ],
   "source": [
    "#val =np.array([color_encoder,size_encoder,material_encoder])\n",
    "#np.cov(val)\n",
    "Age = [20,25,30,35,40,50]\n",
    "Income =[400,500,600,800,1000,3000]\n",
    "\n",
    "Education = [10,12,20,25,30,35]\n",
    "\n",
    "attr =np.array([Age,Income,Education])\n",
    "\n",
    "np.cov(attr)"
   ]
  },
  {
   "cell_type": "code",
   "execution_count": null,
   "id": "7c50d813-96f1-4636-9b99-d9932621cdd1",
   "metadata": {},
   "outputs": [],
   "source": []
  },
  {
   "cell_type": "markdown",
   "id": "c3b0e976-a4d5-4478-89a9-057fdcefdad2",
   "metadata": {},
   "source": [
    "# Q6. You are working on a machine learning project with a dataset containing several categorical variables, including \"Gender\" (Male/Female), \"Education Level\" (High School/Bachelor's/Master's/PhD),and \"Employment Status\" (Unemployed/Part-Time/Full-Time). Which encoding method would you use for each variable, and why?"
   ]
  },
  {
   "cell_type": "markdown",
   "id": "1637f82b-46a1-4265-b259-38eadb600594",
   "metadata": {},
   "source": [
    "For the given categorical variables in the dataset (\"Gender\", \"Education Level\", and \"Employment Status\"),\n",
    "I would choose the following encoding methods based on the nature of each variable:\n",
    "\n",
    "1. Gender (Male/Female):\n",
    "   Since \"Gender\" has only two categories (binary), I would use Label Encoding. Label Encoding assigns 0 and 1 to the two categories (e.g., Male as 0, Female as 1). This encoding is suitable for binary categorical variables and is easy to implement.\n",
    "\n",
    "2. Education Level (High School/Bachelor's/Master's/PhD):\n",
    "   For \"Education Level,\" I would use Ordinal Encoding. Ordinal Encoding assigns integer values to each category based on their order or hierarchy. In this case, we can assign values like 0 for \"High School,\" 1 for \"Bachelor's,\" 2 for \"Master's,\" and 3 for \"PhD.\" This encoding preserves the ordinal relationship between the categories, as higher education levels are ranked higher.\n",
    "\n",
    "3. Employment Status (Unemployed/Part-Time/Full-Time):\n",
    "   For \"Employment Status,\" I would use One-Hot Encoding. One-Hot Encoding creates binary columns for each category, where a value of 1 indicates the presence of that category and 0 indicates the absence. Since \"Employment Status\" is not ordinal and doesn't have a natural order, One-Hot Encoding is more appropriate here. For example, we will have three binary columns, one for each category: [1, 0, 0] for \"Unemployed,\" [0, 1, 0] for \"Part-Time,\" and [0, 0, 1] for \"Full-Time.\"\n"
   ]
  },
  {
   "cell_type": "code",
   "execution_count": null,
   "id": "2066abf1-a036-432a-ab29-8092b3805b8e",
   "metadata": {},
   "outputs": [],
   "source": []
  },
  {
   "cell_type": "code",
   "execution_count": null,
   "id": "5d203ffc-143e-446b-baf1-2f1d9f6986e4",
   "metadata": {},
   "outputs": [],
   "source": []
  },
  {
   "cell_type": "markdown",
   "id": "7b39260d-c304-4954-b953-1f01592baf7c",
   "metadata": {},
   "source": [
    "# Q7. You are analyzing a dataset with two continuous variables, \"Temperature\" and \"Humidity\", and two categorical variables, \"Weather Condition\" (Sunny/Cloudy/Rainy) and \"Wind Direction\" (North/South/East/West). Calculate the covariance between each pair of variables and interpret the results."
   ]
  },
  {
   "cell_type": "code",
   "execution_count": null,
   "id": "df229d26-2fb9-4a33-97cc-45f610e4069c",
   "metadata": {},
   "outputs": [],
   "source": []
  },
  {
   "cell_type": "code",
   "execution_count": null,
   "id": "d458693d-2f33-4da4-b86f-d58cae1abe67",
   "metadata": {},
   "outputs": [],
   "source": [
    "To calculate the covariance between each pair of variables (\"Temperature\", \"Humidity\", \"Weather Condition,\" and \"Wind Direction\"), \n",
    "\n",
    "Let's assume you have the following data:\n",
    "\n",
    "Temperature = [25, 28, 23, 20, 22]\n",
    "Humidity = [50, 60, 55, 45, 58]\n",
    "Weather Condition = [\"Sunny\", \"Cloudy\", \"Rainy\", \"Sunny\", \"Cloudy\"]\n",
    "Wind Direction = [\"North\", \"South\", \"East\", \"West\", \"North\"]\n",
    "\n"
   ]
  },
  {
   "cell_type": "code",
   "execution_count": null,
   "id": "ce319bcf-ec73-4a64-8c65-7f6fdeaa35fe",
   "metadata": {},
   "outputs": [],
   "source": []
  },
  {
   "cell_type": "code",
   "execution_count": 7,
   "id": "a2fcb2f9-a894-47db-85c2-cbc65ef77542",
   "metadata": {},
   "outputs": [],
   "source": [
    "import pandas as pd\n",
    "df =pd.DataFrame({\"Temperature\":[25,28,23,20,22],\"Humidity\":[50,60,55,45,58],\"Weather Condition\":[\"Sunny\",\"Cloudy\",\"Rainy\",\"Sunny\",\"Cloudy\"],\"Wind Direction\":[\"North\",\"South\",\"East\",\"West\",\"North\"]})"
   ]
  },
  {
   "cell_type": "code",
   "execution_count": 8,
   "id": "6fd21801-0713-40ba-a907-eba3433d966c",
   "metadata": {},
   "outputs": [
    {
     "data": {
      "text/html": [
       "<div>\n",
       "<style scoped>\n",
       "    .dataframe tbody tr th:only-of-type {\n",
       "        vertical-align: middle;\n",
       "    }\n",
       "\n",
       "    .dataframe tbody tr th {\n",
       "        vertical-align: top;\n",
       "    }\n",
       "\n",
       "    .dataframe thead th {\n",
       "        text-align: right;\n",
       "    }\n",
       "</style>\n",
       "<table border=\"1\" class=\"dataframe\">\n",
       "  <thead>\n",
       "    <tr style=\"text-align: right;\">\n",
       "      <th></th>\n",
       "      <th>Temperature</th>\n",
       "      <th>Humidity</th>\n",
       "      <th>Weather Condition</th>\n",
       "      <th>Wind Direction</th>\n",
       "    </tr>\n",
       "  </thead>\n",
       "  <tbody>\n",
       "    <tr>\n",
       "      <th>0</th>\n",
       "      <td>25</td>\n",
       "      <td>50</td>\n",
       "      <td>Sunny</td>\n",
       "      <td>North</td>\n",
       "    </tr>\n",
       "    <tr>\n",
       "      <th>1</th>\n",
       "      <td>28</td>\n",
       "      <td>60</td>\n",
       "      <td>Cloudy</td>\n",
       "      <td>South</td>\n",
       "    </tr>\n",
       "    <tr>\n",
       "      <th>2</th>\n",
       "      <td>23</td>\n",
       "      <td>55</td>\n",
       "      <td>Rainy</td>\n",
       "      <td>East</td>\n",
       "    </tr>\n",
       "    <tr>\n",
       "      <th>3</th>\n",
       "      <td>20</td>\n",
       "      <td>45</td>\n",
       "      <td>Sunny</td>\n",
       "      <td>West</td>\n",
       "    </tr>\n",
       "    <tr>\n",
       "      <th>4</th>\n",
       "      <td>22</td>\n",
       "      <td>58</td>\n",
       "      <td>Cloudy</td>\n",
       "      <td>North</td>\n",
       "    </tr>\n",
       "  </tbody>\n",
       "</table>\n",
       "</div>"
      ],
      "text/plain": [
       "   Temperature  Humidity Weather Condition Wind Direction\n",
       "0           25        50             Sunny          North\n",
       "1           28        60            Cloudy          South\n",
       "2           23        55             Rainy           East\n",
       "3           20        45             Sunny           West\n",
       "4           22        58            Cloudy          North"
      ]
     },
     "execution_count": 8,
     "metadata": {},
     "output_type": "execute_result"
    }
   ],
   "source": [
    "df"
   ]
  },
  {
   "cell_type": "code",
   "execution_count": 9,
   "id": "03dbf4a2-f27f-4e0e-a841-6a625a06f23c",
   "metadata": {},
   "outputs": [
    {
     "name": "stderr",
     "output_type": "stream",
     "text": [
      "/tmp/ipykernel_534/1545644723.py:1: FutureWarning: The default value of numeric_only in DataFrame.cov is deprecated. In a future version, it will default to False. Select only valid columns or specify the value of numeric_only to silence this warning.\n",
      "  df.cov()\n"
     ]
    },
    {
     "data": {
      "text/html": [
       "<div>\n",
       "<style scoped>\n",
       "    .dataframe tbody tr th:only-of-type {\n",
       "        vertical-align: middle;\n",
       "    }\n",
       "\n",
       "    .dataframe tbody tr th {\n",
       "        vertical-align: top;\n",
       "    }\n",
       "\n",
       "    .dataframe thead th {\n",
       "        text-align: right;\n",
       "    }\n",
       "</style>\n",
       "<table border=\"1\" class=\"dataframe\">\n",
       "  <thead>\n",
       "    <tr style=\"text-align: right;\">\n",
       "      <th></th>\n",
       "      <th>Temperature</th>\n",
       "      <th>Humidity</th>\n",
       "    </tr>\n",
       "  </thead>\n",
       "  <tbody>\n",
       "    <tr>\n",
       "      <th>Temperature</th>\n",
       "      <td>9.30</td>\n",
       "      <td>11.55</td>\n",
       "    </tr>\n",
       "    <tr>\n",
       "      <th>Humidity</th>\n",
       "      <td>11.55</td>\n",
       "      <td>37.30</td>\n",
       "    </tr>\n",
       "  </tbody>\n",
       "</table>\n",
       "</div>"
      ],
      "text/plain": [
       "             Temperature  Humidity\n",
       "Temperature         9.30     11.55\n",
       "Humidity           11.55     37.30"
      ]
     },
     "execution_count": 9,
     "metadata": {},
     "output_type": "execute_result"
    }
   ],
   "source": [
    "df.cov()"
   ]
  },
  {
   "cell_type": "code",
   "execution_count": 10,
   "id": "cecd5b80-8f97-4d6c-b83a-75946ae52c58",
   "metadata": {},
   "outputs": [
    {
     "name": "stderr",
     "output_type": "stream",
     "text": [
      "/tmp/ipykernel_534/1950383679.py:2: FutureWarning: The default value of numeric_only in DataFrame.corr is deprecated. In a future version, it will default to False. Select only valid columns or specify the value of numeric_only to silence this warning.\n",
      "  sns.heatmap(df.corr(),annot=True)\n"
     ]
    },
    {
     "data": {
      "text/plain": [
       "<AxesSubplot: >"
      ]
     },
     "execution_count": 10,
     "metadata": {},
     "output_type": "execute_result"
    },
    {
     "data": {
      "image/png": "[encoded data removed]",
      "text/plain": [
       "<Figure size 640x480 with 2 Axes>"
      ]
     },
     "metadata": {},
     "output_type": "display_data"
    }
   ],
   "source": [
    "import seaborn as sns\n",
    "sns.heatmap(df.corr(),annot=True)"
   ]
  },
  {
   "cell_type": "code",
   "execution_count": null,
   "id": "1f8c13eb-0eed-4f4c-a857-7e9e9316f8bc",
   "metadata": {},
   "outputs": [],
   "source": []
  },
  {
   "cell_type": "markdown",
   "id": "4c83261a-768e-48ff-86b5-1add93ed44a5",
   "metadata": {},
   "source": [
    "\n",
    "1. Covariance between Temperature and Humidity:\n",
    "   The covariance value between \"Temperature\" and \"Humidity\" will indicate the direction and strength of the relationship between the two variables. \n",
    "   If the covariance is positive, it means that as temperature increases, humidity also tends to increase.\n",
    "   If the covariance is negative, it indicates an inverse relationship, where as temperature increases, humidity tends to decrease. \n",
    "   The magnitude of the covariance will indicate how strong the relationship is. A higher magnitude suggests a stronger relationship, \n",
    "     and a lower magnitude suggests a weaker relationship.\n"
   ]
  },
  {
   "cell_type": "code",
   "execution_count": null,
   "id": "dba7c2c8-8027-4609-bf0d-16a89cfc4698",
   "metadata": {},
   "outputs": [],
   "source": []
  },
  {
   "cell_type": "code",
   "execution_count": null,
   "id": "aa63a21e-c27d-4877-b1f3-e9f441d4fa37",
   "metadata": {},
   "outputs": [],
   "source": []
  },
  {
   "cell_type": "markdown",
   "id": "bf55df18-8b27-42d2-8b39-e57e99183995",
   "metadata": {},
   "source": [
    " Covariance between Temperature and Weather Condition, Humidity and Weather Condition, Temperature and Wind Direction, Humidity and Wind Direction:\n",
    "   For these combinations involving a continuous variable and a categorical variable, the covariance will not provide meaningful insights.\n",
    "  Covariance measures the co-movement between two continuous variables. However, categorical variables like \"Weather Condition\" and \"Wind Direction\"\n",
    "    do not have a numerical scale, so calculating covariance with them won't give useful information. Instead, \n",
    "    we can use other methods like ANOVA (Analysis of Variance) or Chi-square test to analyze the relationship between the categorical and continuous variables.\n"
   ]
  },
  {
   "cell_type": "markdown",
   "id": "84ac2fe0-0bc2-4027-8f9f-32add7886b34",
   "metadata": {},
   "source": [
    "# Chi-square Test"
   ]
  },
  {
   "cell_type": "code",
   "execution_count": null,
   "id": "a1e15507-f4b2-4053-b19c-352bd2c47648",
   "metadata": {},
   "outputs": [],
   "source": []
  },
  {
   "cell_type": "code",
   "execution_count": null,
   "id": "56ba7622-699f-4cb7-b3cb-bc7241745152",
   "metadata": {},
   "outputs": [],
   "source": []
  },
  {
   "cell_type": "code",
   "execution_count": 11,
   "id": "7f0ebecd-804f-4681-857b-78c628df9ca9",
   "metadata": {},
   "outputs": [
    {
     "name": "stdout",
     "output_type": "stream",
     "text": [
      "Chi-square Test Result:\n",
      "Chi-square statistic: 15.0\n",
      "p-value: 0.24143645097027547\n"
     ]
    }
   ],
   "source": [
    "from scipy import stats\n",
    "import pandas as pd\n",
    "\n",
    "\n",
    "# Create a contingency table\n",
    "contingency_table = pd.crosstab(df['Wind Direction'], df['Temperature'])\n",
    "\n",
    "# Perform Chi-square test\n",
    "chi2, p, dof, expected = stats.chi2_contingency(contingency_table)\n",
    "\n",
    "print(\"Chi-square Test Result:\")\n",
    "print(\"Chi-square statistic:\", chi2)\n",
    "print(\"p-value:\", p)\n"
   ]
  },
  {
   "cell_type": "code",
   "execution_count": null,
   "id": "83b09e22-e570-4fa5-abad-01ebc4b21eaf",
   "metadata": {},
   "outputs": [],
   "source": []
  },
  {
   "cell_type": "code",
   "execution_count": 18,
   "id": "9ad9cb97-5bc4-421f-aa5c-d50647c305a2",
   "metadata": {},
   "outputs": [
    {
     "name": "stdout",
     "output_type": "stream",
     "text": [
      "Chi-square Test Result:\n",
      "Chi-square statistic: 10.000000000000004\n",
      "p-value: 0.2650259152973615\n",
      "8\n",
      "[[0.4 0.4 0.4 0.4 0.4]\n",
      " [0.2 0.2 0.2 0.2 0.2]\n",
      " [0.4 0.4 0.4 0.4 0.4]]\n"
     ]
    }
   ],
   "source": [
    "from scipy import stats\n",
    "import pandas as pd\n",
    "\n",
    "\n",
    "# Create a contingency table\n",
    "contingency_table = pd.crosstab(df['Weather Condition'], df['Temperature'])\n",
    "\n",
    "# Perform Chi-square test\n",
    "chi2, p, dof, expected = stats.chi2_contingency(contingency_table)\n",
    "\n",
    "print(\"Chi-square Test Result:\")\n",
    "print(\"Chi-square statistic:\", chi2)\n",
    "print(\"p-value:\", p)\n",
    "print(dof)\n",
    "print(expected)\n"
   ]
  },
  {
   "cell_type": "code",
   "execution_count": null,
   "id": "4813b527-4f39-4b54-bbb6-7a3dc1951a99",
   "metadata": {},
   "outputs": [],
   "source": []
  },
  {
   "cell_type": "code",
   "execution_count": 13,
   "id": "15284abf-e8c6-463d-8659-28e214cbb7b9",
   "metadata": {},
   "outputs": [
    {
     "name": "stdout",
     "output_type": "stream",
     "text": [
      "Chi-square Test Result:\n",
      "Chi-square statistic: 10.000000000000004\n",
      "p-value: 0.2650259152973615\n"
     ]
    }
   ],
   "source": [
    "from scipy import stats\n",
    "import pandas as pd\n",
    "\n",
    "\n",
    "# Create a contingency table\n",
    "contingency_table = pd.crosstab(df['Weather Condition'], df['Humidity'])\n",
    "\n",
    "# Perform Chi-square test\n",
    "chi2, p, dof, expected = stats.chi2_contingency(contingency_table)\n",
    "\n",
    "print(\"Chi-square Test Result:\")\n",
    "print(\"Chi-square statistic:\", chi2)\n",
    "print(\"p-value:\", p)\n"
   ]
  },
  {
   "cell_type": "code",
   "execution_count": null,
   "id": "756b71d3-9034-4b6a-bdb2-63be88e8bea2",
   "metadata": {},
   "outputs": [],
   "source": []
  },
  {
   "cell_type": "code",
   "execution_count": 14,
   "id": "d9d6e386-7ee6-49a7-a3ba-1ffa331240be",
   "metadata": {},
   "outputs": [
    {
     "name": "stdout",
     "output_type": "stream",
     "text": [
      "Chi-square Test Result:\n",
      "Chi-square statistic: 15.0\n",
      "p-value: 0.24143645097027547\n"
     ]
    }
   ],
   "source": [
    "from scipy import stats\n",
    "import pandas as pd\n",
    "\n",
    "\n",
    "# Create a contingency table\n",
    "contingency_table = pd.crosstab(df['Wind Direction'], df['Humidity'])\n",
    "\n",
    "# Perform Chi-square test\n",
    "chi2, p, dof, expected = stats.chi2_contingency(contingency_table)\n",
    "\n",
    "print(\"Chi-square Test Result:\")\n",
    "print(\"Chi-square statistic:\", chi2)\n",
    "print(\"p-value:\", p)\n"
   ]
  },
  {
   "cell_type": "code",
   "execution_count": null,
   "id": "75384214-63a6-4369-a25b-0308b0bbf961",
   "metadata": {},
   "outputs": [],
   "source": []
  },
  {
   "cell_type": "markdown",
   "id": "3e4c8c59-dfb5-461f-92d7-c3f1726862f5",
   "metadata": {},
   "source": [
    "# ANOVA TEST"
   ]
  },
  {
   "cell_type": "code",
   "execution_count": 15,
   "id": "cb9dfd48-1965-44c0-8b05-3d84bdd70200",
   "metadata": {},
   "outputs": [
    {
     "name": "stdout",
     "output_type": "stream",
     "text": [
      "ANOVA Result:\n",
      "F-statistic: 0.21967213114754103\n",
      "p-value: 0.8198924731182796\n"
     ]
    }
   ],
   "source": [
    "from scipy import stats\n",
    "import pandas as pd\n",
    "\n",
    "\n",
    "# Perform ANOVA\n",
    "anova_result = stats.f_oneway(\n",
    "    df[df['Weather Condition'] == 'Sunny']['Temperature'],\n",
    "    df[df['Weather Condition'] == 'Cloudy']['Temperature'],\n",
    "    df[df['Weather Condition'] == 'Rainy']['Temperature']\n",
    ")\n",
    "\n",
    "print(\"ANOVA Result:\")\n",
    "print(\"F-statistic:\", anova_result.statistic)\n",
    "print(\"p-value:\", anova_result.pvalue)\n"
   ]
  },
  {
   "cell_type": "code",
   "execution_count": null,
   "id": "edb4e71a-0c78-483f-a87f-246487ddb999",
   "metadata": {},
   "outputs": [],
   "source": []
  },
  {
   "cell_type": "code",
   "execution_count": 17,
   "id": "741cc0bb-2b93-4a28-9ad1-c70df92541ac",
   "metadata": {},
   "outputs": [
    {
     "name": "stdout",
     "output_type": "stream",
     "text": [
      "ANOVA Result:\n",
      "F-statistic: 1.2208333333333332\n",
      "p-value: 0.5678443778117204\n"
     ]
    }
   ],
   "source": [
    "from scipy import stats\n",
    "import pandas as pd\n",
    "\n",
    "\n",
    "\n",
    "# Perform ANOVA\n",
    "anova_result = stats.f_oneway(\n",
    "    df[df['Wind Direction'] == 'North']['Humidity'],\n",
    "    df[df['Wind Direction'] == 'South']['Humidity'],\n",
    "    df[df['Wind Direction'] == 'East']['Humidity'],\n",
    "    df[df['Wind Direction'] == 'West']['Humidity']\n",
    ")\n",
    "\n",
    "print(\"ANOVA Result:\")\n",
    "print(\"F-statistic:\", anova_result.statistic)\n",
    "print(\"p-value:\", anova_result.pvalue)\n"
   ]
  },
  {
   "cell_type": "code",
   "execution_count": null,
   "id": "10afef2e-3cf5-4f79-bd0f-521fe0235d14",
   "metadata": {},
   "outputs": [],
   "source": []
  },
  {
   "cell_type": "code",
   "execution_count": null,
   "id": "524a78a8-12f5-4bcd-978a-27b60f04c979",
   "metadata": {},
   "outputs": [],
   "source": []
  }
 ],
 "metadata": {
  "kernelspec": {
   "display_name": "Python 3 (ipykernel)",
   "language": "python",
   "name": "python3"
  },
  "language_info": {
   "codemirror_mode": {
    "name": "ipython",
    "version": 3
   },
   "file_extension": ".py",
   "mimetype": "text/x-python",
   "name": "python",
   "nbconvert_exporter": "python",
   "pygments_lexer": "ipython3",
   "version": "3.10.8"
  }
 },
 "nbformat": 4,
 "nbformat_minor": 5
}
