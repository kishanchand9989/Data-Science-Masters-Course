{
 "cells": [
  {
   "cell_type": "code",
   "execution_count": null,
   "id": "8df95c24-b925-422f-8aa8-3cd71785f785",
   "metadata": {},
   "outputs": [],
   "source": [
    "# Kishan Chand                          Assignment                        Mar8-23"
   ]
  },
  {
   "cell_type": "code",
   "execution_count": null,
   "id": "5d92cc38-c3b4-4803-963f-253dc5e57293",
   "metadata": {},
   "outputs": [],
   "source": []
  },
  {
   "cell_type": "markdown",
   "id": "ab95edd4-a442-470f-b373-5ed347b90ae2",
   "metadata": {},
   "source": [
    "## Q1. What is the Probability density function?\n"
   ]
  },
  {
   "cell_type": "markdown",
   "id": "02f92d02-304d-4df5-b108-7b04c8f59eb4",
   "metadata": {},
   "source": [
    "The Probability Density Function (PDF) is a concept used in probability theory and statistics to describe the probability distribution of a continuous random variable. It represents the likelihood of the random variable taking on a specific value or falling within a particular range of values.\n",
    "\n",
    "Formally, the PDF is a function that defines the relative likelihood of the random variable X assuming a particular value x. It is denoted as f(x) and satisfies the following properties:\n",
    "\n",
    "1. Non-negativity: f(x) ≥ 0 for all x.\n",
    "2. Integrates to unity: ∫f(x)dx = 1, where the integral is taken over the entire range of possible values for X.\n",
    "\n",
    "The PDF provides information about the shape, spread, and central tendency of a continuous random variable's distribution. By integrating the PDF over a specific interval, We can calculate the probability that the random variable falls within that interval.\n",
    "\n",
    "Example :-\n",
    "\n",
    "if X is a continuous random variable representing the height of adult humans, the PDF f(x) would indicate the relative likelihood of a person having a specific height x. By integrating the PDF over a specific range of heights, we can determine the probability of finding a person within that height range.\n",
    "\n",
    "It's important to note that the PDF is only applicable to continuous random variables."
   ]
  },
  {
   "cell_type": "code",
   "execution_count": null,
   "id": "9b5d9926-d59c-4500-bc79-7aa1a69ec710",
   "metadata": {},
   "outputs": [],
   "source": []
  },
  {
   "cell_type": "markdown",
   "id": "2c14ab2b-5a4f-4e89-8bdd-be345ab09a41",
   "metadata": {},
   "source": [
    "## Q2. What are the types of Probability distribution?\n"
   ]
  },
  {
   "cell_type": "markdown",
   "id": "1458b6fb-48a8-4172-9d8d-a2911e858692",
   "metadata": {},
   "source": [
    "-> Normal/Gaussian Distribution\n",
    "\n",
    "-> Bernoulli Distribution\n",
    "\n",
    "-> Uniform Distribution\n",
    "\n",
    "-> log Normal Distribution\n",
    "\n",
    "-> Poisson Distribution\n",
    "\n",
    "-> Power law Distribution\n",
    "\n",
    "-> Binomial Distribution\n",
    "\n"
   ]
  },
  {
   "cell_type": "code",
   "execution_count": null,
   "id": "7f3ae4d4-df8d-4af3-803b-2d37b4435996",
   "metadata": {},
   "outputs": [],
   "source": []
  },
  {
   "cell_type": "markdown",
   "id": "cc14755a-673c-4fcc-9453-c927d6e832dd",
   "metadata": {},
   "source": [
    "## Q3. Write a Python function to calculate the probability density function of a normal distribution with given mean and standard deviation at a given point.\n"
   ]
  },
  {
   "cell_type": "code",
   "execution_count": 4,
   "id": "36f518b7-94ca-4b1a-9b1a-18644500cd26",
   "metadata": {},
   "outputs": [
    {
     "name": "stdout",
     "output_type": "stream",
     "text": [
      "PDF value at 5.5 : 1.0769760042543276e-07\n"
     ]
    }
   ],
   "source": [
    "from scipy.stats import norm\n",
    "\n",
    "def calculate_normal_pdf(mean, std_dev, point):\n",
    "    \n",
    "    pdf_value = norm.pdf(point, loc=mean, scale=std_dev)\n",
    "    return pdf_value\n",
    "\n",
    "\n",
    "mean = 0  # Mean of the normal distribution\n",
    "std_dev = 1  # Standard deviation of the normal distribution\n",
    "point = 5.5  # Point at which to evaluate the PDF\n",
    "\n",
    "pdf_value = calculate_normal_pdf(mean, std_dev, point)\n",
    "print(\"PDF value at\", point, \":\", pdf_value)\n"
   ]
  },
  {
   "cell_type": "code",
   "execution_count": null,
   "id": "a28d3437-ed35-4d7c-b2f0-844acae26ac4",
   "metadata": {},
   "outputs": [],
   "source": []
  },
  {
   "cell_type": "markdown",
   "id": "88ee9614-a53a-4a3b-875a-87d4e2dbbe1e",
   "metadata": {},
   "source": [
    "## Q4. What are the properties of Binomial distribution? Give two examples of events where binomial distribution can be applied.\n"
   ]
  },
  {
   "cell_type": "markdown",
   "id": "e33a9c07-9e27-47ad-a2ca-2c89b43bd715",
   "metadata": {},
   "source": [
    "The binomial distribution has several key properties:\n",
    "\n",
    "1. Fixed number of trials: The binomial distribution models a fixed number of independent trials or experiments.\n",
    "\n",
    "2. Two possible outcomes: Each trial in a binomial distribution can only have two possible outcomes, often referred to as success and failure.\n",
    "\n",
    "3. Independent trials: The outcome of each trial is independent of the others, meaning that the outcome of one trial does not affect the outcome of subsequent trials.\n",
    "\n",
    "4. Constant probability of success: The probability of success (p) remains constant for each trial.\n",
    "\n",
    "5. Discrete probability distribution: The binomial distribution is a discrete probability distribution, meaning it describes the probabilities of discrete outcomes (e.g., the number of successes).\n",
    "\n",
    "Examples of events where the binomial distribution can be applied include:\n",
    "\n",
    "1. Coin Flips: Consider a situation where you flip a fair coin multiple times and want to determine the probability of getting a certain number of heads. Each flip can be considered a binomial trial with two possible outcomes (heads or tails), and the number of heads obtained in a fixed number of flips follows a binomial distribution.\n",
    "\n",
    "2. Quality Control: Suppose a company tests a sample of products from a production line to determine the number of defective items. Each product tested can be considered a binomial trial with two possible outcomes (defective or non-defective). The number of defective products within a fixed sample size can be modeled using a binomial distribution.\n",
    "\n",
    "In both examples, the binomial distribution is applicable because there are a fixed number of independent trials (coin flips or product tests), two possible outcomes (success or failure), and a constant probability of success (e.g., the probability of getting heads or the probability of a product being defective)."
   ]
  },
  {
   "cell_type": "code",
   "execution_count": null,
   "id": "3b3f3c44-cfbb-45d2-b529-8dc240f798d9",
   "metadata": {},
   "outputs": [],
   "source": []
  },
  {
   "cell_type": "markdown",
   "id": "2d6cd741-cd91-4a42-9fe5-348976046a84",
   "metadata": {},
   "source": [
    "## Q5. Generate a random sample of size 1000 from a binomial distribution with probability of success 0.4 and plot a histogram of the results using matplotlib.\n"
   ]
  },
  {
   "cell_type": "code",
   "execution_count": 18,
   "id": "33d2c80e-12a7-4111-8e1c-a4264d91dedd",
   "metadata": {},
   "outputs": [
    {
     "data": {
      "image/png": "[encoded data removed]",
      "text/plain": [
       "<Figure size 640x480 with 1 Axes>"
      ]
     },
     "metadata": {},
     "output_type": "display_data"
    }
   ],
   "source": [
    "import numpy as np\n",
    "import matplotlib.pyplot as plt\n",
    "\n",
    "# Set the parameters\n",
    "sample_size = 1000\n",
    "probability_success = 0.4\n",
    "\n",
    "# Generate random sample from binomial distribution\n",
    "random_sample = np.random.binomial(1, probability_success, sample_size)\n",
    "\n",
    "# Plot histogram\n",
    "plt.hist(random_sample, bins=2, edgecolor='black')\n",
    "plt.xlabel('Outcomes')\n",
    "plt.ylabel('Frequency')\n",
    "plt.title('Histogram of Random Sample from Binomial Distribution')\n",
    "plt.xticks([0, 1], ['Failure', 'Success'])\n",
    "plt.yticks(np.arange(0, sample_size+1, 100))\n",
    "#plt.grid(True)\n",
    "plt.show()\n",
    "#plt.xticks(\n"
   ]
  },
  {
   "cell_type": "code",
   "execution_count": null,
   "id": "732bf907-6c11-45e8-8582-d772f58b3a17",
   "metadata": {},
   "outputs": [],
   "source": []
  },
  {
   "cell_type": "markdown",
   "id": "ec44c449-494c-4628-b889-6405135d094d",
   "metadata": {},
   "source": [
    "## Q6. Write a Python function to calculate the cumulative distribution function of a Poisson distribution with given mean at a given point.\n"
   ]
  },
  {
   "cell_type": "code",
   "execution_count": 22,
   "id": "b5dc70a3-bf48-49d0-96f7-4c3dbdd5ed74",
   "metadata": {},
   "outputs": [
    {
     "name": "stdout",
     "output_type": "stream",
     "text": [
      "CDF value at 8 : 0.9901263419438951\n"
     ]
    }
   ],
   "source": [
    "from scipy.stats import poisson\n",
    "\n",
    "def calculate_poisson_cdf(mean, point):\n",
    "    cdf_value = poisson.cdf(point, mu=mean)\n",
    "    return cdf_value\n",
    "\n",
    "mean = 3.5  # Mean of the Poisson distribution\n",
    "point = 8  # Point at which to evaluate the CDF\n",
    "\n",
    "cdf_value = calculate_poisson_cdf(mean, point)\n",
    "print(\"CDF value at\", point, \":\", cdf_value)\n"
   ]
  },
  {
   "cell_type": "code",
   "execution_count": null,
   "id": "3233fd86-3feb-4782-917a-0bc7f0b24b13",
   "metadata": {},
   "outputs": [],
   "source": []
  },
  {
   "cell_type": "markdown",
   "id": "cc2e1728-6932-49a7-b33d-832f5492c5ca",
   "metadata": {},
   "source": [
    "## Q7. How Binomial distribution different from Poisson distribution?\n"
   ]
  },
  {
   "cell_type": "markdown",
   "id": "dc3d91d0-4977-4240-9a96-926304cf2283",
   "metadata": {},
   "source": [
    "The binomial distribution and the Poisson distribution are both probability distributions commonly used to model discrete events. While they share similarities, they differ in several key aspects:\n",
    "\n",
    "1. Number of Trials: The binomial distribution is defined for a fixed number of independent trials, denoted by \"n\". Each trial in a binomial distribution can have two possible outcomes (e.g., success or failure). In contrast, the Poisson distribution does not have a fixed number of trials. It models the number of events occurring in a fixed interval of time or space.\n",
    "\n",
    "2. Probability of Success: In the binomial distribution, the probability of success for each trial remains constant and is denoted by \"p\". In other words, the probability of observing a success in any individual trial does not change throughout the process. On the other hand, the Poisson distribution does not have a probability of success per trial. Instead, it uses a single parameter, denoted by \"λ\" (lambda), which represents the average rate of events occurring in the given interval.\n",
    "\n",
    "3. Nature of Events: The binomial distribution is commonly used to model events that have a fixed number of independent trials with two possible outcomes (e.g., flipping a coin multiple times or counting the number of successes in a fixed number of Bernoulli trials). The Poisson distribution, on the other hand, is often used to model events that involve counting the number of occurrences of a specific event within a given time or space interval (e.g., the number of phone calls received in an hour or the number of car accidents in a day).\n",
    "\n",
    "4. Assumptions: The binomial distribution assumes that the trials are independent of each other, and the probability of success remains constant for each trial. In contrast, the Poisson distribution assumes that the events occur randomly in time or space, and the average rate of events is constant.\n",
    "\n",
    "5. Shape of Distribution: The shape of the binomial distribution is discrete and tends to be symmetric when the number of trials is large and the probability of success is not too close to 0 or 1. The Poisson distribution, on the other hand, is also discrete but has a skewed shape that becomes more symmetrical as the average rate of events increases.\n"
   ]
  },
  {
   "cell_type": "code",
   "execution_count": null,
   "id": "32186784-80b4-4794-9eea-3dd04ad3793a",
   "metadata": {},
   "outputs": [],
   "source": []
  },
  {
   "cell_type": "markdown",
   "id": "a2d0d378-dae9-4b6e-ad15-50b0d8074b75",
   "metadata": {},
   "source": [
    "## Q8. Generate a random sample of size 1000 from a Poisson distribution with mean 5 and calculate the sample mean and variance.\n"
   ]
  },
  {
   "cell_type": "code",
   "execution_count": 24,
   "id": "6c27acd4-79d5-44be-b97c-8692769f362a",
   "metadata": {},
   "outputs": [
    {
     "name": "stdout",
     "output_type": "stream",
     "text": [
      "Random Sample [ 7  7  9  7  4  5  6  4  2  8  3  4  9  4  8  6  5  6  6  4  5  4  5 11\n",
      "  6  7  3  3  4  5  6  3  3  8  3  1  6  6 13  4  7  5  2  2  5  5  4  8\n",
      "  1  3  6  2  6  2  5 11  8  4  2  6  7  5  4  5  5  3  6  5  5  4  6  3\n",
      "  3  3  6  3  7  4  3  3  4  1  5  9  5  4  3  2  3  8  2  8  6  7  6  9\n",
      "  8  2  5  7  8  6  1  4  7  4  5  4  4  6  7  3  8  1  8  5  1  5  7  9\n",
      "  8  5  7  7  6  6  1 10  8  3  6  2  7  2  5  5  4  2  3  4  7  4  2  2\n",
      "  5  8  3  7  8 11 10  2  4  5  3  5  6  6  6  4  4  2  7  5  4  5  4  6\n",
      "  5  5  7  6 10  6  7  4  3  7  2  5  4  5  9  7  2  2  5  6  8  3  3  8\n",
      "  6 11 11  6  3  5  3  3  4  5  4  5  3  2  2  5  6  4 10  6  9  4  5  5\n",
      "  5  2  7  8  0 11  6  6  6  3  5  1  1  6  6  3  6 12  4  4  7  8  2  3\n",
      "  4  3  7  6  6  3  1  9  3  3  8  5  6  5  4  4  3  7  9  4  6  2  5  2\n",
      "  7  1  5  6  3  1  6  4  3  6 10  1  3  5  3 11  5  5  8  3  5  5  3  2\n",
      "  4  6  4  5  5  3  2  4  6  4  5  3  6  8 10  3  4  3  4  6  3  2  1  5\n",
      "  3  2  2  7  2  2  1  5  5  4  4  9  9  6  4  6  6  9  4  5  3  3  5  5\n",
      "  4  7  7  5  4  3  3  9  4  4  4  4  4  4  6  5  6  4  7  4  0 12  3  5\n",
      "  3  6  4  5  5  5  2  7  7  3  5  2  5  5  3  4  4  4  7  6  9  6  4  6\n",
      "  3  2  6  1  4  4  6  4  5  3  6  6  6  5  6  6  4  5  2  5  4  6  7  5\n",
      "  8  6  4  6  6  4  3  7  6  3  5  2  1  2  2  5  2  3 15  3  5  6  7  7\n",
      "  2  3  6  4  4  6  6  5  4  6  4  8  3  7  9  1  4  9  3  2  6  8  6  7\n",
      "  3  1  2  2  3  5  6  6  4  6  4  7  4  7  4  5  5  2  6  5 10  6  5  4\n",
      "  3  8  6  6  5  7  6  4  7 10  6  7  3  7  5  5  6  7  3  2  2  2  6  5\n",
      "  5  3  2  5  6  6  4  5  3  3  1  7  4  2  3  2  4  4  4  3  3  3  0  3\n",
      "  6 12  6  6  9  3  4  2  5  4  5  7  5  6  2  5  3  3 11  4  5  6  1  2\n",
      "  8  7 10  3  9  6  2  9  7  6  8  8  9  1  2  3  6  2  5  6  8  6  3  2\n",
      "  3  6  5  3  7  9 10  6  5  7  4  6  3  0  5 12  4  4  5  7 11  2  4  6\n",
      "  2  6 11  6  6  3  5  5  4  7  8  3  9  6 10  6  6  6  7  6  6  7  3  7\n",
      "  6  8  4  6  4  4  4  7  2  8  5  3  2  8  3  7  5  5  5  1  0  5  6  3\n",
      "  6  9  2  2  6  5  4  2  6  5  4  3  7  4  1  3  6 10  7 12  4  3  9  4\n",
      "  2 10  5  6  4  8  5  6  6  5  3  6  5  5  8  4  2 10  0 10 10  2  4  3\n",
      "  5  2  5  4  5  3  8  4  8  5  6 12  5  8  6  4  6  5  2  4  2  6  4  5\n",
      "  7  3  8  7  4  8  9  3  5  3  6  2  4  5  5  5  4  5  4  5  6  5  9  1\n",
      "  5  5  1  4  7  7  2  7  5  4  6  2  7  6  3  3  3  7  3  6  4  4  3  4\n",
      "  2  3  6  4  5  6  6  7  1  7  5  3  3  5  4  4  9  5  7  1  6  5  7  4\n",
      "  6  3  7  4  5  4  5  4  3  5  5  6  8  4  9  5  4  5  5  2  1  6  4  3\n",
      "  3  6  7  2  8 11  3  3  5  7  7  5  5  2  8  5  6  1  0  5  6  5  5  3\n",
      "  7  1  3  5  7  5  4  9  3 13 10  9  4  6  4  4  8  4  7  1  6  8  6  6\n",
      "  3  4  2  6  3  4  7  5  4  9  9  5  5  1  6  4  8  7  4  5  4  8  5  3\n",
      "  6  9  5  4  5  7  6  5  5  9  4  9  3  2  9  6  2  2  9  2  7  3  3  6\n",
      "  4  4  3  5  2  5  3  8  7  6 11  3  3  3  9  6  3  5  5  7  3  7  6  5\n",
      "  6  7  7  8  7  4  5  3  4  2  6  9  6  6  7  5  3  4  5  6  5  5  9  7\n",
      " 11  5  5 10  5  5  2  2  6  4  3 11  1  6  8  8  5  2  2  4  4  2  6  6\n",
      "  6  1  4  4  6  3  7  7  5  5  3  6  6  4  4  5]\n",
      "Sample Mean: 5.039\n",
      "Sample Variance: 5.377478999999999\n"
     ]
    }
   ],
   "source": [
    "import numpy as np\n",
    "\n",
    "# Set the parameters\n",
    "sample_size = 1000\n",
    "mean = 5\n",
    "\n",
    "# Generate random sample from Poisson distribution\n",
    "random_sample = np.random.poisson(mean, sample_size)\n",
    "\n",
    "print(\"Random Sample\",random_sample)\n",
    "# Calculate sample mean and variance\n",
    "sample_mean = np.mean(random_sample)\n",
    "sample_variance = np.var(random_sample)\n",
    "\n",
    "print(\"Sample Mean:\", sample_mean)\n",
    "print(\"Sample Variance:\", sample_variance)\n"
   ]
  },
  {
   "cell_type": "code",
   "execution_count": null,
   "id": "e17565ec-4d34-4193-8bdd-bf8a52673f8a",
   "metadata": {},
   "outputs": [],
   "source": []
  },
  {
   "cell_type": "markdown",
   "id": "59f9c7a6-cf9a-4e6d-af15-6637912eebc4",
   "metadata": {},
   "source": [
    "## Q9. How mean and variance are related in Binomial distribution and Poisson distribution?\n"
   ]
  },
  {
   "cell_type": "markdown",
   "id": "69f1dbac-971c-4877-9ce0-49f94f84ae73",
   "metadata": {},
   "source": [
    "In both the binomial distribution and the Poisson distribution, the mean and variance are related, but the nature of their relationship differs.\n",
    "\n",
    "For the Binomial Distribution:\n",
    "In a binomial distribution, the mean (μ) and the variance (σ²) are related by the formula:\n",
    "σ² = n * p * (1 - p)\n",
    "where:\n",
    "- n is the number of trials,\n",
    "- p is the probability of success in each trial.\n",
    "\n",
    "This formula indicates that the variance of a binomial distribution increases with the number of trials (n) and the product of the probability of success (p) and the probability of failure (1 - p).\n",
    "\n",
    "For example, if you are conducting multiple independent trials (n) with the probability of success (p) being the same for each trial, as you increase the number of trials or the probability of success, the variance of the binomial distribution will also increase.\n",
    "\n",
    "For the Poisson Distribution:\n",
    "In a Poisson distribution, the mean (λ) and the variance (σ²) are equal, meaning they have the same value.\n",
    "Thus, the relationship between the mean and variance of a Poisson distribution is expressed as:\n",
    "σ² = λ\n",
    "\n",
    "In the Poisson distribution, the mean and variance are both equal to the parameter λ (lambda), which represents the average rate of events occurring in a given time or space interval. This equality indicates that the dispersion or spread of the distribution is solely determined by the mean parameter.\n",
    "\n",
    "For example, if you have a Poisson distribution with a mean rate of 5 events per hour (λ = 5), then the variance of that distribution would also be 5.\n",
    "\n",
    "In summary, in the binomial distribution, the variance depends on both the number of trials and the probability of success, while in the Poisson distribution, the variance is equal to the mean, and it is solely determined by the average rate of events."
   ]
  },
  {
   "cell_type": "code",
   "execution_count": null,
   "id": "58b6b4c6-2daa-4ab2-805b-e46fba5da5cb",
   "metadata": {},
   "outputs": [],
   "source": []
  },
  {
   "cell_type": "markdown",
   "id": "0e704949-5114-43ae-aeef-76045101021c",
   "metadata": {},
   "source": [
    "## Q10. In normal distribution with respect to mean position, where does the least frequent data appear?"
   ]
  },
  {
   "cell_type": "markdown",
   "id": "90342242-ae5c-4f1d-9d19-f0b2b1b432ce",
   "metadata": {},
   "source": [
    "In a normal distribution, the least frequent data points appear at the tails of the distribution, farthest away from the mean. The normal distribution is symmetric, so the least frequent data points occur in the extreme ends of the distribution, both on the left (negative values) and the right (positive values) of the mean.\n",
    "\n",
    "Specifically, in a normal distribution:\n",
    "- The mean is located at the center of the distribution.\n",
    "- The highest frequency of data points occurs around the mean.\n",
    "- As you move away from the mean towards the tails of the distribution, the frequency of data points gradually decreases.\n",
    "- The data points in the tails, which are the farthest from the mean, occur with the least frequency.\n",
    "\n",
    "This pattern is a characteristic feature of the bell-shaped curve of the normal distribution, where the majority of the data is concentrated near the mean, and the occurrence of data points becomes increasingly rare as you move away from the mean towards the tails of the distribution."
   ]
  },
  {
   "cell_type": "code",
   "execution_count": null,
   "id": "7291ffb2-136b-4f8f-b7ef-af7e04150d59",
   "metadata": {},
   "outputs": [],
   "source": []
  },
  {
   "cell_type": "code",
   "execution_count": null,
   "id": "599a257e-8121-4e98-bda8-c21191524adc",
   "metadata": {},
   "outputs": [],
   "source": []
  }
 ],
 "metadata": {
  "kernelspec": {
   "display_name": "Python 3 (ipykernel)",
   "language": "python",
   "name": "python3"
  },
  "language_info": {
   "codemirror_mode": {
    "name": "ipython",
    "version": 3
   },
   "file_extension": ".py",
   "mimetype": "text/x-python",
   "name": "python",
   "nbconvert_exporter": "python",
   "pygments_lexer": "ipython3",
   "version": "3.10.8"
  }
 },
 "nbformat": 4,
 "nbformat_minor": 5
}
