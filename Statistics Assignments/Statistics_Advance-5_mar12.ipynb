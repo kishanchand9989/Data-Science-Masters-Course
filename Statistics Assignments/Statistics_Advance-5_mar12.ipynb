{
 "cells": [
  {
   "cell_type": "code",
   "execution_count": null,
   "id": "6e20ad7e-5b0e-49c4-bec7-12bc97310b78",
   "metadata": {},
   "outputs": [],
   "source": [
    "# Kishan Chand                          Assignment                        Mar12-23"
   ]
  },
  {
   "cell_type": "code",
   "execution_count": null,
   "id": "7f7d65fb-f018-4fcc-84a0-dc8504295ffd",
   "metadata": {},
   "outputs": [],
   "source": []
  },
  {
   "cell_type": "markdown",
   "id": "9694880c-0cd3-4cc8-ad78-2e2463627004",
   "metadata": {},
   "source": [
    "## Q1. Calculate the 95% confidence interval for a sample of data with a mean of 50 and a standard deviation of 5 using Python. Interpret the results.\n"
   ]
  },
  {
   "cell_type": "code",
   "execution_count": 4,
   "id": "9eb00dde-a7d0-4b5e-a3a0-1d17593d77c7",
   "metadata": {},
   "outputs": [
    {
     "name": "stdout",
     "output_type": "stream",
     "text": [
      "nan\n",
      "95% Confidence Interval: (nan, nan)\n"
     ]
    }
   ],
   "source": [
    "import scipy.stats as stats\n",
    "\n",
    "data = [50]  # Sample data\n",
    "mean = 50    # Sample mean\n",
    "std_dev = 5  # Sample standard deviation\n",
    "confidence = 0.95  # Confidence level\n",
    "\n",
    "n = len(data)  # Sample size\n",
    "std_error = std_dev / (n ** 0.5)  # Standard error\n",
    "\n",
    "# Calculate the margin of error\n",
    "margin_error = stats.t.ppf((1 + confidence) / 2, n - 1) * std_error\n",
    "print(margin_error)\n",
    "# Calculate the confidence interval\n",
    "lower_bound = mean - margin_error\n",
    "upper_bound = mean + margin_error\n",
    "\n",
    "print(\"95% Confidence Interval:\", (lower_bound, upper_bound))\n"
   ]
  },
  {
   "cell_type": "code",
   "execution_count": null,
   "id": "001b33c2-523a-4e55-b1e4-80f55049ea72",
   "metadata": {},
   "outputs": [],
   "source": [
    "\n"
   ]
  },
  {
   "cell_type": "markdown",
   "id": "5483ef8c-a9f5-4c1a-8141-2489dbb98adf",
   "metadata": {},
   "source": [
    "## Q2. Conduct a chi-square goodness of fit test to determine if the distribution of colors of M&Ms in a bag matches the expected distribution of 20% blue, 20% orange, 20% green, 10% yellow, 10% red, and 20% brown. Use Python to perform the test with a significance level of 0.05."
   ]
  },
  {
   "cell_type": "code",
   "execution_count": null,
   "id": "03e6b501-acc7-47f2-8a1c-d3733ce8bd4b",
   "metadata": {},
   "outputs": [],
   "source": []
  },
  {
   "cell_type": "code",
   "execution_count": 6,
   "id": "c624ac8d-ff3e-42a6-b1d8-ba879afe4e45",
   "metadata": {},
   "outputs": [
    {
     "name": "stdout",
     "output_type": "stream",
     "text": [
      "Fail to reject the null hypothesis. The distribution of colors does not differ significantly from the expected distribution.\n"
     ]
    }
   ],
   "source": [
    "import numpy as np\n",
    "from scipy.stats import chi2_contingency\n",
    "\n",
    "observed_freq = np.array([20, 20, 20, 10, 10, 20])\n",
    "# observed frequencies As mentioned in Question where the bag matches the expected dstribution,which means where observed distribution matches expected distribution\n",
    "expected_freq = np.array([0.2, 0.2, 0.2, 0.1, 0.1, 0.2]) * np.sum(observed_freq)\n",
    "\n",
    "# Create a contingency table from the observed and expected frequencies\n",
    "contingency_table = np.vstack((observed_freq, expected_freq))\n",
    "\n",
    "# Perform the chi-square test\n",
    "statistic, p_value, _, _ = chi2_contingency(contingency_table)\n",
    "\n",
    "significance_level = 0.05\n",
    "\n",
    "if p_value < significance_level:\n",
    "    print(\"Reject the null hypothesis. The distribution of colors differs significantly from the expected distribution.\")\n",
    "else:\n",
    "    print(\"Fail to reject the null hypothesis. The distribution of colors does not differ significantly from the expected distribution.\")\n"
   ]
  },
  {
   "cell_type": "markdown",
   "id": "79b7f073-8334-4b8c-8591-f9e81d79cc2a",
   "metadata": {},
   "source": [
    "## Q3. Use Python to calculate the chi-square statistic and p-value for a contingency table with the following data:\n",
    "          Group A     Group B\n",
    "\n",
    "Outcome 1 20            15\n",
    "Outcome 2 10            25\n",
    "Outcome 3 15            20\n"
   ]
  },
  {
   "cell_type": "code",
   "execution_count": null,
   "id": "971b8d4d-16aa-4dbf-8de8-8042414f7316",
   "metadata": {},
   "outputs": [],
   "source": []
  },
  {
   "cell_type": "code",
   "execution_count": 7,
   "id": "4e3fc3a2-d85a-4f2a-a60c-d51839e63c95",
   "metadata": {},
   "outputs": [
    {
     "name": "stdout",
     "output_type": "stream",
     "text": [
      "Chi-square statistic: 5.833333333333334\n",
      "p-value: 0.05411376622282158\n",
      "Expected values:\n",
      "[[15. 20.]\n",
      " [15. 20.]\n",
      " [15. 20.]]\n"
     ]
    }
   ],
   "source": [
    "## Expected value = (row total * column total) / grand total\n",
    "\n",
    "import numpy as np\n",
    "from scipy.stats import chi2_contingency\n",
    "\n",
    "# Create the contingency table\n",
    "observed = np.array([[20, 15],\n",
    "                     [10, 25],\n",
    "                     [15, 20]])\n",
    "\n",
    "# Calculate expected values\n",
    "row_totals = observed.sum(axis=1)\n",
    "col_totals = observed.sum(axis=0)\n",
    "grand_total = observed.sum()\n",
    "\n",
    "expected = np.outer(row_totals, col_totals) / grand_total\n",
    "\n",
    "# Perform the chi-square test\n",
    "chi2, p_value, _, _ = chi2_contingency(observed)\n",
    "\n",
    "# Print the results\n",
    "print(\"Chi-square statistic:\", chi2)\n",
    "print(\"p-value:\", p_value)\n",
    "print(\"Expected values:\")\n",
    "print(expected)\n"
   ]
  },
  {
   "cell_type": "code",
   "execution_count": null,
   "id": "e2ac069c-2e9b-43d0-85d9-03c64a9ffb05",
   "metadata": {},
   "outputs": [],
   "source": []
  },
  {
   "cell_type": "markdown",
   "id": "05d7c5e6-9aa7-485f-b3c4-7ea9a7b92e46",
   "metadata": {},
   "source": [
    "## Q4. A study of the prevalence of smoking in a population of 500 individuals found that 60 individuals smoked. Use Python to calculate the 95% confidence interval for the true proportion of individuals in the population who smoke."
   ]
  },
  {
   "cell_type": "code",
   "execution_count": 13,
   "id": "d49449ac-11bf-4889-8554-2257b417ea5d",
   "metadata": {},
   "outputs": [
    {
     "name": "stdout",
     "output_type": "stream",
     "text": [
      "Confidence Interval: [0.09151638887130707, 0.1484836111286929]\n"
     ]
    }
   ],
   "source": [
    "import scipy.stats as stats\n",
    "\n",
    "sample_size = 500\n",
    "smokers = 60\n",
    "\n",
    "# Calculate the sample proportion\n",
    "sample_proportion = smokers / sample_size\n",
    "\n",
    "# Calculate the standard error\n",
    "standard_error = (sample_proportion * (1 - sample_proportion) / sample_size) ** 0.5\n",
    "\n",
    "# Set the confidence level\n",
    "confidence_level = 0.95\n",
    "\n",
    "# Calculate the margin of error\n",
    "margin_of_error = stats.norm.ppf((1 + confidence_level) / 2) * standard_error\n",
    "\n",
    "# Calculate the lower and upper bounds of the confidence interval\n",
    "lower_bound = sample_proportion - margin_of_error\n",
    "upper_bound = sample_proportion + margin_of_error\n",
    "\n",
    "# Print the confidence interval\n",
    "print(f\"Confidence Interval: [{lower_bound}, {upper_bound}]\")\n"
   ]
  },
  {
   "cell_type": "code",
   "execution_count": null,
   "id": "53f8db72-4370-47e8-89b4-193475924d58",
   "metadata": {},
   "outputs": [],
   "source": []
  },
  {
   "cell_type": "markdown",
   "id": "0faad203-c540-4cdc-8785-23a724f08de1",
   "metadata": {},
   "source": [
    "## Q5. Calculate the 90% confidence interval for a sample of data with a mean of 75 and a standard deviation of 12 using Python. Interpret the results."
   ]
  },
  {
   "cell_type": "code",
   "execution_count": 12,
   "id": "cb7c6cd3-5ad4-47e0-a6f0-c866853eeb02",
   "metadata": {},
   "outputs": [
    {
     "ename": "SyntaxError",
     "evalue": "invalid syntax (1687053605.py, line 5)",
     "output_type": "error",
     "traceback": [
      "\u001b[0;36m  Cell \u001b[0;32mIn[12], line 5\u001b[0;36m\u001b[0m\n\u001b[0;31m    sample_size = # Specify your sample size here\u001b[0m\n\u001b[0m                  ^\u001b[0m\n\u001b[0;31mSyntaxError\u001b[0m\u001b[0;31m:\u001b[0m invalid syntax\n"
     ]
    }
   ],
   "source": [
    "import scipy.stats as stats\n",
    "\n",
    "sample_mean = 75\n",
    "sample_std = 12\n",
    "sample_size =  \n",
    "# Specify your sample size here\n",
    "\n",
    "confidence_level = 0.9\n",
    "\n",
    "# Calculate the standard error\n",
    "standard_error = sample_std / (sample_size ** 0.5)\n",
    "\n",
    "# Calculate the margin of error\n",
    "margin_of_error = stats.t.ppf((1 + confidence_level) / 2, df=sample_size - 1) * standard_error\n",
    "\n",
    "# Calculate the lower and upper bounds of the confidence interval\n",
    "lower_bound = sample_mean - margin_of_error\n",
    "upper_bound = sample_mean + margin_of_error\n",
    "\n",
    "# Print the confidence interval\n",
    "print(f\"Confidence Interval: [{lower_bound}, {upper_bound}]\")\n"
   ]
  },
  {
   "cell_type": "code",
   "execution_count": null,
   "id": "17f51e61-b500-4e51-a05c-4c4ae08c40c4",
   "metadata": {},
   "outputs": [],
   "source": []
  },
  {
   "cell_type": "markdown",
   "id": "663f807e-420d-4b13-b1e5-93daf4a9b01d",
   "metadata": {},
   "source": [
    "## Q6. Use Python to plot the chi-square distribution with 10 degrees of freedom. Label the axes and shade the area corresponding to a chi-square statistic of 15."
   ]
  },
  {
   "cell_type": "code",
   "execution_count": 16,
   "id": "072c9c04-6a95-4317-810a-aa500e884804",
   "metadata": {},
   "outputs": [
    {
     "data": {
      "image/png": "[encoded data removed]",
      "text/plain": [
       "<Figure size 640x480 with 1 Axes>"
      ]
     },
     "metadata": {},
     "output_type": "display_data"
    }
   ],
   "source": [
    "import numpy as np\n",
    "import matplotlib.pyplot as plt\n",
    "import scipy.stats as stats\n",
    "\n",
    "# Define the degrees of freedom\n",
    "df = 10\n",
    "\n",
    "# Generate x values from 0 to 30\n",
    "x = np.linspace(0, 30, 1000)\n",
    "\n",
    "# Calculate the chi-square probability density function (pdf) for the given degrees of freedom\n",
    "y = stats.chi2.pdf(x, df)\n",
    "\n",
    "# Plot the chi-square distribution\n",
    "plt.plot(x, y, label=f\"Chi-square with {df} degrees of freedom\")\n",
    "\n",
    "# Shade the area corresponding to a chi-square statistic of 15\n",
    "x_fill = np.linspace(15, 30, 1000)\n",
    "y_fill = stats.chi2.pdf(x_fill, df)\n",
    "plt.fill_between(x_fill, y_fill, color='gray', alpha=0.3, label=\"Area of chi-square statistic 15\")\n",
    "\n",
    "# Label the axes\n",
    "plt.xlabel(\"Chi-square statistic\")\n",
    "plt.ylabel(\"Probability Density Function (PDF)\")\n",
    "\n",
    "# Add a legend\n",
    "plt.legend()\n",
    "\n",
    "# Display the plot\n",
    "plt.show()\n"
   ]
  },
  {
   "cell_type": "code",
   "execution_count": null,
   "id": "1eae1678-2d3f-4af3-85e0-381ff764735a",
   "metadata": {},
   "outputs": [],
   "source": []
  },
  {
   "cell_type": "markdown",
   "id": "0d40eb1f-edd1-40b6-b168-2de83b758db3",
   "metadata": {},
   "source": [
    "## Q7. A random sample of 1000 people was asked if they preferred Coke or Pepsi. Of the sample, 520 preferred Coke. Calculate a 99% confidence interval for the true proportion of people in the population who prefer Coke."
   ]
  },
  {
   "cell_type": "code",
   "execution_count": 15,
   "id": "40042b1a-a107-43da-bfbb-bd5f4845d6db",
   "metadata": {},
   "outputs": [
    {
     "name": "stdout",
     "output_type": "stream",
     "text": [
      "Confidence Interval: [0.4793051576779699, 0.5606948423220302]\n"
     ]
    }
   ],
   "source": [
    "import scipy.stats as stats\n",
    "\n",
    "sample_size = 1000\n",
    "coke = 520\n",
    "\n",
    "# Calculate the sample proportion\n",
    "sample_proportion = coke / sample_size\n",
    "\n",
    "# Calculate the standard error\n",
    "standard_error = (sample_proportion * (1 - sample_proportion) / sample_size) ** 0.5\n",
    "\n",
    "# Set the confidence level\n",
    "confidence_level = 0.99\n",
    "\n",
    "# Calculate the margin of error\n",
    "margin_of_error = stats.norm.ppf((1 + confidence_level) / 2) * standard_error\n",
    "\n",
    "# Calculate the lower and upper bounds of the confidence interval\n",
    "lower_bound = sample_proportion - margin_of_error\n",
    "upper_bound = sample_proportion + margin_of_error\n",
    "\n",
    "# Print the confidence interval\n",
    "print(f\"Confidence Interval: [{lower_bound}, {upper_bound}]\")\n"
   ]
  },
  {
   "cell_type": "code",
   "execution_count": null,
   "id": "39fe08ce-04e6-4711-a03d-9c9262890c4b",
   "metadata": {},
   "outputs": [],
   "source": []
  },
  {
   "cell_type": "markdown",
   "id": "fdb51d13-383c-4cc2-afaf-69dbd1ef68b0",
   "metadata": {},
   "source": [
    "## Q8. A researcher hypothesizes that a coin is biased towards tails. They flip the coin 100 times and observe 45 tails. Conduct a chi-square goodness of fit test to determine if the observed frequencies match the expected frequencies of a fair coin. Use a significance level of 0.05."
   ]
  },
  {
   "cell_type": "code",
   "execution_count": 17,
   "id": "ea615efd-a897-4011-ba6d-c3056c2115d9",
   "metadata": {},
   "outputs": [
    {
     "name": "stdout",
     "output_type": "stream",
     "text": [
      "Chi-square statistic: 1.0000\n",
      "P-value: 0.3173\n",
      "There is no evidence to reject the null hypothesis (the coin is fair).\n"
     ]
    }
   ],
   "source": [
    "import numpy as np\n",
    "import scipy.stats as stats\n",
    "\n",
    "# Define the observed frequencies\n",
    "observed_freq = np.array([45, 55])  # Number of tails, Number of heads\n",
    "\n",
    "# Define the expected frequencies assuming a fair coin\n",
    "expected_freq = np.array([50, 50])  # Number of tails, Number of heads\n",
    "\n",
    "# Perform the chi-square goodness of fit test\n",
    "chi2_stat, p_value = stats.chisquare(observed_freq, f_exp=expected_freq)\n",
    "\n",
    "# Define the significance level\n",
    "significance_level = 0.05\n",
    "\n",
    "# Print the results\n",
    "print(f\"Chi-square statistic: {chi2_stat:.4f}\")\n",
    "print(f\"P-value: {p_value:.4f}\")\n",
    "\n",
    "if p_value < significance_level:\n",
    "    print(\"There is evidence to reject the null hypothesis (the coin is biased).\")\n",
    "else:\n",
    "    print(\"There is no evidence to reject the null hypothesis (the coin is fair).\")\n"
   ]
  },
  {
   "cell_type": "code",
   "execution_count": null,
   "id": "aeb2868e-4061-4a30-adb0-ccd71a4eab7c",
   "metadata": {},
   "outputs": [],
   "source": []
  },
  {
   "cell_type": "markdown",
   "id": "a3b418df-eb58-4024-a29f-31e3f64351ee",
   "metadata": {},
   "source": [
    "## Q9. A study was conducted to determine if there is an association between smoking status (smoker or non-smoker) and lung cancer diagnosis (yes or no). The results are shown in the contingency table below. Conduct a chi-square test for independence to determine if there is a significant association between smoking status and lung cancer diagnosis.\n",
    "\n",
    "         Lung Cancer: Yes    Lung Cancer: No\n",
    "\n",
    "Smoker          60              140\n",
    "Non-smoker      30              170\n",
    "\n",
    "Use a significance level of 0.05.\n"
   ]
  },
  {
   "cell_type": "code",
   "execution_count": 18,
   "id": "111be4b7-7d46-49e6-a7ef-ca6d5a5eb891",
   "metadata": {},
   "outputs": [
    {
     "name": "stdout",
     "output_type": "stream",
     "text": [
      "Chi-square statistic: 12.0573\n",
      "P-value: 0.0005\n",
      "Degrees of freedom: 1\n",
      "Expected frequencies:\n",
      "[[ 45. 155.]\n",
      " [ 45. 155.]]\n",
      "There is evidence to reject the null hypothesis (there is an association).\n"
     ]
    }
   ],
   "source": [
    "import numpy as np\n",
    "import scipy.stats as stats\n",
    "\n",
    "# Define the observed frequencies\n",
    "observed_freq = np.array([[60, 140], [30, 170]])\n",
    "\n",
    "# Perform the chi-square test for independence\n",
    "chi2_stat, p_value, dof, expected_freq = stats.chi2_contingency(observed_freq)\n",
    "\n",
    "# Define the significance level\n",
    "significance_level = 0.05\n",
    "\n",
    "# Print the results\n",
    "print(f\"Chi-square statistic: {chi2_stat:.4f}\")\n",
    "print(f\"P-value: {p_value:.4f}\")\n",
    "print(f\"Degrees of freedom: {dof}\")\n",
    "print(\"Expected frequencies:\")\n",
    "print(expected_freq)\n",
    "\n",
    "if p_value < significance_level:\n",
    "    print(\"There is evidence to reject the null hypothesis (there is an association).\")\n",
    "else:\n",
    "    print(\"There is no evidence to reject the null hypothesis (there is no association).\")\n"
   ]
  },
  {
   "cell_type": "code",
   "execution_count": null,
   "id": "847e224f-930f-4430-a120-99bd5de010b2",
   "metadata": {},
   "outputs": [],
   "source": []
  },
  {
   "cell_type": "markdown",
   "id": "a8627783-76a5-4625-b02a-3c76fcf493dd",
   "metadata": {},
   "source": [
    "## Q10. A study was conducted to determine if the proportion of people who prefer milk chocolate, dark chocolate, or white chocolate is different in the U.S. versus the U.K. A random sample of 500 people from the U.S. and a random sample of 500 people from the U.K. were surveyed. The results are shown in the contingency table below. Conduct a chi-square test for independence to determine if there is a significant association between chocolate preference and country of origin.\n",
    "\n",
    "            Milk Chocolate   Dark Chocolate   White Chocolate\n",
    "\n",
    "U.S.(n=500)    200             150              150\n",
    "U.K.(n=500)    225             175              100\n",
    "\n",
    "Use a significance level of 0.01.\n"
   ]
  },
  {
   "cell_type": "code",
   "execution_count": 11,
   "id": "88c7f7cb-1351-47e2-919c-44079e6e7434",
   "metadata": {},
   "outputs": [
    {
     "name": "stdout",
     "output_type": "stream",
     "text": [
      "There is a significant association between chocolate preference and country of origin.\n",
      "Chi-square statistic: 13.393665158371041\n",
      "P-value: 0.0012348168997745918\n",
      "Degrees of freedom: 2\n",
      "Expected frequencies:\n",
      " [[212.5 162.5 125. ]\n",
      " [212.5 162.5 125. ]]\n"
     ]
    }
   ],
   "source": [
    "import numpy as np\n",
    "from scipy.stats import chi2_contingency\n",
    "\n",
    "# Contingency table (observed frequencies)\n",
    "observed_freq = np.array([[200, 150, 150],\n",
    "                          [225, 175, 100]])\n",
    "\n",
    "# Perform chi-square test for independence\n",
    "chi2_stat, p_value, dof, expected_freq = chi2_contingency(observed_freq)\n",
    "\n",
    "# Set significance level\n",
    "significance_level = 0.01\n",
    "\n",
    "# Compare p-value with significance level\n",
    "if p_value < significance_level:\n",
    "    print(\"There is a significant association between chocolate preference and country of origin.\")\n",
    "else:\n",
    "    print(\"There is no significant association between chocolate preference and country of origin.\")\n",
    "\n",
    "# Print the chi-square statistic, p-value, degrees of freedom, and expected frequencies\n",
    "print(\"Chi-square statistic:\", chi2_stat)\n",
    "print(\"P-value:\", p_value)\n",
    "print(\"Degrees of freedom:\", dof)\n",
    "print(\"Expected frequencies:\\n\", expected_freq)\n"
   ]
  },
  {
   "cell_type": "code",
   "execution_count": null,
   "id": "c0a75805-4d2c-4b04-b1d0-a553b536fdb4",
   "metadata": {},
   "outputs": [],
   "source": []
  },
  {
   "cell_type": "markdown",
   "id": "0536bc48-2eae-41fe-8434-5b0b1a64a60d",
   "metadata": {},
   "source": [
    "## Q11. A random sample of 30 people was selected from a population with an unknown mean and standard deviation. The sample mean was found to be 72 and the sample standard deviation was found to be 10. Conduct a hypothesis test to determine if the population mean is significantly different from 70. Use asignificance level of 0.05."
   ]
  },
  {
   "cell_type": "code",
   "execution_count": null,
   "id": "1f0e7af6-8475-4a23-867a-65ee0e8dd59a",
   "metadata": {},
   "outputs": [],
   "source": []
  },
  {
   "cell_type": "code",
   "execution_count": 9,
   "id": "8d521d09-8490-40d3-9792-251227d94f99",
   "metadata": {},
   "outputs": [
    {
     "name": "stdout",
     "output_type": "stream",
     "text": [
      "Fail to reject the null hypothesis. There is not enough evidence to conclude that the population mean is significantly different from 70.\n"
     ]
    }
   ],
   "source": [
    "import numpy as np\n",
    "from scipy.stats import t\n",
    "\n",
    "# Given information\n",
    "sample_mean = 72\n",
    "sample_std = 10\n",
    "sample_size = 30\n",
    "population_mean = 70\n",
    "significance_level = 0.05\n",
    "\n",
    "# Calculate the test statistic (t-value)\n",
    "t_value = (sample_mean - population_mean) / (sample_std / np.sqrt(sample_size))\n",
    "\n",
    "# Calculate the critical t-value for the given significance level and degrees of freedom\n",
    "degrees_of_freedom = sample_size - 1\n",
    "critical_t = t.ppf(1 - significance_level / 2, df=degrees_of_freedom)\n",
    "\n",
    "# Compare the test statistic with the critical t-value\n",
    "if np.abs(t_value) > critical_t:\n",
    "    # Reject the null hypothesis\n",
    "    print(\"Reject the null hypothesis. The population mean is significantly different from 70.\")\n",
    "else:\n",
    "    # Fail to reject the null hypothesis\n",
    "    print(\"Fail to reject the null hypothesis. There is not enough evidence to conclude that the population mean is significantly different from 70.\")\n"
   ]
  },
  {
   "cell_type": "code",
   "execution_count": null,
   "id": "48ff89a0-ec1d-4b7f-ae19-5d5bb332472b",
   "metadata": {},
   "outputs": [],
   "source": []
  },
  {
   "cell_type": "code",
   "execution_count": null,
   "id": "55fe74f0-4b74-4665-8af2-daea4e364ed5",
   "metadata": {},
   "outputs": [],
   "source": []
  }
 ],
 "metadata": {
  "kernelspec": {
   "display_name": "Python 3 (ipykernel)",
   "language": "python",
   "name": "python3"
  },
  "language_info": {
   "codemirror_mode": {
    "name": "ipython",
    "version": 3
   },
   "file_extension": ".py",
   "mimetype": "text/x-python",
   "name": "python",
   "nbconvert_exporter": "python",
   "pygments_lexer": "ipython3",
   "version": "3.10.8"
  }
 },
 "nbformat": 4,
 "nbformat_minor": 5
}
