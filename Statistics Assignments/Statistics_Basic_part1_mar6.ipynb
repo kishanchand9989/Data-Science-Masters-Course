{
 "cells": [
  {
   "cell_type": "code",
   "execution_count": 1,
   "id": "10158104-2371-4cd6-94a1-6fb998dc5748",
   "metadata": {},
   "outputs": [],
   "source": [
    "# Kishan Chand                          Assignment                        Mar6-23"
   ]
  },
  {
   "cell_type": "code",
   "execution_count": null,
   "id": "e4de7859-a2d8-402a-b867-412d4aa07424",
   "metadata": {},
   "outputs": [],
   "source": []
  },
  {
   "cell_type": "markdown",
   "id": "d1aefb9d-54d0-4312-be1d-3736b3f44398",
   "metadata": {},
   "source": [
    "## Q1. What is Statistics?"
   ]
  },
  {
   "cell_type": "markdown",
   "id": "74f17baf-9e29-4b23-b02f-5383838573b2",
   "metadata": {},
   "source": [
    "\n",
    "Statistics is a branch of mathematics and a discipline of study that deals with the collection, organization, analysis, interpretation, and presentation of numerical data. \n",
    "It involves the use of mathematical techniques and tools to gain insights and make informed decisions based on data.\n",
    "\n",
    "The primary goal of statistics is to understand variability and uncertainty in data, and to make inferences or draw conclusions about a population based on a sample. \n",
    "It provides methods for summarizing and describing data, identifying patterns and relationships, testing hypotheses, and making predictions or forecasts.\n",
    "\n"
   ]
  },
  {
   "cell_type": "code",
   "execution_count": null,
   "id": "e0189765-a8de-4c09-bd96-e8b1629630c7",
   "metadata": {},
   "outputs": [],
   "source": []
  },
  {
   "cell_type": "markdown",
   "id": "bcf2a770-2f24-47da-853e-3c3027746fe5",
   "metadata": {},
   "source": [
    "## Q2. Define the different types of statistics and give an example of when each type might be used."
   ]
  },
  {
   "cell_type": "markdown",
   "id": "a3aafbb1-bc7b-4ee9-a6e8-e6a5b48b43e1",
   "metadata": {},
   "source": []
  },
  {
   "cell_type": "markdown",
   "id": "ff4868a0-d9ec-4cd7-bbed-e7636f5b34ac",
   "metadata": {},
   "source": [
    "There are several types of statistics that are commonly used in data analysis. Here are some of the key types and examples of when they might be used:\n",
    "\n",
    "1. Descriptive Statistics: Descriptive statistics involve summarizing and describing the main features of a dataset. This includes measures of central tendency (mean, median, mode) and measures of variability (range, standard deviation). Descriptive statistics are useful for giving a snapshot of the data and providing initial insights. For example, descriptive statistics can be used to summarize the average income and the range of incomes in a population.\n",
    "\n",
    "2. Inferential Statistics: Inferential statistics involve making inferences or generalizations about a population based on sample data. This includes techniques such as hypothesis testing and confidence intervals. Inferential statistics are used to draw conclusions and make predictions beyond the observed data. For example, inferential statistics can be used to determine whether a new drug treatment is effective by comparing outcomes between a treatment group and a control group.\n",
    "\n",
    "3. Probability: Probability is the study of uncertainty and the likelihood of events occurring. It provides a mathematical framework to quantify the chances of different outcomes. Probability theory is used in various fields, such as gambling, insurance, and quality control. For example, in a game of dice, probability is used to calculate the likelihood of rolling a specific number.\n",
    "\n",
    "4. Statistical Modeling: Statistical modeling involves using mathematical models to represent relationships between variables in a dataset. Models can be simple, such as linear regression, or complex, such as multivariate analysis. Statistical modeling is used for prediction, understanding relationships, and uncovering patterns in data. For example, a marketing team might use a regression model to predict sales based on advertising expenditure and other factors.\n",
    "\n",
    "5. Experimental Design: Experimental design refers to the planning and structure of experiments to ensure valid and reliable results. It involves determining sample sizes, randomization, and control groups. Experimental design is used in scientific research, clinical trials, and product testing. For example, in a drug trial, experimental design is used to assign participants randomly to treatment and control groups to minimize bias and ensure accurate conclusions.\n",
    "\n",
    "6. Sampling Theory: Sampling theory is concerned with the selection of a subset of individuals or items from a larger population. It provides principles for selecting representative samples and estimating population parameters. Sampling theory is used in surveys, opinion polls, and market research. For example, a political pollster might use sampling theory to select a representative sample of voters to estimate the overall voting preferences in an election.\n",
    "\n",
    " Each type has its own purpose and techniques, and they are often used in combination to gain a comprehensive understanding of data."
   ]
  },
  {
   "cell_type": "code",
   "execution_count": null,
   "id": "38cee36d-617f-415c-a3d1-a8e65457e055",
   "metadata": {},
   "outputs": [],
   "source": []
  },
  {
   "cell_type": "markdown",
   "id": "638be40d-7d24-455e-ab2d-0e86bfbdd588",
   "metadata": {},
   "source": [
    "## Q3. What are the different types of data and how do they differ from each other? Provide an example of each type of data."
   ]
  },
  {
   "cell_type": "markdown",
   "id": "c148d988-20ec-4b93-a7c2-d27c28749e4a",
   "metadata": {},
   "source": [
    "Data can be classified into different types based on the nature and characteristics of the variables being measured. The main types of data are:\n",
    "\n",
    "1. Nominal Data: Nominal data represents categories or labels without any inherent order or numerical value. The categories are distinct and mutually exclusive. Examples of nominal data include gender (male, female), marital status (single, married, divorced), or types of animals (cat, dog, bird).\n",
    "\n",
    "2. Ordinal Data: Ordinal data has categories with a natural order or ranking but without specific numerical values. The categories can be ranked or ordered based on a certain attribute. Examples of ordinal data include educational attainment (elementary, high school, college), survey ratings (poor, fair, good, excellent), or socioeconomic status (low, middle, high).\n",
    "\n",
    "3. Interval Data: Interval data has categories with a specific order, and the intervals between values are equal and meaningful. However, it does not have a true zero point. Arithmetic operations like addition and subtraction can be performed on interval data, but multiplication and division are not meaningful. Examples of interval data include temperature measured in Celsius or Fahrenheit, calendar dates, or years.\n",
    "\n",
    "4. Ratio Data: Ratio data has all the properties of interval data but also has a true zero point, indicating an absence of the measured attribute. Ratios and proportions can be calculated with ratio data, and all arithmetic operations are meaningful. Examples of ratio data include height, weight, time, or income.\n",
    "\n",
    "5. Discrete Data: Discrete data consists of whole numbers or values that are distinct and separate. They cannot take on any value within a range. Examples of discrete data include the number of students in a class, the number of cars in a parking lot, or the count of occurrences of an event.\n",
    "\n",
    "6. Continuous Data: Continuous data can take on any value within a range and is not limited to specific values. It can be measured at any level of precision. Examples of continuous data include measurements such as temperature, weight, height, or time.\n",
    "\n",
    "It is important to understand the type of data being dealt with as it determines the appropriate statistical techniques and methods for analysis. Different types of data require different approaches for summarization, analysis, and interpretation."
   ]
  },
  {
   "cell_type": "code",
   "execution_count": null,
   "id": "27adf41a-6b47-45e5-ac2e-b2adc2004f22",
   "metadata": {},
   "outputs": [],
   "source": []
  },
  {
   "cell_type": "markdown",
   "id": "bd92b644-e208-431c-bee3-27cb2a60a767",
   "metadata": {},
   "source": [
    "## Q4. Categorise the following datasets with respect to quantitative and qualitative data types:\n",
    "##     (i) Grading in exam: A+, A, B+, B, C+, C, D, E\n",
    "##     (ii) Colour of mangoes: yellow, green, orange, red\n",
    "##     (iii) Height data of a class: [178.9, 179, 179.5, 176, 177.2, 178.3, 175.8,...]\n",
    "##     (iv) Number of mangoes exported by a farm: [500, 600, 478, 672, ...]"
   ]
  },
  {
   "cell_type": "code",
   "execution_count": null,
   "id": "44bb0962-4c85-4ce1-97b6-ba554c379b83",
   "metadata": {},
   "outputs": [],
   "source": []
  },
  {
   "cell_type": "markdown",
   "id": "7bed0b45-33e1-4c2e-8652-c821c15cbd61",
   "metadata": {},
   "source": [
    "##  Qualitative data  - Nominal data\n",
    "##  Qualitative data  - Nominal data\n",
    "##  Quantitative data - Continuos data\n",
    "##  Quantitative data - Discrete data"
   ]
  },
  {
   "cell_type": "code",
   "execution_count": null,
   "id": "86e0dff0-e6c9-45f1-a93b-1564bf5d44da",
   "metadata": {},
   "outputs": [],
   "source": []
  },
  {
   "cell_type": "markdown",
   "id": "f29cf4e2-3cef-4a62-a0be-9800be5359df",
   "metadata": {},
   "source": [
    "## Q5. Explain the concept of levels of measurement and give an example of a variable for each level."
   ]
  },
  {
   "cell_type": "markdown",
   "id": "5dde1f43-a54a-46eb-b5f8-d1ba627c1d58",
   "metadata": {},
   "source": [
    "Levels of measurement, also known as scales of measurement, refer to the different ways in which variables can be measured or categorized. These levels indicate the properties and characteristics of the data associated with a particular variable. There are four main levels of measurement:\n",
    "\n",
    "1. Nominal Level: At the nominal level, variables are categorized into distinct and mutually exclusive groups or categories. The categories have no inherent order or numerical value. Examples of variables at the nominal level include:\n",
    "\n",
    "   - Eye color: Blue, brown, green\n",
    "   - Ethnicity: Caucasian, African American, Asian, Hispanic\n",
    "\n",
    "2. Ordinal Level: At the ordinal level, variables have categories that can be ranked or ordered based on a certain attribute, but the differences between the categories may not be equal or quantifiable. Examples of variables at the ordinal level include:\n",
    "\n",
    "   - Educational attainment: High school diploma, Bachelor's degree, Master's degree\n",
    "   - Survey ratings: Very satisfied, satisfied, neutral, dissatisfied, very dissatisfied\n",
    "\n",
    "3. Interval Level: At the interval level, variables have categories with a specific order, and the intervals between values are equal and meaningful. However, the scale does not have a true zero point. Examples of variables at the interval level include:\n",
    "\n",
    "   - Temperature: 20°C, 25°C, 30°C\n",
    "   - Calendar dates: January 1, February 15, March 10\n",
    "\n",
    "4. Ratio Level: At the ratio level, variables have all the properties of interval level variables, but they also have a true zero point, indicating the absence of the measured attribute. Ratios and proportions can be calculated with ratio level variables, and all arithmetic operations are meaningful. Examples of variables at the ratio level include:\n",
    "\n",
    "   - Height: 160 cm, 175 cm, 180 cm\n",
    "   - Income: $50,000, $70,000, $90,000\n",
    "\n"
   ]
  },
  {
   "cell_type": "code",
   "execution_count": null,
   "id": "e5ab6ec9-4c60-4179-b81d-28bc26550c54",
   "metadata": {},
   "outputs": [],
   "source": []
  },
  {
   "cell_type": "markdown",
   "id": "12f2586c-cfc1-41d3-822a-2afbaddc97a8",
   "metadata": {},
   "source": [
    "## Q6. Why is it important to understand the level of measurement when analyzing data? Provide an example to illustrate your answer."
   ]
  },
  {
   "cell_type": "markdown",
   "id": "7efd9bc8-40c5-48e9-a743-f55bb3a51911",
   "metadata": {},
   "source": [
    "\n",
    "Understanding the level of measurement is important when analyzing data because it determines the appropriate statistical methods and operations that can be applied to the data. The level of measurement dictates the types of calculations, analyses, and interpretations that can be made with the data. Here's an example to illustrate its importance:\n",
    "\n",
    "Let's consider a scenario where we have collected data on the satisfaction levels of customers at a restaurant. Each customer was asked to rate their satisfaction on a scale of 1 to 5, with 1 being very dissatisfied and 5 being very satisfied.\n",
    "\n",
    "If we mistakenly treat this data as ratio level data, we might perform inappropriate calculations such as taking the average (mean) of the satisfaction ratings. However, treating the data as ratio level implies that the difference between a rating of 1 and 2 is the same as the difference between 4 and 5, and that a rating of 0 is possible. In reality, the satisfaction ratings in this case are ordinal data, as the numerical values simply represent categories or ranks without a true zero point or equal intervals.\n",
    "\n",
    "Understanding that the data is at the ordinal level of measurement helps us choose appropriate statistical measures. Instead of calculating the mean, we could use measures such as the median (middle value) or mode (most frequently occurring value) to summarize the central tendency of the satisfaction ratings. Additionally, we could employ non-parametric statistical tests, such as the Mann-Whitney U test or Kruskal-Wallis test, to analyze the differences between groups or categories.\n",
    "\n",
    "By correctly identifying the level of measurement, we can ensure the appropriate analysis and interpretation of the data, avoiding misleading or inaccurate conclusions. It helps us apply statistical techniques that align with the inherent properties and characteristics of the data, leading to more accurate and meaningful results."
   ]
  },
  {
   "cell_type": "code",
   "execution_count": null,
   "id": "eea750a0-3ed8-4d92-b000-a1d73ee82895",
   "metadata": {},
   "outputs": [],
   "source": []
  },
  {
   "cell_type": "markdown",
   "id": "8aa52743-2b15-4615-a741-98f3f5af0c3f",
   "metadata": {},
   "source": [
    "## Q7. How nominal data type is different from ordinal data type."
   ]
  },
  {
   "cell_type": "markdown",
   "id": "70f10b90-2630-4923-94ff-00e9bcb7ed3a",
   "metadata": {},
   "source": [
    "Nominal data and ordinal data are two different levels of measurement that categorize variables in distinct ways:\n",
    "\n",
    "1. Nominal Data:\n",
    "- Nominal data is a level of measurement where variables are categorized into distinct and mutually exclusive groups or categories.\n",
    "- The categories in nominal data have no inherent order or numerical value associated with them.\n",
    "- Nominal data can be represented by labels, names, or symbols.\n",
    "- Examples of nominal data include gender (male, female), eye color (blue, brown, green), or types of animals (cat, dog, bird).\n",
    "- In nominal data, the categories are simply different from one another, but no ranking or order is implied.\n",
    "\n",
    "2. Ordinal Data:\n",
    "- Ordinal data is a level of measurement where variables have categories that can be ranked or ordered based on a certain attribute.\n",
    "- The categories in ordinal data have a relative position or order, but the differences between categories may not be equal or quantifiable.\n",
    "- Ordinal data captures the rank or preference among categories.\n",
    "- Examples of ordinal data include educational attainment (elementary, high school, college), survey ratings (poor, fair, good, excellent), or socioeconomic status (low, middle, high).\n",
    "- In ordinal data, the categories have an inherent order, and the information is preserved in terms of greater than, less than, or equal to relationships.\n",
    "\n",
    "In summary, the key difference between nominal data and ordinal data lies in the nature of their categories. Nominal data represents distinct and unrelated categories without any inherent order, while ordinal data represents categories that can be ranked or ordered based on some attribute but does not have equal intervals or quantifiable differences between categories."
   ]
  },
  {
   "cell_type": "code",
   "execution_count": null,
   "id": "843f6d62-a874-4af1-b910-2b439d8b7d80",
   "metadata": {},
   "outputs": [],
   "source": []
  },
  {
   "cell_type": "markdown",
   "id": "c0c3909e-d85d-4922-802d-9550947e9477",
   "metadata": {},
   "source": [
    "## Q8. Which type of plot can be used to display data in terms of range?"
   ]
  },
  {
   "cell_type": "markdown",
   "id": "131246b4-1f62-4b8b-8e68-6a42228a25e0",
   "metadata": {},
   "source": [
    "A box plot, also known as a box-and-whisker plot, is commonly used to display data in terms of range. A box plot provides a visual representation of the minimum, first quartile, median, third quartile, and maximum values of a dataset.\n",
    "\n",
    "The box in a box plot represents the interquartile range (IQR), which is the range between the first quartile (Q1) and the third quartile (Q3). The median is represented by a line within the box. The whiskers extend from the box to the minimum and maximum values of the dataset, excluding outliers.\n",
    "\n",
    "By displaying the range of the data, box plots offer a summary of the distribution, central tendency, and spread of the dataset. They are particularly useful when comparing multiple groups or variables.\n",
    "\n",
    "Box plots allow for easy identification of outliers, skewness, and the presence of any data points beyond the minimum and maximum range. They provide a concise visual representation of the overall range of the data, making it easier to observe patterns, variations, and comparisons between different groups or categories."
   ]
  },
  {
   "cell_type": "code",
   "execution_count": null,
   "id": "e04d2a8a-4005-429d-8e18-7562aa420087",
   "metadata": {},
   "outputs": [],
   "source": []
  },
  {
   "cell_type": "markdown",
   "id": "aa1b5e8d-99f7-47a6-8d00-e7f53f66a9c1",
   "metadata": {},
   "source": [
    "## Q9. Describe the difference between descriptive and inferential statistics. Give an example of each type of statistics and explain how they are used."
   ]
  },
  {
   "cell_type": "markdown",
   "id": "a75d161b-0edd-47d9-941c-f9454bc808ac",
   "metadata": {},
   "source": [
    "Descriptive statistics and inferential statistics are two branches of statistics that serve different purposes in data analysis. Here's an explanation of each and an example of their usage:\n",
    "\n",
    "1. Descriptive Statistics:\n",
    "Descriptive statistics involves summarizing and describing the main features of a dataset. It focuses on organizing, presenting, and describing data in a meaningful way. Descriptive statistics aim to provide insights and understand the characteristics of the data, without making any generalizations or inferences to a larger population. Examples of descriptive statistics include measures of central tendency (such as the mean, median, or mode) and measures of variability (such as the range or standard deviation).\n",
    "\n",
    "Example: Suppose we have collected data on the ages of a group of individuals. Descriptive statistics would be used to calculate the mean age, the range of ages, and the frequency distribution of different age groups. These statistics help us understand the average age, the spread of ages, and the distribution of age groups within the specific dataset.\n",
    "\n",
    "2. Inferential Statistics:\n",
    "Inferential statistics involves making inferences or generalizations about a population based on sample data. It uses techniques to draw conclusions and make predictions beyond the observed data. Inferential statistics involve hypothesis testing, estimation, and making decisions based on the results. The goal is to make statements about the larger population based on the information gathered from a representative sample. Examples of inferential statistics include t-tests, chi-square tests, confidence intervals, and regression analysis.\n",
    "\n",
    "Example: Suppose a company wants to determine whether a new marketing campaign has had a significant impact on sales. They collect sales data before and after the campaign. Inferential statistics would be used to compare the sales data using statistical tests, such as a t-test, to determine if there is a significant difference in sales before and after the campaign. Based on the results, the company can infer whether the marketing campaign has had a significant impact on sales for the larger population.\n",
    "\n"
   ]
  },
  {
   "cell_type": "code",
   "execution_count": null,
   "id": "c5c5f289-cb70-40d9-858b-7935fd9aa5ec",
   "metadata": {},
   "outputs": [],
   "source": []
  },
  {
   "cell_type": "markdown",
   "id": "d35984c8-06e5-4701-b271-00c4efbce5a5",
   "metadata": {},
   "source": [
    "## Q10. What are some common measures of central tendency and variability used in statistics? Explain how each measure can be used to describe a dataset."
   ]
  },
  {
   "cell_type": "markdown",
   "id": "87ac3215-1de2-430d-b175-d5b612247158",
   "metadata": {},
   "source": [
    "Common measures of central tendency and variability are used to summarize and describe the characteristics of a dataset. Here are some of the most widely used measures:\n",
    "\n",
    "Measures of Central Tendency:\n",
    "1. Mean: The mean is the arithmetic average of a dataset. It is calculated by summing all the values and dividing by the total number of values. The mean represents the central value around which the data points tend to cluster. It is sensitive to extreme values and is commonly used when the data is approximately normally distributed.\n",
    "\n",
    "2. Median: The median is the middle value in an ordered dataset. It divides the data into two equal halves. The median is resistant to extreme values and is suitable when dealing with skewed or non-normally distributed data. It represents the central value that separates the lower and upper halves of the data.\n",
    "\n",
    "3. Mode: The mode is the value or values that appear most frequently in a dataset. It represents the most common value(s) in the data. The mode is useful for categorical or discrete data and can be used to identify the most prevalent category or class.\n",
    "\n",
    "Measures of Variability:\n",
    "1. Range: The range is the difference between the maximum and minimum values in a dataset. It provides a simple measure of the spread of the data. However, it only considers the extreme values and does not take into account the distribution of values between them.\n",
    "\n",
    "2. Variance: Variance measures the average squared deviation of each data point from the mean. It quantifies the dispersion of the data around the mean. A higher variance indicates greater variability or spread of data, while a lower variance suggests data points are more closely clustered around the mean.\n",
    "\n",
    "3. Standard Deviation: The standard deviation is the square root of the variance. It provides a measure of the average distance between each data point and the mean. Like variance, a higher standard deviation indicates greater variability in the dataset, while a lower standard deviation suggests a more concentrated distribution around the mean.\n",
    "\n",
    "These measures of central tendency and variability help to provide insights into the distribution, spread, and concentration of data points. They aid in summarizing and describing the key characteristics of a dataset, allowing for comparisons, identification of outliers, and understanding the overall pattern of the data."
   ]
  },
  {
   "cell_type": "code",
   "execution_count": null,
   "id": "9efd8d28-4891-4f85-b837-77a2993a482e",
   "metadata": {},
   "outputs": [],
   "source": []
  },
  {
   "cell_type": "code",
   "execution_count": null,
   "id": "84826e22-01cb-4ed3-a8d5-0ed23499c04a",
   "metadata": {},
   "outputs": [],
   "source": []
  },
  {
   "cell_type": "code",
   "execution_count": null,
   "id": "e4472792-7ae9-4626-a198-704981703591",
   "metadata": {},
   "outputs": [],
   "source": []
  },
  {
   "cell_type": "code",
   "execution_count": null,
   "id": "05e39b6f-069e-4584-9af0-b40caace28c4",
   "metadata": {},
   "outputs": [],
   "source": []
  }
 ],
 "metadata": {
  "kernelspec": {
   "display_name": "Python 3 (ipykernel)",
   "language": "python",
   "name": "python3"
  },
  "language_info": {
   "codemirror_mode": {
    "name": "ipython",
    "version": 3
   },
   "file_extension": ".py",
   "mimetype": "text/x-python",
   "name": "python",
   "nbconvert_exporter": "python",
   "pygments_lexer": "ipython3",
   "version": "3.10.8"
  }
 },
 "nbformat": 4,
 "nbformat_minor": 5
}
