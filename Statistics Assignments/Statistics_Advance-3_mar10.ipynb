{
 "cells": [
  {
   "cell_type": "code",
   "execution_count": 1,
   "id": "84a1e47a-0d2b-45d9-a659-dbed69438f48",
   "metadata": {},
   "outputs": [],
   "source": [
    "# Kishan Chand                          Assignment                        Mar9-23"
   ]
  },
  {
   "cell_type": "code",
   "execution_count": null,
   "id": "44a235dc-e079-4e17-9ae4-433f893bc6ae",
   "metadata": {},
   "outputs": [],
   "source": []
  },
  {
   "cell_type": "markdown",
   "id": "34cb2051-4d02-403e-88d4-eedba88270ac",
   "metadata": {},
   "source": [
    "## Q1: What is Estimation Statistics? Explain point estimate and interval estimate.\n"
   ]
  },
  {
   "cell_type": "markdown",
   "id": "cdeb90be-01c1-41a5-a25c-f70bbbc524cd",
   "metadata": {},
   "source": [
    "Estimation statistics is a branch of statistics that deals with the process of estimating unknown population parameters based on sample data. It involves making inferences and drawing conclusions about the population characteristics from limited information obtained through sampling.\n",
    "\n",
    "In estimation statistics, there are two common methods of estimation: point estimate and interval estimate.\n",
    "\n",
    "1. Point Estimate:\n",
    "A point estimate is a single value that is used to estimate an unknown population parameter. It provides an estimate of the most likely value of the parameter based on the available sample data. For example, if you want to estimate the population mean, a point estimate would be the sample mean. Similarly, if you want to estimate the population proportion, a point estimate would be the sample proportion.\n",
    "\n",
    "Point estimates are convenient and easy to calculate. However, they do not provide any information about the variability or uncertainty associated with the estimate. To obtain a measure of the precision or accuracy of the estimate, interval estimates are used.\n",
    "\n",
    "2. Interval Estimate:\n",
    "An interval estimate, also known as a confidence interval, provides a range of values within which the population parameter is likely to fall. It accounts for the uncertainty in the estimate and provides a measure of the precision of the estimation.\n",
    "\n",
    "A confidence interval is expressed as an interval around the point estimate, with an associated confidence level. The confidence level represents the probability that the interval estimate contains the true population parameter. For example, a 95% confidence interval means that if we repeated the sampling process and constructed intervals in the same way, we would expect 95% of the intervals to contain the true population parameter.\n",
    "\n",
    "Interval estimates are more informative than point estimates because they provide a range of plausible values for the population parameter. They also allow for a better understanding of the uncertainty associated with the estimate. The width of the confidence interval depends on factors such as the sample size, variability of the data, and the chosen confidence level.\n",
    "\n"
   ]
  },
  {
   "cell_type": "code",
   "execution_count": null,
   "id": "2e17fe2d-8d63-4fa5-b7f6-1c925a4a2c53",
   "metadata": {},
   "outputs": [],
   "source": []
  },
  {
   "cell_type": "markdown",
   "id": "36ca59a0-e304-46f9-9302-5f4b23e27baa",
   "metadata": {},
   "source": [
    "## Q2. Write a Python function to estimate the population mean using a sample mean and standard deviation.\n"
   ]
  },
  {
   "cell_type": "code",
   "execution_count": 3,
   "id": "9f6bbb8e-c9ae-4af5-a6a3-6cf95c3e0b73",
   "metadata": {},
   "outputs": [
    {
     "data": {
      "text/plain": [
       "(33.450483946517494, 36.549516053482506)"
      ]
     },
     "execution_count": 3,
     "metadata": {},
     "output_type": "execute_result"
    }
   ],
   "source": [
    "import math\n",
    "\n",
    "def estimate_population_mean(sample_mean, sample_std_dev, sample_size):\n",
    "    # Calculate the standard error\n",
    "    standard_error = sample_std_dev / math.sqrt(sample_size)\n",
    "    \n",
    "    # Calculate the margin of error\n",
    "    margin_of_error = 1.96 * standard_error  # Assuming a 95% confidence level\n",
    "    \n",
    "    # Calculate the lower and upper bounds of the confidence interval\n",
    "    lower_bound = sample_mean - margin_of_error\n",
    "    upper_bound = sample_mean + margin_of_error\n",
    "    \n",
    "    # Return the estimated population mean\n",
    "    return lower_bound, upper_bound\n",
    "estimate_population_mean(35,5,40)"
   ]
  },
  {
   "cell_type": "code",
   "execution_count": null,
   "id": "3a4d7292-7808-4e72-8c52-885e4670e24e",
   "metadata": {},
   "outputs": [],
   "source": []
  },
  {
   "cell_type": "markdown",
   "id": "44c08cb9-7b89-4154-8a77-27d82ff7df54",
   "metadata": {},
   "source": [
    "## Q3: What is Hypothesis testing? Why is it used? State the importance of Hypothesis testing.\n"
   ]
  },
  {
   "cell_type": "markdown",
   "id": "3215b951-5d86-4978-b209-27cab066cc96",
   "metadata": {},
   "source": [
    "Hypothesis testing is a statistical method used to make inferences and draw conclusions about a population based on sample data. It involves formulating two competing hypotheses, the null hypothesis (H0) and the alternative hypothesis (Ha), and evaluating the evidence in the sample to decide between them.\n",
    "\n",
    "The key steps in hypothesis testing are as follows:\n",
    "\n",
    "1. Formulate the null hypothesis (H0): The null hypothesis represents the default or initial assumption, often stating that there is no significant difference or relationship in the population. For example, \"The mean heights of two populations are equal.\"\n",
    "\n",
    "2. Determine the alternative hypothesis (Ha): The alternative hypothesis is the opposite of the null hypothesis and represents the claim or theory you want to test. It suggests that there is a significant difference or relationship in the population. For example, \"The mean heights of two populations are not equal\" or \"The mean height of population A is greater than the mean height of population B.\"\n",
    "\n",
    "3. Collect and analyze sample data: Collect a sample from the population of interest and perform the appropriate statistical analysis. This involves calculating test statistics and p-values based on the sample data.\n",
    "\n",
    "4. Evaluate the evidence: Compare the test statistics or p-values to a predetermined significance level (α) to determine if there is enough evidence to reject the null hypothesis. If the test statistics or p-values fall below the significance level, it suggests that the observed data provides evidence against the null hypothesis. In this case, we reject the null hypothesis in favor of the alternative hypothesis. If the test statistics or p-values do not fall below the significance level, we fail to reject the null hypothesis.\n",
    "\n",
    "The importance of hypothesis testing lies in its ability to provide a systematic and objective approach to drawing conclusions and making decisions based on data. Here are some key reasons why hypothesis testing is important:\n",
    "\n",
    "1. Decision-making: Hypothesis testing helps in making informed decisions by providing statistical evidence for or against a specific claim or hypothesis. It allows researchers, analysts, and decision-makers to objectively evaluate the available data and draw conclusions.\n",
    "\n",
    "2. Scientific inquiry: Hypothesis testing is fundamental to scientific research. It enables scientists to test theories, explore relationships, and validate or refute hypotheses. It provides a structured approach to answering research questions and advancing knowledge in various fields.\n",
    "\n",
    "3. Quality control and process improvement: Hypothesis testing plays a crucial role in quality control and process improvement efforts in industries. By analyzing data from production processes or experiments, organizations can identify potential issues, assess the effectiveness of interventions, and make data-driven decisions to improve efficiency and quality.\n",
    "\n",
    "4. Risk assessment and policy-making: Hypothesis testing helps in assessing risks and making informed policy decisions. For example, in medicine, hypothesis testing is used to evaluate the effectiveness of new treatments or interventions and inform healthcare policies.\n",
    "\n",
    "5. Avoiding errors and biases: Hypothesis testing provides a rigorous framework for evaluating evidence and helps avoid making decisions based on personal beliefs, biases, or random variation in data.\n",
    "\n",
    "Overall, hypothesis testing provides a formal and structured approach to drawing conclusions from data, enabling decision-makers to make evidence-based decisions, validate theories, improve processes, and advance knowledge. It is a cornerstone of statistical inference and scientific inquiry."
   ]
  },
  {
   "cell_type": "code",
   "execution_count": null,
   "id": "03c0e4a6-f735-4363-b052-1951c61664db",
   "metadata": {},
   "outputs": [],
   "source": []
  },
  {
   "cell_type": "markdown",
   "id": "7673ef2b-4eae-4d00-9e9c-050035400e42",
   "metadata": {},
   "source": [
    "## Q4. Create a hypothesis that states whether the average weight of male college students is greater than the average weight of female college students.\n"
   ]
  },
  {
   "cell_type": "markdown",
   "id": "161be118-a489-48b4-bd1c-0a577a390a3c",
   "metadata": {},
   "source": [
    "Hypothesis: The average weight of male college students is greater than the average weight of female college students.\n",
    "\n",
    "\n",
    "H0: μ_male > μ_female\n",
    "\n",
    "Ha: μ_male <= μ_female\n",
    "\n",
    "Where:\n",
    "- H0 represents the null hypothesis\n",
    "- Ha represents the alternative hypothesis\n",
    "- μ_male represents the population mean weight of male college students\n",
    "- μ_female represents the population mean weight of female college students\n",
    "\n",
    "The hypothesis states that there is a difference between the average weight of male and female college students, specifically suggesting that male college students have a higher average weight. The goal is to gather data and perform statistical analysis to determine whether there is enough evidence to reject the null hypothesis in favor of the alternative hypothesis."
   ]
  },
  {
   "cell_type": "code",
   "execution_count": null,
   "id": "3404d50b-2591-4e98-a760-3e9e7d9301f4",
   "metadata": {},
   "outputs": [],
   "source": []
  },
  {
   "cell_type": "markdown",
   "id": "c2bbcbc1-851e-4aaa-8294-009a9212ccf5",
   "metadata": {},
   "source": [
    "## Q5. Write a Python script to conduct a hypothesis test on the difference between two population means, given a sample from each population.\n"
   ]
  },
  {
   "cell_type": "code",
   "execution_count": 2,
   "id": "4bce8bc6-04d5-46b0-b453-b2f67215f077",
   "metadata": {},
   "outputs": [],
   "source": [
    "import numpy as np\n",
    "from scipy import stats\n",
    "\n",
    "def conduct_hypothesis_test(sample1, sample2, alpha):\n",
    "    \"\"\"\n",
    "    Conducts a hypothesis test on the difference between two population means.\n",
    "\n",
    "    Args:\n",
    "        sample1 (array-like): Sample data from population 1.\n",
    "        sample2 (array-like): Sample data from population 2.\n",
    "        alpha (float): Significance level for the hypothesis test.\n",
    "\n",
    "    Returns:\n",
    "        str: Result of the hypothesis test (reject or fail to reject H0).\n",
    "        float: Test statistic value.\n",
    "        float: p-value.\n",
    "    \"\"\"\n",
    "    # Calculate sample statistics\n",
    "    n1 = len(sample1)\n",
    "    n2 = len(sample2)\n",
    "    mean1 = np.mean(sample1)\n",
    "    mean2 = np.mean(sample2)\n",
    "    var1 = np.var(sample1, ddof=1)\n",
    "    var2 = np.var(sample2, ddof=1)\n",
    "\n",
    "    # Calculate the test statistic (assuming equal variances)\n",
    "    pooled_var = ((n1 - 1) * var1 + (n2 - 1) * var2) / (n1 + n2 - 2)\n",
    "    t = (mean1 - mean2) / np.sqrt(pooled_var * (1/n1 + 1/n2))\n",
    "\n",
    "    # Calculate the degrees of freedom\n",
    "    df = n1 + n2 - 2\n",
    "\n",
    "    # Calculate the p-value\n",
    "    p_value = 2 * (1 - stats.t.cdf(np.abs(t), df))\n",
    "\n",
    "    # Compare the p-value with the significance level\n",
    "    if p_value < alpha:\n",
    "        result = \"Reject H0: There is a significant difference between the population means.\"\n",
    "    else:\n",
    "        result = \"Fail to reject H0: There is not enough evidence to support a significant difference between the population means.\"\n",
    "\n",
    "    return result, t, p_value\n"
   ]
  },
  {
   "cell_type": "code",
   "execution_count": 4,
   "id": "f4cc7231-0b23-46ea-8b16-930102ade8f5",
   "metadata": {},
   "outputs": [
    {
     "data": {
      "text/plain": [
       "('Reject H0: There is a significant difference between the population means.',\n",
       " -4.0,\n",
       " 0.003949772803445439)"
      ]
     },
     "execution_count": 4,
     "metadata": {},
     "output_type": "execute_result"
    }
   ],
   "source": [
    "s1=[1,2,3,4,5]\n",
    "s2=[5,6,7,8,9]\n",
    "conduct_hypothesis_test(s1,s2,0.05)"
   ]
  },
  {
   "cell_type": "code",
   "execution_count": null,
   "id": "afd9f2e0-770c-45db-9e80-1d509397041d",
   "metadata": {},
   "outputs": [],
   "source": []
  },
  {
   "cell_type": "markdown",
   "id": "4342cfc8-1f0d-4851-9d82-36361ffbe643",
   "metadata": {},
   "source": [
    "## Q6: What is a null and alternative hypothesis? Give some examples.\n"
   ]
  },
  {
   "cell_type": "markdown",
   "id": "0b56c740-02ff-40fd-a5a4-94d2c6e9f960",
   "metadata": {},
   "source": [
    "In statistical hypothesis testing, the null hypothesis (H0) and alternative hypothesis (Ha) are two competing statements about a population parameter or relationship. These hypotheses help guide the hypothesis testing process and provide a basis for making conclusions from sample data.\n",
    "\n",
    "1. Null Hypothesis (H0): The null hypothesis represents the default assumption or belief that there is no significant difference, relationship, or effect in the population. It is often denoted as the status quo or the absence of an effect. In other words, the null hypothesis assumes that any observed difference or relationship in the sample is due to chance or random variation.\n",
    "\n",
    "Examples of null hypotheses:\n",
    "- The mean height of a certain population is equal to 170 cm.\n",
    "- There is no difference in the effectiveness of two different medications.\n",
    "- The proportion of students who pass an exam is less than or equal to 0.70.\n",
    "\n",
    "2. Alternative Hypothesis (Ha): The alternative hypothesis represents the opposite of the null hypothesis and states that there is a significant difference, relationship, or effect in the population. It suggests that the observed data provides evidence against the null hypothesis and supports an alternative claim.\n",
    "\n",
    "Examples of alternative hypotheses:\n",
    "- The mean height of a certain population is greater than 170 cm.\n",
    "- There is a difference in the effectiveness of two different medications.\n",
    "- The proportion of students who pass an exam is greater than 0.70.\n"
   ]
  },
  {
   "cell_type": "code",
   "execution_count": null,
   "id": "e4dd5a50-cfcf-4b8a-b1e8-b09d29ebc15e",
   "metadata": {},
   "outputs": [],
   "source": []
  },
  {
   "cell_type": "markdown",
   "id": "28589640-d71a-4884-9662-4b8a6c41795e",
   "metadata": {},
   "source": [
    "## Q7: Write down the steps involved in hypothesis testing.\n"
   ]
  },
  {
   "cell_type": "markdown",
   "id": "8fc3fc4e-233c-42df-a412-dcca80ab84c8",
   "metadata": {},
   "source": [
    "The following are the general steps involved in hypothesis testing:\n",
    "\n",
    "1. Formulate the research question: Clearly define the research question or objective that you want to investigate. This helps in identifying the population parameter or relationship of interest.\n",
    "\n",
    "2. State the null and alternative hypotheses: Formulate the null hypothesis (H0) and alternative hypothesis (Ha) based on the research question. The null hypothesis represents the default assumption or no effect, while the alternative hypothesis represents the claim or effect you want to test.\n",
    "\n",
    "3. Set the significance level (alpha): Determine the desired level of significance (alpha) for the hypothesis test. It represents the maximum probability of making a Type I error, which is rejecting the null hypothesis when it is actually true. Commonly used significance levels are 0.05 (5%) and 0.01 (1%).\n",
    "\n",
    "4. Collect and analyze the sample data: Gather data from the population of interest and perform the appropriate statistical analysis based on the nature of the data and research question. Calculate sample statistics, such as the sample mean, sample proportion, or sample difference.\n",
    "\n",
    "5. Determine the test statistic and p-value: Calculate the test statistic that is appropriate for the chosen statistical test. The test statistic measures the discrepancy between the observed data and what is expected under the null hypothesis. Calculate the p-value, which is the probability of observing a test statistic as extreme as or more extreme than the one calculated, assuming that the null hypothesis is true.\n",
    "\n",
    "6. Make a decision: Compare the p-value with the significance level (alpha) to make a decision about the null hypothesis. If the p-value is less than alpha, reject the null hypothesis in favor of the alternative hypothesis. If the p-value is greater than or equal to alpha, fail to reject the null hypothesis.\n",
    "\n",
    "7. Interpret the results: Provide a conclusion based on the decision made. If the null hypothesis is rejected, interpret the results in support of the alternative hypothesis. If the null hypothesis is not rejected, interpret the results as not providing enough evidence to support the alternative hypothesis.\n",
    "\n",
    "8. Draw conclusions and make inferences: Based on the hypothesis test results, draw conclusions about the population parameter or relationship. Make inferences about the broader population based on the sample data and the results of the hypothesis test.\n"
   ]
  },
  {
   "cell_type": "code",
   "execution_count": null,
   "id": "8f2d8424-76a4-49e6-a6dd-c70c419b8a51",
   "metadata": {},
   "outputs": [],
   "source": []
  },
  {
   "cell_type": "markdown",
   "id": "0fd314f7-9fbc-4548-96ec-60b2752ba9cc",
   "metadata": {},
   "source": [
    "## Q8. Define p-value and explain its significance in hypothesis testing.\n"
   ]
  },
  {
   "cell_type": "markdown",
   "id": "e78709cd-a432-4fc5-8588-58947e7a603b",
   "metadata": {},
   "source": [
    "The p-value, short for \"probability value,\" is a statistical measure that quantifies the evidence against the null hypothesis in hypothesis testing. It represents the probability of obtaining a test statistic as extreme as or more extreme than the one observed, assuming that the null hypothesis is true. The p-value helps in making a decision about rejecting or failing to reject the null hypothesis.\n",
    "\n",
    "The significance of the p-value in hypothesis testing is as follows:\n",
    "\n",
    "1. Assessing the strength of evidence: The p-value provides a measure of the strength of evidence against the null hypothesis. A smaller p-value suggests stronger evidence against the null hypothesis, indicating that the observed data is unlikely to occur by chance alone.\n",
    "\n",
    "2. Comparing with the significance level: The p-value is compared with the predetermined significance level (alpha) to make a decision about the null hypothesis. If the p-value is less than alpha, it indicates that the observed data is unlikely to occur under the null hypothesis, leading to the rejection of the null hypothesis. Conversely, if the p-value is greater than or equal to alpha, there is not enough evidence to reject the null hypothesis.\n",
    "\n",
    "3. Influencing the conclusion: The p-value helps in determining the conclusion of a hypothesis test. If the p-value is significant (less than alpha), it suggests that the alternative hypothesis is supported, and the results are deemed statistically significant. If the p-value is not significant (greater than or equal to alpha), it implies that the observed data is consistent with the null hypothesis, and the results are not statistically significant.\n",
    "\n",
    "4. Reporting the strength of the effect: In addition to determining the statistical significance, the p-value can also provide insights into the magnitude or strength of the effect being studied. A smaller p-value indicates a larger effect size or a stronger relationship between variables.\n",
    "\n",
    "It's important to note that the p-value alone does not prove the truth or falsity of a hypothesis. It is a measure of evidence and should be considered along with other factors, such as study design, effect size, and contextual considerations, when making informed decisions and drawing conclusions."
   ]
  },
  {
   "cell_type": "code",
   "execution_count": null,
   "id": "cb2d0ceb-8b8c-4859-8012-a5639c5b3033",
   "metadata": {},
   "outputs": [],
   "source": []
  },
  {
   "cell_type": "markdown",
   "id": "9b10873f-49cd-4210-adbf-2562f3e0fd27",
   "metadata": {},
   "source": [
    "## Q9. Generate a Student's t-distribution plot using Python's matplotlib library, with the degrees of freedom parameter set to 10.\n"
   ]
  },
  {
   "cell_type": "code",
   "execution_count": 8,
   "id": "500e6b0f-58f3-4bcb-ab58-c9b173d41d1f",
   "metadata": {},
   "outputs": [
    {
     "data": {
      "image/png": "[encoded data removed]",
      "text/plain": [
       "<Figure size 640x480 with 1 Axes>"
      ]
     },
     "metadata": {},
     "output_type": "display_data"
    }
   ],
   "source": [
    "import numpy as np\n",
    "import matplotlib.pyplot as plt\n",
    "from scipy.stats import t\n",
    "\n",
    "# Set the degrees of freedom\n",
    "df = 10\n",
    "\n",
    "# Generate x-values for the t-distribution plot\n",
    "x = np.linspace(-4, 4, 500)\n",
    "\n",
    "# Calculate the probability density function (PDF) for the t-distribution\n",
    "pdf = t.pdf(x, df)\n",
    "\n",
    "# Create the plot\n",
    "plt.plot(x, pdf, label=f\"t-distribution (df={df})\")\n",
    "plt.title(\"Student's t-distribution\")\n",
    "plt.xlabel(\"x\")\n",
    "plt.ylabel(\"Probability Density Function (PDF)\")\n",
    "plt.legend()\n",
    "plt.grid(True)\n",
    "\n",
    "# Display the plot\n",
    "plt.show()\n"
   ]
  },
  {
   "cell_type": "code",
   "execution_count": null,
   "id": "2f07ddac-bec9-467b-99ab-0b97b2532bc7",
   "metadata": {},
   "outputs": [],
   "source": []
  },
  {
   "cell_type": "markdown",
   "id": "a851d538-a93f-4506-a5b1-76979a686ba0",
   "metadata": {},
   "source": [
    "## Q10. Write a Python program to calculate the two-sample t-test for independent samples, given two random samples of equal size and a null hypothesis that the population means are equal.\n"
   ]
  },
  {
   "cell_type": "code",
   "execution_count": 9,
   "id": "45a7af61-128f-434c-9aae-e4f19130dad7",
   "metadata": {},
   "outputs": [
    {
     "name": "stdout",
     "output_type": "stream",
     "text": [
      "Two-Sample T-Test Results:\n",
      "Sample 1 Mean: 49.07040313302634\n",
      "Sample 2 Mean: 55.24132424996611\n",
      "T-Statistic: -4.100451070743447\n",
      "P-Value: 6.016692689463018e-05\n"
     ]
    }
   ],
   "source": [
    "import numpy as np\n",
    "from scipy.stats import ttest_ind\n",
    "\n",
    "# Generate two random samples\n",
    "sample1 = np.random.normal(loc=50, scale=10, size=100)\n",
    "sample2 = np.random.normal(loc=55, scale=12, size=100)\n",
    "\n",
    "# Perform two-sample t-test\n",
    "t_statistic, p_value = ttest_ind(sample1, sample2)\n",
    "\n",
    "# Print the results\n",
    "print(\"Two-Sample T-Test Results:\")\n",
    "print(f\"Sample 1 Mean: {np.mean(sample1)}\")\n",
    "print(f\"Sample 2 Mean: {np.mean(sample2)}\")\n",
    "print(f\"T-Statistic: {t_statistic}\")\n",
    "print(f\"P-Value: {p_value}\")\n"
   ]
  },
  {
   "cell_type": "code",
   "execution_count": null,
   "id": "8933a6ea-b463-4c3f-8b94-14ebae1505e5",
   "metadata": {},
   "outputs": [],
   "source": []
  },
  {
   "cell_type": "markdown",
   "id": "38279ce3-27b2-4024-8b3f-592c2f4fc2cc",
   "metadata": {},
   "source": [
    "## Q11: What is Student’s t distribution? When to use the t-Distribution.\n"
   ]
  },
  {
   "cell_type": "markdown",
   "id": "cdf003fd-40fc-439d-87de-8373f0e17a77",
   "metadata": {},
   "source": [
    "The Student's t-distribution, also known as the t-distribution, is a probability distribution that arises in statistics when the population standard deviation is unknown and must be estimated from a sample. It is similar to the standard normal distribution (z-distribution) but has heavier tails, allowing for more uncertainty and variability in the data.\n",
    "\n",
    "The t-distribution is commonly used in situations where the sample size is small or when the population standard deviation is unknown. It is particularly useful when performing hypothesis tests or constructing confidence intervals for the population mean.\n",
    "\n",
    "Here are some scenarios where the t-distribution is typically used:\n",
    "\n",
    "1. Small sample sizes: When the sample size is small (typically less than 30), the t-distribution is used instead of the standard normal distribution. This is because the sample mean is more likely to be affected by the variability in a small sample, and the t-distribution takes this into account.\n",
    "\n",
    "2. Unknown population standard deviation: When the population standard deviation is unknown, the t-distribution is used to estimate the standard error of the sample mean. By using the t-distribution, we can construct confidence intervals or perform hypothesis tests for the population mean.\n",
    "\n",
    "3. Testing hypotheses about means: The t-distribution is used to test hypotheses about population means when the population standard deviation is unknown or when the sample size is small. This includes scenarios such as comparing means of two independent samples, paired samples, or conducting one-sample t-tests.\n",
    "\n",
    "4. Constructing confidence intervals: The t-distribution is employed to construct confidence intervals for the population mean when the population standard deviation is unknown or when the sample size is small. This allows us to estimate the range within which the population mean likely falls.\n",
    "\n",
    "The choice to use the t-distribution over the standard normal distribution depends on the specific circumstances of the problem, such as the sample size and knowledge of the population standard deviation. It is important to use the appropriate distribution to ensure accurate inference and reliable statistical analysis."
   ]
  },
  {
   "cell_type": "code",
   "execution_count": null,
   "id": "2851419b-d97c-4cd7-ac29-7f4ca3e4c891",
   "metadata": {},
   "outputs": [],
   "source": []
  },
  {
   "cell_type": "markdown",
   "id": "bc74df88-3cca-4aa1-ae53-9e2a60ee38c9",
   "metadata": {},
   "source": [
    "## Q12: What is t-statistic? State the formula for t-statistic.\n"
   ]
  },
  {
   "cell_type": "markdown",
   "id": "852084ff-fa2f-4778-9574-f067717a746d",
   "metadata": {},
   "source": [
    "The t-statistic is a measure that quantifies the difference between a sample mean and a hypothesized population mean, taking into account the sample size and variability of the data. It is used in hypothesis testing and confidence interval estimation when the population standard deviation is unknown and must be estimated from the sample.\n",
    "\n",
    "The formula for calculating the t-statistic is:\n",
    "\n",
    "t = (x - μ) / (s / √n)\n",
    "\n",
    "Where:\n",
    "- t is the t-statistic\n",
    "- x is the sample mean\n",
    "- μ is the hypothesized population mean\n",
    "- s is the sample standard deviation\n",
    "- n is the sample size\n",
    "\n",
    "The numerator (x - μ) represents the difference between the sample mean and the hypothesized population mean. The denominator (s / √n) represents the standard error of the sample mean, which takes into account the sample standard deviation and the sample size.\n",
    "\n",
    "The t-statistic measures the number of standard errors the sample mean is away from the hypothesized population mean. It compares the observed difference between the sample mean and the hypothesized mean to the expected variability based on the sample size and standard deviation.\n",
    "\n",
    "In hypothesis testing, the t-statistic is compared to critical values from the t-distribution to determine the statistical significance of the observed difference. If the t-statistic falls in the rejection region, it provides evidence to reject the null hypothesis in favor of the alternative hypothesis."
   ]
  },
  {
   "cell_type": "code",
   "execution_count": null,
   "id": "f871c508-fadd-4cde-b512-b27badcf45cf",
   "metadata": {},
   "outputs": [],
   "source": []
  },
  {
   "cell_type": "markdown",
   "id": "8f80b3b3-dc76-4cb7-bf85-471602cfe8ca",
   "metadata": {},
   "source": [
    "## Q13. A coffee shop owner wants to estimate the average daily revenue for their shop. They take a random sample of 50 days and find the sample mean revenue to be $500 with a standard deviation of $50. Estimate the population mean revenue with a 95% confidence interval.\n"
   ]
  },
  {
   "cell_type": "code",
   "execution_count": null,
   "id": "9a305070-8517-4767-8fcd-89a264511aa4",
   "metadata": {},
   "outputs": [],
   "source": [
    "\n",
    "Now, let's calculate the confidence interval:\n",
    "\n",
    " Calculate the standard error of the mean.\n",
    "SE = Sample Standard Deviation / √(Sample Size)\n",
    "   = (50) / √(50)\n",
    "   = 7.07\n",
    "\n",
    " Determine the margin of error.\n",
    "MOE = Critical Value * SE\n",
    "    = 1.96 * 7.07\n",
    "    ≈ 13.87\n",
    "\n",
    " Calculate the confidence interval.\n",
    "Confidence Interval = Sample Mean ± MOE\n",
    "                            = 500 ± 13.87\n",
    "\n",
    "Therefore, the 95% confidence interval for the average daily revenue is approximately (486.13, 513.87).\n",
    "\n",
    "We can be 95% confident that the true population mean revenue falls within this interval based on the given sample."
   ]
  },
  {
   "cell_type": "code",
   "execution_count": null,
   "id": "a780dfcf-438f-4a8b-b8a7-07fbfbdc9e0a",
   "metadata": {},
   "outputs": [],
   "source": [
    " "
   ]
  },
  {
   "cell_type": "markdown",
   "id": "3b443c7c-8abf-4dda-8422-6bc391ed968c",
   "metadata": {},
   "source": [
    "## Q14. A researcher hypothesizes that a new drug will decrease blood pressure by 10 mmHg. They conduct a clinical trial with 100 patients and find that the sample mean decrease in blood pressure is 8 mmHg with a standard deviation of 3 mmHg. Test the hypothesis with a significance level of 0.05.\n"
   ]
  },
  {
   "cell_type": "code",
   "execution_count": null,
   "id": "92936cc7-2821-473c-bab7-ea7edd30c9c3",
   "metadata": {},
   "outputs": [],
   "source": [
    "To test the hypothesis regarding the decrease in blood pressure with a significance level of 0.05, we can perform a one-sample t-test. \n",
    "\n",
    "State the null and alternative hypotheses:\n",
    "    null hypothesis (H0) assumes that the new drug does not decrease blood pressure by 10 mmHg.\n",
    "H0: μ = 10 (where μ represents the population mean decrease in blood pressure)\n",
    "\n",
    "The alternative hypothesis (Ha) assumes that the new drug does decrease blood pressure by 10 mmHg.\n",
    "Ha: μ ≠ 10\n",
    "\n",
    "The significance level (α) is given as 0.05. This represents the threshold for rejecting the null hypothesis.\n",
    "\n",
    "  Calculate the test statistic:\n",
    "The test statistic for a one-sample t-test is calculated as follows:\n",
    "t = (sample mean - hypothesized mean) / (sample standard deviation / √sample size)\n",
    "\n",
    "In this case, the sample mean (x̄) is 8 mmHg, the hypothesized mean (μ) is 10 mmHg, the sample standard deviation (s) is 3 mmHg, and the sample size (n) is 100.\n",
    "\n",
    "t = (8 - 10) / (3 / √100)\n",
    "t = -2 / (3 / 10)\n",
    "t = -20/3\n",
    "t ≈ -6.67\n",
    "\n",
    "Determine the critical value and the p-value:\n",
    "Since the alternative hypothesis is two-tailed (μ ≠ 10), we need to find the critical values that correspond to a significance level of 0.05/2 = 0.025.\n",
    "\n",
    "Using statistical software or a t-distribution table with 99 degrees of freedom (n - 1), the critical values are approximately ±1.984.\n",
    "\n",
    "Make a decision:\n",
    "If the calculated t-value falls outside the critical value range, we reject the null hypothesis. Alternatively, if the p-value is less than the significance level (α), we reject the null hypothesis.\n",
    "\n",
    "In this case, the calculated t-value is -6.67, which is outside the critical value range of ±1.984. Thus, we can reject the null hypothesis.\n",
    "\n",
    "Step 6: Interpret the results:\n",
    "Since we reject the null hypothesis, we can conclude that there is evidence to support the alternative hypothesis. The data suggests that the new drug does decrease blood pressure by a value significantly different from 10 mmHg.\n"
   ]
  },
  {
   "cell_type": "code",
   "execution_count": null,
   "id": "89d59d99-db0c-4f54-a5a8-bc2cb92b4762",
   "metadata": {},
   "outputs": [],
   "source": []
  },
  {
   "cell_type": "markdown",
   "id": "393b777c-9443-4b19-9c1b-bd9b21b11cff",
   "metadata": {},
   "source": [
    "## Q15. An electronics company produces a certain type of product with a mean weight of 5 pounds and a standard deviation of 0.5 pounds. A random sample of 25 products is taken, and the sample mean weight is found to be 4.8 pounds. Test the hypothesis that the true mean weight of the products is less than 5 pounds with a significance level of 0.01.\n"
   ]
  },
  {
   "cell_type": "code",
   "execution_count": null,
   "id": "01766e8d-f246-49ef-98c3-269d15f2cfa1",
   "metadata": {},
   "outputs": [],
   "source": [
    "To test the hypothesis that the true mean weight of the products is less than 5 pounds, we can perform a one-sample t-test with a one-tailed test. \n",
    "\n",
    "Step 1: State the null and alternative hypotheses:\n",
    "The null hypothesis (H0) assumes that the true mean weight of the products is equal to 5 pounds.\n",
    "H0: μ = 5 (where μ represents the population mean weight)\n",
    "\n",
    "The alternative hypothesis (Ha) assumes that the true mean weight of the products is less than 5 pounds.\n",
    "Ha: μ < 5\n",
    "\n",
    "Step 2: Set the significance level (α):\n",
    "The significance level (α) is given as 0.01. This represents the threshold for rejecting the null hypothesis.\n",
    "\n",
    "Step 3: Calculate the test statistic:\n",
    "The test statistic for a one-sample t-test is calculated as follows:\n",
    "t = (sample mean - hypothesized mean) / (sample standard deviation / √sample size)\n",
    "\n",
    "In this case, the sample mean (x̄) is 4.8 pounds, the hypothesized mean (μ) is 5 pounds, the sample standard deviation (s) is 0.5 pounds, and the sample size (n) is 25.\n",
    "\n",
    "t = (4.8 - 5) / (0.5 / √25)\n",
    "t = -0.2 / (0.5 / 5)\n",
    "t = -0.2 / 0.1\n",
    "t = -2\n",
    "\n",
    "Step 4: Determine the critical value and the p-value:\n",
    "Since the alternative hypothesis is one-tailed (μ < 5), we need to find the critical value and p-value for the lower tail.\n",
    "\n",
    "Using statistical software or a t-distribution table with 24 degrees of freedom (n - 1), the critical value for a one-tailed test with a significance level of 0.01 is approximately -2.492.\n",
    "\n",
    "The p-value can also be obtained from the t-distribution. In this case, the p-value represents the probability of observing a t-value as extreme as -2 or less, assuming the null hypothesis is true.\n",
    "\n",
    "Step 5: Make a decision:\n",
    "If the calculated t-value falls below the critical value, we reject the null hypothesis. Alternatively, if the p-value is less than the significance level (α), we reject the null hypothesis.\n",
    "\n",
    "In this case, the calculated t-value is -2, which is smaller than the critical value of -2.492. Therefore, we can reject the null hypothesis.\n",
    "\n",
    "Step 6: Interpret the results:\n",
    "Since we reject the null hypothesis, we can conclude that there is evidence to support the alternative hypothesis. The data suggests that the true mean weight of the products is less than 5 pounds.\n"
   ]
  },
  {
   "cell_type": "code",
   "execution_count": null,
   "id": "94af6d9e-4a9c-4b82-8058-29426bcef7c3",
   "metadata": {},
   "outputs": [],
   "source": []
  },
  {
   "cell_type": "markdown",
   "id": "9a71b75e-6dd3-48d6-8b98-0bfacbd49c48",
   "metadata": {},
   "source": [
    "## Q16. Two groups of students are given different study materials to prepare for a test. The first group (n1 = 30) has a mean score of 80 with a standard deviation of 10, and the second group (n2 = 40) has a mean score of 75 with a standard deviation of 8. Test the hypothesis that the population means for the two groups are equal with a significance level of 0.01.\n"
   ]
  },
  {
   "cell_type": "code",
   "execution_count": null,
   "id": "4bca6eda-1a48-48b8-b2a0-90056c8a0042",
   "metadata": {},
   "outputs": [],
   "source": [
    "To test the hypothesis that the population means for the two groups are equal, we can perform an independent samples t-test. \n",
    "\n",
    "Step 1: State the null and alternative hypotheses:\n",
    "The null hypothesis (H0) assumes that the population means for the two groups are equal.\n",
    "H0: μ1 = μ2 (where μ1 represents the population mean for the first group and μ2 represents the population mean for the second group)\n",
    "\n",
    "The alternative hypothesis (Ha) assumes that the population means for the two groups are not equal.\n",
    "Ha: μ1 ≠ μ2\n",
    "\n",
    "Step 2: Set the significance level (α):\n",
    "The significance level (α) is given as 0.01. This represents the threshold for rejecting the null hypothesis.\n",
    "\n",
    "Step 3: Calculate the test statistic:\n",
    "The test statistic for an independent samples t-test is calculated as follows:\n",
    "t = (sample mean difference - hypothesized mean difference) / standard error of the difference\n",
    "\n",
    "In this case, the sample mean difference (x̄1 - x̄2) is 80 - 75 = 5, the hypothesized mean difference (μ1 - μ2) is 0, the standard deviation for the first group (s1) is 10, the standard deviation for the second group (s2) is 8, the sample size for the first group (n1) is 30, and the sample size for the second group (n2) is 40.\n",
    "\n",
    "The standard error of the difference can be calculated using the following formula:\n",
    "standard error of the difference = √((s1^2 / n1) + (s2^2 / n2))\n",
    "\n",
    "standard error of the difference = √((10^2 / 30) + (8^2 / 40))\n",
    "standard error of the difference ≈ 2.591\n",
    "\n",
    "t = (5 - 0) / 2.591\n",
    "t ≈ 1.931\n",
    "\n",
    "Step 4: Determine the critical value and the p-value:\n",
    "Since the alternative hypothesis is two-tailed (μ1 ≠ μ2), we need to find the critical values that correspond to a significance level of 0.01/2 = 0.005.\n",
    "\n",
    "Using statistical software or a t-distribution table with degrees of freedom calculated using the formula:\n",
    "degrees of freedom = (s1^2 / n1 + s2^2 / n2)^2 / ((s1^2 / n1)^2 / (n1 - 1) + (s2^2 / n2)^2 / (n2 - 1))\n",
    "\n",
    "degrees of freedom ≈ 66.114\n",
    "\n",
    "The critical values for a two-tailed test with a significance level of 0.005 and approximately 66 degrees of freedom are approximately ±2.660.\n",
    "\n",
    "The p-value can also be obtained from the t-distribution. In this case, the p-value represents the probability of observing a t-value as extreme as 1.931 or more extreme, assuming the null hypothesis is true.\n",
    "\n",
    "Step 5: Make a decision:\n",
    "If the calculated t-value falls outside the critical value range, we reject the null hypothesis. Alternatively, if the p-value is less than the significance level (α), we reject the null hypothesis.\n",
    "\n",
    "In this case, the calculated t-value is 1.931, which falls within the critical value range of ±2.660. Additionally, the p-value associated with this t-value is greater than 0.01. Therefore, we fail to reject the null hypothesis.\n",
    "\n",
    "Step 6: Interpret the results:\n",
    "Since we fail to reject the null hypothesis, we do not have sufficient evidence to conclude that the population means for the two groups are different. The data does"
   ]
  },
  {
   "cell_type": "code",
   "execution_count": null,
   "id": "9d7f61fa-186f-41fe-a444-fbb0f2f77be8",
   "metadata": {},
   "outputs": [],
   "source": []
  },
  {
   "cell_type": "markdown",
   "id": "39fe4453-6241-4f35-95a8-172ba8ab7d47",
   "metadata": {},
   "source": [
    "## Q17. A marketing company wants to estimate the average number of ads watched by viewers during a TV program. They take a random sample of 50 viewers and find that the sample mean is 4 with a standard deviation of 1.5. Estimate the population mean with a 99% confidence interval."
   ]
  },
  {
   "cell_type": "code",
   "execution_count": null,
   "id": "658aad76-a0c2-48b7-a1aa-8437db0c9e88",
   "metadata": {},
   "outputs": [],
   "source": [
    "To estimate the population mean with a 99% confidence interval, we can use the sample mean and the standard error of the mean. \n",
    "\n",
    "Step 1: Calculate the standard error of the mean.\n",
    "The standard error of the mean (SE) represents the variability of the sample mean and is calculated by dividing the sample standard deviation by the square root of the sample size.\n",
    "SE = Sample Standard Deviation / √(Sample Size)\n",
    "\n",
    "In this case, the sample mean is 4 and the sample standard deviation is 1.5, with a sample size of n = 50.\n",
    "\n",
    "SE = 1.5 / √50\n",
    "SE ≈ 0.2121\n",
    "\n",
    "Step 2: Determine the margin of error.\n",
    "The margin of error (MOE) represents the range around the sample mean within which we expect the population mean to fall. It is calculated by multiplying the critical value (obtained from the t-distribution) by the standard error.\n",
    "MOE = Critical Value * SE\n",
    "\n",
    "For a 99% confidence interval, the critical value corresponds to the 0.5% percentile (0.005) on each tail of the t-distribution with (n-1) degrees of freedom (n being the sample size). Since your sample size is 50, the degrees of freedom will be 49.\n",
    "\n",
    "You can use statistical software or a t-distribution table to find the critical value. For simplicity, assuming a symmetric distribution, the critical value is approximately 2.678.\n",
    "\n",
    "MOE = 2.678 * 0.2121\n",
    "MOE ≈ 0.5682\n",
    "\n",
    "Step 3: Calculate the confidence interval.\n",
    "The confidence interval is constructed by taking the sample mean and adding/subtracting the margin of error.\n",
    "Confidence Interval = Sample Mean ± MOE\n",
    "\n",
    "Confidence Interval = 4 ± 0.5682\n",
    "\n",
    "Therefore, the 99% confidence interval for the average number of ads watched by viewers during a TV program is approximately (3.4318, 4.5682).\n",
    "\n",
    "We can be 99% confident that the true population mean falls within this interval based on the given sample."
   ]
  },
  {
   "cell_type": "code",
   "execution_count": null,
   "id": "08ccdbfb-53ba-496d-a374-3e71f0a4b705",
   "metadata": {},
   "outputs": [],
   "source": []
  },
  {
   "cell_type": "code",
   "execution_count": null,
   "id": "f343f3a3-ddb5-4884-bb2c-66adcf5d9a5d",
   "metadata": {},
   "outputs": [],
   "source": []
  },
  {
   "cell_type": "code",
   "execution_count": null,
   "id": "e0711ba2-cad0-4f8a-af72-9d2d0d0bcc60",
   "metadata": {},
   "outputs": [],
   "source": []
  }
 ],
 "metadata": {
  "kernelspec": {
   "display_name": "Python 3 (ipykernel)",
   "language": "python",
   "name": "python3"
  },
  "language_info": {
   "codemirror_mode": {
    "name": "ipython",
    "version": 3
   },
   "file_extension": ".py",
   "mimetype": "text/x-python",
   "name": "python",
   "nbconvert_exporter": "python",
   "pygments_lexer": "ipython3",
   "version": "3.10.8"
  }
 },
 "nbformat": 4,
 "nbformat_minor": 5
}
