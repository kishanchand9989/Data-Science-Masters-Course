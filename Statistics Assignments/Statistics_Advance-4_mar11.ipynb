{
 "cells": [
  {
   "cell_type": "code",
   "execution_count": null,
   "id": "534e78ba-5c3b-454e-b888-eb48bdba661b",
   "metadata": {},
   "outputs": [],
   "source": [
    "# Kishan Chand                          Assignment                        Mar9-23"
   ]
  },
  {
   "cell_type": "code",
   "execution_count": null,
   "id": "7431b22e-1111-415c-8af6-7fc858bfd9db",
   "metadata": {},
   "outputs": [],
   "source": []
  },
  {
   "cell_type": "markdown",
   "id": "2bdc69e9-116b-40f7-b107-497701414699",
   "metadata": {},
   "source": [
    "## Q1: What is the difference between a t-test and a z-test? Provide an example scenario where you would use each type of test.\n"
   ]
  },
  {
   "cell_type": "markdown",
   "id": "34da584a-57ab-4424-9cec-684c08444e8c",
   "metadata": {},
   "source": [
    "The main difference between a t-test and a z-test lies in the information available about the population standard deviation. The choice between the two tests depends on whether the population standard deviation is known or unknown.\n",
    "\n",
    "1. Z-test:\n",
    "   - Population Standard Deviation Known: A z-test is used when the population standard deviation is known. In this case, the z-test is appropriate because the population parameter is fixed and known.\n",
    "   - Example scenario: Suppose you want to test whether the average height of a specific population is significantly different from a known average height of 170 cm. You have access to the entire population data, including the population standard deviation.\n",
    "\n",
    "2. T-test:\n",
    "   - Population Standard Deviation Unknown: A t-test is used when the population standard deviation is unknown and must be estimated from the sample data. In this case, the t-test accounts for the added uncertainty due to the estimation of the population standard deviation.\n",
    "   - Example scenario: Let's say you want to test whether a new medication has a significant effect on blood pressure. You randomly select a sample of patients and measure their blood pressure before and after taking the medication. Here, you don't know the population standard deviation and must estimate it from the sample data. In this situation, a t-test would be appropriate.\n"
   ]
  },
  {
   "cell_type": "code",
   "execution_count": null,
   "id": "19bb3792-908b-48cc-880a-55ed8a6dc233",
   "metadata": {},
   "outputs": [],
   "source": []
  },
  {
   "cell_type": "markdown",
   "id": "a0b692c7-7527-48b0-b230-3386fb9f30d6",
   "metadata": {},
   "source": [
    "## Q2: Differentiate between one-tailed and two-tailed tests.\n"
   ]
  },
  {
   "cell_type": "markdown",
   "id": "ba52c7a2-0847-4d1d-b834-86e47f54e71b",
   "metadata": {},
   "source": [
    "One-tailed and two-tailed tests are different ways of formulating hypotheses and conducting hypothesis tests. The main difference lies in the directionality of the alternative hypothesis and the critical region used for testing.\n",
    "\n",
    "1. One-tailed test:\n",
    "   - Directional Hypothesis: In a one-tailed test, the alternative hypothesis is formulated to detect a change or difference in a specific direction.\n",
    "   - Critical Region: The critical region for the test is located in only one tail of the distribution.\n",
    "   - Example scenario: Suppose you are testing whether a new drug improves test scores. Your alternative hypothesis is that the drug increases test scores. In this case, you are only interested in detecting an increase, and the critical region is defined in one tail of the distribution (either the left or the right, depending on the direction of the alternative hypothesis).\n",
    "\n",
    "2. Two-tailed test:\n",
    "   - Non-directional Hypothesis: In a two-tailed test, the alternative hypothesis is formulated to detect a change or difference in either direction.\n",
    "   - Critical Region: The critical region for the test is divided into two equal tails, representing extreme values on both sides of the distribution.\n",
    "   - Example scenario: Consider a scenario where you are testing whether a new treatment affects body weight. In this case, your alternative hypothesis is that the treatment causes a change in body weight, without specifying whether it will increase or decrease. The critical region is divided into two tails, allowing for the detection of significant deviations in both directions.\n",
    "\n",
    "The choice between one-tailed and two-tailed tests depends on the specific research question and the directionality of the effect being investigated. One-tailed tests are used when there is a specific hypothesis about the direction of the effect, while two-tailed tests are more appropriate when the direction of the effect is not specified or when you want to be sensitive to deviations in both directions."
   ]
  },
  {
   "cell_type": "code",
   "execution_count": null,
   "id": "d915a74d-5921-4db8-9430-8f065bc502f0",
   "metadata": {},
   "outputs": [],
   "source": []
  },
  {
   "cell_type": "markdown",
   "id": "6ed0ec00-563a-4974-825a-c2a420dffe79",
   "metadata": {},
   "source": [
    "## Q3: Explain the concept of Type 1 and Type 2 errors in hypothesis testing. Provide an example scenario for each type of error.\n"
   ]
  },
  {
   "cell_type": "markdown",
   "id": "74190f64-867a-4970-b1ff-56fbd522a2f5",
   "metadata": {},
   "source": [
    "Certainly! Here's an expanded explanation:\n",
    "\n",
    "Type 1 Error (False Positive):\n",
    "- A Type 1 error occurs when we reject a true null hypothesis, i.e., we conclude that there is a significant effect or relationship in the data when, in reality, there is no such effect or relationship.\n",
    "- It represents a false positive result or a \"false alarm.\"\n",
    "- Type 1 errors are associated with having a significant result or rejecting the null hypothesis when the null hypothesis is actually true.\n",
    "- The probability of committing a Type 1 error is denoted by the symbol α (alpha), and it is referred to as the significance level of the test.\n",
    "- Example Scenario: Suppose a new medical test is developed to detect a particular disease. The null hypothesis states that the person is healthy. However, due to test inaccuracies or other factors, the test result shows a positive indication for the disease when, in reality, the person is healthy. This results in an incorrect rejection of the null hypothesis and a Type 1 error.\n",
    "\n",
    "Type 2 Error (False Negative):\n",
    "- A Type 2 error occurs when we fail to reject a false null hypothesis, i.e., we conclude that there is no significant effect or relationship in the data when, in reality, there is an effect or relationship.\n",
    "- It represents a false negative result or a failure to detect a true effect or relationship.\n",
    "- Type 2 errors are associated with having a non-significant result or failing to reject the null hypothesis when the null hypothesis is actually false.\n",
    "- The probability of committing a Type 2 error is denoted by the symbol β (beta).\n",
    "- Example Scenario: Consider a clinical trial testing the effectiveness of a new drug. The alternative hypothesis states that the drug has a significant effect. However, due to a small sample size or other factors, the study fails to show a significant effect of the drug, leading to a Type 2 error. In reality, the drug is effective, but the study fails to detect it.\n"
   ]
  },
  {
   "cell_type": "code",
   "execution_count": null,
   "id": "04449728-2c6d-44fe-b55a-47a12826912c",
   "metadata": {},
   "outputs": [],
   "source": []
  },
  {
   "cell_type": "markdown",
   "id": "26cbd215-f87b-43ab-86e6-1b3847e23b98",
   "metadata": {},
   "source": [
    "## Q4: Explain Bayes's theorem with an example.\n"
   ]
  },
  {
   "cell_type": "markdown",
   "id": "22597886-0257-4cb5-acd3-a4f08417baa7",
   "metadata": {},
   "source": [
    "Bayes's theorem is a fundamental concept in probability theory that allows us to update our beliefs or probabilities about an event based on new evidence or information. It provides a way to calculate the conditional probability of an event given prior knowledge.\n",
    "\n",
    "Bayes's theorem states:\n",
    "\n",
    "P(A|B) = (P(B|A) * P(A)) / P(B)\n",
    "\n",
    "Where:\n",
    "- P(A|B) represents the conditional probability of event A given event B.\n",
    "- P(B|A) represents the conditional probability of event B given event A.\n",
    "- P(A) represents the prior probability of event A.\n",
    "- P(B) represents the prior probability of event B.\n",
    "\n",
    "To illustrate Bayes's theorem, let's consider an example:\n",
    "\n",
    "Example: Medical Test for a Disease\n",
    "Suppose there is a rare disease that affects 1 in 10,000 people in a population. A medical test has been developed to detect the disease, which has an accuracy rate of 99%. If a person tests positive for the disease, what is the probability that they actually have the disease?\n",
    "\n",
    "Let's define the events:\n",
    "- A: Having the disease\n",
    "- B: Testing positive for the disease\n",
    "\n",
    "Given:\n",
    "- P(A) = 1/10,000 (prior probability of having the disease)\n",
    "- P(B|A) = 0.99 (probability of testing positive given that the person has the disease)\n",
    "\n",
    "We need to calculate:\n",
    "- P(A|B) (probability of having the disease given that the person tests positive)\n",
    "\n",
    "Using Bayes's theorem:\n",
    "P(A|B) = (P(B|A) * P(A)) / P(B)\n",
    "\n",
    "P(B) can be calculated as the sum of two cases: \n",
    "- True positive: P(B|A) * P(A)\n",
    "- False positive: P(B|not A) * P(not A)\n",
    "\n",
    "Given that the disease is rare, we can assume that P(not A) is approximately 1 - P(A).\n",
    "\n",
    "So, P(B) = (P(B|A) * P(A)) + (P(B|not A) * P(not A))\n",
    "       = (0.99 * 1/10,000) + (0.01 * 9,999/10,000)\n",
    "\n",
    "Now, we can substitute the values into Bayes's theorem:\n",
    "P(A|B) = (P(B|A) * P(A)) / P(B)\n",
    "       = (0.99 * 1/10,000) / P(B)\n",
    "\n",
    "Calculating P(A|B) will give us the probability of having the disease given that the person tests positive.\n",
    "\n",
    "Bayes's theorem allows us to update our belief in light of new evidence. In this example, it helps us calculate the probability of having the disease after obtaining a positive test result, taking into account both the accuracy of the test and the prior probability of the disease in the population."
   ]
  },
  {
   "cell_type": "code",
   "execution_count": null,
   "id": "54f94638-2109-42af-877a-935e0ebc3661",
   "metadata": {},
   "outputs": [],
   "source": []
  },
  {
   "cell_type": "markdown",
   "id": "499d8667-2cbf-4d56-8832-b7a99fe93c3a",
   "metadata": {},
   "source": [
    "## Q5: What is a confidence interval? How to calculate the confidence interval, explain with an example.\n"
   ]
  },
  {
   "cell_type": "markdown",
   "id": "6b74f624-db61-4d6c-a4b7-f9c7c2109fe5",
   "metadata": {},
   "source": [
    "A confidence interval is a range of values that provides an estimate of the plausible range of values for a population parameter, such as the mean or proportion. It is often used in statistical inference to quantify the uncertainty associated with an estimate.\n",
    "\n",
    "To calculate a confidence interval, you typically need three pieces of information:\n",
    "1. Sample data: This is the data you have collected from a sample of the population.\n",
    "2. Confidence level: This represents the desired level of confidence you want to have in your interval estimate. It is usually expressed as a percentage, such as 95% or 99%.\n",
    "3. Estimation method: The choice of estimation method depends on the type of data and the parameter you want to estimate. For example, if you are estimating the population mean, you might use the t-distribution for small sample sizes or the z-distribution for large sample sizes.\n",
    "\n",
    "Here's an example to illustrate how to calculate a confidence interval for the population mean:\n",
    "\n",
    "Suppose you want to estimate the average height of adults in a city. You collect a random sample of 100 individuals and measure their heights. The sample mean height is 170 cm, and the sample standard deviation is 5 cm.\n",
    "\n",
    "1. Choose a confidence level: Let's say we want a 95% confidence level, which is a common choice.\n",
    "2. Select the estimation method: Since the sample size is large (100), we can use the z-distribution.\n",
    "3. Determine the critical value: For a 95% confidence level, the critical value (z-score) is approximately 1.96. This value corresponds to the area under the normal distribution curve outside the confidence interval.\n",
    "4. Calculate the standard error: The standard error is the standard deviation of the sample divided by the square root of the sample size. In this case, it would be 5 cm / √100 = 0.5 cm.\n",
    "5. Calculate the confidence interval: Multiply the standard error by the critical value and add/subtract it to/from the sample mean. The confidence interval is then [170 - (1.96 * 0.5), 170 + (1.96 * 0.5)] = [169.02, 170.98].\n",
    "\n",
    "Interpretation: We are 95% confident that the true average height of adults in the city falls within the range of 169.02 cm to 170.98 cm.\n",
    "\n",
    "The confidence interval gives us a range of plausible values for the population parameter based on the sample data. A higher confidence level will result in a wider interval, reflecting increased uncertainty but providing more confidence in capturing the true parameter value."
   ]
  },
  {
   "cell_type": "code",
   "execution_count": null,
   "id": "ea732706-7dd8-4473-a945-9e44b1284bf9",
   "metadata": {},
   "outputs": [],
   "source": []
  },
  {
   "cell_type": "markdown",
   "id": "94020673-bf14-47e6-8763-cd4a2e083b45",
   "metadata": {},
   "source": [
    "## Q6. Use Bayes' Theorem to calculate the probability of an event occurring given prior knowledge of the event's probability and new evidence. Provide a sample problem and solution.\n"
   ]
  },
  {
   "cell_type": "markdown",
   "id": "9badf21a-3c25-40cd-87d7-2328453ffa7d",
   "metadata": {},
   "source": [
    "Bayes' Theorem is a fundamental concept in probability theory that allows us to update our beliefs about the probability of an event occurring based on new evidence. It mathematically combines prior knowledge (prior probability) with new data or evidence to calculate the revised probability (posterior probability). The formula for Bayes' Theorem is as follows:\n",
    "\n",
    "P(A|B) = (P(B|A) * P(A)) / P(B)\n",
    "\n",
    "Where:\n",
    "- P(A|B) is the posterior probability of event A given event B.\n",
    "- P(B|A) is the probability of event B given event A.\n",
    "- P(A) is the prior probability of event A.\n",
    "- P(B) is the probability of event B.\n",
    "\n",
    "Here's an example to illustrate the application of Bayes' Theorem:\n",
    "\n",
    "Problem:\n",
    "Suppose a factory produces two types of products: Product A and Product B. Historically, 10% of the factory's output is Product A, while the remaining 90% is Product B. Product A has a defective rate of 5%, whereas Product B has a defective rate of 2%. If a randomly chosen product is found to be defective, what is the probability that it is Product A?\n",
    "\n",
    "Solution:\n",
    "Let's define the events as follows:\n",
    "A: The chosen product is Product A.\n",
    "B: The chosen product is defective.\n",
    "\n",
    "We need to calculate P(A|B), which is the probability that the chosen defective product is Product A.\n",
    "\n",
    "Given:\n",
    "P(A) = 0.10 (prior probability of Product A)\n",
    "P(B|A) = 0.05 (probability of being defective given it is Product A)\n",
    "P(B) = ? (probability of being defective)\n",
    "\n",
    "To calculate P(B), we can use the law of total probability, which states that the probability of an event is the sum of the probabilities of that event occurring under different conditions.\n",
    "\n",
    "P(B) = P(B|A) * P(A) + P(B|B') * P(B')\n",
    "\n",
    "P(B|A) * P(A) represents the probability of being defective given it is Product A multiplied by the prior probability of Product A.\n",
    "P(B|B') * P(B') represents the probability of being defective given it is not Product A multiplied by the prior probability of not Product A.\n",
    "\n",
    "Since we know P(A) = 0.10 and P(B|A) = 0.05, we need to calculate P(B|B') and P(B').\n",
    "\n",
    "P(B|B') can be calculated as 1 - P(B'|B), which is the complement of the probability of not being defective given it is not Product A. In this case, P(B'|B) is the probability of not being defective given it is not Product A, which is 1 - P(B|B).\n",
    "\n",
    "P(B') can be calculated as 1 - P(A), which is the complement of the prior probability of Product A.\n",
    "\n",
    "Let's assume P(B|B') = 0.02 (probability of being defective given it is not Product A).\n",
    "\n",
    "Calculations:\n",
    "P(B|B') = 1 - P(B|A') = 1 - 0.02 = 0.98\n",
    "P(B') = 1 - P(A) = 1 - 0.10 = 0.90\n",
    "\n",
    "Now we can substitute the values into Bayes' Theorem to calculate P(A|B):\n",
    "\n",
    "P(A|B) = (P(B|A) * P(A)) / P(B)\n",
    "       = (0.05 * 0.10) / (P(B|A) * P(A) + P(B|B') * P(B'))\n",
    "       = (0.05 * 0.10) / (0.05 * 0.\n",
    "\n",
    "10 + 0.02 * 0.90)\n",
    "       ≈ 0.2174\n",
    "\n",
    "Therefore, the probability that the chosen defective product is Product A is approximately 0.2174 or 21.74%.\n",
    "\n",
    "By using Bayes' Theorem, we were able to update our belief about the probability of the product being Product A given the new evidence of it being defective."
   ]
  },
  {
   "cell_type": "code",
   "execution_count": null,
   "id": "cb076b68-d9c9-42d1-b768-0980972771c6",
   "metadata": {},
   "outputs": [],
   "source": []
  },
  {
   "cell_type": "markdown",
   "id": "e3d5e318-ed91-4a4b-8f9c-dd4f59a561dc",
   "metadata": {},
   "source": [
    "## Q7. Calculate the 95% confidence interval for a sample of data with a mean of 50 and a standard deviation of 5. Interpret the results.\n"
   ]
  },
  {
   "cell_type": "markdown",
   "id": "733e83a6-2894-4f4b-bf78-487adc2dca1e",
   "metadata": {},
   "source": [
    "To calculate the 95% confidence interval, we can use the formula:\n",
    "\n",
    "Confidence Interval = Mean ± (Z * (Standard Deviation / √(Sample Size)))\n",
    "\n",
    "Where:\n",
    "- Mean: The mean of the sample data (50 in this case).\n",
    "- Z: The critical value corresponding to the desired confidence level. For a 95% confidence level, the Z-value is approximately 1.96.\n",
    "- Standard Deviation: The standard deviation of the sample data (5 in this case).\n",
    "- Sample Size: The number of observations in the sample.\n",
    "\n",
    "Confidence Interval = 50 ± (1.96 * (5 / √(Sample Size)))\n",
    "\n",
    "Since the sample size is not provided in this case, we cannot determine the specific confidence interval. However, we can interpret the concept of a 95% confidence interval.\n",
    "\n",
    "Interpretation: If we were to take multiple samples from the population and calculate a 95% confidence interval for each sample, approximately 95% of those intervals would contain the true population mean. In other words, we are 95% confident that the true population mean falls within the calculated confidence interval."
   ]
  },
  {
   "cell_type": "code",
   "execution_count": null,
   "id": "17ae157d-f156-47c5-b066-1a908ca4959e",
   "metadata": {},
   "outputs": [],
   "source": []
  },
  {
   "cell_type": "markdown",
   "id": "a6105d24-ace3-44e0-8baf-6f951ea93d12",
   "metadata": {},
   "source": [
    "## Q8. What is the margin of error in a confidence interval? How does sample size affect the margin of error? Provide an example of a scenario where a larger sample size would result in a smaller margin of error.\n"
   ]
  },
  {
   "cell_type": "markdown",
   "id": "c53179fd-9f5c-45c5-bad2-57b55dd5a54f",
   "metadata": {},
   "source": [
    "The margin of error in a confidence interval represents the range of values around the estimated parameter (such as the mean or proportion) within which the true population parameter is likely to fall. It provides a measure of the uncertainty associated with the estimate.\n",
    "\n",
    "In general, a larger sample size tends to result in a smaller margin of error. This is because as the sample size increases, the variability in the sample estimates decreases, leading to a more precise estimate of the population parameter. A smaller margin of error indicates a higher level of precision and greater confidence in the estimate.\n",
    "\n",
    "Here's an example scenario to illustrate how a larger sample size can result in a smaller margin of error:\n",
    "\n",
    "Suppose we want to estimate the average height of students in a school. We take a sample of 50 students and calculate their average height, which turns out to be 165 cm with a standard deviation of 5 cm.\n",
    "\n",
    "Case 1: Sample Size of 50\n",
    "Using this sample size, we calculate a 95% confidence interval for the average height, which results in a margin of error of ±1.96 * (5 / √50) ≈ ±1.38 cm.\n",
    "\n",
    "Case 2: Sample Size of 200\n",
    "Now, let's consider a larger sample size of 200 students. Using this sample size, we recalculate the 95% confidence interval, which results in a smaller margin of error of ±1.96 * (5 / √200) ≈ ±0.70 cm.\n",
    "\n",
    "In this example, as the sample size increases from 50 to 200, the margin of error decreases. With a larger sample, we have more information about the population, allowing for a more precise estimate of the average height."
   ]
  },
  {
   "cell_type": "code",
   "execution_count": null,
   "id": "0fa6195d-6ac5-47ae-b527-ffbf5a1422a3",
   "metadata": {},
   "outputs": [],
   "source": []
  },
  {
   "cell_type": "markdown",
   "id": "71734a16-4d94-4fdf-8044-5dfe49659336",
   "metadata": {},
   "source": [
    "## Q9. Calculate the z-score for a data point with a value of 75, a population mean of 70, and a population standard deviation of 5. Interpret the results.\n"
   ]
  },
  {
   "cell_type": "markdown",
   "id": "bb487a30-5db7-41a1-be52-1e46db33df57",
   "metadata": {},
   "source": [
    "To calculate the z-score, we can use the formula:\n",
    "\n",
    "z = (x - μ) / σ\n",
    "\n",
    "Using the given values, we can calculate the z-score as follows:\n",
    "\n",
    "z = (75 - 70) / 5\n",
    "z = 5 / 5\n",
    "z = 1\n",
    "\n",
    "The z-score for the data point with a value of 75 is 1.\n",
    "\n",
    "Interpreting the results: \n",
    "The z-score measures the number of standard deviations a data point is away from the mean. In this case, a z-score of 1 indicates that the data point (75) is 1 standard deviation above the population mean (70).\n",
    "\n",
    "Since the z-score is positive, it means the data point is higher than the mean. The magnitude of the z-score (1) represents the distance of the data point from the mean in terms of standard deviations. A z-score of 1 suggests that the data point is relatively close to the mean but slightly above it.\n",
    "\n",
    "By calculating the z-score, we can compare data points from different populations, standardize data for statistical analysis, and determine the relative position of a data point within a distribution."
   ]
  },
  {
   "cell_type": "code",
   "execution_count": null,
   "id": "c28bc690-2bd5-4dd9-ab87-286f15ec09f2",
   "metadata": {},
   "outputs": [],
   "source": []
  },
  {
   "cell_type": "markdown",
   "id": "fc13646f-28f1-49ac-a487-140cdbaaf330",
   "metadata": {},
   "source": [
    "## Q10. In a study of the effectiveness of a new weight loss drug, a sample of 50 participants lost an average of 6 pounds with a standard deviation of 2.5 pounds. Conduct a hypothesis test to determine if the drug is significantly effective at a 95% confidence level using a t-test.\n"
   ]
  },
  {
   "cell_type": "markdown",
   "id": "f2fb5384-580e-4465-8fe9-625617e7125a",
   "metadata": {},
   "source": [
    "Data is Inadequate(not sufficient) to calculate the t test,\n",
    "below I'm providing the process to solve the problem\n",
    "\n",
    "To conduct a hypothesis test using a t-test, we need to define the null hypothesis (H0) and the alternative hypothesis (Ha).\n",
    "\n",
    "Null Hypothesis (H0): The weight loss drug is not significantly effective; the average weight loss is equal to or less than 0.\n",
    "Alternative Hypothesis (Ha): The weight loss drug is significantly effective; the average weight loss is greater than 0.\n",
    "\n",
    "We will use a one-sample t-test to compare the sample mean to the hypothesized mean of 0. The steps for conducting the t-test are as follows:\n",
    "\n",
    "1. Define the significance level (α): In this case, the significance level is 0.05 (or 5%).\n",
    "\n",
    "2. Calculate the test statistic (t-value):\n",
    "   t = (sample mean - hypothesized mean) / (sample standard deviation / √n)\n",
    "\n",
    "   Given:\n",
    "   Sample mean (x̄) = 6\n",
    "   Hypothesized mean (μ0) = 0\n",
    "   Sample standard deviation (s) = 2.5\n",
    "   Sample size (n) = 50\n",
    "\n",
    "   t = (6 - 0) / (2.5 / √50)\n",
    "\n",
    "3. Determine the degrees of freedom (df):\n",
    "   df = n - 1 = 50 - 1 = 49\n",
    "\n",
    "4. Find the critical t-value:\n",
    "   We will use a one-tailed test since our alternative hypothesis is one-sided (greater than 0) and a 95% confidence level.\n",
    "   Using a t-table or a t-distribution calculator with 49 degrees of freedom and a significance level of 0.05, the critical t-value is approximately 1.676.\n",
    "\n",
    "5. Compare the test statistic with the critical t-value:\n",
    "   If the test statistic is greater than the critical t-value, we reject the null hypothesis; otherwise, we fail to reject the null hypothesis.\n",
    "\n",
    "6. Calculate the p-value:\n",
    "   The p-value represents the probability of obtaining a test statistic as extreme as the observed value, assuming the null hypothesis is true. If the p-value is less than the significance level (α), we reject the null hypothesis.\n",
    "   We can use a t-distribution table or a statistical software to calculate the p-value corresponding to the test statistic.\n",
    "\n",
    "7. Make a conclusion:\n",
    "   - If the p-value is less than the significance level (α), we reject the null hypothesis and conclude that the weight loss drug is significantly effective.\n",
    "   - If the p-value is greater than the significance level (α), we fail to reject the null hypothesis and conclude that there is not enough evidence to suggest that the weight loss drug is significantly effective.\n",
    "\n",
    "Note: Since the original dataset is not provided, we cannot perform the actual calculations. The steps mentioned above outline the general procedure for conducting a t-test."
   ]
  },
  {
   "cell_type": "code",
   "execution_count": null,
   "id": "9c64d264-aa67-4664-8193-fafb8e88cfa2",
   "metadata": {},
   "outputs": [],
   "source": []
  },
  {
   "cell_type": "markdown",
   "id": "74acbaab-4240-4780-88e4-c7cd084c27e5",
   "metadata": {},
   "source": [
    "## Q11. In a survey of 500 people, 65% reported being satisfied with their current job. Calculate the 95% confidence interval for the true proportion of people who are satisfied with their job.\n"
   ]
  },
  {
   "cell_type": "code",
   "execution_count": null,
   "id": "d1e07188-774c-4188-93ae-a77fdd5a5a2f",
   "metadata": {},
   "outputs": [],
   "source": [
    "To calculate the 95% confidence interval for the true proportion of people who are satisfied with their job,\n",
    "\n",
    "Confidence Interval = sample proportion ± (critical value * standard error)\n",
    "\n",
    "Step 1: Calculate the sample proportion.\n",
    "The sample proportion (p) is calculated by dividing the number of people who reported being satisfied (65% of 500) by the total sample size (500).\n",
    "\n",
    "p = 0.65\n",
    "\n",
    "Step 2: Calculate the standard error.\n",
    "The standard error (SE) represents the variability of the sample proportion and is calculated using the formula:\n",
    "\n",
    "SE = √((p * (1 - p)) / n)\n",
    "\n",
    "In this case, the sample proportion (p) is 0.65 and the sample size (n) is 500.\n",
    "\n",
    "SE = √((0.65 * (1 - 0.65)) / 500)\n",
    "SE ≈ 0.016\n",
    "\n",
    "Step 3: Determine the critical value.\n",
    "The critical value corresponds to the desired confidence level and can be obtained from a standard normal distribution (z-distribution) table or using statistical software. For a 95% confidence level, the critical value is approximately 1.96.\n",
    "\n",
    "Step 4: Calculate the confidence interval.\n",
    "Confidence Interval = p ± (critical value * standard error)\n",
    "Confidence Interval = 0.65 ± (1.96 * 0.016)\n",
    "\n",
    "Confidence Interval ≈ 0.65 ± 0.03136\n",
    "Confidence Interval ≈ (0.61864, 0.68136)\n",
    "\n",
    "Therefore, the 95% confidence interval for the true proportion of people who are satisfied with their job is approximately (0.61864, 0.68136). We can be 95% confident that the true proportion falls within this interval based on the given sample."
   ]
  },
  {
   "cell_type": "code",
   "execution_count": null,
   "id": "0c555eee-26b8-4938-9125-7b5b09958ca3",
   "metadata": {},
   "outputs": [],
   "source": []
  },
  {
   "cell_type": "markdown",
   "id": "ed50b2ed-8ba1-4cdb-a9c0-c137aaff2080",
   "metadata": {},
   "source": [
    "## Q12. A researcher is testing the effectiveness of two different teaching methods on student performance. Sample A has a mean score of 85 with a standard deviation of 6, while sample B has a mean score of 82 with a standard deviation of 5. Conduct a hypothesis test to determine if the two teaching methods have a significant difference in student performance using a t-test with a significance level of 0.01.\n"
   ]
  },
  {
   "cell_type": "markdown",
   "id": "7123e3c8-7bc5-42f3-bd43-954e38c26912",
   "metadata": {},
   "source": [
    "Data is Inadequate(not sufficient) to calculate the t test, below I'm providing the process to solve the problem\n",
    "\n",
    "To conduct a hypothesis test to determine if there is a significant difference in student performance between the two teaching methods, we can use a two-sample t-test. Here are the steps to perform the test:\n",
    "\n",
    "Step 1: State the null hypothesis (H0) and alternative hypothesis (H1):\n",
    "- Null hypothesis (H0): There is no significant difference in student performance between the two teaching methods.\n",
    "- Alternative hypothesis (H1): There is a significant difference in student performance between the two teaching methods.\n",
    "\n",
    "Step 2: Set the significance level (α):\n",
    "In this case, the significance level is given as 0.01, which corresponds to a 99% confidence level.\n",
    "\n",
    "Step 3: Compute the test statistic:\n",
    "We can use the formula for the two-sample t-test, which calculates the t-value based on the means, standard deviations, and sample sizes of the two samples.\n",
    "\n",
    "t = (mean_A - mean_B) / sqrt((squared_std_A / n_A) + (squared_std_B / n_B))\n",
    "\n",
    "Where:\n",
    "- mean_A and mean_B are the means of sample A and sample B, respectively.\n",
    "- std_A and std_B are the standard deviations of sample A and sample B, respectively.\n",
    "- n_A and n_B are the sample sizes of sample A and sample B, respectively.\n",
    "\n",
    "In this case:\n",
    "mean_A = 85, mean_B = 82\n",
    "std_A = 6, std_B = 5\n",
    "n_A = n_B = The sample sizes are not provided.\n",
    "\n",
    "Without the sample sizes, it is not possible to calculate the t-value or perform the hypothesis test. The sample sizes are crucial for determining the degrees of freedom and calculating the test statistic accurately."
   ]
  },
  {
   "cell_type": "code",
   "execution_count": null,
   "id": "f082fd61-09b3-4c18-9e4e-717e13dc5c14",
   "metadata": {},
   "outputs": [],
   "source": []
  },
  {
   "cell_type": "markdown",
   "id": "c75b5f30-a5d2-416a-8d6b-15d102a14d5b",
   "metadata": {},
   "source": [
    "## Q13. A population has a mean of 60 and a standard deviation of 8. A sample of 50 observations has a mean of 65. Calculate the 90% confidence interval for the true population mean.\n"
   ]
  },
  {
   "cell_type": "code",
   "execution_count": null,
   "id": "c5b4942e-9156-486a-92dd-4631f6146389",
   "metadata": {},
   "outputs": [],
   "source": [
    "To calculate the 90% confidence interval for the true population mean\n",
    "\n",
    "Confidence Interval = sample mean ± (critical value * standard error)\n",
    "\n",
    "Step 1: Calculate the standard error of the mean.\n",
    "The standard error of the mean (SE) represents the variability of the sample mean and is calculated by dividing the population standard deviation by the square root of the sample size.\n",
    "\n",
    "In this case, the population mean (μ) is 60, the population standard deviation (σ) is 8, and the sample size (n) is 50.\n",
    "\n",
    "SE = σ / √n\n",
    "SE = 8 / √50\n",
    "SE ≈ 1.131\n",
    "\n",
    "Step 2: Determine the critical value.\n",
    "The critical value is based on the desired confidence level and the shape of the sampling distribution. For a 90% confidence interval, the corresponding critical value can be found using a t-table or statistical software. Since the sample size is large (n > 30), we can approximate the t-distribution with the standard normal distribution (z-distribution). For a 90% confidence level, the critical value is approximately 1.645.\n",
    "\n",
    "Step 3: Calculate the confidence interval.\n",
    "Confidence Interval = sample mean ± (critical value * standard error)\n",
    "Confidence Interval = 65 ± (1.645 * 1.131)\n",
    "\n",
    "Confidence Interval ≈ 65 ± 1.860\n",
    "Confidence Interval ≈ (63.14, 66.86)\n",
    "\n",
    "Therefore, the 90% confidence interval for the true population mean is approximately (63.14, 66.86). We can be 90% confident that the true population mean falls within this interval based on the given sample."
   ]
  },
  {
   "cell_type": "code",
   "execution_count": null,
   "id": "02280bae-6307-41ce-b73e-30d078d8ee24",
   "metadata": {},
   "outputs": [],
   "source": []
  },
  {
   "cell_type": "markdown",
   "id": "000fca9c-44fa-41a9-9f04-23f4e78adb35",
   "metadata": {},
   "source": [
    "## Q14. In a study of the effects of caffeine on reaction time, a sample of 30 participants had an average reaction time of 0.25 seconds with a standard deviation of 0.05 seconds. Conduct a hypothesis test to determine if the caffeine has a significant effect on reaction time at a 90% confidence level using a t-test."
   ]
  },
  {
   "cell_type": "markdown",
   "id": "04d25c17-0f60-43ce-87ec-f121053ecfa4",
   "metadata": {},
   "source": [
    "To conduct a hypothesis test to determine if caffeine has a significant effect on reaction time, we can use a one-sample t-test. Here are the steps to perform the test:\n",
    "\n",
    "Step 1: State the null hypothesis (H0) and alternative hypothesis (H1):\n",
    "- Null hypothesis (H0): Caffeine does not have a significant effect on reaction time.\n",
    "- Alternative hypothesis (H1): Caffeine has a significant effect on reaction time.\n",
    "\n",
    "Step 2: Set the significance level (α):\n",
    "In this case, the significance level is given as 0.10, which corresponds to a 90% confidence level.\n",
    "\n",
    "Step 3: Compute the test statistic:\n",
    "We can use the formula for the one-sample t-test, which calculates the t-value based on the sample mean, population mean (under the null hypothesis), sample standard deviation, and sample size.\n",
    "\n",
    "t = (sample_mean - population_mean) / (sample_std / sqrt(sample_size))\n",
    "\n",
    "\n",
    "Calculating the t-value:\n",
    "t = (0.25 - 0) / (0.05 / sqrt(30))\n",
    "t = 5.0\n",
    "\n",
    "Step 4: Determine the critical t-value:\n",
    "Since the significance level is 0.10 (90% confidence level) and the test is one-tailed, we need to find the critical t-value at the corresponding alpha level and degrees of freedom (sample_size - 1). Looking up the t-distribution table or using statistical software, the critical t-value for a one-tailed test with 29 degrees of freedom at alpha = 0.10 is approximately 1.311.\n",
    "\n",
    "Step 5: Compare the test statistic with the critical t-value:\n",
    "Since the calculated t-value (5.0) is greater than the critical t-value (1.311), we reject the null hypothesis.\n",
    "\n",
    "Step 6: Draw a conclusion:\n",
    "Based on the results of the hypothesis test, we can conclude that caffeine has a significant effect on reaction time at a 90% confidence level.\n",
    "\n",
    "Please note that this analysis assumes the data meets the assumptions of the t-test, such as the data being normally distributed and independent."
   ]
  },
  {
   "cell_type": "code",
   "execution_count": null,
   "id": "63d20bf1-ed72-4c9b-9d73-b2ea76764423",
   "metadata": {},
   "outputs": [],
   "source": []
  },
  {
   "cell_type": "code",
   "execution_count": null,
   "id": "b123f5ee-ac08-4a13-82a0-28b6235f7b4a",
   "metadata": {},
   "outputs": [],
   "source": []
  },
  {
   "cell_type": "code",
   "execution_count": null,
   "id": "0afecc1e-c659-42fd-a91c-2af4006171fb",
   "metadata": {},
   "outputs": [],
   "source": []
  },
  {
   "cell_type": "code",
   "execution_count": 1,
   "id": "a2d402cc-9ea3-4611-92fd-3050cdfd466c",
   "metadata": {},
   "outputs": [
    {
     "name": "stdout",
     "output_type": "stream",
     "text": [
      "17\n"
     ]
    }
   ],
   "source": [
    "print(2+3*5)"
   ]
  },
  {
   "cell_type": "code",
   "execution_count": 3,
   "id": "520769e9-bb9f-49b1-a3ab-7318a1ace8dc",
   "metadata": {},
   "outputs": [
    {
     "name": "stdout",
     "output_type": "stream",
     "text": [
      "5\n"
     ]
    }
   ],
   "source": [
    "my_set = {1, 2, 3}\n",
    "\n",
    "my_set.add(4)\n",
    "my_set.add(5)\n",
    "\n",
    "print(len(my_set))"
   ]
  },
  {
   "cell_type": "code",
   "execution_count": 4,
   "id": "c8b5a235-4343-4f9a-9808-f406e7199453",
   "metadata": {},
   "outputs": [
    {
     "name": "stdout",
     "output_type": "stream",
     "text": [
      "2\n"
     ]
    }
   ],
   "source": [
    "print(\"Python\".find(\"th\"))"
   ]
  },
  {
   "cell_type": "code",
   "execution_count": 5,
   "id": "30dfc2fb-5f2d-4cf4-a311-96cdef402698",
   "metadata": {},
   "outputs": [
    {
     "name": "stdout",
     "output_type": "stream",
     "text": [
      "[1, 2, 3, 4]\n"
     ]
    }
   ],
   "source": [
    "x = [1, 2, 3]\n",
    "\n",
    "y = x\n",
    "\n",
    "y.append(4)\n",
    "\n",
    "print(x)"
   ]
  },
  {
   "cell_type": "code",
   "execution_count": null,
   "id": "8d02855d-949c-4c87-9f50-6a26616e63eb",
   "metadata": {},
   "outputs": [],
   "source": []
  },
  {
   "cell_type": "code",
   "execution_count": 8,
   "id": "7d9fb845-32f8-4466-ad0c-1ef8734d24e1",
   "metadata": {},
   "outputs": [
    {
     "name": "stdout",
     "output_type": "stream",
     "text": [
      "False\n"
     ]
    }
   ],
   "source": [
    "print(3 > 2 > 1>9)"
   ]
  },
  {
   "cell_type": "code",
   "execution_count": 9,
   "id": "6564f383-ee73-4fff-a98c-3c85ab96d48c",
   "metadata": {},
   "outputs": [
    {
     "name": "stdout",
     "output_type": "stream",
     "text": [
      "2\n"
     ]
    }
   ],
   "source": [
    "my_dict = {\"name\": \"John\", \"age\": 25}\n",
    "\n",
    "print(len(my_dict))"
   ]
  },
  {
   "cell_type": "code",
   "execution_count": 10,
   "id": "47100969-431f-4b39-8036-1a2921f96c3f",
   "metadata": {},
   "outputs": [
    {
     "ename": "TypeError",
     "evalue": "'tuple' object does not support item assignment",
     "output_type": "error",
     "traceback": [
      "\u001b[0;31m---------------------------------------------------------------------------\u001b[0m",
      "\u001b[0;31mTypeError\u001b[0m                                 Traceback (most recent call last)",
      "Cell \u001b[0;32mIn[10], line 3\u001b[0m\n\u001b[1;32m      1\u001b[0m my_tuple \u001b[38;5;241m=\u001b[39m (\u001b[38;5;241m1\u001b[39m, \u001b[38;5;241m2\u001b[39m, \u001b[38;5;241m3\u001b[39m)\n\u001b[0;32m----> 3\u001b[0m \u001b[43mmy_tuple\u001b[49m\u001b[43m[\u001b[49m\u001b[38;5;241;43m1\u001b[39;49m\u001b[43m]\u001b[49m \u001b[38;5;241m=\u001b[39m \u001b[38;5;241m4\u001b[39m\n\u001b[1;32m      5\u001b[0m \u001b[38;5;28mprint\u001b[39m(my_tuple)\n",
      "\u001b[0;31mTypeError\u001b[0m: 'tuple' object does not support item assignment"
     ]
    }
   ],
   "source": [
    "my_tuple = (1, 2, 3)\n",
    "\n",
    "my_tuple[1] = 4\n",
    "\n",
    "print(my_tuple)"
   ]
  },
  {
   "cell_type": "code",
   "execution_count": null,
   "id": "adca333d-04ee-4be2-8da7-835fefe41d10",
   "metadata": {},
   "outputs": [],
   "source": []
  }
 ],
 "metadata": {
  "kernelspec": {
   "display_name": "Python 3 (ipykernel)",
   "language": "python",
   "name": "python3"
  },
  "language_info": {
   "codemirror_mode": {
    "name": "ipython",
    "version": 3
   },
   "file_extension": ".py",
   "mimetype": "text/x-python",
   "name": "python",
   "nbconvert_exporter": "python",
   "pygments_lexer": "ipython3",
   "version": "3.10.8"
  }
 },
 "nbformat": 4,
 "nbformat_minor": 5
}
