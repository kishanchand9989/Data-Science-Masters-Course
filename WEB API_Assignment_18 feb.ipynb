{
 "cells": [
  {
   "cell_type": "code",
   "execution_count": 1,
   "id": "05a5f160-871e-496c-b2d0-d994ad3fc4a0",
   "metadata": {},
   "outputs": [],
   "source": [
    "# Kishan Chand                          Assignment                        Feb18-23"
   ]
  },
  {
   "cell_type": "markdown",
   "id": "a661c4ce-8c34-46e1-bd0f-a369f9940f90",
   "metadata": {},
   "source": [
    " # 1. What is an API? Give an example, where an API is used in real life."
   ]
  },
  {
   "cell_type": "markdown",
   "id": "a2c71daa-a61e-4a07-9734-9946c75f1cc3",
   "metadata": {},
   "source": [
    "Application Programming Interface Basically,it is used to Communicate b/w two heterogeneous systems.API'S Provides a Common Platform b/w Systems So that Systems can pass the data\n",
    "\n",
    "API'S can be used in Google Search"
   ]
  },
  {
   "cell_type": "markdown",
   "id": "1689eedb-ae4e-4e3c-b2ca-b18e2fe82aba",
   "metadata": {},
   "source": [
    "API stands for Application Programming Interface. It's a set of protocols, routines, and tools used for building software applications, which defines how different software components should interact with each other.\n",
    "\n",
    "In simpler terms, an API acts as a messenger between two software applications, allowing them to communicate with each other and exchange data. An API typically exposes a set of endpoints or URLs, which allow developers to interact with the underlying system and retrieve or manipulate data.\n",
    "\n",
    "An example of an API in real life is the Google Maps API, which allows developers to embed Google Maps functionality in their own applications. With the Google Maps API, developers can retrieve data such as location, directions, and distance, and display it in their own application. This API is used by a variety of businesses and organizations, including ride-hailing services, delivery apps, and tourism websites, to provide location-based services to their users.\n"
   ]
  },
  {
   "cell_type": "code",
   "execution_count": null,
   "id": "86347f8a-6c8b-45d8-85c4-f695cb23bbf5",
   "metadata": {},
   "outputs": [],
   "source": []
  },
  {
   "cell_type": "markdown",
   "id": "30c1690b-6bd3-4f15-935e-8bdd9c0675cb",
   "metadata": {},
   "source": [
    " # 2.Give advantages and disadvantages of using API.\n"
   ]
  },
  {
   "cell_type": "markdown",
   "id": "0069a728-0422-49d7-9917-fb47a38969ae",
   "metadata": {},
   "source": [
    "APIs (Application Programming Interfaces) are used to enable communication and interaction between different software applications, allowing developers to access and use features of a service or application.\n",
    "\n",
    "Advantages of using API:\n",
    "\n",
    "Efficiency: APIs provide a more efficient and streamlined way of accessing data and services, allowing developers to quickly integrate new features and functionalities into their applications.\n",
    "\n",
    "Consistency: APIs provide a consistent interface for accessing data and services, reducing the risk of errors or inconsistencies caused by manual data entry.\n",
    "\n",
    "Customizability: APIs can be customized to meet the specific needs of individual developers or applications, providing a flexible and scalable solution for accessing data and services.\n",
    "\n",
    "Security: APIs can be secured with authentication and authorization mechanisms, providing a secure way of accessing data and services.\n",
    "\n",
    "Disadvantages of using API:\n",
    "\n",
    "Dependency: APIs are dependent on the availability and reliability of the service or application they are accessing. If the service or application goes down or changes its API, it can disrupt the functionality of the dependent application.\n",
    "\n",
    "Complexity: APIs can be complex and difficult to understand, particularly for less experienced developers. This can lead to errors or inefficiencies in development.\n",
    "\n",
    "Cost: Some APIs require payment or subscription fees, particularly those that provide access to premium data or services. This can add to the cost of development and may be prohibitive for some developers.\n",
    "\n",
    "Versioning: APIs can evolve over time, with changes to functionality or structure. This can require developers to update their code to ensure compatibility with new versions of the API.\n",
    "\n",
    "\n",
    "\n",
    "\n"
   ]
  },
  {
   "cell_type": "code",
   "execution_count": null,
   "id": "ed53dbaa-f80f-4b3e-8e8a-490d0b2588e5",
   "metadata": {},
   "outputs": [],
   "source": []
  },
  {
   "cell_type": "markdown",
   "id": "2ff87b0d-5b4f-4934-943e-fa8fec97c6ec",
   "metadata": {},
   "source": [
    "# 3. What is a Web API? Differentiate between API and Web API.\n"
   ]
  },
  {
   "cell_type": "markdown",
   "id": "2cf17c9d-ea74-4938-a761-0a9ccfac720f",
   "metadata": {},
   "source": [
    "A Web API (Application Programming Interface) is a type of API that uses the HTTP protocol to enable communication and interaction between different software applications over the internet. Web APIs typically use HTTP methods such as GET, POST, PUT, and DELETE to send and receive data in a standardized format such as JSON or XML.\n",
    "\n",
    "The main difference between a general API and a Web API is that a Web API is designed specifically to be used over the internet and is accessed through web protocols such as HTTP and HTTPS. A general API, on the other hand, can be used for a variety of purposes and may use different communication protocols such as RPC, SOAP, or CORBA.\n",
    "\n",
    "Here are some other key differences between APIs and Web APIs:\n",
    "\n",
    "Communication protocol: APIs can use a variety of communication protocols, while Web APIs use web protocols such as HTTP and HTTPS.\n",
    "\n",
    "Data format: APIs can use different data formats to send and receive data, while Web APIs typically use standardized formats such as JSON or XML.\n",
    "\n",
    "Access: APIs can be accessed through different means such as a software library or command line interface, while Web APIs are typically accessed through HTTP requests sent from a client application such as a web browser or mobile app.\n",
    "\n",
    "Security: Web APIs often use security mechanisms such as OAuth to protect against unauthorized access and ensure the confidentiality and integrity of data being transmitted.\n",
    "\n",
    "In summary, a Web API is a specific type of API that uses web protocols to enable communication between different software applications over the internet. While APIs can be used for a variety of purposes and may use different communication protocols, Web APIs are specifically designed for web-based communication and typically use standardized data formats and security mechanisms.\n",
    "\n",
    "\n",
    "\n",
    "\n"
   ]
  },
  {
   "cell_type": "code",
   "execution_count": null,
   "id": "06423ded-1d1b-4fe5-a994-2cda4f48e37c",
   "metadata": {},
   "outputs": [],
   "source": []
  },
  {
   "cell_type": "markdown",
   "id": "36ecb0cb-4107-4cf4-bd65-1ef3d9f3f9b3",
   "metadata": {},
   "source": [
    "# 4. Explain REST and SOAP Architecture. Mention shortcomings of SOAP.\n"
   ]
  },
  {
   "cell_type": "markdown",
   "id": "c6e7b602-59bd-4482-8230-0128f9815e63",
   "metadata": {},
   "source": [
    "REST :- Representational State Transfer\n",
    "\n",
    "SOAP :-Simple Object Access Protocol \n",
    "\n",
    "Are two popular architectures for designing web services.\n",
    "\n",
    "REST Architecture:\n",
    "\n",
    "REST is an architectural style that uses the HTTP protocol to enable communication and interaction between different software applications. REST is based on the principles of resource-based communication, statelessness, and the use of standard HTTP methods like GET, POST, PUT, and DELETE to perform CRUD (Create, Read, Update, Delete) operations on resources.\n",
    "\n",
    "REST architecture is lightweight and easy to use. It relies on a simple set of HTTP methods and standardized data formats like JSON or XML to send and receive data between applications. RESTful web services can be easily consumed by a wide range of client applications, including web browsers, mobile apps, and other software applications.\n",
    "\n",
    "SOAP Architecture:\n",
    "\n",
    "SOAP is an architectural style that uses XML-based messaging protocol to enable communication and interaction between different software applications. SOAP provides a standardized way of exchanging structured data between applications, and it uses a messaging format called an envelope to define the structure of messages.\n",
    "\n",
    "SOAP architecture is more heavyweight than REST and requires more processing power to encode and decode messages. It is also more complex to use and requires developers to write more code to consume and produce SOAP-based web services. SOAP-based web services are often used in enterprise environments where security and reliability are critical.\n",
    "\n",
    "Shortcomings of SOAP:\n",
    "\n",
    "Complexity: SOAP is more complex than REST and requires more processing power to encode and decode messages. This complexity can lead to slower performance and increased development time.\n",
    "\n",
    "Overhead: SOAP has a lot of overhead due to its use of XML-based messaging, which can make it slower and less efficient than REST for certain use cases.\n",
    "\n",
    "Poor caching: SOAP does not have a standardized way of handling caching, which can make it less efficient for applications that require frequent requests for the same data.\n",
    "\n",
    "Limited browser support: SOAP is not widely supported by web browsers, which can make it difficult to develop web-based applications that use SOAP-based web services.\n",
    "\n",
    "In summary, REST and SOAP are two popular architectures for designing web services, each with its own advantages and disadvantages. REST is lightweight and easy to use, while SOAP is more heavyweight and better suited for enterprise environments where security and reliability are critical. However, SOAP is more complex and less efficient than REST, and it has poor caching and limited browser support."
   ]
  },
  {
   "cell_type": "code",
   "execution_count": null,
   "id": "bd685fe5-e012-417e-ab24-434ffed51171",
   "metadata": {},
   "outputs": [],
   "source": []
  },
  {
   "cell_type": "markdown",
   "id": "d25db357-a6a1-4435-9eae-6c26885f184c",
   "metadata": {},
   "source": [
    "# 5. Differentiate between REST and SOAP."
   ]
  },
  {
   "cell_type": "markdown",
   "id": "ae027bec-5180-4f2c-b06e-c5fd7cd216b3",
   "metadata": {},
   "source": [
    "Difference b/w REST and SOAP as \n",
    "\n",
    "Protocol: REST uses the HTTP protocol for communication, while SOAP can use a variety of protocols including HTTP, SMTP, and JMS.\n",
    "\n",
    "Data Format: REST typically uses lightweight data formats such as JSON or XML, while SOAP uses XML for all message exchanges.\n",
    "\n",
    "Interface: REST is based on a resource-oriented architecture where each resource has a unique URI and can be accessed using standard HTTP methods, while SOAP is based on a service-oriented architecture where a service has a WSDL (Web Services Description Language) that describes the operations it provides.\n",
    "\n",
    "Statefulness: REST is stateless, which means that the server does not store any information about the client between requests, while SOAP can be stateful or stateless.\n",
    "\n",
    "Caching: REST has built-in support for caching, which can improve performance by reducing the number of requests to the server, while SOAP does not have a standardized way of handling caching.\n",
    "\n",
    "Performance: REST is generally faster and more efficient than SOAP because it uses lightweight data formats and does not have as much overhead as SOAP.\n",
    "\n",
    "\n",
    "\n",
    "\n",
    "\n"
   ]
  },
  {
   "cell_type": "code",
   "execution_count": null,
   "id": "97882c3f-2959-4a5d-b256-d1c2f9b292a4",
   "metadata": {},
   "outputs": [],
   "source": []
  }
 ],
 "metadata": {
  "kernelspec": {
   "display_name": "Python 3 (ipykernel)",
   "language": "python",
   "name": "python3"
  },
  "language_info": {
   "codemirror_mode": {
    "name": "ipython",
    "version": 3
   },
   "file_extension": ".py",
   "mimetype": "text/x-python",
   "name": "python",
   "nbconvert_exporter": "python",
   "pygments_lexer": "ipython3",
   "version": "3.10.8"
  }
 },
 "nbformat": 4,
 "nbformat_minor": 5
}
